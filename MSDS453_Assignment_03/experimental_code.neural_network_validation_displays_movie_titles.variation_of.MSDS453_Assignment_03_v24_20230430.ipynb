{
  "cells": [
    {
      "cell_type": "markdown",
      "id": "D4fvdNtua3AI",
      "metadata": {
        "id": "D4fvdNtua3AI"
      },
      "source": [
        "<img src=\"https://github.com/djp840/MSDS_453_Public/blob/main/images/NorthwesternHeader.png?raw=1\">"
      ]
    },
    {
      "cell_type": "markdown",
      "id": "NG2UslRFa3AN",
      "metadata": {
        "id": "NG2UslRFa3AN"
      },
      "source": [
        "## MSDS453 - Research Assignment 03 - Ontology Plus Context and Modeling"
      ]
    },
    {
      "cell_type": "markdown",
      "id": "ZkbnxCcEa3AN",
      "metadata": {
        "id": "ZkbnxCcEa3AN"
      },
      "source": [
        "Take the ontology that you developed in week 6 and consider how your ten chosen documents for this quarter's class corpus map to that ontology.\n",
        "\n",
        "Protégé is a tool that takes inputs for a human-created Ontology and creates a visualization.\n",
        "\n",
        "Use Python algorithms to generate Knowledge Graphs from your documents.\n",
        "\n",
        "TensorFlow Bidirectional RNN Model"
      ]
    },
    {
      "cell_type": "code",
      "execution_count": 1,
      "id": "0bb6XKuca3AO",
      "metadata": {
        "id": "0bb6XKuca3AO"
      },
      "outputs": [],
      "source": [
        "import pandas as pd\n",
        "import numpy as np\n",
        "import re\n",
        "import string\n",
        "import seaborn as sns\n",
        "import matplotlib.pyplot as plt\n",
        "import nltk\n",
        "from collections import Counter\n",
        "from dataclasses import dataclass\n",
        "from timeit import default_timer as timer\n",
        "\n",
        "from nltk.corpus import stopwords\n",
        "from nltk.stem.wordnet import WordNetLemmatizer\n",
        "from nltk.tokenize import word_tokenize\n",
        "\n",
        "import gensim\n",
        "from gensim.models import Word2Vec\n",
        "\n",
        "import spacy\n",
        "from spacy import displacy\n",
        "\n",
        "from spacy.matcher import Matcher\n",
        "from spacy.tokens import Span\n",
        "\n",
        "import networkx as nx\n",
        "import matplotlib.pyplot as plt\n",
        "from tqdm import tqdm\n",
        "\n",
        "\n",
        "from sklearn.feature_extraction.text import TfidfVectorizer\n",
        "from sklearn.feature_extraction.text import CountVectorizer\n",
        "from sklearn.metrics.pairwise import cosine_similarity\n",
        "from sklearn.svm import SVC\n",
        "from sklearn.metrics import accuracy_score, f1_score\n",
        "from sklearn.model_selection import train_test_split\n",
        "\n",
        "from IPython.display import display, HTML\n",
        "\n",
        "from sklearn.metrics import confusion_matrix, classification_report\n",
        "from sklearn.metrics import accuracy_score, f1_score\n",
        "\n",
        "import tensorflow as tf\n",
        "from tensorflow import keras\n",
        "import tensorflow_datasets as tfds\n",
        "tf.random.set_seed(2022)\n",
        "import tensorflow.keras.backend as k\n",
        "\n",
        "from typing import List, Callable, Dict, Tuple, Set"
      ]
    },
    {
      "cell_type": "markdown",
      "id": "8Qzg7r_Ea3AQ",
      "metadata": {
        "id": "8Qzg7r_Ea3AQ"
      },
      "source": [
        "<div class=\"alert alert-block alert-danger\">\n",
        "<b>Required Installation: en_core_web_lg</b><br>\"python -m spacy download en_core_web_lg\"<br><br>English pipeline optimized for CPU. Components: tok2vec, tagger, parser, senter, ner, attribute_ruler, lemmatizer<br>\n",
        "    <b>https://spacy.io/models/en#en_core_web_lg </b>\n",
        "</div>"
      ]
    },
    {
      "cell_type": "markdown",
      "id": "UufSGLC6a3AQ",
      "metadata": {
        "id": "UufSGLC6a3AQ"
      },
      "source": [
        "## Requires Restart Of Runtime After Installation"
      ]
    },
    {
      "cell_type": "code",
      "execution_count": 2,
      "id": "4r4cNgT1a3AR",
      "metadata": {
        "colab": {
          "base_uri": "https://localhost:8080/"
        },
        "id": "4r4cNgT1a3AR",
        "outputId": "b51ec35e-5cc7-472d-c58c-6b1ed1d4f629"
      },
      "outputs": [
        {
          "output_type": "stream",
          "name": "stdout",
          "text": [
            "2023-08-05 15:08:37.396772: W tensorflow/compiler/tf2tensorrt/utils/py_utils.cc:38] TF-TRT Warning: Could not find TensorRT\n",
            "\u001b[2K     \u001b[90m━━━━━━━━━━━━━━━━━━━━━━━━━━━━━━━━━━━━━━━\u001b[0m \u001b[32m587.7/587.7 MB\u001b[0m \u001b[31m1.9 MB/s\u001b[0m eta \u001b[36m0:00:00\u001b[0m\n",
            "\u001b[?25h\u001b[38;5;2m✔ Download and installation successful\u001b[0m\n",
            "You can now load the package via spacy.load('en_core_web_lg')\n"
          ]
        }
      ],
      "source": [
        "!python -m spacy download en_core_web_lg -q"
      ]
    },
    {
      "cell_type": "code",
      "execution_count": 3,
      "id": "meoFskZSa3AS",
      "metadata": {
        "id": "meoFskZSa3AS"
      },
      "outputs": [],
      "source": [
        "nlp = spacy.load('en_core_web_lg')"
      ]
    },
    {
      "cell_type": "markdown",
      "id": "l4GmMWVma3AS",
      "metadata": {
        "id": "l4GmMWVma3AS"
      },
      "source": [
        "### Mount Google Drive to Colab Environment"
      ]
    },
    {
      "cell_type": "code",
      "execution_count": 4,
      "id": "zDMUmHNEa3AT",
      "metadata": {
        "id": "zDMUmHNEa3AT"
      },
      "outputs": [],
      "source": [
        "#from google.colab import drive\n",
        "#drive.mount('/content/gdrive')"
      ]
    },
    {
      "cell_type": "code",
      "execution_count": 5,
      "id": "9qeIGbN1bhEP",
      "metadata": {
        "id": "9qeIGbN1bhEP"
      },
      "outputs": [],
      "source": [
        "#! ls -l /content/gdrive"
      ]
    },
    {
      "cell_type": "markdown",
      "id": "YGekOXfXa3AU",
      "metadata": {
        "id": "YGekOXfXa3AU"
      },
      "source": [
        "### NLTK Downloads"
      ]
    },
    {
      "cell_type": "code",
      "execution_count": 6,
      "id": "-zgAZ6Gxa3AU",
      "metadata": {
        "colab": {
          "base_uri": "https://localhost:8080/"
        },
        "id": "-zgAZ6Gxa3AU",
        "outputId": "c6f4fc32-2bfb-4d00-8361-552aa8fcbaff"
      },
      "outputs": [
        {
          "output_type": "execute_result",
          "data": {
            "text/plain": [
              "True"
            ]
          },
          "metadata": {},
          "execution_count": 6
        }
      ],
      "source": [
        "# Only run this once, they will be downloaded.\n",
        "nltk.download('stopwords',quiet=True)\n",
        "nltk.download('wordnet',quiet=True)\n",
        "nltk.download('punkt',quiet=True)\n",
        "nltk.download('omw-1.4',quiet=True)"
      ]
    },
    {
      "cell_type": "markdown",
      "id": "IkXQ8BNMa3AW",
      "metadata": {
        "id": "IkXQ8BNMa3AW"
      },
      "source": [
        "<div class=\"alert alert-block alert-danger\">\n",
        "<b>Gensim</b> is a Python library for topic modelling, document indexing and similarity retrieval with large corpora. Target audience is the natural language processing (NLP) and information retrieval (IR) community <br><br>\n",
        "    <b>https://pypi.org/project/gensim/ </b>\n",
        "</div>"
      ]
    },
    {
      "cell_type": "code",
      "execution_count": 7,
      "id": "QBRVq1pma3AW",
      "metadata": {
        "id": "QBRVq1pma3AW"
      },
      "outputs": [],
      "source": [
        "import pkg_resources\n",
        "#pkg_resources.require(\"gensim<=3.8.3\");"
      ]
    },
    {
      "cell_type": "code",
      "execution_count": 8,
      "id": "JKIg6MlPa3AX",
      "metadata": {
        "colab": {
          "base_uri": "https://localhost:8080/"
        },
        "id": "JKIg6MlPa3AX",
        "outputId": "a8096f91-e199-4064-e6d4-aea71c175a80"
      },
      "outputs": [
        {
          "output_type": "stream",
          "name": "stdout",
          "text": [
            "Genism Version:  4.3.1\n"
          ]
        }
      ],
      "source": [
        "print(\"Genism Version: \", gensim.__version__)"
      ]
    },
    {
      "cell_type": "markdown",
      "id": "OySRSOAna3AX",
      "metadata": {
        "id": "OySRSOAna3AX"
      },
      "source": [
        "<div class=\"alert alert-block alert-info\">\n",
        "    <b>Suppress warning messages</b></div>"
      ]
    },
    {
      "cell_type": "code",
      "execution_count": 9,
      "id": "0w4TZ5Wha3AX",
      "metadata": {
        "id": "0w4TZ5Wha3AX"
      },
      "outputs": [],
      "source": [
        "def warn(*args, **kwargs):\n",
        "    pass\n",
        "import warnings\n",
        "warnings.warn = warn"
      ]
    },
    {
      "cell_type": "markdown",
      "id": "G2JtEj_0a3AY",
      "metadata": {
        "id": "G2JtEj_0a3AY"
      },
      "source": [
        "## Data Wrangling Utility Functions"
      ]
    },
    {
      "cell_type": "code",
      "execution_count": 10,
      "id": "vxBi5x5Ga3AZ",
      "metadata": {
        "id": "vxBi5x5Ga3AZ"
      },
      "outputs": [],
      "source": [
        "def add_movie_descriptor(data: pd.DataFrame, corpus_df: pd.DataFrame):\n",
        "    \"\"\"\n",
        "    Adds \"Movie Description\" to the supplied dataframe, in the form {Genre}_{P|N}_{Movie Title}_{DocID}\n",
        "    \"\"\"\n",
        "    review = np.where(corpus_df['Review Type (pos or neg)'] == 'Positive', 'P', 'N')\n",
        "    data['Descriptor'] = corpus_df['Genre of Movie'] + '_' + corpus_df['Movie Title'] + '_' + review + '_' + corpus_df['Doc_ID'].astype(str)\n",
        "\n",
        "def get_corpus_df(path: str) -> pd.DataFrame:\n",
        "    data = pd.read_csv(path,encoding=\"utf-8\")\n",
        "    add_movie_descriptor(data, data)\n",
        "    sorted_data = data.sort_values(['Descriptor'])\n",
        "    indexed_data = sorted_data.set_index(['Doc_ID'])\n",
        "    indexed_data['Doc_ID'] = indexed_data.index\n",
        "    return indexed_data\n",
        "\n",
        "def remove_punctuation(text: str) -> str:\n",
        "    return re.sub('[^a-zA-Z]', '', str(text))\n",
        "\n",
        "def remove_tags(text: str) -> str:\n",
        "    return re.sub('&lt;/?.*?&gt;', '', text)\n",
        "\n",
        "def remove_special_chars_and_digits(text: str) -> str:\n",
        "    return re.sub('(\\\\d|\\\\W)+', '', text)\n",
        "\n",
        "def get_sentences(text: str) -> List[str]:\n",
        "    return [str(x) for x in nlp(text).sents]\n",
        "\n",
        "def get_coref_resolved_sentences(text: str) -> List[str]:\n",
        "    return [str(x) for x in nlp(text).sents]\n",
        "\n",
        "def get_lemmas(text: str, stopwords: Set[str]) -> List[str]:\n",
        "    initial = [remove_tags(remove_special_chars_and_digits(remove_punctuation(x.lemma_.lower()))) for x in nlp(text)]\n",
        "    return [x for x in initial if x not in stopwords]\n",
        "\n",
        "def lemmatize_sentence(text: str, stopwords: Set[str]) -> str:\n",
        "    return ' '.join(get_lemmas(text, stopwords))\n",
        "\n",
        "def clean_doc(doc):\n",
        "    #doc = remove_punctuation(doc)\n",
        "    doc= ' '.join(remove_stop_words(doc))\n",
        "    doc = apply_lemmatization(doc)\n",
        "    return doc\n",
        "\n",
        "def remove_stop_words(in_text):\n",
        "    stop_words = set(stopwords.words('english'))\n",
        "    word_tokens = word_tokenize(in_text)\n",
        "    filtered_sentence = [w for w in word_tokens if not w in stop_words]\n",
        "    return filtered_sentence\n",
        "\n",
        "def apply_lemmatization(in_text):\n",
        "    # Lemmatization\n",
        "    lem = WordNetLemmatizer()\n",
        "    word_list = nltk.word_tokenize(in_text)\n",
        "    output = ' '.join([lem.lemmatize(w) for w in word_list])\n",
        "    return output\n",
        "\n",
        "def counter_word(text):\n",
        "  count=Counter()\n",
        "  for i in text.values:\n",
        "    for word in i.split():\n",
        "      count[word]=+1\n",
        "  return count"
      ]
    },
    {
      "cell_type": "markdown",
      "id": "ELWEZRswa3Ac",
      "metadata": {
        "id": "ELWEZRswa3Ac"
      },
      "source": [
        "## Knowledge Context Graph Functions"
      ]
    },
    {
      "cell_type": "code",
      "execution_count": 11,
      "id": "MQRCSpPRa3Ac",
      "metadata": {
        "id": "MQRCSpPRa3Ac"
      },
      "outputs": [],
      "source": [
        "def map_edges(map_to: str, map_from: Set[str], df: pd.DataFrame):\n",
        "    print(f'Before mapping {\", \".join(map_from)} -> {map_to}: {sum(df.edge == map_to)}')\n",
        "    df['edge'] = np.where(kg_df.edge.isin(map_from), map_to, kg_df.edge)\n",
        "    print(f'After mapping {\", \".join(map_from)} -> {map_to}: {sum(df.edge == map_to)}')\n",
        "\n",
        "def map_sources_and_targets(map_to: str, map_from: Set[str], df: pd.DataFrame):\n",
        "    before = sum(df.source == map_to) + sum(df.target == map_to)\n",
        "    print(f'Before mapping {\", \".join(map_from)} -> {map_to}: {before}')\n",
        "\n",
        "    df['source'] = np.where(kg_df.source.isin(map_from), map_to, kg_df.source)\n",
        "    df['target'] = np.where(kg_df.target.isin(map_from), map_to, kg_df.target)\n",
        "\n",
        "    after = sum(df.source == map_to) + sum(df.target == map_to)\n",
        "    print(f'After mapping {\", \".join(map_from)} -> {map_to}: {after}')\n",
        "\n",
        "def get_neighborhood(sources: Set[str], edge_types: Set[str], depth: int, df: pd.DataFrame) -> pd.DataFrame:\n",
        "    output = []\n",
        "\n",
        "    for d in range(depth):\n",
        "        if edge_types is not None:\n",
        "            rows = df[(df.edge.isin(edge_types)) & ((df.source.isin(sources)) | (df.target.isin(sources)))].copy()\n",
        "        else:\n",
        "            rows = df[(df.source.isin(sources)) | (df.target.isin(sources))].copy()\n",
        "\n",
        "        output.append(rows)\n",
        "        sources = set(rows.target).union(set(rows.source))\n",
        "\n",
        "    return pd.concat(output).drop_duplicates()\n",
        "\n",
        "def find_sources_and_targets_with_patterns(patterns: List[str], df: pd.DataFrame):\n",
        "    mask = np.zeros(kg_df.shape[0])\n",
        "    for pattern in patterns:\n",
        "        mask = mask | (df.source.str.contains(pattern)) | (df.target.str.contains(pattern))\n",
        "\n",
        "    return df[mask]\n",
        "# Examples of how to use the function:\n",
        "# find_sources_and_targets_with_patterns(['action'], kg_df)\n",
        "# find_sources_and_targets_with_patterns(['terror'], kg_df)\n",
        "# find_sources_and_targets_with_patterns(['novel'], kg_df)\n",
        "# find_sources_and_targets_with_patterns(['director', 'campbell'], kg_df)\n",
        "\n",
        "\n",
        "def plot_graph(df: pd.DataFrame, show_edges: bool = False, figsize: Tuple[int, int] = (12, 12), use_circular: bool=True):\n",
        "    graph = nx.from_pandas_edgelist(df, \"source\", \"target\", edge_attr='edge', create_using=nx.MultiDiGraph())\n",
        "\n",
        "    plt.figure(figsize=figsize)\n",
        "    if use_circular:\n",
        "        pos = nx.circular_layout(graph)\n",
        "    else:\n",
        "        pos = nx.kamada_kawai_layout(graph)\n",
        "\n",
        "    nx.draw(graph, with_labels=True, node_color='skyblue', edge_cmap=plt.cm.Blues, pos=pos)\n",
        "    if show_edges:\n",
        "        nx.draw_networkx_edge_labels(graph, pos=pos, font_size=8)\n",
        "\n",
        "    plt.show()\n",
        "\n",
        "def get_top_sources_and_targets(df: pd.DataFrame, top: int = 10):\n",
        "    return (Counter(df.source) + Counter(df.target)).most_common(top)\n",
        "\n",
        "def get_top_edges(df: pd.DataFrame, top: int = 10):\n",
        "    return Counter(df.edge).most_common(top)\n",
        "\n",
        "#def get_dataset_partitions_pd(df, train_split=0.8, val_split=0.10, test_split=0.10):\n",
        "#       # Specify seed to always have the same split distribution between runs\n",
        "#    df_sample = df.sample(frac=1, random_state=12)\n",
        "#    indices_or_sections = [int(.8*len(df)), int(.9*len(df))]\n",
        "#    train_ds, val_ds, test_ds = np.split(df_sample, indices_or_sections)\n",
        "#    return train_ds, val_ds, test_ds\n",
        "\n",
        "# CHANGED\n",
        "\n",
        "def get_dataset_partitions_pd(df, train_split=0.8, val_split=0.10, test_split=0.10):\n",
        "    # Specify seed to always have the same split distribution between runs\n",
        "    df_sample = df.sample(frac=1, random_state=12)\n",
        "    # indices_or_sections = [int(.8*len(df)), int(.9*len(df))]\n",
        "    indices_or_sections = [int(train_split * len(df)), int((train_split + val_split) * len(df))]\n",
        "    train_ds, val_ds, test_ds = np.split(df_sample, indices_or_sections)\n",
        "\n",
        "    # Removing 'Movie Title' from train and test datasets, keeping only in validation dataset\n",
        "    train_ds = train_ds[['Text', 'Genre of Movie code']]\n",
        "    test_ds = test_ds[['Text', 'Genre of Movie code']]\n",
        "\n",
        "    return train_ds, val_ds, test_ds"
      ]
    },
    {
      "cell_type": "markdown",
      "id": "VGBh_dYEa3Ad",
      "metadata": {
        "id": "VGBh_dYEa3Ad"
      },
      "source": [
        "## Entity Extraction Functions"
      ]
    },
    {
      "cell_type": "code",
      "execution_count": 12,
      "id": "SKBtiDYqa3Ad",
      "metadata": {
        "id": "SKBtiDYqa3Ad"
      },
      "outputs": [],
      "source": [
        "def get_entities(sent):\n",
        "  ## chunk 1\n",
        "  ent1 = \"\"\n",
        "  ent2 = \"\"\n",
        "\n",
        "  prv_tok_dep = \"\"    # dependency tag of previous token in the sentence\n",
        "  prv_tok_text = \"\"   # previous token in the sentence\n",
        "\n",
        "  prefix = \"\"\n",
        "  modifier = \"\"\n",
        "\n",
        "  for tok in nlp(sent):\n",
        "    ## chunk 2\n",
        "    # if token is a punctuation mark then move on to the next token\n",
        "    if tok.dep_ != \"punct\":\n",
        "      # check: token is a compound word or not\n",
        "      if tok.dep_ == \"compound\":\n",
        "        prefix = tok.text\n",
        "        # if the previous word was also a 'compound' then add the current word to it\n",
        "        if prv_tok_dep == \"compound\":\n",
        "          prefix = prv_tok_text + \" \"+ tok.text\n",
        "\n",
        "      # check: token is a modifier or not\n",
        "      if tok.dep_.endswith(\"mod\") == True:\n",
        "        modifier = tok.text\n",
        "        # if the previous word was also a 'compound' then add the current word to it\n",
        "        if prv_tok_dep == \"compound\":\n",
        "          modifier = prv_tok_text + \" \"+ tok.text\n",
        "\n",
        "      ## chunk 3\n",
        "      if tok.dep_.find(\"subj\") == True:\n",
        "        ent1 = modifier +\" \"+ prefix + \" \"+ tok.text\n",
        "        prefix = \"\"\n",
        "        modifier = \"\"\n",
        "        prv_tok_dep = \"\"\n",
        "        prv_tok_text = \"\"\n",
        "\n",
        "      ## chunk 4\n",
        "      if tok.dep_.find(\"obj\") == True:\n",
        "        ent2 = modifier +\" \"+ prefix +\" \"+ tok.text\n",
        "\n",
        "      ## chunk 5\n",
        "      # update variables\n",
        "      prv_tok_dep = tok.dep_\n",
        "      prv_tok_text = tok.text\n",
        "\n",
        "  return [ent1.strip(), ent2.strip()]\n",
        "\n",
        "def get_relation(sent):\n",
        "    try:\n",
        "        doc = nlp(sent)\n",
        "\n",
        "        # Matcher class object\n",
        "        matcher = Matcher(nlp.vocab)\n",
        "\n",
        "        #define the pattern\n",
        "        pattern = [{'DEP':'ROOT'},\n",
        "                {'DEP':'prep','OP':\"?\"},\n",
        "                {'DEP':'agent','OP':\"?\"},\n",
        "                {'POS':'ADJ','OP':\"?\"}]\n",
        "        matcher.add(\"matching_1\", [pattern])\n",
        "        matches = matcher(doc)\n",
        "        k = len(matches) - 1\n",
        "        span = doc[matches[k][1]:matches[k][2]]\n",
        "\n",
        "        return(span.text)\n",
        "    except:\n",
        "        pass\n",
        "\n",
        "def get_subject_verb_object(sent):\n",
        "  ent1 = \"\"\n",
        "  ent2 = \"\"\n",
        "  root = \"\"\n",
        "\n",
        "  for tok in nlp(sent):\n",
        "      if tok.dep_ == 'ROOT':\n",
        "        root = tok.text\n",
        "      elif tok.dep_ == \"nsubj\":\n",
        "        ent1 = tok.text\n",
        "      elif tok.dep_ == \"dobj\":\n",
        "        ent2 = tok.text\n",
        "\n",
        "      if ent1 != '' and ent2 != '' and root != '':\n",
        "        break\n",
        "\n",
        "  return [ent1, root, ent2]"
      ]
    },
    {
      "cell_type": "markdown",
      "id": "h3HpYEQma3Ae",
      "metadata": {
        "id": "h3HpYEQma3Ae"
      },
      "source": [
        "## Visualization Utility Functions"
      ]
    },
    {
      "cell_type": "code",
      "execution_count": 13,
      "id": "dKM5avFHa3Ae",
      "metadata": {
        "id": "dKM5avFHa3Ae"
      },
      "outputs": [],
      "source": [
        "def plot_confusion_matrix_labeled(y_true, y_pred, CLASSES_LIST):\n",
        "    mtx = confusion_matrix(y_true, y_pred)\n",
        "    # define classes\n",
        "    classes = CLASSES_LIST\n",
        "    temp_df = pd.DataFrame(data=mtx,columns=classes)\n",
        "    temp_df.index = classes\n",
        "    fig, ax = plt.subplots(figsize=(10,10))\n",
        "    sns.heatmap(temp_df, annot=True, fmt='d', linewidths=.75,  cbar=False, ax=ax,cmap='Blues',linecolor='white')\n",
        "    #  square=True,\n",
        "    plt.ylabel('true label')\n",
        "    plt.xlabel('predicted label')\n",
        "\n",
        "def plot_graphs(history, metric):\n",
        "  plt.plot(history.history[metric])\n",
        "  plt.plot(history.history['val_'+metric], '')\n",
        "  plt.xlabel(\"Epochs\")\n",
        "  plt.ylabel(metric)\n",
        "  plt.legend([metric, 'val_'+metric])\n",
        "\n",
        "def display_training_curves(training, validation, title, subplot):\n",
        "  ax = plt.subplot(subplot)\n",
        "  ax.plot(training)\n",
        "  ax.plot(validation)\n",
        "  ax.set_title('model '+ title)\n",
        "  ax.set_ylabel(title)\n",
        "  ax.set_xlabel('epoch')\n",
        "  ax.legend(['training', 'validation'])"
      ]
    },
    {
      "cell_type": "markdown",
      "id": "ivV9e_Hha3Ae",
      "metadata": {
        "id": "ivV9e_Hha3Ae"
      },
      "source": [
        "## Loading the Class Corpus"
      ]
    },
    {
      "cell_type": "code",
      "execution_count": 14,
      "id": "wIzJs8lEa3Ae",
      "metadata": {
        "id": "wIzJs8lEa3Ae"
      },
      "outputs": [],
      "source": [
        "CORPUS_PATH=\\\n",
        "'https://raw.githubusercontent.com/barrycforever/MSDS_453_Public/main/MSDS453_ClassCorpus/MSDS453_QA_20220906.csv'\n",
        "corpus_df = get_corpus_df(CORPUS_PATH)"
      ]
    },
    {
      "cell_type": "markdown",
      "id": "jw2-5h6ha3Af",
      "metadata": {
        "id": "jw2-5h6ha3Af"
      },
      "source": [
        "## Exploratory Data Analysis"
      ]
    },
    {
      "cell_type": "code",
      "execution_count": 15,
      "id": "x0DA0tgGa3Af",
      "metadata": {
        "colab": {
          "base_uri": "https://localhost:8080/",
          "height": 459
        },
        "id": "x0DA0tgGa3Af",
        "outputId": "3b7119ca-e628-4840-bd47-b57e75f27a6b"
      },
      "outputs": [
        {
          "output_type": "execute_result",
          "data": {
            "text/plain": [
              "Doc_ID                                                                   40  \\\n",
              "DSI_Title                                           KCM_Doc1_AngelHasFallen   \n",
              "Text                      Boredom sets in long before the start of Angel...   \n",
              "Submission File Name                                KCM_Doc1_AngelHasFallen   \n",
              "Student Name                                                            KCM   \n",
              "Genre of Movie                                                       Action   \n",
              "Review Type (pos or neg)                                           Negative   \n",
              "Movie Title                                                Angel Has Fallen   \n",
              "Descriptor                                     Action_Angel Has Fallen_N_40   \n",
              "Doc_ID                                                                   40   \n",
              "raw_sentences             [Boredom sets in long before the start of Ange...   \n",
              "\n",
              "Doc_ID                                                                   41  \\\n",
              "DSI_Title                                           KCM_Doc2_AngelHasFallen   \n",
              "Text                      \\nWho ARE all these people?\\n\\nThat was what...   \n",
              "Submission File Name                                KCM_Doc2_AngelHasFallen   \n",
              "Student Name                                                            KCM   \n",
              "Genre of Movie                                                       Action   \n",
              "Review Type (pos or neg)                                           Negative   \n",
              "Movie Title                                                Angel Has Fallen   \n",
              "Descriptor                                     Action_Angel Has Fallen_N_41   \n",
              "Doc_ID                                                                   41   \n",
              "raw_sentences             [\\nWho, ARE all these people?\\n\\n, That was ...   \n",
              "\n",
              "Doc_ID                                                                   42  \n",
              "DSI_Title                                           KCM_Doc3_AngelHasFallen  \n",
              "Text                      Ric Roman Waughs Angel Has Fallen sees U.S. S...  \n",
              "Submission File Name                                KCM_Doc3_AngelHasFallen  \n",
              "Student Name                                                            KCM  \n",
              "Genre of Movie                                                       Action  \n",
              "Review Type (pos or neg)                                           Negative  \n",
              "Movie Title                                                Angel Has Fallen  \n",
              "Descriptor                                     Action_Angel Has Fallen_N_42  \n",
              "Doc_ID                                                                   42  \n",
              "raw_sentences             [Ric Roman Waughs Angel Has, Fallen sees U.S....  "
            ],
            "text/html": [
              "\n",
              "\n",
              "  <div id=\"df-6241a03b-3d2b-488c-908a-639bf28cb8a2\">\n",
              "    <div class=\"colab-df-container\">\n",
              "      <div>\n",
              "<style scoped>\n",
              "    .dataframe tbody tr th:only-of-type {\n",
              "        vertical-align: middle;\n",
              "    }\n",
              "\n",
              "    .dataframe tbody tr th {\n",
              "        vertical-align: top;\n",
              "    }\n",
              "\n",
              "    .dataframe thead th {\n",
              "        text-align: right;\n",
              "    }\n",
              "</style>\n",
              "<table border=\"1\" class=\"dataframe\">\n",
              "  <thead>\n",
              "    <tr style=\"text-align: right;\">\n",
              "      <th>Doc_ID</th>\n",
              "      <th>40</th>\n",
              "      <th>41</th>\n",
              "      <th>42</th>\n",
              "    </tr>\n",
              "  </thead>\n",
              "  <tbody>\n",
              "    <tr>\n",
              "      <th>DSI_Title</th>\n",
              "      <td>KCM_Doc1_AngelHasFallen</td>\n",
              "      <td>KCM_Doc2_AngelHasFallen</td>\n",
              "      <td>KCM_Doc3_AngelHasFallen</td>\n",
              "    </tr>\n",
              "    <tr>\n",
              "      <th>Text</th>\n",
              "      <td>Boredom sets in long before the start of Angel...</td>\n",
              "      <td>\\nWho ARE all these people?\\n\\nThat was what...</td>\n",
              "      <td>Ric Roman Waughs Angel Has Fallen sees U.S. S...</td>\n",
              "    </tr>\n",
              "    <tr>\n",
              "      <th>Submission File Name</th>\n",
              "      <td>KCM_Doc1_AngelHasFallen</td>\n",
              "      <td>KCM_Doc2_AngelHasFallen</td>\n",
              "      <td>KCM_Doc3_AngelHasFallen</td>\n",
              "    </tr>\n",
              "    <tr>\n",
              "      <th>Student Name</th>\n",
              "      <td>KCM</td>\n",
              "      <td>KCM</td>\n",
              "      <td>KCM</td>\n",
              "    </tr>\n",
              "    <tr>\n",
              "      <th>Genre of Movie</th>\n",
              "      <td>Action</td>\n",
              "      <td>Action</td>\n",
              "      <td>Action</td>\n",
              "    </tr>\n",
              "    <tr>\n",
              "      <th>Review Type (pos or neg)</th>\n",
              "      <td>Negative</td>\n",
              "      <td>Negative</td>\n",
              "      <td>Negative</td>\n",
              "    </tr>\n",
              "    <tr>\n",
              "      <th>Movie Title</th>\n",
              "      <td>Angel Has Fallen</td>\n",
              "      <td>Angel Has Fallen</td>\n",
              "      <td>Angel Has Fallen</td>\n",
              "    </tr>\n",
              "    <tr>\n",
              "      <th>Descriptor</th>\n",
              "      <td>Action_Angel Has Fallen_N_40</td>\n",
              "      <td>Action_Angel Has Fallen_N_41</td>\n",
              "      <td>Action_Angel Has Fallen_N_42</td>\n",
              "    </tr>\n",
              "    <tr>\n",
              "      <th>Doc_ID</th>\n",
              "      <td>40</td>\n",
              "      <td>41</td>\n",
              "      <td>42</td>\n",
              "    </tr>\n",
              "    <tr>\n",
              "      <th>raw_sentences</th>\n",
              "      <td>[Boredom sets in long before the start of Ange...</td>\n",
              "      <td>[\\nWho, ARE all these people?\\n\\n, That was ...</td>\n",
              "      <td>[Ric Roman Waughs Angel Has, Fallen sees U.S....</td>\n",
              "    </tr>\n",
              "  </tbody>\n",
              "</table>\n",
              "</div>\n",
              "      <button class=\"colab-df-convert\" onclick=\"convertToInteractive('df-6241a03b-3d2b-488c-908a-639bf28cb8a2')\"\n",
              "              title=\"Convert this dataframe to an interactive table.\"\n",
              "              style=\"display:none;\">\n",
              "\n",
              "  <svg xmlns=\"http://www.w3.org/2000/svg\" height=\"24px\"viewBox=\"0 0 24 24\"\n",
              "       width=\"24px\">\n",
              "    <path d=\"M0 0h24v24H0V0z\" fill=\"none\"/>\n",
              "    <path d=\"M18.56 5.44l.94 2.06.94-2.06 2.06-.94-2.06-.94-.94-2.06-.94 2.06-2.06.94zm-11 1L8.5 8.5l.94-2.06 2.06-.94-2.06-.94L8.5 2.5l-.94 2.06-2.06.94zm10 10l.94 2.06.94-2.06 2.06-.94-2.06-.94-.94-2.06-.94 2.06-2.06.94z\"/><path d=\"M17.41 7.96l-1.37-1.37c-.4-.4-.92-.59-1.43-.59-.52 0-1.04.2-1.43.59L10.3 9.45l-7.72 7.72c-.78.78-.78 2.05 0 2.83L4 21.41c.39.39.9.59 1.41.59.51 0 1.02-.2 1.41-.59l7.78-7.78 2.81-2.81c.8-.78.8-2.07 0-2.86zM5.41 20L4 18.59l7.72-7.72 1.47 1.35L5.41 20z\"/>\n",
              "  </svg>\n",
              "      </button>\n",
              "\n",
              "\n",
              "\n",
              "    <div id=\"df-4cbd2054-4c1b-4d4b-87bb-4f119037f51f\">\n",
              "      <button class=\"colab-df-quickchart\" onclick=\"quickchart('df-4cbd2054-4c1b-4d4b-87bb-4f119037f51f')\"\n",
              "              title=\"Suggest charts.\"\n",
              "              style=\"display:none;\">\n",
              "\n",
              "<svg xmlns=\"http://www.w3.org/2000/svg\" height=\"24px\"viewBox=\"0 0 24 24\"\n",
              "     width=\"24px\">\n",
              "    <g>\n",
              "        <path d=\"M19 3H5c-1.1 0-2 .9-2 2v14c0 1.1.9 2 2 2h14c1.1 0 2-.9 2-2V5c0-1.1-.9-2-2-2zM9 17H7v-7h2v7zm4 0h-2V7h2v10zm4 0h-2v-4h2v4z\"/>\n",
              "    </g>\n",
              "</svg>\n",
              "      </button>\n",
              "    </div>\n",
              "\n",
              "<style>\n",
              "  .colab-df-quickchart {\n",
              "    background-color: #E8F0FE;\n",
              "    border: none;\n",
              "    border-radius: 50%;\n",
              "    cursor: pointer;\n",
              "    display: none;\n",
              "    fill: #1967D2;\n",
              "    height: 32px;\n",
              "    padding: 0 0 0 0;\n",
              "    width: 32px;\n",
              "  }\n",
              "\n",
              "  .colab-df-quickchart:hover {\n",
              "    background-color: #E2EBFA;\n",
              "    box-shadow: 0px 1px 2px rgba(60, 64, 67, 0.3), 0px 1px 3px 1px rgba(60, 64, 67, 0.15);\n",
              "    fill: #174EA6;\n",
              "  }\n",
              "\n",
              "  [theme=dark] .colab-df-quickchart {\n",
              "    background-color: #3B4455;\n",
              "    fill: #D2E3FC;\n",
              "  }\n",
              "\n",
              "  [theme=dark] .colab-df-quickchart:hover {\n",
              "    background-color: #434B5C;\n",
              "    box-shadow: 0px 1px 3px 1px rgba(0, 0, 0, 0.15);\n",
              "    filter: drop-shadow(0px 1px 2px rgba(0, 0, 0, 0.3));\n",
              "    fill: #FFFFFF;\n",
              "  }\n",
              "</style>\n",
              "\n",
              "    <script>\n",
              "      async function quickchart(key) {\n",
              "        const containerElement = document.querySelector('#' + key);\n",
              "        const charts = await google.colab.kernel.invokeFunction(\n",
              "            'suggestCharts', [key], {});\n",
              "      }\n",
              "    </script>\n",
              "\n",
              "      <script>\n",
              "\n",
              "function displayQuickchartButton(domScope) {\n",
              "  let quickchartButtonEl =\n",
              "    domScope.querySelector('#df-4cbd2054-4c1b-4d4b-87bb-4f119037f51f button.colab-df-quickchart');\n",
              "  quickchartButtonEl.style.display =\n",
              "    google.colab.kernel.accessAllowed ? 'block' : 'none';\n",
              "}\n",
              "\n",
              "        displayQuickchartButton(document);\n",
              "      </script>\n",
              "      <style>\n",
              "    .colab-df-container {\n",
              "      display:flex;\n",
              "      flex-wrap:wrap;\n",
              "      gap: 12px;\n",
              "    }\n",
              "\n",
              "    .colab-df-convert {\n",
              "      background-color: #E8F0FE;\n",
              "      border: none;\n",
              "      border-radius: 50%;\n",
              "      cursor: pointer;\n",
              "      display: none;\n",
              "      fill: #1967D2;\n",
              "      height: 32px;\n",
              "      padding: 0 0 0 0;\n",
              "      width: 32px;\n",
              "    }\n",
              "\n",
              "    .colab-df-convert:hover {\n",
              "      background-color: #E2EBFA;\n",
              "      box-shadow: 0px 1px 2px rgba(60, 64, 67, 0.3), 0px 1px 3px 1px rgba(60, 64, 67, 0.15);\n",
              "      fill: #174EA6;\n",
              "    }\n",
              "\n",
              "    [theme=dark] .colab-df-convert {\n",
              "      background-color: #3B4455;\n",
              "      fill: #D2E3FC;\n",
              "    }\n",
              "\n",
              "    [theme=dark] .colab-df-convert:hover {\n",
              "      background-color: #434B5C;\n",
              "      box-shadow: 0px 1px 3px 1px rgba(0, 0, 0, 0.15);\n",
              "      filter: drop-shadow(0px 1px 2px rgba(0, 0, 0, 0.3));\n",
              "      fill: #FFFFFF;\n",
              "    }\n",
              "  </style>\n",
              "\n",
              "      <script>\n",
              "        const buttonEl =\n",
              "          document.querySelector('#df-6241a03b-3d2b-488c-908a-639bf28cb8a2 button.colab-df-convert');\n",
              "        buttonEl.style.display =\n",
              "          google.colab.kernel.accessAllowed ? 'block' : 'none';\n",
              "\n",
              "        async function convertToInteractive(key) {\n",
              "          const element = document.querySelector('#df-6241a03b-3d2b-488c-908a-639bf28cb8a2');\n",
              "          const dataTable =\n",
              "            await google.colab.kernel.invokeFunction('convertToInteractive',\n",
              "                                                     [key], {});\n",
              "          if (!dataTable) return;\n",
              "\n",
              "          const docLinkHtml = 'Like what you see? Visit the ' +\n",
              "            '<a target=\"_blank\" href=https://colab.research.google.com/notebooks/data_table.ipynb>data table notebook</a>'\n",
              "            + ' to learn more about interactive tables.';\n",
              "          element.innerHTML = '';\n",
              "          dataTable['output_type'] = 'display_data';\n",
              "          await google.colab.output.renderOutput(dataTable, element);\n",
              "          const docLink = document.createElement('div');\n",
              "          docLink.innerHTML = docLinkHtml;\n",
              "          element.appendChild(docLink);\n",
              "        }\n",
              "      </script>\n",
              "    </div>\n",
              "  </div>\n"
            ]
          },
          "metadata": {},
          "execution_count": 15
        }
      ],
      "source": [
        "# Tokenize sentences\n",
        "corpus_df['raw_sentences'] = corpus_df.Text.apply(get_sentences)\n",
        "corpus_df.head(3).T"
      ]
    },
    {
      "cell_type": "markdown",
      "id": "Tjsk_ujna3Af",
      "metadata": {
        "id": "Tjsk_ujna3Af"
      },
      "source": [
        "## Tokenize Words"
      ]
    },
    {
      "cell_type": "code",
      "execution_count": 16,
      "id": "cYstpp6Ga3Af",
      "metadata": {
        "colab": {
          "base_uri": "https://localhost:8080/"
        },
        "id": "cYstpp6Ga3Af",
        "outputId": "6b363e36-cd7c-4790-ac2f-e73c067e2563",
        "scrolled": false
      },
      "outputs": [
        {
          "output_type": "execute_result",
          "data": {
            "text/plain": [
              "Doc_ID\n",
              "40    [boredom, set, long, start, angel, fall, start...\n",
              "41    [people, mutter, enter, screening, angel, fall...\n",
              "42    [ric, roman, waughs, angel, fallen, secret, se...\n",
              "43    [certain, mindless, pleasure, fallen, movie, w...\n",
              "44    [dont, need, olympus, fallen, andor, london, f...\n",
              "Name: lemmas, dtype: object"
            ]
          },
          "metadata": {},
          "execution_count": 16
        }
      ],
      "source": [
        "default_stopwords=\\\n",
        "set(nltk.corpus.stopwords.words('english')).union(set(nlp.Defaults.stop_words)).union({' ', ''})\n",
        "corpus_df['lemmas'] = corpus_df.Text.apply(lambda x: get_lemmas(x, default_stopwords))\n",
        "corpus_df.lemmas.head()"
      ]
    },
    {
      "cell_type": "code",
      "execution_count": 17,
      "id": "XtQnmBvAa3Af",
      "metadata": {
        "colab": {
          "base_uri": "https://localhost:8080/",
          "height": 490
        },
        "id": "XtQnmBvAa3Af",
        "outputId": "963de37f-78e9-4bf4-cb58-075a58772592"
      },
      "outputs": [
        {
          "output_type": "execute_result",
          "data": {
            "text/plain": [
              "Doc_ID                                                                   40  \\\n",
              "DSI_Title                                           KCM_Doc1_AngelHasFallen   \n",
              "Text                      Boredom sets in long before the start of Angel...   \n",
              "Submission File Name                                KCM_Doc1_AngelHasFallen   \n",
              "Student Name                                                            KCM   \n",
              "Genre of Movie                                                       Action   \n",
              "Review Type (pos or neg)                                           Negative   \n",
              "Movie Title                                                Angel Has Fallen   \n",
              "Descriptor                                     Action_Angel Has Fallen_N_40   \n",
              "Doc_ID                                                                   40   \n",
              "raw_sentences             [Boredom sets in long before the start of Ange...   \n",
              "lemmas                    [boredom, set, long, start, angel, fall, start...   \n",
              "\n",
              "Doc_ID                                                                   41  \\\n",
              "DSI_Title                                           KCM_Doc2_AngelHasFallen   \n",
              "Text                      \\nWho ARE all these people?\\n\\nThat was what...   \n",
              "Submission File Name                                KCM_Doc2_AngelHasFallen   \n",
              "Student Name                                                            KCM   \n",
              "Genre of Movie                                                       Action   \n",
              "Review Type (pos or neg)                                           Negative   \n",
              "Movie Title                                                Angel Has Fallen   \n",
              "Descriptor                                     Action_Angel Has Fallen_N_41   \n",
              "Doc_ID                                                                   41   \n",
              "raw_sentences             [\\nWho, ARE all these people?\\n\\n, That was ...   \n",
              "lemmas                    [people, mutter, enter, screening, angel, fall...   \n",
              "\n",
              "Doc_ID                                                                   42  \n",
              "DSI_Title                                           KCM_Doc3_AngelHasFallen  \n",
              "Text                      Ric Roman Waughs Angel Has Fallen sees U.S. S...  \n",
              "Submission File Name                                KCM_Doc3_AngelHasFallen  \n",
              "Student Name                                                            KCM  \n",
              "Genre of Movie                                                       Action  \n",
              "Review Type (pos or neg)                                           Negative  \n",
              "Movie Title                                                Angel Has Fallen  \n",
              "Descriptor                                     Action_Angel Has Fallen_N_42  \n",
              "Doc_ID                                                                   42  \n",
              "raw_sentences             [Ric Roman Waughs Angel Has, Fallen sees U.S....  \n",
              "lemmas                    [ric, roman, waughs, angel, fallen, secret, se...  "
            ],
            "text/html": [
              "\n",
              "\n",
              "  <div id=\"df-06ccc7b2-bf05-4972-a18c-5e4e1b939518\">\n",
              "    <div class=\"colab-df-container\">\n",
              "      <div>\n",
              "<style scoped>\n",
              "    .dataframe tbody tr th:only-of-type {\n",
              "        vertical-align: middle;\n",
              "    }\n",
              "\n",
              "    .dataframe tbody tr th {\n",
              "        vertical-align: top;\n",
              "    }\n",
              "\n",
              "    .dataframe thead th {\n",
              "        text-align: right;\n",
              "    }\n",
              "</style>\n",
              "<table border=\"1\" class=\"dataframe\">\n",
              "  <thead>\n",
              "    <tr style=\"text-align: right;\">\n",
              "      <th>Doc_ID</th>\n",
              "      <th>40</th>\n",
              "      <th>41</th>\n",
              "      <th>42</th>\n",
              "    </tr>\n",
              "  </thead>\n",
              "  <tbody>\n",
              "    <tr>\n",
              "      <th>DSI_Title</th>\n",
              "      <td>KCM_Doc1_AngelHasFallen</td>\n",
              "      <td>KCM_Doc2_AngelHasFallen</td>\n",
              "      <td>KCM_Doc3_AngelHasFallen</td>\n",
              "    </tr>\n",
              "    <tr>\n",
              "      <th>Text</th>\n",
              "      <td>Boredom sets in long before the start of Angel...</td>\n",
              "      <td>\\nWho ARE all these people?\\n\\nThat was what...</td>\n",
              "      <td>Ric Roman Waughs Angel Has Fallen sees U.S. S...</td>\n",
              "    </tr>\n",
              "    <tr>\n",
              "      <th>Submission File Name</th>\n",
              "      <td>KCM_Doc1_AngelHasFallen</td>\n",
              "      <td>KCM_Doc2_AngelHasFallen</td>\n",
              "      <td>KCM_Doc3_AngelHasFallen</td>\n",
              "    </tr>\n",
              "    <tr>\n",
              "      <th>Student Name</th>\n",
              "      <td>KCM</td>\n",
              "      <td>KCM</td>\n",
              "      <td>KCM</td>\n",
              "    </tr>\n",
              "    <tr>\n",
              "      <th>Genre of Movie</th>\n",
              "      <td>Action</td>\n",
              "      <td>Action</td>\n",
              "      <td>Action</td>\n",
              "    </tr>\n",
              "    <tr>\n",
              "      <th>Review Type (pos or neg)</th>\n",
              "      <td>Negative</td>\n",
              "      <td>Negative</td>\n",
              "      <td>Negative</td>\n",
              "    </tr>\n",
              "    <tr>\n",
              "      <th>Movie Title</th>\n",
              "      <td>Angel Has Fallen</td>\n",
              "      <td>Angel Has Fallen</td>\n",
              "      <td>Angel Has Fallen</td>\n",
              "    </tr>\n",
              "    <tr>\n",
              "      <th>Descriptor</th>\n",
              "      <td>Action_Angel Has Fallen_N_40</td>\n",
              "      <td>Action_Angel Has Fallen_N_41</td>\n",
              "      <td>Action_Angel Has Fallen_N_42</td>\n",
              "    </tr>\n",
              "    <tr>\n",
              "      <th>Doc_ID</th>\n",
              "      <td>40</td>\n",
              "      <td>41</td>\n",
              "      <td>42</td>\n",
              "    </tr>\n",
              "    <tr>\n",
              "      <th>raw_sentences</th>\n",
              "      <td>[Boredom sets in long before the start of Ange...</td>\n",
              "      <td>[\\nWho, ARE all these people?\\n\\n, That was ...</td>\n",
              "      <td>[Ric Roman Waughs Angel Has, Fallen sees U.S....</td>\n",
              "    </tr>\n",
              "    <tr>\n",
              "      <th>lemmas</th>\n",
              "      <td>[boredom, set, long, start, angel, fall, start...</td>\n",
              "      <td>[people, mutter, enter, screening, angel, fall...</td>\n",
              "      <td>[ric, roman, waughs, angel, fallen, secret, se...</td>\n",
              "    </tr>\n",
              "  </tbody>\n",
              "</table>\n",
              "</div>\n",
              "      <button class=\"colab-df-convert\" onclick=\"convertToInteractive('df-06ccc7b2-bf05-4972-a18c-5e4e1b939518')\"\n",
              "              title=\"Convert this dataframe to an interactive table.\"\n",
              "              style=\"display:none;\">\n",
              "\n",
              "  <svg xmlns=\"http://www.w3.org/2000/svg\" height=\"24px\"viewBox=\"0 0 24 24\"\n",
              "       width=\"24px\">\n",
              "    <path d=\"M0 0h24v24H0V0z\" fill=\"none\"/>\n",
              "    <path d=\"M18.56 5.44l.94 2.06.94-2.06 2.06-.94-2.06-.94-.94-2.06-.94 2.06-2.06.94zm-11 1L8.5 8.5l.94-2.06 2.06-.94-2.06-.94L8.5 2.5l-.94 2.06-2.06.94zm10 10l.94 2.06.94-2.06 2.06-.94-2.06-.94-.94-2.06-.94 2.06-2.06.94z\"/><path d=\"M17.41 7.96l-1.37-1.37c-.4-.4-.92-.59-1.43-.59-.52 0-1.04.2-1.43.59L10.3 9.45l-7.72 7.72c-.78.78-.78 2.05 0 2.83L4 21.41c.39.39.9.59 1.41.59.51 0 1.02-.2 1.41-.59l7.78-7.78 2.81-2.81c.8-.78.8-2.07 0-2.86zM5.41 20L4 18.59l7.72-7.72 1.47 1.35L5.41 20z\"/>\n",
              "  </svg>\n",
              "      </button>\n",
              "\n",
              "\n",
              "\n",
              "    <div id=\"df-faf31e4f-cd18-471e-be44-794a70094fec\">\n",
              "      <button class=\"colab-df-quickchart\" onclick=\"quickchart('df-faf31e4f-cd18-471e-be44-794a70094fec')\"\n",
              "              title=\"Suggest charts.\"\n",
              "              style=\"display:none;\">\n",
              "\n",
              "<svg xmlns=\"http://www.w3.org/2000/svg\" height=\"24px\"viewBox=\"0 0 24 24\"\n",
              "     width=\"24px\">\n",
              "    <g>\n",
              "        <path d=\"M19 3H5c-1.1 0-2 .9-2 2v14c0 1.1.9 2 2 2h14c1.1 0 2-.9 2-2V5c0-1.1-.9-2-2-2zM9 17H7v-7h2v7zm4 0h-2V7h2v10zm4 0h-2v-4h2v4z\"/>\n",
              "    </g>\n",
              "</svg>\n",
              "      </button>\n",
              "    </div>\n",
              "\n",
              "<style>\n",
              "  .colab-df-quickchart {\n",
              "    background-color: #E8F0FE;\n",
              "    border: none;\n",
              "    border-radius: 50%;\n",
              "    cursor: pointer;\n",
              "    display: none;\n",
              "    fill: #1967D2;\n",
              "    height: 32px;\n",
              "    padding: 0 0 0 0;\n",
              "    width: 32px;\n",
              "  }\n",
              "\n",
              "  .colab-df-quickchart:hover {\n",
              "    background-color: #E2EBFA;\n",
              "    box-shadow: 0px 1px 2px rgba(60, 64, 67, 0.3), 0px 1px 3px 1px rgba(60, 64, 67, 0.15);\n",
              "    fill: #174EA6;\n",
              "  }\n",
              "\n",
              "  [theme=dark] .colab-df-quickchart {\n",
              "    background-color: #3B4455;\n",
              "    fill: #D2E3FC;\n",
              "  }\n",
              "\n",
              "  [theme=dark] .colab-df-quickchart:hover {\n",
              "    background-color: #434B5C;\n",
              "    box-shadow: 0px 1px 3px 1px rgba(0, 0, 0, 0.15);\n",
              "    filter: drop-shadow(0px 1px 2px rgba(0, 0, 0, 0.3));\n",
              "    fill: #FFFFFF;\n",
              "  }\n",
              "</style>\n",
              "\n",
              "    <script>\n",
              "      async function quickchart(key) {\n",
              "        const containerElement = document.querySelector('#' + key);\n",
              "        const charts = await google.colab.kernel.invokeFunction(\n",
              "            'suggestCharts', [key], {});\n",
              "      }\n",
              "    </script>\n",
              "\n",
              "      <script>\n",
              "\n",
              "function displayQuickchartButton(domScope) {\n",
              "  let quickchartButtonEl =\n",
              "    domScope.querySelector('#df-faf31e4f-cd18-471e-be44-794a70094fec button.colab-df-quickchart');\n",
              "  quickchartButtonEl.style.display =\n",
              "    google.colab.kernel.accessAllowed ? 'block' : 'none';\n",
              "}\n",
              "\n",
              "        displayQuickchartButton(document);\n",
              "      </script>\n",
              "      <style>\n",
              "    .colab-df-container {\n",
              "      display:flex;\n",
              "      flex-wrap:wrap;\n",
              "      gap: 12px;\n",
              "    }\n",
              "\n",
              "    .colab-df-convert {\n",
              "      background-color: #E8F0FE;\n",
              "      border: none;\n",
              "      border-radius: 50%;\n",
              "      cursor: pointer;\n",
              "      display: none;\n",
              "      fill: #1967D2;\n",
              "      height: 32px;\n",
              "      padding: 0 0 0 0;\n",
              "      width: 32px;\n",
              "    }\n",
              "\n",
              "    .colab-df-convert:hover {\n",
              "      background-color: #E2EBFA;\n",
              "      box-shadow: 0px 1px 2px rgba(60, 64, 67, 0.3), 0px 1px 3px 1px rgba(60, 64, 67, 0.15);\n",
              "      fill: #174EA6;\n",
              "    }\n",
              "\n",
              "    [theme=dark] .colab-df-convert {\n",
              "      background-color: #3B4455;\n",
              "      fill: #D2E3FC;\n",
              "    }\n",
              "\n",
              "    [theme=dark] .colab-df-convert:hover {\n",
              "      background-color: #434B5C;\n",
              "      box-shadow: 0px 1px 3px 1px rgba(0, 0, 0, 0.15);\n",
              "      filter: drop-shadow(0px 1px 2px rgba(0, 0, 0, 0.3));\n",
              "      fill: #FFFFFF;\n",
              "    }\n",
              "  </style>\n",
              "\n",
              "      <script>\n",
              "        const buttonEl =\n",
              "          document.querySelector('#df-06ccc7b2-bf05-4972-a18c-5e4e1b939518 button.colab-df-convert');\n",
              "        buttonEl.style.display =\n",
              "          google.colab.kernel.accessAllowed ? 'block' : 'none';\n",
              "\n",
              "        async function convertToInteractive(key) {\n",
              "          const element = document.querySelector('#df-06ccc7b2-bf05-4972-a18c-5e4e1b939518');\n",
              "          const dataTable =\n",
              "            await google.colab.kernel.invokeFunction('convertToInteractive',\n",
              "                                                     [key], {});\n",
              "          if (!dataTable) return;\n",
              "\n",
              "          const docLinkHtml = 'Like what you see? Visit the ' +\n",
              "            '<a target=\"_blank\" href=https://colab.research.google.com/notebooks/data_table.ipynb>data table notebook</a>'\n",
              "            + ' to learn more about interactive tables.';\n",
              "          element.innerHTML = '';\n",
              "          dataTable['output_type'] = 'display_data';\n",
              "          await google.colab.output.renderOutput(dataTable, element);\n",
              "          const docLink = document.createElement('div');\n",
              "          docLink.innerHTML = docLinkHtml;\n",
              "          element.appendChild(docLink);\n",
              "        }\n",
              "      </script>\n",
              "    </div>\n",
              "  </div>\n"
            ]
          },
          "metadata": {},
          "execution_count": 17
        }
      ],
      "source": [
        "corpus_df.head(3).T"
      ]
    },
    {
      "cell_type": "markdown",
      "id": "_1mQRpq4a3Af",
      "metadata": {
        "id": "_1mQRpq4a3Af"
      },
      "source": [
        "## Reassemble Leminized Words"
      ]
    },
    {
      "cell_type": "code",
      "execution_count": 18,
      "id": "s1sDV0zQa3Ag",
      "metadata": {
        "id": "s1sDV0zQa3Ag"
      },
      "outputs": [],
      "source": [
        "corpus_df['lemmas_joined'] = corpus_df.lemmas.apply(lambda x: ' '.join(x))"
      ]
    },
    {
      "cell_type": "code",
      "execution_count": 19,
      "id": "6Ma4bVjEa3Ag",
      "metadata": {
        "colab": {
          "base_uri": "https://localhost:8080/"
        },
        "id": "6Ma4bVjEa3Ag",
        "outputId": "1091de51-3632-47b7-c2ae-b9d600d148f5"
      },
      "outputs": [
        {
          "output_type": "execute_result",
          "data": {
            "text/plain": [
              "Doc_ID\n",
              "40    boredom set long start angel fall start journe...\n",
              "41    people mutter enter screening angel fallen loc...\n",
              "42    ric roman waughs angel fallen secret service a...\n",
              "43    certain mindless pleasure fallen movie watch g...\n",
              "44    dont need olympus fallen andor london fallen u...\n",
              "Name: lemmas_joined, dtype: object"
            ]
          },
          "metadata": {},
          "execution_count": 19
        }
      ],
      "source": [
        "corpus_df['lemmas_joined'].head()"
      ]
    },
    {
      "cell_type": "code",
      "execution_count": 20,
      "id": "jw0ZsRpda3Ag",
      "metadata": {
        "colab": {
          "base_uri": "https://localhost:8080/",
          "height": 539
        },
        "id": "jw0ZsRpda3Ag",
        "outputId": "b2779c25-a63d-43eb-a7dd-54272a10880f"
      },
      "outputs": [
        {
          "output_type": "execute_result",
          "data": {
            "text/plain": [
              "Doc_ID                                                                   40  \\\n",
              "DSI_Title                                           KCM_Doc1_AngelHasFallen   \n",
              "Text                      Boredom sets in long before the start of Angel...   \n",
              "Submission File Name                                KCM_Doc1_AngelHasFallen   \n",
              "Student Name                                                            KCM   \n",
              "Genre of Movie                                                       Action   \n",
              "Review Type (pos or neg)                                           Negative   \n",
              "Movie Title                                                Angel Has Fallen   \n",
              "Descriptor                                     Action_Angel Has Fallen_N_40   \n",
              "Doc_ID                                                                   40   \n",
              "raw_sentences             [Boredom sets in long before the start of Ange...   \n",
              "lemmas                    [boredom, set, long, start, angel, fall, start...   \n",
              "lemmas_joined             boredom set long start angel fall start journe...   \n",
              "\n",
              "Doc_ID                                                                   41  \\\n",
              "DSI_Title                                           KCM_Doc2_AngelHasFallen   \n",
              "Text                      \\nWho ARE all these people?\\n\\nThat was what...   \n",
              "Submission File Name                                KCM_Doc2_AngelHasFallen   \n",
              "Student Name                                                            KCM   \n",
              "Genre of Movie                                                       Action   \n",
              "Review Type (pos or neg)                                           Negative   \n",
              "Movie Title                                                Angel Has Fallen   \n",
              "Descriptor                                     Action_Angel Has Fallen_N_41   \n",
              "Doc_ID                                                                   41   \n",
              "raw_sentences             [\\nWho, ARE all these people?\\n\\n, That was ...   \n",
              "lemmas                    [people, mutter, enter, screening, angel, fall...   \n",
              "lemmas_joined             people mutter enter screening angel fallen loc...   \n",
              "\n",
              "Doc_ID                                                                   42  \n",
              "DSI_Title                                           KCM_Doc3_AngelHasFallen  \n",
              "Text                      Ric Roman Waughs Angel Has Fallen sees U.S. S...  \n",
              "Submission File Name                                KCM_Doc3_AngelHasFallen  \n",
              "Student Name                                                            KCM  \n",
              "Genre of Movie                                                       Action  \n",
              "Review Type (pos or neg)                                           Negative  \n",
              "Movie Title                                                Angel Has Fallen  \n",
              "Descriptor                                     Action_Angel Has Fallen_N_42  \n",
              "Doc_ID                                                                   42  \n",
              "raw_sentences             [Ric Roman Waughs Angel Has, Fallen sees U.S....  \n",
              "lemmas                    [ric, roman, waughs, angel, fallen, secret, se...  \n",
              "lemmas_joined             ric roman waughs angel fallen secret service a...  "
            ],
            "text/html": [
              "\n",
              "\n",
              "  <div id=\"df-8e74667f-eb43-4968-905f-3610df5e6574\">\n",
              "    <div class=\"colab-df-container\">\n",
              "      <div>\n",
              "<style scoped>\n",
              "    .dataframe tbody tr th:only-of-type {\n",
              "        vertical-align: middle;\n",
              "    }\n",
              "\n",
              "    .dataframe tbody tr th {\n",
              "        vertical-align: top;\n",
              "    }\n",
              "\n",
              "    .dataframe thead th {\n",
              "        text-align: right;\n",
              "    }\n",
              "</style>\n",
              "<table border=\"1\" class=\"dataframe\">\n",
              "  <thead>\n",
              "    <tr style=\"text-align: right;\">\n",
              "      <th>Doc_ID</th>\n",
              "      <th>40</th>\n",
              "      <th>41</th>\n",
              "      <th>42</th>\n",
              "    </tr>\n",
              "  </thead>\n",
              "  <tbody>\n",
              "    <tr>\n",
              "      <th>DSI_Title</th>\n",
              "      <td>KCM_Doc1_AngelHasFallen</td>\n",
              "      <td>KCM_Doc2_AngelHasFallen</td>\n",
              "      <td>KCM_Doc3_AngelHasFallen</td>\n",
              "    </tr>\n",
              "    <tr>\n",
              "      <th>Text</th>\n",
              "      <td>Boredom sets in long before the start of Angel...</td>\n",
              "      <td>\\nWho ARE all these people?\\n\\nThat was what...</td>\n",
              "      <td>Ric Roman Waughs Angel Has Fallen sees U.S. S...</td>\n",
              "    </tr>\n",
              "    <tr>\n",
              "      <th>Submission File Name</th>\n",
              "      <td>KCM_Doc1_AngelHasFallen</td>\n",
              "      <td>KCM_Doc2_AngelHasFallen</td>\n",
              "      <td>KCM_Doc3_AngelHasFallen</td>\n",
              "    </tr>\n",
              "    <tr>\n",
              "      <th>Student Name</th>\n",
              "      <td>KCM</td>\n",
              "      <td>KCM</td>\n",
              "      <td>KCM</td>\n",
              "    </tr>\n",
              "    <tr>\n",
              "      <th>Genre of Movie</th>\n",
              "      <td>Action</td>\n",
              "      <td>Action</td>\n",
              "      <td>Action</td>\n",
              "    </tr>\n",
              "    <tr>\n",
              "      <th>Review Type (pos or neg)</th>\n",
              "      <td>Negative</td>\n",
              "      <td>Negative</td>\n",
              "      <td>Negative</td>\n",
              "    </tr>\n",
              "    <tr>\n",
              "      <th>Movie Title</th>\n",
              "      <td>Angel Has Fallen</td>\n",
              "      <td>Angel Has Fallen</td>\n",
              "      <td>Angel Has Fallen</td>\n",
              "    </tr>\n",
              "    <tr>\n",
              "      <th>Descriptor</th>\n",
              "      <td>Action_Angel Has Fallen_N_40</td>\n",
              "      <td>Action_Angel Has Fallen_N_41</td>\n",
              "      <td>Action_Angel Has Fallen_N_42</td>\n",
              "    </tr>\n",
              "    <tr>\n",
              "      <th>Doc_ID</th>\n",
              "      <td>40</td>\n",
              "      <td>41</td>\n",
              "      <td>42</td>\n",
              "    </tr>\n",
              "    <tr>\n",
              "      <th>raw_sentences</th>\n",
              "      <td>[Boredom sets in long before the start of Ange...</td>\n",
              "      <td>[\\nWho, ARE all these people?\\n\\n, That was ...</td>\n",
              "      <td>[Ric Roman Waughs Angel Has, Fallen sees U.S....</td>\n",
              "    </tr>\n",
              "    <tr>\n",
              "      <th>lemmas</th>\n",
              "      <td>[boredom, set, long, start, angel, fall, start...</td>\n",
              "      <td>[people, mutter, enter, screening, angel, fall...</td>\n",
              "      <td>[ric, roman, waughs, angel, fallen, secret, se...</td>\n",
              "    </tr>\n",
              "    <tr>\n",
              "      <th>lemmas_joined</th>\n",
              "      <td>boredom set long start angel fall start journe...</td>\n",
              "      <td>people mutter enter screening angel fallen loc...</td>\n",
              "      <td>ric roman waughs angel fallen secret service a...</td>\n",
              "    </tr>\n",
              "  </tbody>\n",
              "</table>\n",
              "</div>\n",
              "      <button class=\"colab-df-convert\" onclick=\"convertToInteractive('df-8e74667f-eb43-4968-905f-3610df5e6574')\"\n",
              "              title=\"Convert this dataframe to an interactive table.\"\n",
              "              style=\"display:none;\">\n",
              "\n",
              "  <svg xmlns=\"http://www.w3.org/2000/svg\" height=\"24px\"viewBox=\"0 0 24 24\"\n",
              "       width=\"24px\">\n",
              "    <path d=\"M0 0h24v24H0V0z\" fill=\"none\"/>\n",
              "    <path d=\"M18.56 5.44l.94 2.06.94-2.06 2.06-.94-2.06-.94-.94-2.06-.94 2.06-2.06.94zm-11 1L8.5 8.5l.94-2.06 2.06-.94-2.06-.94L8.5 2.5l-.94 2.06-2.06.94zm10 10l.94 2.06.94-2.06 2.06-.94-2.06-.94-.94-2.06-.94 2.06-2.06.94z\"/><path d=\"M17.41 7.96l-1.37-1.37c-.4-.4-.92-.59-1.43-.59-.52 0-1.04.2-1.43.59L10.3 9.45l-7.72 7.72c-.78.78-.78 2.05 0 2.83L4 21.41c.39.39.9.59 1.41.59.51 0 1.02-.2 1.41-.59l7.78-7.78 2.81-2.81c.8-.78.8-2.07 0-2.86zM5.41 20L4 18.59l7.72-7.72 1.47 1.35L5.41 20z\"/>\n",
              "  </svg>\n",
              "      </button>\n",
              "\n",
              "\n",
              "\n",
              "    <div id=\"df-bb5879b3-fe4b-45ec-be28-a84ab7c4f6ba\">\n",
              "      <button class=\"colab-df-quickchart\" onclick=\"quickchart('df-bb5879b3-fe4b-45ec-be28-a84ab7c4f6ba')\"\n",
              "              title=\"Suggest charts.\"\n",
              "              style=\"display:none;\">\n",
              "\n",
              "<svg xmlns=\"http://www.w3.org/2000/svg\" height=\"24px\"viewBox=\"0 0 24 24\"\n",
              "     width=\"24px\">\n",
              "    <g>\n",
              "        <path d=\"M19 3H5c-1.1 0-2 .9-2 2v14c0 1.1.9 2 2 2h14c1.1 0 2-.9 2-2V5c0-1.1-.9-2-2-2zM9 17H7v-7h2v7zm4 0h-2V7h2v10zm4 0h-2v-4h2v4z\"/>\n",
              "    </g>\n",
              "</svg>\n",
              "      </button>\n",
              "    </div>\n",
              "\n",
              "<style>\n",
              "  .colab-df-quickchart {\n",
              "    background-color: #E8F0FE;\n",
              "    border: none;\n",
              "    border-radius: 50%;\n",
              "    cursor: pointer;\n",
              "    display: none;\n",
              "    fill: #1967D2;\n",
              "    height: 32px;\n",
              "    padding: 0 0 0 0;\n",
              "    width: 32px;\n",
              "  }\n",
              "\n",
              "  .colab-df-quickchart:hover {\n",
              "    background-color: #E2EBFA;\n",
              "    box-shadow: 0px 1px 2px rgba(60, 64, 67, 0.3), 0px 1px 3px 1px rgba(60, 64, 67, 0.15);\n",
              "    fill: #174EA6;\n",
              "  }\n",
              "\n",
              "  [theme=dark] .colab-df-quickchart {\n",
              "    background-color: #3B4455;\n",
              "    fill: #D2E3FC;\n",
              "  }\n",
              "\n",
              "  [theme=dark] .colab-df-quickchart:hover {\n",
              "    background-color: #434B5C;\n",
              "    box-shadow: 0px 1px 3px 1px rgba(0, 0, 0, 0.15);\n",
              "    filter: drop-shadow(0px 1px 2px rgba(0, 0, 0, 0.3));\n",
              "    fill: #FFFFFF;\n",
              "  }\n",
              "</style>\n",
              "\n",
              "    <script>\n",
              "      async function quickchart(key) {\n",
              "        const containerElement = document.querySelector('#' + key);\n",
              "        const charts = await google.colab.kernel.invokeFunction(\n",
              "            'suggestCharts', [key], {});\n",
              "      }\n",
              "    </script>\n",
              "\n",
              "      <script>\n",
              "\n",
              "function displayQuickchartButton(domScope) {\n",
              "  let quickchartButtonEl =\n",
              "    domScope.querySelector('#df-bb5879b3-fe4b-45ec-be28-a84ab7c4f6ba button.colab-df-quickchart');\n",
              "  quickchartButtonEl.style.display =\n",
              "    google.colab.kernel.accessAllowed ? 'block' : 'none';\n",
              "}\n",
              "\n",
              "        displayQuickchartButton(document);\n",
              "      </script>\n",
              "      <style>\n",
              "    .colab-df-container {\n",
              "      display:flex;\n",
              "      flex-wrap:wrap;\n",
              "      gap: 12px;\n",
              "    }\n",
              "\n",
              "    .colab-df-convert {\n",
              "      background-color: #E8F0FE;\n",
              "      border: none;\n",
              "      border-radius: 50%;\n",
              "      cursor: pointer;\n",
              "      display: none;\n",
              "      fill: #1967D2;\n",
              "      height: 32px;\n",
              "      padding: 0 0 0 0;\n",
              "      width: 32px;\n",
              "    }\n",
              "\n",
              "    .colab-df-convert:hover {\n",
              "      background-color: #E2EBFA;\n",
              "      box-shadow: 0px 1px 2px rgba(60, 64, 67, 0.3), 0px 1px 3px 1px rgba(60, 64, 67, 0.15);\n",
              "      fill: #174EA6;\n",
              "    }\n",
              "\n",
              "    [theme=dark] .colab-df-convert {\n",
              "      background-color: #3B4455;\n",
              "      fill: #D2E3FC;\n",
              "    }\n",
              "\n",
              "    [theme=dark] .colab-df-convert:hover {\n",
              "      background-color: #434B5C;\n",
              "      box-shadow: 0px 1px 3px 1px rgba(0, 0, 0, 0.15);\n",
              "      filter: drop-shadow(0px 1px 2px rgba(0, 0, 0, 0.3));\n",
              "      fill: #FFFFFF;\n",
              "    }\n",
              "  </style>\n",
              "\n",
              "      <script>\n",
              "        const buttonEl =\n",
              "          document.querySelector('#df-8e74667f-eb43-4968-905f-3610df5e6574 button.colab-df-convert');\n",
              "        buttonEl.style.display =\n",
              "          google.colab.kernel.accessAllowed ? 'block' : 'none';\n",
              "\n",
              "        async function convertToInteractive(key) {\n",
              "          const element = document.querySelector('#df-8e74667f-eb43-4968-905f-3610df5e6574');\n",
              "          const dataTable =\n",
              "            await google.colab.kernel.invokeFunction('convertToInteractive',\n",
              "                                                     [key], {});\n",
              "          if (!dataTable) return;\n",
              "\n",
              "          const docLinkHtml = 'Like what you see? Visit the ' +\n",
              "            '<a target=\"_blank\" href=https://colab.research.google.com/notebooks/data_table.ipynb>data table notebook</a>'\n",
              "            + ' to learn more about interactive tables.';\n",
              "          element.innerHTML = '';\n",
              "          dataTable['output_type'] = 'display_data';\n",
              "          await google.colab.output.renderOutput(dataTable, element);\n",
              "          const docLink = document.createElement('div');\n",
              "          docLink.innerHTML = docLinkHtml;\n",
              "          element.appendChild(docLink);\n",
              "        }\n",
              "      </script>\n",
              "    </div>\n",
              "  </div>\n"
            ]
          },
          "metadata": {},
          "execution_count": 20
        }
      ],
      "source": [
        "corpus_df.head(3).T"
      ]
    },
    {
      "cell_type": "markdown",
      "id": "njfHIsmwa3Ag",
      "metadata": {
        "id": "njfHIsmwa3Ag"
      },
      "source": [
        "## Vocabulary Data Wrangling"
      ]
    },
    {
      "cell_type": "code",
      "execution_count": 21,
      "id": "t7I95D0Ja3Ag",
      "metadata": {
        "colab": {
          "base_uri": "https://localhost:8080/"
        },
        "id": "t7I95D0Ja3Ag",
        "outputId": "9add5c4c-4dbf-4627-91a1-5bc71e419b47"
      },
      "outputs": [
        {
          "output_type": "stream",
          "name": "stdout",
          "text": [
            "All Word Vocabulary size: 12221\n",
            "Curated Vocabulary size: 2907\n"
          ]
        }
      ],
      "source": [
        "vectorizer = CountVectorizer(ngram_range=(1, 1))\n",
        "transformed_documents = vectorizer.fit_transform(corpus_df.lemmas_joined)\n",
        "doc_term_matrix = transformed_documents.todense()\n",
        "doc_term_df = pd.DataFrame(doc_term_matrix,\n",
        "                           columns=vectorizer.get_feature_names_out(),\n",
        "                           index=corpus_df.Descriptor)\n",
        "print(f'All Word Vocabulary size: {doc_term_df.shape[1]}')\n",
        "all_words = set(doc_term_df.columns)\n",
        "\n",
        "vectorizer = CountVectorizer(ngram_range=(1, 1), min_df=5, max_df=.8)\n",
        "transformed_documents = vectorizer.fit_transform(corpus_df.lemmas_joined)\n",
        "doc_term_matrix = transformed_documents.todense()\n",
        "doc_term_df = pd.DataFrame(doc_term_matrix,\n",
        "                           columns=vectorizer.get_feature_names_out(),\n",
        "                           index=corpus_df.Descriptor)\n",
        "print(f'Curated Vocabulary size: {doc_term_df.shape[1]}')\n",
        "vocabulary = set(doc_term_df.columns)\n",
        "\n",
        "words_to_remove = default_stopwords.union(all_words - vocabulary)"
      ]
    },
    {
      "cell_type": "code",
      "execution_count": 22,
      "id": "Vf9jUu_Ia3Ah",
      "metadata": {
        "colab": {
          "base_uri": "https://localhost:8080/",
          "height": 701
        },
        "id": "Vf9jUu_Ia3Ah",
        "outputId": "8c118705-ecf1-4321-e250-64bbcce3d2cd"
      },
      "outputs": [
        {
          "output_type": "display_data",
          "data": {
            "text/plain": [
              "<Figure size 1200x800 with 1 Axes>"
            ],
            "image/png": "[encoded data removed]"
          },
          "metadata": {}
        }
      ],
      "source": [
        "plt.figure(figsize = (12, 8))\n",
        "plt.hist(doc_term_df.sum(axis=0).T, range=(0, 200))\n",
        "plt.xlabel('Number of Occurrences',fontsize=14)\n",
        "plt.ylabel('Number of Terms',fontsize=14);"
      ]
    },
    {
      "cell_type": "code",
      "execution_count": 23,
      "id": "WS25YoJFa3Ah",
      "metadata": {
        "colab": {
          "base_uri": "https://localhost:8080/"
        },
        "id": "WS25YoJFa3Ah",
        "outputId": "c6f4516f-2743-42ab-ada1-2c1e43bc356b"
      },
      "outputs": [
        {
          "output_type": "execute_result",
          "data": {
            "text/plain": [
              "Doc_ID\n",
              "40    [set, long, start, angel, fall, start, journey...\n",
              "41    [people, enter, angel, fallen, local, cinema, ...\n",
              "42    [ric, roman, angel, fallen, secret, service, a...\n",
              "43    [certain, pleasure, fallen, watch, gerard, but...\n",
              "44    [dont, need, olympus, fallen, andor, london, f...\n",
              "Name: lemmas, dtype: object"
            ]
          },
          "metadata": {},
          "execution_count": 23
        }
      ],
      "source": [
        "# Re-tokenize words, recreate joined documents\n",
        "corpus_df['lemmas'] = corpus_df.Text.apply(lambda x: get_lemmas(x, words_to_remove))\n",
        "corpus_df['lemmas_joined'] = corpus_df.lemmas.apply(lambda x: ' '.join(x))\n",
        "corpus_df.lemmas.head()"
      ]
    },
    {
      "cell_type": "markdown",
      "id": "Z6g66oDqa3Ai",
      "metadata": {
        "id": "Z6g66oDqa3Ai"
      },
      "source": [
        "## Get Lemmatized and Filtered Sentences"
      ]
    },
    {
      "cell_type": "markdown",
      "id": "UVMq7dXya3Ai",
      "metadata": {
        "id": "UVMq7dXya3Ai"
      },
      "source": [
        "Removes the additional words"
      ]
    },
    {
      "cell_type": "code",
      "execution_count": 24,
      "id": "BAuLZmYaa3Ai",
      "metadata": {
        "id": "BAuLZmYaa3Ai"
      },
      "outputs": [],
      "source": [
        "corpus_df['sentences_lemmatized']=\\\n",
        "corpus_df.raw_sentences.apply(lambda x: [lemmatize_sentence(s, words_to_remove) for s in x])"
      ]
    },
    {
      "cell_type": "code",
      "execution_count": 25,
      "id": "gJz7XDnBa3Aj",
      "metadata": {
        "colab": {
          "base_uri": "https://localhost:8080/",
          "height": 677
        },
        "id": "gJz7XDnBa3Aj",
        "outputId": "a930af68-bb38-4c06-989b-e9175cf8fcc7"
      },
      "outputs": [
        {
          "output_type": "execute_result",
          "data": {
            "text/plain": [
              "Doc_ID                                                                   40  \\\n",
              "DSI_Title                                           KCM_Doc1_AngelHasFallen   \n",
              "Text                      Boredom sets in long before the start of Angel...   \n",
              "Submission File Name                                KCM_Doc1_AngelHasFallen   \n",
              "Student Name                                                            KCM   \n",
              "Genre of Movie                                                       Action   \n",
              "Review Type (pos or neg)                                           Negative   \n",
              "Movie Title                                                Angel Has Fallen   \n",
              "Descriptor                                     Action_Angel Has Fallen_N_40   \n",
              "Doc_ID                                                                   40   \n",
              "raw_sentences             [Boredom sets in long before the start of Ange...   \n",
              "lemmas                    [set, long, start, angel, fall, start, journey...   \n",
              "lemmas_joined             set long start angel fall start journey change...   \n",
              "sentences_lemmatized      [set long start angel fall, start journey chan...   \n",
              "\n",
              "Doc_ID                                                                   41  \\\n",
              "DSI_Title                                           KCM_Doc2_AngelHasFallen   \n",
              "Text                      \\nWho ARE all these people?\\n\\nThat was what...   \n",
              "Submission File Name                                KCM_Doc2_AngelHasFallen   \n",
              "Student Name                                                            KCM   \n",
              "Genre of Movie                                                       Action   \n",
              "Review Type (pos or neg)                                           Negative   \n",
              "Movie Title                                                Angel Has Fallen   \n",
              "Descriptor                                     Action_Angel Has Fallen_N_41   \n",
              "Doc_ID                                                                   41   \n",
              "raw_sentences             [\\nWho, ARE all these people?\\n\\n, That was ...   \n",
              "lemmas                    [people, enter, angel, fallen, local, cinema, ...   \n",
              "lemmas_joined             people enter angel fallen local cinema sunny l...   \n",
              "sentences_lemmatized      [, people, enter angel, fallen local cinema, s...   \n",
              "\n",
              "Doc_ID                                                                   42  \\\n",
              "DSI_Title                                           KCM_Doc3_AngelHasFallen   \n",
              "Text                      Ric Roman Waughs Angel Has Fallen sees U.S. S...   \n",
              "Submission File Name                                KCM_Doc3_AngelHasFallen   \n",
              "Student Name                                                            KCM   \n",
              "Genre of Movie                                                       Action   \n",
              "Review Type (pos or neg)                                           Negative   \n",
              "Movie Title                                                Angel Has Fallen   \n",
              "Descriptor                                     Action_Angel Has Fallen_N_42   \n",
              "Doc_ID                                                                   42   \n",
              "raw_sentences             [Ric Roman Waughs Angel Has, Fallen sees U.S....   \n",
              "lemmas                    [ric, roman, angel, fallen, secret, service, a...   \n",
              "lemmas_joined             ric roman angel fallen secret service agent mi...   \n",
              "sentences_lemmatized      [ric roman angel, fallen secret service agent ...   \n",
              "\n",
              "Doc_ID                                                                   43  \\\n",
              "DSI_Title                                           KCM_Doc4_AngelHasFallen   \n",
              "Text                      There is a certain mindless pleasure in the Fa...   \n",
              "Submission File Name                                KCM_Doc4_AngelHasFallen   \n",
              "Student Name                                                            KCM   \n",
              "Genre of Movie                                                       Action   \n",
              "Review Type (pos or neg)                                           Negative   \n",
              "Movie Title                                                Angel Has Fallen   \n",
              "Descriptor                                     Action_Angel Has Fallen_N_43   \n",
              "Doc_ID                                                                   43   \n",
              "raw_sentences             [There is a certain mindless pleasure in the F...   \n",
              "lemmas                    [certain, pleasure, fallen, watch, gerard, but...   \n",
              "lemmas_joined             certain pleasure fallen watch gerard butler mu...   \n",
              "sentences_lemmatized      [certain pleasure fallen, watch gerard butler ...   \n",
              "\n",
              "Doc_ID                                                                   44  \n",
              "DSI_Title                                           KCM_Doc5_AngelHasFallen  \n",
              "Text                      No, you dont need to have seen Olympus Has F...  \n",
              "Submission File Name                                KCM_Doc5_AngelHasFallen  \n",
              "Student Name                                                            KCM  \n",
              "Genre of Movie                                                       Action  \n",
              "Review Type (pos or neg)                                           Negative  \n",
              "Movie Title                                                Angel Has Fallen  \n",
              "Descriptor                                     Action_Angel Has Fallen_N_44  \n",
              "Doc_ID                                                                   44  \n",
              "raw_sentences             [No, you dont need to have seen Olympus Has ...  \n",
              "lemmas                    [dont, need, olympus, fallen, andor, london, f...  \n",
              "lemmas_joined             dont need olympus fallen andor london fallen u...  \n",
              "sentences_lemmatized      [dont need olympus fallen andor london, fallen...  "
            ],
            "text/html": [
              "\n",
              "\n",
              "  <div id=\"df-dc8b815c-42ff-4632-a66c-98cf88caacee\">\n",
              "    <div class=\"colab-df-container\">\n",
              "      <div>\n",
              "<style scoped>\n",
              "    .dataframe tbody tr th:only-of-type {\n",
              "        vertical-align: middle;\n",
              "    }\n",
              "\n",
              "    .dataframe tbody tr th {\n",
              "        vertical-align: top;\n",
              "    }\n",
              "\n",
              "    .dataframe thead th {\n",
              "        text-align: right;\n",
              "    }\n",
              "</style>\n",
              "<table border=\"1\" class=\"dataframe\">\n",
              "  <thead>\n",
              "    <tr style=\"text-align: right;\">\n",
              "      <th>Doc_ID</th>\n",
              "      <th>40</th>\n",
              "      <th>41</th>\n",
              "      <th>42</th>\n",
              "      <th>43</th>\n",
              "      <th>44</th>\n",
              "    </tr>\n",
              "  </thead>\n",
              "  <tbody>\n",
              "    <tr>\n",
              "      <th>DSI_Title</th>\n",
              "      <td>KCM_Doc1_AngelHasFallen</td>\n",
              "      <td>KCM_Doc2_AngelHasFallen</td>\n",
              "      <td>KCM_Doc3_AngelHasFallen</td>\n",
              "      <td>KCM_Doc4_AngelHasFallen</td>\n",
              "      <td>KCM_Doc5_AngelHasFallen</td>\n",
              "    </tr>\n",
              "    <tr>\n",
              "      <th>Text</th>\n",
              "      <td>Boredom sets in long before the start of Angel...</td>\n",
              "      <td>\\nWho ARE all these people?\\n\\nThat was what...</td>\n",
              "      <td>Ric Roman Waughs Angel Has Fallen sees U.S. S...</td>\n",
              "      <td>There is a certain mindless pleasure in the Fa...</td>\n",
              "      <td>No, you dont need to have seen Olympus Has F...</td>\n",
              "    </tr>\n",
              "    <tr>\n",
              "      <th>Submission File Name</th>\n",
              "      <td>KCM_Doc1_AngelHasFallen</td>\n",
              "      <td>KCM_Doc2_AngelHasFallen</td>\n",
              "      <td>KCM_Doc3_AngelHasFallen</td>\n",
              "      <td>KCM_Doc4_AngelHasFallen</td>\n",
              "      <td>KCM_Doc5_AngelHasFallen</td>\n",
              "    </tr>\n",
              "    <tr>\n",
              "      <th>Student Name</th>\n",
              "      <td>KCM</td>\n",
              "      <td>KCM</td>\n",
              "      <td>KCM</td>\n",
              "      <td>KCM</td>\n",
              "      <td>KCM</td>\n",
              "    </tr>\n",
              "    <tr>\n",
              "      <th>Genre of Movie</th>\n",
              "      <td>Action</td>\n",
              "      <td>Action</td>\n",
              "      <td>Action</td>\n",
              "      <td>Action</td>\n",
              "      <td>Action</td>\n",
              "    </tr>\n",
              "    <tr>\n",
              "      <th>Review Type (pos or neg)</th>\n",
              "      <td>Negative</td>\n",
              "      <td>Negative</td>\n",
              "      <td>Negative</td>\n",
              "      <td>Negative</td>\n",
              "      <td>Negative</td>\n",
              "    </tr>\n",
              "    <tr>\n",
              "      <th>Movie Title</th>\n",
              "      <td>Angel Has Fallen</td>\n",
              "      <td>Angel Has Fallen</td>\n",
              "      <td>Angel Has Fallen</td>\n",
              "      <td>Angel Has Fallen</td>\n",
              "      <td>Angel Has Fallen</td>\n",
              "    </tr>\n",
              "    <tr>\n",
              "      <th>Descriptor</th>\n",
              "      <td>Action_Angel Has Fallen_N_40</td>\n",
              "      <td>Action_Angel Has Fallen_N_41</td>\n",
              "      <td>Action_Angel Has Fallen_N_42</td>\n",
              "      <td>Action_Angel Has Fallen_N_43</td>\n",
              "      <td>Action_Angel Has Fallen_N_44</td>\n",
              "    </tr>\n",
              "    <tr>\n",
              "      <th>Doc_ID</th>\n",
              "      <td>40</td>\n",
              "      <td>41</td>\n",
              "      <td>42</td>\n",
              "      <td>43</td>\n",
              "      <td>44</td>\n",
              "    </tr>\n",
              "    <tr>\n",
              "      <th>raw_sentences</th>\n",
              "      <td>[Boredom sets in long before the start of Ange...</td>\n",
              "      <td>[\\nWho, ARE all these people?\\n\\n, That was ...</td>\n",
              "      <td>[Ric Roman Waughs Angel Has, Fallen sees U.S....</td>\n",
              "      <td>[There is a certain mindless pleasure in the F...</td>\n",
              "      <td>[No, you dont need to have seen Olympus Has ...</td>\n",
              "    </tr>\n",
              "    <tr>\n",
              "      <th>lemmas</th>\n",
              "      <td>[set, long, start, angel, fall, start, journey...</td>\n",
              "      <td>[people, enter, angel, fallen, local, cinema, ...</td>\n",
              "      <td>[ric, roman, angel, fallen, secret, service, a...</td>\n",
              "      <td>[certain, pleasure, fallen, watch, gerard, but...</td>\n",
              "      <td>[dont, need, olympus, fallen, andor, london, f...</td>\n",
              "    </tr>\n",
              "    <tr>\n",
              "      <th>lemmas_joined</th>\n",
              "      <td>set long start angel fall start journey change...</td>\n",
              "      <td>people enter angel fallen local cinema sunny l...</td>\n",
              "      <td>ric roman angel fallen secret service agent mi...</td>\n",
              "      <td>certain pleasure fallen watch gerard butler mu...</td>\n",
              "      <td>dont need olympus fallen andor london fallen u...</td>\n",
              "    </tr>\n",
              "    <tr>\n",
              "      <th>sentences_lemmatized</th>\n",
              "      <td>[set long start angel fall, start journey chan...</td>\n",
              "      <td>[, people, enter angel, fallen local cinema, s...</td>\n",
              "      <td>[ric roman angel, fallen secret service agent ...</td>\n",
              "      <td>[certain pleasure fallen, watch gerard butler ...</td>\n",
              "      <td>[dont need olympus fallen andor london, fallen...</td>\n",
              "    </tr>\n",
              "  </tbody>\n",
              "</table>\n",
              "</div>\n",
              "      <button class=\"colab-df-convert\" onclick=\"convertToInteractive('df-dc8b815c-42ff-4632-a66c-98cf88caacee')\"\n",
              "              title=\"Convert this dataframe to an interactive table.\"\n",
              "              style=\"display:none;\">\n",
              "\n",
              "  <svg xmlns=\"http://www.w3.org/2000/svg\" height=\"24px\"viewBox=\"0 0 24 24\"\n",
              "       width=\"24px\">\n",
              "    <path d=\"M0 0h24v24H0V0z\" fill=\"none\"/>\n",
              "    <path d=\"M18.56 5.44l.94 2.06.94-2.06 2.06-.94-2.06-.94-.94-2.06-.94 2.06-2.06.94zm-11 1L8.5 8.5l.94-2.06 2.06-.94-2.06-.94L8.5 2.5l-.94 2.06-2.06.94zm10 10l.94 2.06.94-2.06 2.06-.94-2.06-.94-.94-2.06-.94 2.06-2.06.94z\"/><path d=\"M17.41 7.96l-1.37-1.37c-.4-.4-.92-.59-1.43-.59-.52 0-1.04.2-1.43.59L10.3 9.45l-7.72 7.72c-.78.78-.78 2.05 0 2.83L4 21.41c.39.39.9.59 1.41.59.51 0 1.02-.2 1.41-.59l7.78-7.78 2.81-2.81c.8-.78.8-2.07 0-2.86zM5.41 20L4 18.59l7.72-7.72 1.47 1.35L5.41 20z\"/>\n",
              "  </svg>\n",
              "      </button>\n",
              "\n",
              "\n",
              "\n",
              "    <div id=\"df-bb1cdde2-e215-4a95-9121-6dfc6f20b257\">\n",
              "      <button class=\"colab-df-quickchart\" onclick=\"quickchart('df-bb1cdde2-e215-4a95-9121-6dfc6f20b257')\"\n",
              "              title=\"Suggest charts.\"\n",
              "              style=\"display:none;\">\n",
              "\n",
              "<svg xmlns=\"http://www.w3.org/2000/svg\" height=\"24px\"viewBox=\"0 0 24 24\"\n",
              "     width=\"24px\">\n",
              "    <g>\n",
              "        <path d=\"M19 3H5c-1.1 0-2 .9-2 2v14c0 1.1.9 2 2 2h14c1.1 0 2-.9 2-2V5c0-1.1-.9-2-2-2zM9 17H7v-7h2v7zm4 0h-2V7h2v10zm4 0h-2v-4h2v4z\"/>\n",
              "    </g>\n",
              "</svg>\n",
              "      </button>\n",
              "    </div>\n",
              "\n",
              "<style>\n",
              "  .colab-df-quickchart {\n",
              "    background-color: #E8F0FE;\n",
              "    border: none;\n",
              "    border-radius: 50%;\n",
              "    cursor: pointer;\n",
              "    display: none;\n",
              "    fill: #1967D2;\n",
              "    height: 32px;\n",
              "    padding: 0 0 0 0;\n",
              "    width: 32px;\n",
              "  }\n",
              "\n",
              "  .colab-df-quickchart:hover {\n",
              "    background-color: #E2EBFA;\n",
              "    box-shadow: 0px 1px 2px rgba(60, 64, 67, 0.3), 0px 1px 3px 1px rgba(60, 64, 67, 0.15);\n",
              "    fill: #174EA6;\n",
              "  }\n",
              "\n",
              "  [theme=dark] .colab-df-quickchart {\n",
              "    background-color: #3B4455;\n",
              "    fill: #D2E3FC;\n",
              "  }\n",
              "\n",
              "  [theme=dark] .colab-df-quickchart:hover {\n",
              "    background-color: #434B5C;\n",
              "    box-shadow: 0px 1px 3px 1px rgba(0, 0, 0, 0.15);\n",
              "    filter: drop-shadow(0px 1px 2px rgba(0, 0, 0, 0.3));\n",
              "    fill: #FFFFFF;\n",
              "  }\n",
              "</style>\n",
              "\n",
              "    <script>\n",
              "      async function quickchart(key) {\n",
              "        const containerElement = document.querySelector('#' + key);\n",
              "        const charts = await google.colab.kernel.invokeFunction(\n",
              "            'suggestCharts', [key], {});\n",
              "      }\n",
              "    </script>\n",
              "\n",
              "      <script>\n",
              "\n",
              "function displayQuickchartButton(domScope) {\n",
              "  let quickchartButtonEl =\n",
              "    domScope.querySelector('#df-bb1cdde2-e215-4a95-9121-6dfc6f20b257 button.colab-df-quickchart');\n",
              "  quickchartButtonEl.style.display =\n",
              "    google.colab.kernel.accessAllowed ? 'block' : 'none';\n",
              "}\n",
              "\n",
              "        displayQuickchartButton(document);\n",
              "      </script>\n",
              "      <style>\n",
              "    .colab-df-container {\n",
              "      display:flex;\n",
              "      flex-wrap:wrap;\n",
              "      gap: 12px;\n",
              "    }\n",
              "\n",
              "    .colab-df-convert {\n",
              "      background-color: #E8F0FE;\n",
              "      border: none;\n",
              "      border-radius: 50%;\n",
              "      cursor: pointer;\n",
              "      display: none;\n",
              "      fill: #1967D2;\n",
              "      height: 32px;\n",
              "      padding: 0 0 0 0;\n",
              "      width: 32px;\n",
              "    }\n",
              "\n",
              "    .colab-df-convert:hover {\n",
              "      background-color: #E2EBFA;\n",
              "      box-shadow: 0px 1px 2px rgba(60, 64, 67, 0.3), 0px 1px 3px 1px rgba(60, 64, 67, 0.15);\n",
              "      fill: #174EA6;\n",
              "    }\n",
              "\n",
              "    [theme=dark] .colab-df-convert {\n",
              "      background-color: #3B4455;\n",
              "      fill: #D2E3FC;\n",
              "    }\n",
              "\n",
              "    [theme=dark] .colab-df-convert:hover {\n",
              "      background-color: #434B5C;\n",
              "      box-shadow: 0px 1px 3px 1px rgba(0, 0, 0, 0.15);\n",
              "      filter: drop-shadow(0px 1px 2px rgba(0, 0, 0, 0.3));\n",
              "      fill: #FFFFFF;\n",
              "    }\n",
              "  </style>\n",
              "\n",
              "      <script>\n",
              "        const buttonEl =\n",
              "          document.querySelector('#df-dc8b815c-42ff-4632-a66c-98cf88caacee button.colab-df-convert');\n",
              "        buttonEl.style.display =\n",
              "          google.colab.kernel.accessAllowed ? 'block' : 'none';\n",
              "\n",
              "        async function convertToInteractive(key) {\n",
              "          const element = document.querySelector('#df-dc8b815c-42ff-4632-a66c-98cf88caacee');\n",
              "          const dataTable =\n",
              "            await google.colab.kernel.invokeFunction('convertToInteractive',\n",
              "                                                     [key], {});\n",
              "          if (!dataTable) return;\n",
              "\n",
              "          const docLinkHtml = 'Like what you see? Visit the ' +\n",
              "            '<a target=\"_blank\" href=https://colab.research.google.com/notebooks/data_table.ipynb>data table notebook</a>'\n",
              "            + ' to learn more about interactive tables.';\n",
              "          element.innerHTML = '';\n",
              "          dataTable['output_type'] = 'display_data';\n",
              "          await google.colab.output.renderOutput(dataTable, element);\n",
              "          const docLink = document.createElement('div');\n",
              "          docLink.innerHTML = docLinkHtml;\n",
              "          element.appendChild(docLink);\n",
              "        }\n",
              "      </script>\n",
              "    </div>\n",
              "  </div>\n"
            ]
          },
          "metadata": {},
          "execution_count": 25
        }
      ],
      "source": [
        "corpus_df.head().T"
      ]
    },
    {
      "cell_type": "markdown",
      "id": "hV1q2O9ea3Aj",
      "metadata": {
        "id": "hV1q2O9ea3Aj"
      },
      "source": [
        "## Review Documents By Movie Title"
      ]
    },
    {
      "cell_type": "code",
      "execution_count": 26,
      "id": "DGP9WB_Oa3Aj",
      "metadata": {
        "colab": {
          "base_uri": "https://localhost:8080/"
        },
        "id": "DGP9WB_Oa3Aj",
        "outputId": "dd249543-e92b-4126-967e-da2b4e5811f1"
      },
      "outputs": [
        {
          "output_type": "stream",
          "name": "stdout",
          "text": [
            "['Angel Has Fallen' 'Inception' 'No Time To Die' 'Taken' 'Taxi'\n",
            " 'Despicable Me 3' 'Dirty Grandpa' 'Holmes and Watson' 'Legally Blonde'\n",
            " 'The Lost City' 'Drag me to hell' 'Fresh' 'It Chapter Two'\n",
            " 'The Toxic Avenger' 'US' 'Batman' 'Equilibrium' 'Minority Report'\n",
            " 'Oblivion' 'Pitch Black']\n"
          ]
        }
      ],
      "source": [
        "print(corpus_df['Movie Title'].unique())"
      ]
    },
    {
      "cell_type": "code",
      "execution_count": 27,
      "id": "hhiDmYQHa3Ak",
      "metadata": {
        "colab": {
          "base_uri": "https://localhost:8080/",
          "height": 588
        },
        "id": "hhiDmYQHa3Ak",
        "outputId": "ff6bb9b5-0b09-4abf-fb1d-bd863074aec6",
        "scrolled": false
      },
      "outputs": [
        {
          "output_type": "execute_result",
          "data": {
            "text/plain": [
              "Doc_ID                                                                   35  \\\n",
              "DSI_Title                                             PYC_Doc6_DirtyGrandpa   \n",
              "Text                      Make no mistake about it, Robert De Niro is a ...   \n",
              "Submission File Name                                  PYC_Doc6_DirtyGrandpa   \n",
              "Student Name                                                            PYC   \n",
              "Genre of Movie                                                       Comedy   \n",
              "Review Type (pos or neg)                                           Negative   \n",
              "Movie Title                                                   Dirty Grandpa   \n",
              "Descriptor                                        Comedy_Dirty Grandpa_N_35   \n",
              "Doc_ID                                                                   35   \n",
              "raw_sentences             [Make no mistake about it, Robert De Niro is a...   \n",
              "lemmas                    [mistake, robert, de, niro, legend, mistake, l...   \n",
              "lemmas_joined             mistake robert de niro legend mistake late dir...   \n",
              "sentences_lemmatized      [mistake robert de niro legend, mistake late d...   \n",
              "\n",
              "Doc_ID                                                                   36  \\\n",
              "DSI_Title                                             PYC_Doc7_DirtyGrandpa   \n",
              "Text                      This is a very disturbing and difficult movie ...   \n",
              "Submission File Name                                  PYC_Doc7_DirtyGrandpa   \n",
              "Student Name                                                            PYC   \n",
              "Genre of Movie                                                       Comedy   \n",
              "Review Type (pos or neg)                                           Negative   \n",
              "Movie Title                                                   Dirty Grandpa   \n",
              "Descriptor                                        Comedy_Dirty Grandpa_N_36   \n",
              "Doc_ID                                                                   36   \n",
              "raw_sentences             [This is a very disturbing and difficult movie...   \n",
              "lemmas                    [disturbing, difficult, watch, teach, class, h...   \n",
              "lemmas_joined             disturbing difficult watch teach class happen ...   \n",
              "sentences_lemmatized      [disturbing difficult watch, teach class happe...   \n",
              "\n",
              "Doc_ID                                                                   37  \n",
              "DSI_Title                                             PYC_Doc8_DirtyGrandpa  \n",
              "Text                      On Jan. 22, “Dirty Grandpa” was unleashed on t...  \n",
              "Submission File Name                                  PYC_Doc8_DirtyGrandpa  \n",
              "Student Name                                                            PYC  \n",
              "Genre of Movie                                                       Comedy  \n",
              "Review Type (pos or neg)                                           Negative  \n",
              "Movie Title                                                   Dirty Grandpa  \n",
              "Descriptor                                        Comedy_Dirty Grandpa_N_37  \n",
              "Doc_ID                                                                   37  \n",
              "raw_sentences             [On Jan. 22, “Dirty Grandpa” was unleashed on ...  \n",
              "lemmas                    [dirty, grandpa, unleash, american, public, pu...  \n",
              "lemmas_joined             dirty grandpa unleash american public purpose ...  \n",
              "sentences_lemmatized      [dirty grandpa unleash american public, purpos...  "
            ],
            "text/html": [
              "\n",
              "\n",
              "  <div id=\"df-a92c421c-e661-44f8-9cf9-508ae7cee389\">\n",
              "    <div class=\"colab-df-container\">\n",
              "      <div>\n",
              "<style scoped>\n",
              "    .dataframe tbody tr th:only-of-type {\n",
              "        vertical-align: middle;\n",
              "    }\n",
              "\n",
              "    .dataframe tbody tr th {\n",
              "        vertical-align: top;\n",
              "    }\n",
              "\n",
              "    .dataframe thead th {\n",
              "        text-align: right;\n",
              "    }\n",
              "</style>\n",
              "<table border=\"1\" class=\"dataframe\">\n",
              "  <thead>\n",
              "    <tr style=\"text-align: right;\">\n",
              "      <th>Doc_ID</th>\n",
              "      <th>35</th>\n",
              "      <th>36</th>\n",
              "      <th>37</th>\n",
              "    </tr>\n",
              "  </thead>\n",
              "  <tbody>\n",
              "    <tr>\n",
              "      <th>DSI_Title</th>\n",
              "      <td>PYC_Doc6_DirtyGrandpa</td>\n",
              "      <td>PYC_Doc7_DirtyGrandpa</td>\n",
              "      <td>PYC_Doc8_DirtyGrandpa</td>\n",
              "    </tr>\n",
              "    <tr>\n",
              "      <th>Text</th>\n",
              "      <td>Make no mistake about it, Robert De Niro is a ...</td>\n",
              "      <td>This is a very disturbing and difficult movie ...</td>\n",
              "      <td>On Jan. 22, “Dirty Grandpa” was unleashed on t...</td>\n",
              "    </tr>\n",
              "    <tr>\n",
              "      <th>Submission File Name</th>\n",
              "      <td>PYC_Doc6_DirtyGrandpa</td>\n",
              "      <td>PYC_Doc7_DirtyGrandpa</td>\n",
              "      <td>PYC_Doc8_DirtyGrandpa</td>\n",
              "    </tr>\n",
              "    <tr>\n",
              "      <th>Student Name</th>\n",
              "      <td>PYC</td>\n",
              "      <td>PYC</td>\n",
              "      <td>PYC</td>\n",
              "    </tr>\n",
              "    <tr>\n",
              "      <th>Genre of Movie</th>\n",
              "      <td>Comedy</td>\n",
              "      <td>Comedy</td>\n",
              "      <td>Comedy</td>\n",
              "    </tr>\n",
              "    <tr>\n",
              "      <th>Review Type (pos or neg)</th>\n",
              "      <td>Negative</td>\n",
              "      <td>Negative</td>\n",
              "      <td>Negative</td>\n",
              "    </tr>\n",
              "    <tr>\n",
              "      <th>Movie Title</th>\n",
              "      <td>Dirty Grandpa</td>\n",
              "      <td>Dirty Grandpa</td>\n",
              "      <td>Dirty Grandpa</td>\n",
              "    </tr>\n",
              "    <tr>\n",
              "      <th>Descriptor</th>\n",
              "      <td>Comedy_Dirty Grandpa_N_35</td>\n",
              "      <td>Comedy_Dirty Grandpa_N_36</td>\n",
              "      <td>Comedy_Dirty Grandpa_N_37</td>\n",
              "    </tr>\n",
              "    <tr>\n",
              "      <th>Doc_ID</th>\n",
              "      <td>35</td>\n",
              "      <td>36</td>\n",
              "      <td>37</td>\n",
              "    </tr>\n",
              "    <tr>\n",
              "      <th>raw_sentences</th>\n",
              "      <td>[Make no mistake about it, Robert De Niro is a...</td>\n",
              "      <td>[This is a very disturbing and difficult movie...</td>\n",
              "      <td>[On Jan. 22, “Dirty Grandpa” was unleashed on ...</td>\n",
              "    </tr>\n",
              "    <tr>\n",
              "      <th>lemmas</th>\n",
              "      <td>[mistake, robert, de, niro, legend, mistake, l...</td>\n",
              "      <td>[disturbing, difficult, watch, teach, class, h...</td>\n",
              "      <td>[dirty, grandpa, unleash, american, public, pu...</td>\n",
              "    </tr>\n",
              "    <tr>\n",
              "      <th>lemmas_joined</th>\n",
              "      <td>mistake robert de niro legend mistake late dir...</td>\n",
              "      <td>disturbing difficult watch teach class happen ...</td>\n",
              "      <td>dirty grandpa unleash american public purpose ...</td>\n",
              "    </tr>\n",
              "    <tr>\n",
              "      <th>sentences_lemmatized</th>\n",
              "      <td>[mistake robert de niro legend, mistake late d...</td>\n",
              "      <td>[disturbing difficult watch, teach class happe...</td>\n",
              "      <td>[dirty grandpa unleash american public, purpos...</td>\n",
              "    </tr>\n",
              "  </tbody>\n",
              "</table>\n",
              "</div>\n",
              "      <button class=\"colab-df-convert\" onclick=\"convertToInteractive('df-a92c421c-e661-44f8-9cf9-508ae7cee389')\"\n",
              "              title=\"Convert this dataframe to an interactive table.\"\n",
              "              style=\"display:none;\">\n",
              "\n",
              "  <svg xmlns=\"http://www.w3.org/2000/svg\" height=\"24px\"viewBox=\"0 0 24 24\"\n",
              "       width=\"24px\">\n",
              "    <path d=\"M0 0h24v24H0V0z\" fill=\"none\"/>\n",
              "    <path d=\"M18.56 5.44l.94 2.06.94-2.06 2.06-.94-2.06-.94-.94-2.06-.94 2.06-2.06.94zm-11 1L8.5 8.5l.94-2.06 2.06-.94-2.06-.94L8.5 2.5l-.94 2.06-2.06.94zm10 10l.94 2.06.94-2.06 2.06-.94-2.06-.94-.94-2.06-.94 2.06-2.06.94z\"/><path d=\"M17.41 7.96l-1.37-1.37c-.4-.4-.92-.59-1.43-.59-.52 0-1.04.2-1.43.59L10.3 9.45l-7.72 7.72c-.78.78-.78 2.05 0 2.83L4 21.41c.39.39.9.59 1.41.59.51 0 1.02-.2 1.41-.59l7.78-7.78 2.81-2.81c.8-.78.8-2.07 0-2.86zM5.41 20L4 18.59l7.72-7.72 1.47 1.35L5.41 20z\"/>\n",
              "  </svg>\n",
              "      </button>\n",
              "\n",
              "\n",
              "\n",
              "    <div id=\"df-d55db5e2-83bc-4a13-9fdd-1f87c5401ef1\">\n",
              "      <button class=\"colab-df-quickchart\" onclick=\"quickchart('df-d55db5e2-83bc-4a13-9fdd-1f87c5401ef1')\"\n",
              "              title=\"Suggest charts.\"\n",
              "              style=\"display:none;\">\n",
              "\n",
              "<svg xmlns=\"http://www.w3.org/2000/svg\" height=\"24px\"viewBox=\"0 0 24 24\"\n",
              "     width=\"24px\">\n",
              "    <g>\n",
              "        <path d=\"M19 3H5c-1.1 0-2 .9-2 2v14c0 1.1.9 2 2 2h14c1.1 0 2-.9 2-2V5c0-1.1-.9-2-2-2zM9 17H7v-7h2v7zm4 0h-2V7h2v10zm4 0h-2v-4h2v4z\"/>\n",
              "    </g>\n",
              "</svg>\n",
              "      </button>\n",
              "    </div>\n",
              "\n",
              "<style>\n",
              "  .colab-df-quickchart {\n",
              "    background-color: #E8F0FE;\n",
              "    border: none;\n",
              "    border-radius: 50%;\n",
              "    cursor: pointer;\n",
              "    display: none;\n",
              "    fill: #1967D2;\n",
              "    height: 32px;\n",
              "    padding: 0 0 0 0;\n",
              "    width: 32px;\n",
              "  }\n",
              "\n",
              "  .colab-df-quickchart:hover {\n",
              "    background-color: #E2EBFA;\n",
              "    box-shadow: 0px 1px 2px rgba(60, 64, 67, 0.3), 0px 1px 3px 1px rgba(60, 64, 67, 0.15);\n",
              "    fill: #174EA6;\n",
              "  }\n",
              "\n",
              "  [theme=dark] .colab-df-quickchart {\n",
              "    background-color: #3B4455;\n",
              "    fill: #D2E3FC;\n",
              "  }\n",
              "\n",
              "  [theme=dark] .colab-df-quickchart:hover {\n",
              "    background-color: #434B5C;\n",
              "    box-shadow: 0px 1px 3px 1px rgba(0, 0, 0, 0.15);\n",
              "    filter: drop-shadow(0px 1px 2px rgba(0, 0, 0, 0.3));\n",
              "    fill: #FFFFFF;\n",
              "  }\n",
              "</style>\n",
              "\n",
              "    <script>\n",
              "      async function quickchart(key) {\n",
              "        const containerElement = document.querySelector('#' + key);\n",
              "        const charts = await google.colab.kernel.invokeFunction(\n",
              "            'suggestCharts', [key], {});\n",
              "      }\n",
              "    </script>\n",
              "\n",
              "      <script>\n",
              "\n",
              "function displayQuickchartButton(domScope) {\n",
              "  let quickchartButtonEl =\n",
              "    domScope.querySelector('#df-d55db5e2-83bc-4a13-9fdd-1f87c5401ef1 button.colab-df-quickchart');\n",
              "  quickchartButtonEl.style.display =\n",
              "    google.colab.kernel.accessAllowed ? 'block' : 'none';\n",
              "}\n",
              "\n",
              "        displayQuickchartButton(document);\n",
              "      </script>\n",
              "      <style>\n",
              "    .colab-df-container {\n",
              "      display:flex;\n",
              "      flex-wrap:wrap;\n",
              "      gap: 12px;\n",
              "    }\n",
              "\n",
              "    .colab-df-convert {\n",
              "      background-color: #E8F0FE;\n",
              "      border: none;\n",
              "      border-radius: 50%;\n",
              "      cursor: pointer;\n",
              "      display: none;\n",
              "      fill: #1967D2;\n",
              "      height: 32px;\n",
              "      padding: 0 0 0 0;\n",
              "      width: 32px;\n",
              "    }\n",
              "\n",
              "    .colab-df-convert:hover {\n",
              "      background-color: #E2EBFA;\n",
              "      box-shadow: 0px 1px 2px rgba(60, 64, 67, 0.3), 0px 1px 3px 1px rgba(60, 64, 67, 0.15);\n",
              "      fill: #174EA6;\n",
              "    }\n",
              "\n",
              "    [theme=dark] .colab-df-convert {\n",
              "      background-color: #3B4455;\n",
              "      fill: #D2E3FC;\n",
              "    }\n",
              "\n",
              "    [theme=dark] .colab-df-convert:hover {\n",
              "      background-color: #434B5C;\n",
              "      box-shadow: 0px 1px 3px 1px rgba(0, 0, 0, 0.15);\n",
              "      filter: drop-shadow(0px 1px 2px rgba(0, 0, 0, 0.3));\n",
              "      fill: #FFFFFF;\n",
              "    }\n",
              "  </style>\n",
              "\n",
              "      <script>\n",
              "        const buttonEl =\n",
              "          document.querySelector('#df-a92c421c-e661-44f8-9cf9-508ae7cee389 button.colab-df-convert');\n",
              "        buttonEl.style.display =\n",
              "          google.colab.kernel.accessAllowed ? 'block' : 'none';\n",
              "\n",
              "        async function convertToInteractive(key) {\n",
              "          const element = document.querySelector('#df-a92c421c-e661-44f8-9cf9-508ae7cee389');\n",
              "          const dataTable =\n",
              "            await google.colab.kernel.invokeFunction('convertToInteractive',\n",
              "                                                     [key], {});\n",
              "          if (!dataTable) return;\n",
              "\n",
              "          const docLinkHtml = 'Like what you see? Visit the ' +\n",
              "            '<a target=\"_blank\" href=https://colab.research.google.com/notebooks/data_table.ipynb>data table notebook</a>'\n",
              "            + ' to learn more about interactive tables.';\n",
              "          element.innerHTML = '';\n",
              "          dataTable['output_type'] = 'display_data';\n",
              "          await google.colab.output.renderOutput(dataTable, element);\n",
              "          const docLink = document.createElement('div');\n",
              "          docLink.innerHTML = docLinkHtml;\n",
              "          element.appendChild(docLink);\n",
              "        }\n",
              "      </script>\n",
              "    </div>\n",
              "  </div>\n"
            ]
          },
          "metadata": {},
          "execution_count": 27
        }
      ],
      "source": [
        "movie_df = corpus_df[corpus_df['Movie Title'] == 'Dirty Grandpa'].copy()\n",
        "movie_df.head(3).T"
      ]
    },
    {
      "cell_type": "markdown",
      "id": "9x4ywjdSa3Ak",
      "metadata": {
        "id": "9x4ywjdSa3Ak"
      },
      "source": [
        "## Knowledge Graph Extraction"
      ]
    },
    {
      "cell_type": "code",
      "execution_count": 28,
      "id": "_pNU-pjOa3Al",
      "metadata": {
        "colab": {
          "base_uri": "https://localhost:8080/",
          "height": 53
        },
        "id": "_pNU-pjOa3Al",
        "outputId": "307c72bb-0183-4472-bcca-a42f1e44b174"
      },
      "outputs": [
        {
          "output_type": "execute_result",
          "data": {
            "text/plain": [
              "'The film’s plot (what there is of it) centers on\\xa0an uptight young lawyer, Jason (Efron), who is about to be married to a wedding-obsessed fiancee (a one-note Julianne Hough).'"
            ],
            "application/vnd.google.colaboratory.intrinsic+json": {
              "type": "string"
            }
          },
          "metadata": {},
          "execution_count": 28
        }
      ],
      "source": [
        "corpus_text_sentences = [y for x in movie_df.raw_sentences for y in x]\n",
        "example_sentence = nlp(corpus_text_sentences[5])\n",
        "corpus_text_sentences[5]"
      ]
    },
    {
      "cell_type": "code",
      "execution_count": null,
      "id": "_g7POXTia3Al",
      "metadata": {
        "id": "_g7POXTia3Al"
      },
      "outputs": [],
      "source": [
        "entity_pairs = [get_entities(x) for x in tqdm(corpus_text_sentences)]"
      ]
    },
    {
      "cell_type": "code",
      "execution_count": null,
      "id": "9VmXPVtra3Al",
      "metadata": {
        "id": "9VmXPVtra3Al",
        "scrolled": true
      },
      "outputs": [],
      "source": [
        "entity_pairs"
      ]
    },
    {
      "cell_type": "markdown",
      "id": "_mJwj_SYa3Am",
      "metadata": {
        "id": "_mJwj_SYa3Am"
      },
      "source": [
        "### Create DataFrame (Source, Target, Edge)"
      ]
    },
    {
      "cell_type": "code",
      "execution_count": null,
      "id": "ANf875ACa3Am",
      "metadata": {
        "id": "ANf875ACa3Am"
      },
      "outputs": [],
      "source": [
        "relations = [get_relation(x) for x in corpus_text_sentences]\n",
        "#extract subject and object\n",
        "source = [i[0] for i in entity_pairs]\n",
        "target = [i[1] for i in entity_pairs]\n",
        "kg_df = pd.DataFrame({'source': source, 'target': target, 'edge': relations})"
      ]
    },
    {
      "cell_type": "markdown",
      "id": "ZjK3WN5ba3Am",
      "metadata": {
        "id": "ZjK3WN5ba3Am"
      },
      "source": [
        "### Knowledge Graph Preprocessing (Lowercase, Remove Empty Spaces)"
      ]
    },
    {
      "cell_type": "code",
      "execution_count": null,
      "id": "mbYiQg9sa3Am",
      "metadata": {
        "id": "mbYiQg9sa3Am"
      },
      "outputs": [],
      "source": [
        "# Move everything to lower case\n",
        "kg_df.source = kg_df.source.str.lower()\n",
        "kg_df.target = kg_df.target.str.lower()\n",
        "kg_df.edge = kg_df.edge.str.lower()\n",
        "\n",
        "# Filter out empties\n",
        "kg_df = kg_df[kg_df.source != '']\n",
        "kg_df = kg_df[kg_df.target != '']\n",
        "kg_df = kg_df[kg_df.edge != ''].copy()"
      ]
    },
    {
      "cell_type": "code",
      "execution_count": null,
      "id": "jI-l8OWAa3Am",
      "metadata": {
        "id": "jI-l8OWAa3Am"
      },
      "outputs": [],
      "source": [
        "kg_df.head(6).T"
      ]
    },
    {
      "cell_type": "code",
      "execution_count": null,
      "id": "WBNRHW3ha3Am",
      "metadata": {
        "id": "WBNRHW3ha3Am"
      },
      "outputs": [],
      "source": [
        "kg_df.shape"
      ]
    },
    {
      "cell_type": "code",
      "execution_count": null,
      "id": "qZAIpqGAa3An",
      "metadata": {
        "id": "qZAIpqGAa3An"
      },
      "outputs": [],
      "source": [
        "len(corpus_text_sentences)"
      ]
    },
    {
      "cell_type": "code",
      "execution_count": null,
      "id": "Oac08UHCa3An",
      "metadata": {
        "id": "Oac08UHCa3An"
      },
      "outputs": [],
      "source": [
        "plot_graph(kg_df, use_circular=True)"
      ]
    },
    {
      "cell_type": "markdown",
      "id": "a89S78L_a3An",
      "metadata": {
        "id": "a89S78L_a3An"
      },
      "source": [
        "## Recurrent Neural Network (RNN) Model Development"
      ]
    },
    {
      "cell_type": "markdown",
      "id": "000k4u2ua3An",
      "metadata": {
        "id": "000k4u2ua3An"
      },
      "source": [
        "<img src=\"https://github.com/djp840/MSDS_453_Public/blob/main/images/BidirectionalRNN.png?raw=true\">"
      ]
    },
    {
      "cell_type": "markdown",
      "id": "woiyYARCa3An",
      "metadata": {
        "id": "woiyYARCa3An"
      },
      "source": [
        "<div class=\"alert alert-block alert-info\">\n",
        "    <b>tf.keras.layers.Bidirectional</b><br>\n",
        "    https://www.tensorflow.org/api_docs/python/tf/keras/layers/Bidirectional\n",
        "    </div>"
      ]
    },
    {
      "cell_type": "code",
      "execution_count": 29,
      "id": "-bxUk9j-a3An",
      "metadata": {
        "colab": {
          "base_uri": "https://localhost:8080/",
          "height": 605
        },
        "id": "-bxUk9j-a3An",
        "outputId": "a34b95df-d5a9-4492-97a6-5012c261705d"
      },
      "outputs": [
        {
          "output_type": "execute_result",
          "data": {
            "text/plain": [
              "                                                                          0  \\\n",
              "DSI_Title                                           KCM_Doc1_AngelHasFallen   \n",
              "Text                      Boredom sets in long before the start of Angel...   \n",
              "Submission File Name                                KCM_Doc1_AngelHasFallen   \n",
              "Student Name                                                            KCM   \n",
              "Genre of Movie                                                       Action   \n",
              "Review Type (pos or neg)                                           Negative   \n",
              "Movie Title                                                Angel Has Fallen   \n",
              "Descriptor                                     Action_Angel Has Fallen_N_40   \n",
              "Doc_ID                                                                   40   \n",
              "raw_sentences             [Boredom sets in long before the start of Ange...   \n",
              "lemmas                    [set, long, start, angel, fall, start, journey...   \n",
              "lemmas_joined             set long start angel fall start journey change...   \n",
              "sentences_lemmatized      [set long start angel fall, start journey chan...   \n",
              "\n",
              "                                                                          1  \\\n",
              "DSI_Title                                           KCM_Doc2_AngelHasFallen   \n",
              "Text                      \\nWho ARE all these people?\\n\\nThat was what...   \n",
              "Submission File Name                                KCM_Doc2_AngelHasFallen   \n",
              "Student Name                                                            KCM   \n",
              "Genre of Movie                                                       Action   \n",
              "Review Type (pos or neg)                                           Negative   \n",
              "Movie Title                                                Angel Has Fallen   \n",
              "Descriptor                                     Action_Angel Has Fallen_N_41   \n",
              "Doc_ID                                                                   41   \n",
              "raw_sentences             [\\nWho, ARE all these people?\\n\\n, That was ...   \n",
              "lemmas                    [people, enter, angel, fallen, local, cinema, ...   \n",
              "lemmas_joined             people enter angel fallen local cinema sunny l...   \n",
              "sentences_lemmatized      [, people, enter angel, fallen local cinema, s...   \n",
              "\n",
              "                                                                          2  \\\n",
              "DSI_Title                                           KCM_Doc3_AngelHasFallen   \n",
              "Text                      Ric Roman Waughs Angel Has Fallen sees U.S. S...   \n",
              "Submission File Name                                KCM_Doc3_AngelHasFallen   \n",
              "Student Name                                                            KCM   \n",
              "Genre of Movie                                                       Action   \n",
              "Review Type (pos or neg)                                           Negative   \n",
              "Movie Title                                                Angel Has Fallen   \n",
              "Descriptor                                     Action_Angel Has Fallen_N_42   \n",
              "Doc_ID                                                                   42   \n",
              "raw_sentences             [Ric Roman Waughs Angel Has, Fallen sees U.S....   \n",
              "lemmas                    [ric, roman, angel, fallen, secret, service, a...   \n",
              "lemmas_joined             ric roman angel fallen secret service agent mi...   \n",
              "sentences_lemmatized      [ric roman angel, fallen secret service agent ...   \n",
              "\n",
              "                                                                          3  \n",
              "DSI_Title                                           KCM_Doc4_AngelHasFallen  \n",
              "Text                      There is a certain mindless pleasure in the Fa...  \n",
              "Submission File Name                                KCM_Doc4_AngelHasFallen  \n",
              "Student Name                                                            KCM  \n",
              "Genre of Movie                                                       Action  \n",
              "Review Type (pos or neg)                                           Negative  \n",
              "Movie Title                                                Angel Has Fallen  \n",
              "Descriptor                                     Action_Angel Has Fallen_N_43  \n",
              "Doc_ID                                                                   43  \n",
              "raw_sentences             [There is a certain mindless pleasure in the F...  \n",
              "lemmas                    [certain, pleasure, fallen, watch, gerard, but...  \n",
              "lemmas_joined             certain pleasure fallen watch gerard butler mu...  \n",
              "sentences_lemmatized      [certain pleasure fallen, watch gerard butler ...  "
            ],
            "text/html": [
              "\n",
              "\n",
              "  <div id=\"df-dde753d5-14c3-4e77-a1c4-1f6335fffaea\">\n",
              "    <div class=\"colab-df-container\">\n",
              "      <div>\n",
              "<style scoped>\n",
              "    .dataframe tbody tr th:only-of-type {\n",
              "        vertical-align: middle;\n",
              "    }\n",
              "\n",
              "    .dataframe tbody tr th {\n",
              "        vertical-align: top;\n",
              "    }\n",
              "\n",
              "    .dataframe thead th {\n",
              "        text-align: right;\n",
              "    }\n",
              "</style>\n",
              "<table border=\"1\" class=\"dataframe\">\n",
              "  <thead>\n",
              "    <tr style=\"text-align: right;\">\n",
              "      <th></th>\n",
              "      <th>0</th>\n",
              "      <th>1</th>\n",
              "      <th>2</th>\n",
              "      <th>3</th>\n",
              "    </tr>\n",
              "  </thead>\n",
              "  <tbody>\n",
              "    <tr>\n",
              "      <th>DSI_Title</th>\n",
              "      <td>KCM_Doc1_AngelHasFallen</td>\n",
              "      <td>KCM_Doc2_AngelHasFallen</td>\n",
              "      <td>KCM_Doc3_AngelHasFallen</td>\n",
              "      <td>KCM_Doc4_AngelHasFallen</td>\n",
              "    </tr>\n",
              "    <tr>\n",
              "      <th>Text</th>\n",
              "      <td>Boredom sets in long before the start of Angel...</td>\n",
              "      <td>\\nWho ARE all these people?\\n\\nThat was what...</td>\n",
              "      <td>Ric Roman Waughs Angel Has Fallen sees U.S. S...</td>\n",
              "      <td>There is a certain mindless pleasure in the Fa...</td>\n",
              "    </tr>\n",
              "    <tr>\n",
              "      <th>Submission File Name</th>\n",
              "      <td>KCM_Doc1_AngelHasFallen</td>\n",
              "      <td>KCM_Doc2_AngelHasFallen</td>\n",
              "      <td>KCM_Doc3_AngelHasFallen</td>\n",
              "      <td>KCM_Doc4_AngelHasFallen</td>\n",
              "    </tr>\n",
              "    <tr>\n",
              "      <th>Student Name</th>\n",
              "      <td>KCM</td>\n",
              "      <td>KCM</td>\n",
              "      <td>KCM</td>\n",
              "      <td>KCM</td>\n",
              "    </tr>\n",
              "    <tr>\n",
              "      <th>Genre of Movie</th>\n",
              "      <td>Action</td>\n",
              "      <td>Action</td>\n",
              "      <td>Action</td>\n",
              "      <td>Action</td>\n",
              "    </tr>\n",
              "    <tr>\n",
              "      <th>Review Type (pos or neg)</th>\n",
              "      <td>Negative</td>\n",
              "      <td>Negative</td>\n",
              "      <td>Negative</td>\n",
              "      <td>Negative</td>\n",
              "    </tr>\n",
              "    <tr>\n",
              "      <th>Movie Title</th>\n",
              "      <td>Angel Has Fallen</td>\n",
              "      <td>Angel Has Fallen</td>\n",
              "      <td>Angel Has Fallen</td>\n",
              "      <td>Angel Has Fallen</td>\n",
              "    </tr>\n",
              "    <tr>\n",
              "      <th>Descriptor</th>\n",
              "      <td>Action_Angel Has Fallen_N_40</td>\n",
              "      <td>Action_Angel Has Fallen_N_41</td>\n",
              "      <td>Action_Angel Has Fallen_N_42</td>\n",
              "      <td>Action_Angel Has Fallen_N_43</td>\n",
              "    </tr>\n",
              "    <tr>\n",
              "      <th>Doc_ID</th>\n",
              "      <td>40</td>\n",
              "      <td>41</td>\n",
              "      <td>42</td>\n",
              "      <td>43</td>\n",
              "    </tr>\n",
              "    <tr>\n",
              "      <th>raw_sentences</th>\n",
              "      <td>[Boredom sets in long before the start of Ange...</td>\n",
              "      <td>[\\nWho, ARE all these people?\\n\\n, That was ...</td>\n",
              "      <td>[Ric Roman Waughs Angel Has, Fallen sees U.S....</td>\n",
              "      <td>[There is a certain mindless pleasure in the F...</td>\n",
              "    </tr>\n",
              "    <tr>\n",
              "      <th>lemmas</th>\n",
              "      <td>[set, long, start, angel, fall, start, journey...</td>\n",
              "      <td>[people, enter, angel, fallen, local, cinema, ...</td>\n",
              "      <td>[ric, roman, angel, fallen, secret, service, a...</td>\n",
              "      <td>[certain, pleasure, fallen, watch, gerard, but...</td>\n",
              "    </tr>\n",
              "    <tr>\n",
              "      <th>lemmas_joined</th>\n",
              "      <td>set long start angel fall start journey change...</td>\n",
              "      <td>people enter angel fallen local cinema sunny l...</td>\n",
              "      <td>ric roman angel fallen secret service agent mi...</td>\n",
              "      <td>certain pleasure fallen watch gerard butler mu...</td>\n",
              "    </tr>\n",
              "    <tr>\n",
              "      <th>sentences_lemmatized</th>\n",
              "      <td>[set long start angel fall, start journey chan...</td>\n",
              "      <td>[, people, enter angel, fallen local cinema, s...</td>\n",
              "      <td>[ric roman angel, fallen secret service agent ...</td>\n",
              "      <td>[certain pleasure fallen, watch gerard butler ...</td>\n",
              "    </tr>\n",
              "  </tbody>\n",
              "</table>\n",
              "</div>\n",
              "      <button class=\"colab-df-convert\" onclick=\"convertToInteractive('df-dde753d5-14c3-4e77-a1c4-1f6335fffaea')\"\n",
              "              title=\"Convert this dataframe to an interactive table.\"\n",
              "              style=\"display:none;\">\n",
              "\n",
              "  <svg xmlns=\"http://www.w3.org/2000/svg\" height=\"24px\"viewBox=\"0 0 24 24\"\n",
              "       width=\"24px\">\n",
              "    <path d=\"M0 0h24v24H0V0z\" fill=\"none\"/>\n",
              "    <path d=\"M18.56 5.44l.94 2.06.94-2.06 2.06-.94-2.06-.94-.94-2.06-.94 2.06-2.06.94zm-11 1L8.5 8.5l.94-2.06 2.06-.94-2.06-.94L8.5 2.5l-.94 2.06-2.06.94zm10 10l.94 2.06.94-2.06 2.06-.94-2.06-.94-.94-2.06-.94 2.06-2.06.94z\"/><path d=\"M17.41 7.96l-1.37-1.37c-.4-.4-.92-.59-1.43-.59-.52 0-1.04.2-1.43.59L10.3 9.45l-7.72 7.72c-.78.78-.78 2.05 0 2.83L4 21.41c.39.39.9.59 1.41.59.51 0 1.02-.2 1.41-.59l7.78-7.78 2.81-2.81c.8-.78.8-2.07 0-2.86zM5.41 20L4 18.59l7.72-7.72 1.47 1.35L5.41 20z\"/>\n",
              "  </svg>\n",
              "      </button>\n",
              "\n",
              "\n",
              "\n",
              "    <div id=\"df-1e3cf419-5095-43ec-a9bb-535a6db61b4f\">\n",
              "      <button class=\"colab-df-quickchart\" onclick=\"quickchart('df-1e3cf419-5095-43ec-a9bb-535a6db61b4f')\"\n",
              "              title=\"Suggest charts.\"\n",
              "              style=\"display:none;\">\n",
              "\n",
              "<svg xmlns=\"http://www.w3.org/2000/svg\" height=\"24px\"viewBox=\"0 0 24 24\"\n",
              "     width=\"24px\">\n",
              "    <g>\n",
              "        <path d=\"M19 3H5c-1.1 0-2 .9-2 2v14c0 1.1.9 2 2 2h14c1.1 0 2-.9 2-2V5c0-1.1-.9-2-2-2zM9 17H7v-7h2v7zm4 0h-2V7h2v10zm4 0h-2v-4h2v4z\"/>\n",
              "    </g>\n",
              "</svg>\n",
              "      </button>\n",
              "    </div>\n",
              "\n",
              "<style>\n",
              "  .colab-df-quickchart {\n",
              "    background-color: #E8F0FE;\n",
              "    border: none;\n",
              "    border-radius: 50%;\n",
              "    cursor: pointer;\n",
              "    display: none;\n",
              "    fill: #1967D2;\n",
              "    height: 32px;\n",
              "    padding: 0 0 0 0;\n",
              "    width: 32px;\n",
              "  }\n",
              "\n",
              "  .colab-df-quickchart:hover {\n",
              "    background-color: #E2EBFA;\n",
              "    box-shadow: 0px 1px 2px rgba(60, 64, 67, 0.3), 0px 1px 3px 1px rgba(60, 64, 67, 0.15);\n",
              "    fill: #174EA6;\n",
              "  }\n",
              "\n",
              "  [theme=dark] .colab-df-quickchart {\n",
              "    background-color: #3B4455;\n",
              "    fill: #D2E3FC;\n",
              "  }\n",
              "\n",
              "  [theme=dark] .colab-df-quickchart:hover {\n",
              "    background-color: #434B5C;\n",
              "    box-shadow: 0px 1px 3px 1px rgba(0, 0, 0, 0.15);\n",
              "    filter: drop-shadow(0px 1px 2px rgba(0, 0, 0, 0.3));\n",
              "    fill: #FFFFFF;\n",
              "  }\n",
              "</style>\n",
              "\n",
              "    <script>\n",
              "      async function quickchart(key) {\n",
              "        const containerElement = document.querySelector('#' + key);\n",
              "        const charts = await google.colab.kernel.invokeFunction(\n",
              "            'suggestCharts', [key], {});\n",
              "      }\n",
              "    </script>\n",
              "\n",
              "      <script>\n",
              "\n",
              "function displayQuickchartButton(domScope) {\n",
              "  let quickchartButtonEl =\n",
              "    domScope.querySelector('#df-1e3cf419-5095-43ec-a9bb-535a6db61b4f button.colab-df-quickchart');\n",
              "  quickchartButtonEl.style.display =\n",
              "    google.colab.kernel.accessAllowed ? 'block' : 'none';\n",
              "}\n",
              "\n",
              "        displayQuickchartButton(document);\n",
              "      </script>\n",
              "      <style>\n",
              "    .colab-df-container {\n",
              "      display:flex;\n",
              "      flex-wrap:wrap;\n",
              "      gap: 12px;\n",
              "    }\n",
              "\n",
              "    .colab-df-convert {\n",
              "      background-color: #E8F0FE;\n",
              "      border: none;\n",
              "      border-radius: 50%;\n",
              "      cursor: pointer;\n",
              "      display: none;\n",
              "      fill: #1967D2;\n",
              "      height: 32px;\n",
              "      padding: 0 0 0 0;\n",
              "      width: 32px;\n",
              "    }\n",
              "\n",
              "    .colab-df-convert:hover {\n",
              "      background-color: #E2EBFA;\n",
              "      box-shadow: 0px 1px 2px rgba(60, 64, 67, 0.3), 0px 1px 3px 1px rgba(60, 64, 67, 0.15);\n",
              "      fill: #174EA6;\n",
              "    }\n",
              "\n",
              "    [theme=dark] .colab-df-convert {\n",
              "      background-color: #3B4455;\n",
              "      fill: #D2E3FC;\n",
              "    }\n",
              "\n",
              "    [theme=dark] .colab-df-convert:hover {\n",
              "      background-color: #434B5C;\n",
              "      box-shadow: 0px 1px 3px 1px rgba(0, 0, 0, 0.15);\n",
              "      filter: drop-shadow(0px 1px 2px rgba(0, 0, 0, 0.3));\n",
              "      fill: #FFFFFF;\n",
              "    }\n",
              "  </style>\n",
              "\n",
              "      <script>\n",
              "        const buttonEl =\n",
              "          document.querySelector('#df-dde753d5-14c3-4e77-a1c4-1f6335fffaea button.colab-df-convert');\n",
              "        buttonEl.style.display =\n",
              "          google.colab.kernel.accessAllowed ? 'block' : 'none';\n",
              "\n",
              "        async function convertToInteractive(key) {\n",
              "          const element = document.querySelector('#df-dde753d5-14c3-4e77-a1c4-1f6335fffaea');\n",
              "          const dataTable =\n",
              "            await google.colab.kernel.invokeFunction('convertToInteractive',\n",
              "                                                     [key], {});\n",
              "          if (!dataTable) return;\n",
              "\n",
              "          const docLinkHtml = 'Like what you see? Visit the ' +\n",
              "            '<a target=\"_blank\" href=https://colab.research.google.com/notebooks/data_table.ipynb>data table notebook</a>'\n",
              "            + ' to learn more about interactive tables.';\n",
              "          element.innerHTML = '';\n",
              "          dataTable['output_type'] = 'display_data';\n",
              "          await google.colab.output.renderOutput(dataTable, element);\n",
              "          const docLink = document.createElement('div');\n",
              "          docLink.innerHTML = docLinkHtml;\n",
              "          element.appendChild(docLink);\n",
              "        }\n",
              "      </script>\n",
              "    </div>\n",
              "  </div>\n"
            ]
          },
          "metadata": {},
          "execution_count": 29
        }
      ],
      "source": [
        "datafull=corpus_df.copy()\n",
        "datafull.reset_index(drop=True, inplace=True)\n",
        "datafull.head(4).T"
      ]
    },
    {
      "cell_type": "code",
      "execution_count": 30,
      "id": "LQT4ammqa3Ao",
      "metadata": {
        "id": "LQT4ammqa3Ao"
      },
      "outputs": [],
      "source": [
        "datafull['Text'] = datafull['Text'].apply(lambda x :clean_doc(x))"
      ]
    },
    {
      "cell_type": "markdown",
      "id": "-zmYIKlwa3Ao",
      "metadata": {
        "id": "-zmYIKlwa3Ao"
      },
      "source": [
        "## Preprocess DataSet"
      ]
    },
    {
      "cell_type": "code",
      "execution_count": 31,
      "id": "bxxvu9hda3Ao",
      "metadata": {
        "id": "bxxvu9hda3Ao"
      },
      "outputs": [],
      "source": [
        "#data = datafull[['Text','Genre of Movie']].copy()\n",
        "\n",
        "data = datafull[['Movie Title', 'Text','Genre of Movie']].copy() # CHANGED"
      ]
    },
    {
      "cell_type": "code",
      "execution_count": 32,
      "id": "-u7wjI_ha3Ao",
      "metadata": {
        "colab": {
          "base_uri": "https://localhost:8080/"
        },
        "id": "-u7wjI_ha3Ao",
        "outputId": "fa94d1f3-dc37-4fbe-9ccc-2073d40b04c4"
      },
      "outputs": [
        {
          "output_type": "execute_result",
          "data": {
            "text/plain": [
              "195    3\n",
              "196    3\n",
              "197    3\n",
              "198    3\n",
              "199    3\n",
              "Name: Genre of Movie code, dtype: int8"
            ]
          },
          "metadata": {},
          "execution_count": 32
        }
      ],
      "source": [
        "data['Genre of Movie'] = data['Genre of Movie'].astype(\"category\")\n",
        "data['Genre of Movie code'] = data['Genre of Movie'].cat.codes\n",
        "data['Genre of Movie code'].tail().T"
      ]
    },
    {
      "cell_type": "markdown",
      "id": "SSMUzGs3a3Ap",
      "metadata": {
        "id": "SSMUzGs3a3Ap"
      },
      "source": [
        "## Review Examples by Genre"
      ]
    },
    {
      "cell_type": "code",
      "execution_count": 33,
      "id": "dFkTjTiRa3Ap",
      "metadata": {
        "colab": {
          "base_uri": "https://localhost:8080/"
        },
        "id": "dFkTjTiRa3Ap",
        "outputId": "3f8fd055-7bcb-4e94-b794-4f8114702891"
      },
      "outputs": [
        {
          "output_type": "execute_result",
          "data": {
            "text/plain": [
              "Genre of Movie  Genre of Movie code\n",
              "Action          0                      50\n",
              "Comedy          1                      50\n",
              "Horror          2                      50\n",
              "Sci-Fi          3                      50\n",
              "dtype: int64"
            ]
          },
          "metadata": {},
          "execution_count": 33
        }
      ],
      "source": [
        "features, targets = data['Text'], data['Genre of Movie code']\n",
        "data[[\"Genre of Movie\",\"Genre of Movie code\"]].value_counts()"
      ]
    },
    {
      "cell_type": "markdown",
      "id": "NY7k4lDua3Ap",
      "metadata": {
        "id": "NY7k4lDua3Ap"
      },
      "source": [
        "## Create Datasets for Model Development"
      ]
    },
    {
      "cell_type": "markdown",
      "id": "mDweoux3a3Ap",
      "metadata": {
        "id": "mDweoux3a3Ap"
      },
      "source": [
        "### Cell 10 - def get_dataset_partitions_pd"
      ]
    },
    {
      "cell_type": "code",
      "execution_count": 34,
      "id": "URwJacXqa3Ap",
      "metadata": {
        "colab": {
          "base_uri": "https://localhost:8080/"
        },
        "id": "URwJacXqa3Ap",
        "outputId": "9d658fa8-b03f-46c0-a2d6-adc7de5b3002"
      },
      "outputs": [
        {
          "output_type": "execute_result",
          "data": {
            "text/plain": [
              "((160, 2), (20, 3), (20, 2))"
            ]
          },
          "metadata": {},
          "execution_count": 34
        }
      ],
      "source": [
        "#trainds, valds, testds = get_dataset_partitions_pd(data[['Text','Genre of Movie code']])\n",
        "\n",
        "#CHANGED\n",
        "trainds, valds, testds = get_dataset_partitions_pd(data[['Movie Title', 'Text', 'Genre of Movie code']])\n",
        "\n",
        "trainds.shape, valds.shape, testds.shape"
      ]
    },
    {
      "cell_type": "markdown",
      "id": "hzPDnrNaa3Aq",
      "metadata": {
        "id": "hzPDnrNaa3Aq"
      },
      "source": [
        "## Convert DataFrame to TensorFlow DataSet"
      ]
    },
    {
      "cell_type": "code",
      "execution_count": 35,
      "id": "YPouUedHa3Aq",
      "metadata": {
        "id": "YPouUedHa3Aq"
      },
      "outputs": [],
      "source": [
        "# train X & y\n",
        "#train_text_ds_raw = tf.data.Dataset.from_tensor_slices(\n",
        "#            tf.cast(trainds['Text'].values, tf.string)\n",
        "#)\n",
        "train_text_ds_raw = tf.data.Dataset.from_tensor_slices(trainds['Text'].values) # CHANGED\n",
        "\n",
        "#train_cat_ds_raw = tf.data.Dataset.from_tensor_slices(\n",
        "#            tf.cast(trainds['Genre of Movie code'].values, tf.int64),\n",
        "#  )\n",
        "# test X & y\n",
        "train_cat_ds_raw = tf.data.Dataset.from_tensor_slices(trainds['Genre of Movie code'].values) # CHANGED\n",
        "\n",
        "test_text_ds_raw = tf.data.Dataset.from_tensor_slices(\n",
        "            tf.cast(testds['Text'].values, tf.string)\n",
        ")\n",
        "test_cat_ds_raw = tf.data.Dataset.from_tensor_slices(\n",
        "            tf.cast(testds['Genre of Movie code'].values, tf.int64),\n",
        ")\n",
        "#val X & Y\n",
        "\n",
        "val_ds_raw = tf.data.Dataset.from_tensor_slices((valds['Movie Title'].values, valds['Text'].values, valds['Genre of Movie code'].values)) # CHANGE\n",
        "val_movie_titles_ds = val_ds_raw.map(lambda title, text, label: title) # CHANGED\n",
        "\n",
        "#val_text_ds_raw = tf.data.Dataset.from_tensor_slices(\n",
        "#            tf.cast(valds['Text'].values, tf.string)\n",
        "#)\n",
        "val_text_ds_raw = val_ds_raw.map(lambda title, text, label: text) # CHANGED\n",
        "\n",
        "#val_cat_ds_raw = tf.data.Dataset.from_tensor_slices(\n",
        "#            tf.cast(valds['Genre of Movie code'].values, tf.int64),\n",
        "#)\n",
        "val_cat_ds_raw = val_ds_raw.map(lambda title, text, label: label) # CHANGED\n"
      ]
    },
    {
      "cell_type": "markdown",
      "id": "X9_xVgpTa3Aq",
      "metadata": {
        "id": "X9_xVgpTa3Aq"
      },
      "source": [
        "## Create DataSets (X=Preprocessed Text, Y=Encoded Categories)"
      ]
    },
    {
      "cell_type": "code",
      "execution_count": 36,
      "id": "0-jMMV07a3Aq",
      "metadata": {
        "id": "0-jMMV07a3Aq"
      },
      "outputs": [],
      "source": [
        "train_ds = tf.data.Dataset.zip(\n",
        "    (\n",
        "            train_text_ds_raw,\n",
        "            train_cat_ds_raw\n",
        "     )\n",
        ")\n",
        "test_ds = tf.data.Dataset.zip(\n",
        "    (\n",
        "            test_text_ds_raw,\n",
        "            test_cat_ds_raw\n",
        "     )\n",
        ")\n",
        "val_ds = tf.data.Dataset.zip(\n",
        "    (\n",
        "            val_text_ds_raw,\n",
        "            val_cat_ds_raw\n",
        "     )\n",
        ")"
      ]
    },
    {
      "cell_type": "markdown",
      "id": "3e0rdBjya3Aq",
      "metadata": {
        "id": "3e0rdBjya3Aq"
      },
      "source": [
        "## Create Data Pipelines (Batching, Shuffling, and Optimizing)"
      ]
    },
    {
      "cell_type": "code",
      "execution_count": 37,
      "id": "iJuYZeC-a3Aq",
      "metadata": {
        "id": "iJuYZeC-a3Aq"
      },
      "outputs": [],
      "source": [
        "batch_size = 3\n",
        "AUTOTUNE = tf.data.experimental.AUTOTUNE\n",
        "buffer_size=train_ds.cardinality().numpy()\n",
        "\n",
        "train_ds = train_ds.shuffle(buffer_size=buffer_size)\\\n",
        "                   .batch(batch_size=batch_size,drop_remainder=True)\\\n",
        "                   .cache()\\\n",
        "                   .prefetch(AUTOTUNE)\n",
        "\n",
        "test_ds = test_ds.shuffle(buffer_size=buffer_size)\\\n",
        "                   .batch(batch_size=batch_size,drop_remainder=True)\\\n",
        "                   .cache()\\\n",
        "                   .prefetch(AUTOTUNE)\n",
        "\n",
        "\n",
        "val_ds = val_ds.shuffle(buffer_size=buffer_size)\\\n",
        "                   .batch(batch_size=batch_size,drop_remainder=True)\\\n",
        "                   .cache()\\\n",
        "                   .prefetch(AUTOTUNE)"
      ]
    },
    {
      "cell_type": "code",
      "execution_count": 38,
      "id": "hd3vvOA5a3Aq",
      "metadata": {
        "colab": {
          "base_uri": "https://localhost:8080/"
        },
        "id": "hd3vvOA5a3Aq",
        "outputId": "d4576437-df6a-4d6f-c1e5-c3081e3c6236"
      },
      "outputs": [
        {
          "output_type": "stream",
          "name": "stdout",
          "text": [
            "<class 'pandas.core.frame.DataFrame'>\n",
            "RangeIndex: 200 entries, 0 to 199\n",
            "Data columns (total 4 columns):\n",
            " #   Column               Non-Null Count  Dtype   \n",
            "---  ------               --------------  -----   \n",
            " 0   Movie Title          200 non-null    object  \n",
            " 1   Text                 200 non-null    object  \n",
            " 2   Genre of Movie       200 non-null    category\n",
            " 3   Genre of Movie code  200 non-null    int8    \n",
            "dtypes: category(1), int8(1), object(2)\n",
            "memory usage: 3.8+ KB\n"
          ]
        }
      ],
      "source": [
        "data.info()"
      ]
    },
    {
      "cell_type": "markdown",
      "id": "KJpyv_O8a3Ar",
      "metadata": {
        "id": "KJpyv_O8a3Ar"
      },
      "source": [
        "## Create the Text Encoder"
      ]
    },
    {
      "cell_type": "markdown",
      "id": "OwdQLOVma3Ar",
      "metadata": {
        "id": "OwdQLOVma3Ar"
      },
      "source": [
        "The raw text loaded by `tfds` needs to be processed before it can be used in a model. The simplest way to process text for training is using the `experimental.preprocessing.TextVectorization` layer. This layer has many capabilities, but this tutorial sticks to the default behavior."
      ]
    },
    {
      "cell_type": "markdown",
      "id": "cxvx2hUOa3Ar",
      "metadata": {
        "id": "cxvx2hUOa3Ar"
      },
      "source": [
        "Create the layer, and pass the dataset's text to the layer's `.adapt` method:\n",
        "The processing of each sample contains the following steps:\n",
        "\n",
        "    standardize each sample (usually lowercasing + punctuation stripping)\n",
        "    split each sample into substrings (usually words)\n",
        "    recombine substrings into tokens (usually ngrams)\n",
        "    index tokens (associate a unique int value with each token)\n",
        "    transform each sample using this index, either into a vector of ints or a dense float vector."
      ]
    },
    {
      "cell_type": "markdown",
      "id": "XTJmKS4Ca3Ar",
      "metadata": {
        "id": "XTJmKS4Ca3Ar"
      },
      "source": [
        "<div class=\"alert alert-block alert-info\">\n",
        "    <b>tf.keras.layers.TextVectorization</b><br>\n",
        "   https://www.tensorflow.org/api_docs/python/tf/keras/layers/TextVectorization\n",
        "    </div>"
      ]
    },
    {
      "cell_type": "code",
      "execution_count": 39,
      "id": "fRuTUz_sa3Ar",
      "metadata": {
        "id": "fRuTUz_sa3Ar"
      },
      "outputs": [],
      "source": [
        "VOCAB_SIZE=5000\n",
        "encoder = tf.keras.layers.TextVectorization(\n",
        "    max_tokens=VOCAB_SIZE, standardize=\"lower_and_strip_punctuation\", pad_to_max_tokens= True)\n",
        "encoder.adapt(train_ds.map(lambda text, label: text), batch_size= None)"
      ]
    },
    {
      "cell_type": "code",
      "execution_count": 40,
      "id": "QadfX_5Xa3Ar",
      "metadata": {
        "colab": {
          "base_uri": "https://localhost:8080/"
        },
        "id": "QadfX_5Xa3Ar",
        "outputId": "44bcb510-6390-46e5-df71-5e506dee6d94"
      },
      "outputs": [
        {
          "output_type": "execute_result",
          "data": {
            "text/plain": [
              "5000"
            ]
          },
          "metadata": {},
          "execution_count": 40
        }
      ],
      "source": [
        "vocab = np.array(encoder.get_vocabulary())\n",
        "len(vocab)"
      ]
    },
    {
      "cell_type": "code",
      "execution_count": 41,
      "id": "p8MvQujla3As",
      "metadata": {
        "colab": {
          "base_uri": "https://localhost:8080/"
        },
        "id": "p8MvQujla3As",
        "outputId": "76001cbf-6bdb-4b61-d67d-65da5a77922b"
      },
      "outputs": [
        {
          "output_type": "execute_result",
          "data": {
            "text/plain": [
              "array(['', '[UNK]', 's', 'the', 'film', '’', 'i', 'movie', 'one', 'like',\n",
              "       'time', 'it', 'make', 'nt', 'get', 'character', 'even', 'but', '”',\n",
              "       '“'], dtype='<U19')"
            ]
          },
          "metadata": {},
          "execution_count": 41
        }
      ],
      "source": [
        "vocab = np.array(encoder.get_vocabulary())\n",
        "vocab[:20]"
      ]
    },
    {
      "cell_type": "code",
      "execution_count": 42,
      "id": "IlpDqtF_a3As",
      "metadata": {
        "colab": {
          "base_uri": "https://localhost:8080/"
        },
        "id": "IlpDqtF_a3As",
        "outputId": "ae75b0bc-62af-4e24-aa86-c39df2cc1bb6"
      },
      "outputs": [
        {
          "output_type": "execute_result",
          "data": {
            "text/plain": [
              "array(['underplays', 'underlined', 'underdeveloped', 'undercurrent',\n",
              "       'undeniable', 'uncover', 'unconventional', 'unconscious',\n",
              "       'uncomfortably', 'uncle', 'unbeknownst', 'unashamedly',\n",
              "       'unapologetic', 'unanswered', 'unabomber', 'unabashedly',\n",
              "       'twilight', 'twang', 'tutu', 'turf'], dtype='<U19')"
            ]
          },
          "metadata": {},
          "execution_count": 42
        }
      ],
      "source": [
        "vocab[-20:]"
      ]
    },
    {
      "cell_type": "code",
      "source": [
        "# CHANGED\n",
        "\n",
        "from tensorflow.keras.layers.experimental.preprocessing import TextVectorization\n",
        "import tensorflow as tf\n",
        "\n",
        "max_features = 10000  # Maximum vocab size.\n",
        "sequence_length = 500  # Sequence length to pad the outputs to.\n",
        "\n",
        "def custom_standardization(input_string):\n",
        "    lowercase = tf.strings.lower(input_string)\n",
        "    stripped_html = tf.strings.regex_replace(lowercase, \"<br />\", \" \")\n",
        "    return stripped_html\n",
        "\n",
        "# New TextVectorization layer\n",
        "text_vectorizer_with_titles = TextVectorization(\n",
        "    standardize=custom_standardization,\n",
        "    max_tokens=max_features,\n",
        "    output_mode='int',\n",
        "    output_sequence_length=sequence_length)\n"
      ],
      "metadata": {
        "id": "R4bDK-tsED7V"
      },
      "id": "R4bDK-tsED7V",
      "execution_count": 43,
      "outputs": []
    },
    {
      "cell_type": "code",
      "source": [
        "# CHANGED\n",
        "\n",
        "# Adapt the text vectorization layer to the training text data\n",
        "text_vectorizer_with_titles.adapt(train_text_ds_raw)\n"
      ],
      "metadata": {
        "id": "ehaPaW2SEI8d"
      },
      "id": "ehaPaW2SEI8d",
      "execution_count": 44,
      "outputs": []
    },
    {
      "cell_type": "markdown",
      "id": "w3HbReZea3As",
      "metadata": {
        "id": "w3HbReZea3As"
      },
      "source": [
        "## Example of Encoded Words"
      ]
    },
    {
      "cell_type": "code",
      "execution_count": 45,
      "id": "72xCLWaha3As",
      "metadata": {
        "colab": {
          "base_uri": "https://localhost:8080/"
        },
        "id": "72xCLWaha3As",
        "outputId": "8c960f03-a347-473f-93b6-16d16589c07e"
      },
      "outputs": [
        {
          "output_type": "execute_result",
          "data": {
            "text/plain": [
              "array([   1,  174,    1,  830, 2998,    1,  128,  128])"
            ]
          },
          "metadata": {},
          "execution_count": 45
        }
      ],
      "source": [
        "encoded_example = encoder('encanto we dont talk about bruno no no').numpy()\n",
        "encoded_example[:]"
      ]
    },
    {
      "cell_type": "code",
      "execution_count": 46,
      "id": "Oq7IIlXza3As",
      "metadata": {
        "colab": {
          "base_uri": "https://localhost:8080/"
        },
        "id": "Oq7IIlXza3As",
        "outputId": "a3888a6c-042c-45ca-a93f-6980bca4a3ca"
      },
      "outputs": [
        {
          "output_type": "execute_result",
          "data": {
            "text/plain": [
              "5000"
            ]
          },
          "metadata": {},
          "execution_count": 46
        }
      ],
      "source": [
        "len(encoder.get_vocabulary())"
      ]
    },
    {
      "cell_type": "code",
      "execution_count": 47,
      "id": "llMJM3c5a3As",
      "metadata": {
        "colab": {
          "base_uri": "https://localhost:8080/"
        },
        "id": "llMJM3c5a3As",
        "outputId": "82249fba-468b-42b0-ee58-52db9c9e7b3f"
      },
      "outputs": [
        {
          "output_type": "execute_result",
          "data": {
            "text/plain": [
              "<tf.Tensor: shape=(507,), dtype=int64, numpy=\n",
              "array([   1,   54,   81,  112,  434,  225,  323,    6,  112, 2052,    7,\n",
              "       2937,   43, 2493,   60, 2134,  215,   60,  656,    9, 2103, 2630,\n",
              "       4683,    1,  218,    1,    1, 3201,    1,    6,  665,    1, 3069,\n",
              "        376, 1594,    1,  634,    6,   71,   60,  835, 3789,    9,   66,\n",
              "         24,    7,    1,    1, 4408,  119,   71, 1325,  119,  213,  119,\n",
              "          1,   11,  597,    8,  456, 1037, 3281,  104,    1,   93, 4021,\n",
              "       1667,   91,   41, 1188,  237,  434,  225,  323,  625,  532,   35,\n",
              "         41, 1188,   29,  339,    7,   82, 1193,  615,   41, 1339,  262,\n",
              "         84, 2470,   29, 1253,  464,  403,    1,  281,  363,   35,  283,\n",
              "       1667, 1537,  160,  597,  581, 2493, 2523,  104,   56,  191,  581,\n",
              "        810,  725,   88, 3001, 3251,  370,  969,   64,  466,  886, 1352,\n",
              "       3329,    1,  273,  491,  283,  213,    6,    1, 1352,    1, 4622,\n",
              "         34,   40, 2406,    1, 1118, 3948,  327, 1161, 2129, 1892,    6,\n",
              "       2107,    6, 3573,   34, 1958, 1990,  339, 1602,    6,   65,   26,\n",
              "         36,  740,  643,  531,  540,  434,  225,  323,  794,  340,  291,\n",
              "       2206, 2237,    1, 1990, 2390, 4178,    1,    1,    1,    1, 1605,\n",
              "       1482,  144,  728,  531,    1,    1,    7,    6,  120,  617, 2245,\n",
              "          1,  708, 1196, 1593, 4545,  161,  752,    4,    1,  381,   21,\n",
              "          1,  354,  300,  332, 1963, 2928,    1, 1535,  846,  816, 3266,\n",
              "       1919,    6, 2715, 1186, 1499,  207, 2834,   84,    1,    1,    7,\n",
              "       2588, 3573,    6, 3884,  171,    1,    9,  643,  531,    6, 1422,\n",
              "       3329,  796,  183, 2308, 1208, 1417, 1760,  232,  911,  140, 1663,\n",
              "          1,  746,    1,  420,    1,   16, 2527,  348,  690,  750, 3329,\n",
              "        249, 1880,   67, 2462,    1, 2161,   56, 1151,   65,  118, 1676,\n",
              "         67,  411, 3488,  407,   74,  470,  811, 2648, 2272, 1704,    1,\n",
              "       1254,  106,    1,  356,  232,  874,    1,    1,    1,  354,   41,\n",
              "          6, 1775, 3329, 4893,  757,   83,  890,    1, 1518, 2470, 3307,\n",
              "        425,  890, 2505,  434,  225,  323,   26,  170, 2261,  537,    1,\n",
              "        584,   15,  488,  146,  302, 2260,    9,  135,  617,  119, 2201,\n",
              "        307,  972, 1880,  557, 1011,  219, 2161, 4807, 3251,    6,  617,\n",
              "          9, 2437, 1644, 1352, 1449, 3989,  560, 1699,  776,    1,    6,\n",
              "          9,    1, 2063,    1,   37, 1822, 1081, 1833, 1900,    1, 1524,\n",
              "       2239,  104,  170,    1,    1,   56,  641,    1,  254, 1659, 1755,\n",
              "       1304,  114, 1132,    9, 2096, 1663,    1, 3567,  869, 3871, 2406,\n",
              "          1, 1127,  640, 2611, 1752,    1,    1, 3867,    7, 1540, 1398,\n",
              "       2249, 2943,   15,  424,   36, 3585,    1,  403,    1,    1,  188,\n",
              "       3412,  464,  449,  147,   56,  140,   34,  640,    1, 1155,    1,\n",
              "          1,    1,   73,  188, 3268, 1067, 1119,  798, 2462,    1, 1191,\n",
              "        155,    3,    1,  364, 1809, 4654, 4694, 2257, 1255,  485,   38,\n",
              "       4805,  599,  189, 1127,  640,   17,    6,  858,  273, 4806, 3251,\n",
              "        112,    7, 3215,    6, 2863,   57,  682,    6, 2626,    7,    6,\n",
              "        724,    1,    4,  814,   87,    7, 1500, 2261,    3,  313,  599,\n",
              "        463,  934,    6,    1,   27,    7,  671,  461,    1,  160,    4,\n",
              "        220,  884,    1, 2853,  527,    6,  617,  497,  179,  317,   17,\n",
              "          6,    1,    1,    7, 3269,  610,  652,  717,  231, 4626,  173,\n",
              "       1605, 1507,    6,    1,  228,   73, 1045,  113,  434,  225,  323,\n",
              "          1])>"
            ]
          },
          "metadata": {},
          "execution_count": 47
        }
      ],
      "source": [
        "encoder(data['Text'][0])"
      ]
    },
    {
      "cell_type": "code",
      "execution_count": 48,
      "id": "g9JI1g1wa3As",
      "metadata": {
        "colab": {
          "base_uri": "https://localhost:8080/"
        },
        "id": "g9JI1g1wa3As",
        "outputId": "e59d3b5e-8496-4c8f-e124-91e5f852826d"
      },
      "outputs": [
        {
          "output_type": "stream",
          "name": "stdout",
          "text": [
            "texts:  [b'My hope high \\xe2\\x80\\x9c Dirty Grandpa , \\xe2\\x80\\x9d simply mere existence made practical sense . A movie starring Robert De Niro Zac Efron \\xe2\\x80\\x99 sound like real movie . It sound like fake movie \\xe2\\x80\\x99 see clip film \\xe2\\x80\\x99 mocking stupidity Hollywood . For intent purpose , \\xe2\\x80\\x9c Dirty Grandpa \\xe2\\x80\\x9d exist form one fake trailer open \\xe2\\x80\\x9c Tropic Thunder . \\xe2\\x80\\x9d And yet , . All 102 minute . Before watching , mind raced stupid possibility . How many Viagra joke would ? Would somebody ask De Niro Viagra induced boner De Niro respond , \\xe2\\x80\\x9c Are talking ? \\xe2\\x80\\x9d shortly one grip run onto set give high five ? Would scene dog win farting contest fart hard launch inside bare , gaping as competitor : cameo Harvey Keitel ( , \\xe2\\x80\\x99 implied , accidentally overdosed Viagra ) ? Unfortunately , moment \\xe2\\x80\\x93 outside Pinterest page and/or dream board . But luckily , got equally stupid . Maybe even little . As may already guessed , \\xe2\\x80\\x9c Dirty Grandpa \\xe2\\x80\\x9d terrible derivative title implies . But \\xe2\\x80\\x9c Dirty Grandpa \\xe2\\x80\\x9d also kind terrible I embrace appreciate . It \\xe2\\x80\\x99 bad way might intentional . Ten minute film \\xe2\\x80\\x99 greeted sight nude , 72-year-old De Niro graphically masturbating porno movie . Was grotesque gag supposed make u laugh ? Or attempt Tim & Eric-style anti-comedy ? It \\xe2\\x80\\x99 hard say . But considering \\xe2\\x80\\x9c Dirty Grandpa \\xe2\\x80\\x9d directed former \\xe2\\x80\\x9c Da Ali G Show \\xe2\\x80\\x9d scribe Dan Mazer , could possibly latter . \\xe2\\x80\\x9c Dirty Grandpa \\xe2\\x80\\x9d extremely low stake road comedy plotline tossed-off vaguely defined make aimless , improvisatory \\xe2\\x80\\x9c Bad Grandpa \\xe2\\x80\\x9d look nuanced densely plotted . In movie , De Niro play dick joke walk like man ( almost literally . His character \\xe2\\x80\\x99 name Dick Kelly Christ \\xe2\\x80\\x99 sake ) gently coerces uptight grandson ( Efron ) driving Boca Raton . Ostensibly , \\xe2\\x80\\x99 recently widowed De Niro want reconnect old army buddy , reality \\xe2\\x80\\x99 totally want \\xe2\\x80\\x98 get wet \\xe2\\x80\\x99 help buzzkill grandson break free future ball chain ( The Nordic Julianne Hough inexplicably cast offensive Jewish American Princess stereotype ) domineering father ( Dermot Mulroney ) . And \\xe2\\x80\\x93 well , \\xe2\\x80\\x99 pretty much . But care story De Niro croaking cover Ice Cube \\xe2\\x80\\x99 \\xe2\\x80\\x9c It Was Good Day \\xe2\\x80\\x9d screaming labored , improvised insult like \\xe2\\x80\\x9c Cocky McBlockerson \\xe2\\x80\\x9d Efron \\xe2\\x80\\x99 unfeeling , porcelain face ( basically look like doll \\xe2\\x80\\x9c The Boy \\xe2\\x80\\x9d 60 percent ab ) ? Some critic defended De Niro \\xe2\\x80\\x99 late period career choice noting \\xe2\\x80\\x9c reality remaining working actor old age \\xe2\\x80\\x9d without acknowledging De Niro really \\xe2\\x80\\x99 need working actor anymore . He could pulled Jimmy Cagney comfortably retired respected private citizen instead known guy played guy screamed would like Queen Latifah defecate mouth hot air balloon . But \\xe2\\x80\\x99 exactly sort schadenfreude make \\xe2\\x80\\x9c Dirty Grandpa \\xe2\\x80\\x9d seductive . Seeing star \\xe2\\x80\\x9c Mean Streets \\xe2\\x80\\x9d ( sadly ) \\xe2\\x80\\x9c The Adventures Rocky Bullwinkle \\xe2\\x80\\x9d play le funny , racist version Danny DeVito \\xe2\\x80\\x99 character \\xe2\\x80\\x9c It \\xe2\\x80\\x99 Always Sunny Philadelphia \\xe2\\x80\\x9d something must seen cherished . Additionally , \\xe2\\x80\\x9c Dirty Grandpa \\xe2\\x80\\x9d stupid gleefully filthy \\xe2\\x80\\x99 find laughing spite . Danny Glover cameo infirmed old man get little excited violent episode \\xe2\\x80\\x9c Alf . \\xe2\\x80\\x9d Aubrey Plaza blow bong hit De Niro \\xe2\\x80\\x99 mouth shortly nearly kill kid T-Shirt gun . Jason Mantzoukas Henry Zebrowski play pair unrepentant cheerful Florida scumbags . \\xe2\\x80\\x9c Dirty Grandpa \\xe2\\x80\\x9d ill-advised , incompetently made singularly weird must seen least . After , De Niro nowhere else go point . Enjoy rock bottom last .']\n",
            "\n"
          ]
        }
      ],
      "source": [
        "for example, label in train_ds.take(1):\n",
        "  print('texts: ', example.numpy()[:1])\n",
        "  print()"
      ]
    },
    {
      "cell_type": "markdown",
      "id": "gdkSacw7a3As",
      "metadata": {
        "id": "gdkSacw7a3As"
      },
      "source": [
        "## Build RNN Sequential Model"
      ]
    },
    {
      "cell_type": "markdown",
      "id": "-D0HJalka3At",
      "metadata": {
        "id": "-D0HJalka3At"
      },
      "source": [
        "<div class=\"alert alert-block alert-info\">\n",
        "    <b>tf.keras.layers</b><br>\n",
        "    https://www.tensorflow.org/api_docs/python/tf/keras/layers\n",
        "    </div>"
      ]
    },
    {
      "cell_type": "code",
      "execution_count": 49,
      "id": "mlMTTIVJa3At",
      "metadata": {
        "id": "mlMTTIVJa3At"
      },
      "outputs": [],
      "source": [
        "k.clear_session()\n",
        "num_classes=4\n",
        "model=tf.keras.Sequential([encoder\n",
        "   ,tf.keras.layers.Embedding(len(encoder.get_vocabulary()), 64, mask_zero=True)\n",
        "   ,tf.keras.layers.Bidirectional(tf.keras.layers.LSTM(64,  return_sequences=True, dropout=0.3))\n",
        "   ,tf.keras.layers.Bidirectional(tf.keras.layers.LSTM(32,dropout=0.3))\n",
        "   ,tf.keras.layers.Dense(64, activation='relu')\n",
        "   ,tf.keras.layers.Dense(num_classes,activation='softmax')\n",
        "])"
      ]
    },
    {
      "cell_type": "code",
      "source": [
        "# CHANGED\n",
        "# Update the model's text input preprocessing layer\n",
        "model.layers[0].adapt(text_vectorizer_with_titles.get_vocabulary())"
      ],
      "metadata": {
        "id": "9alnM6A1HQHM"
      },
      "id": "9alnM6A1HQHM",
      "execution_count": 50,
      "outputs": []
    },
    {
      "cell_type": "code",
      "execution_count": 51,
      "id": "8DHZZA3Va3At",
      "metadata": {
        "id": "8DHZZA3Va3At"
      },
      "outputs": [],
      "source": [
        "model.compile(optimizer= tf.keras.optimizers.Adam( )\n",
        "              ,loss=tf.keras.losses.SparseCategoricalCrossentropy()\n",
        "              ,metrics=['accuracy'])"
      ]
    },
    {
      "cell_type": "code",
      "source": [
        "# CHANGED\n",
        "# New validation dataset that includes the movie titles\n",
        "val_ds_with_titles = tf.data.Dataset.zip((val_text_ds_raw, val_cat_ds_raw))\n",
        "val_ds_with_titles = val_ds_with_titles.batch(batch_size=batch_size, drop_remainder=True).cache().prefetch(AUTOTUNE)\n",
        "\n",
        "# Fit the model again using the new validation dataset\n",
        "%time\n",
        "history = model.fit(\n",
        "    train_ds,\n",
        "    epochs=200,\n",
        "    validation_data=val_ds_with_titles,\n",
        "    callbacks=[tf.keras.callbacks.EarlyStopping(monitor='val_accuracy', patience=2)],\n",
        ")\n"
      ],
      "metadata": {
        "colab": {
          "base_uri": "https://localhost:8080/"
        },
        "id": "at-MptxFEaFa",
        "outputId": "1d6ef94f-f762-4f85-a018-61dc41485f26"
      },
      "id": "at-MptxFEaFa",
      "execution_count": 52,
      "outputs": [
        {
          "output_type": "stream",
          "name": "stdout",
          "text": [
            "CPU times: user 3 µs, sys: 0 ns, total: 3 µs\n",
            "Wall time: 6.2 µs\n",
            "Epoch 1/200\n",
            "53/53 [==============================] - 105s 2s/step - loss: 1.3936 - accuracy: 0.2264 - val_loss: 1.3976 - val_accuracy: 0.2222\n",
            "Epoch 2/200\n",
            "53/53 [==============================] - 78s 1s/step - loss: 1.3851 - accuracy: 0.2453 - val_loss: 1.4134 - val_accuracy: 0.1667\n",
            "Epoch 3/200\n",
            "53/53 [==============================] - 77s 1s/step - loss: 1.3506 - accuracy: 0.3208 - val_loss: 1.3464 - val_accuracy: 0.5000\n",
            "Epoch 4/200\n",
            "53/53 [==============================] - 77s 1s/step - loss: 0.9920 - accuracy: 0.6478 - val_loss: 1.6966 - val_accuracy: 0.3333\n",
            "Epoch 5/200\n",
            "53/53 [==============================] - 77s 1s/step - loss: 0.5150 - accuracy: 0.8742 - val_loss: 1.5340 - val_accuracy: 0.2778\n"
          ]
        }
      ]
    },
    {
      "cell_type": "code",
      "source": [
        "# CHANGED\n",
        "val_movie_titles = [title.decode('utf-8') for title in val_movie_titles_ds.as_numpy_iterator()]\n",
        "val_movie_titles"
      ],
      "metadata": {
        "colab": {
          "base_uri": "https://localhost:8080/"
        },
        "id": "bBEQzJC0UkJB",
        "outputId": "5bc9aee0-9c02-4794-928b-e516b34c118e"
      },
      "id": "bBEQzJC0UkJB",
      "execution_count": 53,
      "outputs": [
        {
          "output_type": "execute_result",
          "data": {
            "text/plain": [
              "['Despicable Me 3',\n",
              " 'No Time To Die',\n",
              " 'Holmes and Watson',\n",
              " 'No Time To Die',\n",
              " 'Fresh',\n",
              " 'Equilibrium',\n",
              " 'Minority Report',\n",
              " 'Holmes and Watson',\n",
              " 'Drag me to hell',\n",
              " 'It Chapter Two',\n",
              " 'Pitch Black',\n",
              " 'US',\n",
              " 'The Lost City',\n",
              " 'Fresh',\n",
              " 'Batman',\n",
              " 'Equilibrium',\n",
              " 'Equilibrium',\n",
              " 'Drag me to hell',\n",
              " 'Taken',\n",
              " 'Legally Blonde']"
            ]
          },
          "metadata": {},
          "execution_count": 53
        }
      ]
    },
    {
      "cell_type": "code",
      "source": [
        "# CHANGED\n",
        "# Create a dataset with only the validation texts\n",
        "val_text_ds = val_text_ds_raw.batch(batch_size=batch_size)\n",
        "\n",
        "# Predict the labels for the validation texts\n",
        "val_predictions = model.predict(val_text_ds)\n",
        "val_predicted_labels = np.argmax(val_predictions, axis=-1)  # Take the index of the max value to get the predicted label\n",
        "\n",
        "# Extract the true labels from val_cat_ds_raw\n",
        "val_true_labels = [label for label in val_cat_ds_raw.as_numpy_iterator()]\n",
        "\n",
        "# Now val_predicted_labels contains the predicted labels and val_true_labels contains the true labels.\n"
      ],
      "metadata": {
        "colab": {
          "base_uri": "https://localhost:8080/"
        },
        "id": "e772__3ggtpj",
        "outputId": "27b367f4-da04-44cd-f934-9d65e08ccc67"
      },
      "id": "e772__3ggtpj",
      "execution_count": 54,
      "outputs": [
        {
          "output_type": "stream",
          "name": "stdout",
          "text": [
            "7/7 [==============================] - 7s 173ms/step\n"
          ]
        }
      ]
    },
    {
      "cell_type": "code",
      "source": [
        "# CHANGED\n",
        "import pandas as pd\n",
        "\n",
        "results_df = pd.DataFrame({\n",
        "    \"Movie Title\": val_movie_titles,\n",
        "    \"True Label\": val_true_labels,\n",
        "    \"Predicted Label\": val_predicted_labels\n",
        "})\n",
        "\n",
        "# Display the DataFrame\n",
        "print(results_df)\n"
      ],
      "metadata": {
        "colab": {
          "base_uri": "https://localhost:8080/"
        },
        "id": "8QiHTO5WhPUE",
        "outputId": "c4c1747b-be47-4255-bb4e-a356f88ae32c"
      },
      "id": "8QiHTO5WhPUE",
      "execution_count": 55,
      "outputs": [
        {
          "output_type": "stream",
          "name": "stdout",
          "text": [
            "          Movie Title  True Label  Predicted Label\n",
            "0     Despicable Me 3           1                0\n",
            "1      No Time To Die           0                1\n",
            "2   Holmes and Watson           1                1\n",
            "3      No Time To Die           0                1\n",
            "4               Fresh           2                1\n",
            "5         Equilibrium           3                2\n",
            "6     Minority Report           3                3\n",
            "7   Holmes and Watson           1                2\n",
            "8     Drag me to hell           2                3\n",
            "9      It Chapter Two           2                0\n",
            "10        Pitch Black           3                3\n",
            "11                 US           2                2\n",
            "12      The Lost City           1                0\n",
            "13              Fresh           2                0\n",
            "14             Batman           3                3\n",
            "15        Equilibrium           3                1\n",
            "16        Equilibrium           3                0\n",
            "17    Drag me to hell           2                1\n",
            "18              Taken           0                1\n",
            "19     Legally Blonde           1                1\n"
          ]
        }
      ]
    },
    {
      "cell_type": "code",
      "source": [
        "val_loss, val_accuracy = model.evaluate(val_ds)\n",
        "print('Validation Loss: ', val_loss)\n",
        "print('Validation Accuracy: ', val_accuracy)\n"
      ],
      "metadata": {
        "colab": {
          "base_uri": "https://localhost:8080/"
        },
        "id": "q6dIS7bPkr7U",
        "outputId": "1f921721-d789-4c43-ba8e-6212a1670a47"
      },
      "id": "q6dIS7bPkr7U",
      "execution_count": 56,
      "outputs": [
        {
          "output_type": "stream",
          "name": "stdout",
          "text": [
            "6/6 [==============================] - 1s 179ms/step - loss: 1.5770 - accuracy: 0.2778\n",
            "Validation Loss:  1.5769624710083008\n",
            "Validation Accuracy:  0.2777777910232544\n"
          ]
        }
      ]
    },
    {
      "cell_type": "markdown",
      "id": "_zzUFij9a3At",
      "metadata": {
        "id": "_zzUFij9a3At"
      },
      "source": [
        "## Model Performance Test Accuracy"
      ]
    },
    {
      "cell_type": "code",
      "execution_count": 58,
      "id": "BAPDfPMGa3At",
      "metadata": {
        "colab": {
          "base_uri": "https://localhost:8080/"
        },
        "id": "BAPDfPMGa3At",
        "outputId": "ab81bcd5-3d89-46f5-a640-4f43b28e26b5"
      },
      "outputs": [
        {
          "output_type": "stream",
          "name": "stdout",
          "text": [
            "6/6 [==============================] - 7s 164ms/step - loss: 1.0061 - accuracy: 0.5000\n",
            "Test Loss: 1.0061147212982178\n",
            "Test Accuracy: 0.5\n"
          ]
        }
      ],
      "source": [
        "test_loss, test_acc = model.evaluate(test_ds)\n",
        "\n",
        "print('Test Loss: {}'.format(test_loss))\n",
        "print('Test Accuracy: {}'.format(test_acc))"
      ]
    },
    {
      "cell_type": "markdown",
      "id": "7g7U9UUVa3Au",
      "metadata": {
        "id": "7g7U9UUVa3Au"
      },
      "source": [
        "## Plotting Performance Metrics - Multi-Layer Bidirectional RNN"
      ]
    },
    {
      "cell_type": "code",
      "execution_count": 59,
      "id": "vuMi14LQa3Au",
      "metadata": {
        "colab": {
          "base_uri": "https://localhost:8080/"
        },
        "id": "vuMi14LQa3Au",
        "outputId": "40db5e48-6b8d-456f-fd75-794b720c6663"
      },
      "outputs": [
        {
          "output_type": "execute_result",
          "data": {
            "text/plain": [
              "dict_keys(['loss', 'accuracy', 'val_loss', 'val_accuracy'])"
            ]
          },
          "metadata": {},
          "execution_count": 59
        }
      ],
      "source": [
        "history_dict = history.history\n",
        "history_dict.keys()"
      ]
    },
    {
      "cell_type": "code",
      "execution_count": 60,
      "id": "gPDxsrVYa3Au",
      "metadata": {
        "colab": {
          "base_uri": "https://localhost:8080/",
          "height": 206
        },
        "id": "gPDxsrVYa3Au",
        "outputId": "e42cd467-120a-4ce4-adb7-d085830ae421"
      },
      "outputs": [
        {
          "output_type": "execute_result",
          "data": {
            "text/plain": [
              "    loss  accuracy  val_loss  val_accuracy\n",
              "0  1.394     0.226     1.398         0.222\n",
              "1  1.385     0.245     1.413         0.167\n",
              "2  1.351     0.321     1.346         0.500\n",
              "3  0.992     0.648     1.697         0.333\n",
              "4  0.515     0.874     1.534         0.278"
            ],
            "text/html": [
              "\n",
              "\n",
              "  <div id=\"df-f8911018-5af5-4cbd-8f59-3a72715b46cc\">\n",
              "    <div class=\"colab-df-container\">\n",
              "      <div>\n",
              "<style scoped>\n",
              "    .dataframe tbody tr th:only-of-type {\n",
              "        vertical-align: middle;\n",
              "    }\n",
              "\n",
              "    .dataframe tbody tr th {\n",
              "        vertical-align: top;\n",
              "    }\n",
              "\n",
              "    .dataframe thead th {\n",
              "        text-align: right;\n",
              "    }\n",
              "</style>\n",
              "<table border=\"1\" class=\"dataframe\">\n",
              "  <thead>\n",
              "    <tr style=\"text-align: right;\">\n",
              "      <th></th>\n",
              "      <th>loss</th>\n",
              "      <th>accuracy</th>\n",
              "      <th>val_loss</th>\n",
              "      <th>val_accuracy</th>\n",
              "    </tr>\n",
              "  </thead>\n",
              "  <tbody>\n",
              "    <tr>\n",
              "      <th>0</th>\n",
              "      <td>1.394</td>\n",
              "      <td>0.226</td>\n",
              "      <td>1.398</td>\n",
              "      <td>0.222</td>\n",
              "    </tr>\n",
              "    <tr>\n",
              "      <th>1</th>\n",
              "      <td>1.385</td>\n",
              "      <td>0.245</td>\n",
              "      <td>1.413</td>\n",
              "      <td>0.167</td>\n",
              "    </tr>\n",
              "    <tr>\n",
              "      <th>2</th>\n",
              "      <td>1.351</td>\n",
              "      <td>0.321</td>\n",
              "      <td>1.346</td>\n",
              "      <td>0.500</td>\n",
              "    </tr>\n",
              "    <tr>\n",
              "      <th>3</th>\n",
              "      <td>0.992</td>\n",
              "      <td>0.648</td>\n",
              "      <td>1.697</td>\n",
              "      <td>0.333</td>\n",
              "    </tr>\n",
              "    <tr>\n",
              "      <th>4</th>\n",
              "      <td>0.515</td>\n",
              "      <td>0.874</td>\n",
              "      <td>1.534</td>\n",
              "      <td>0.278</td>\n",
              "    </tr>\n",
              "  </tbody>\n",
              "</table>\n",
              "</div>\n",
              "      <button class=\"colab-df-convert\" onclick=\"convertToInteractive('df-f8911018-5af5-4cbd-8f59-3a72715b46cc')\"\n",
              "              title=\"Convert this dataframe to an interactive table.\"\n",
              "              style=\"display:none;\">\n",
              "\n",
              "  <svg xmlns=\"http://www.w3.org/2000/svg\" height=\"24px\"viewBox=\"0 0 24 24\"\n",
              "       width=\"24px\">\n",
              "    <path d=\"M0 0h24v24H0V0z\" fill=\"none\"/>\n",
              "    <path d=\"M18.56 5.44l.94 2.06.94-2.06 2.06-.94-2.06-.94-.94-2.06-.94 2.06-2.06.94zm-11 1L8.5 8.5l.94-2.06 2.06-.94-2.06-.94L8.5 2.5l-.94 2.06-2.06.94zm10 10l.94 2.06.94-2.06 2.06-.94-2.06-.94-.94-2.06-.94 2.06-2.06.94z\"/><path d=\"M17.41 7.96l-1.37-1.37c-.4-.4-.92-.59-1.43-.59-.52 0-1.04.2-1.43.59L10.3 9.45l-7.72 7.72c-.78.78-.78 2.05 0 2.83L4 21.41c.39.39.9.59 1.41.59.51 0 1.02-.2 1.41-.59l7.78-7.78 2.81-2.81c.8-.78.8-2.07 0-2.86zM5.41 20L4 18.59l7.72-7.72 1.47 1.35L5.41 20z\"/>\n",
              "  </svg>\n",
              "      </button>\n",
              "\n",
              "\n",
              "\n",
              "    <div id=\"df-10d90ba0-ea67-4925-8619-0888450976ee\">\n",
              "      <button class=\"colab-df-quickchart\" onclick=\"quickchart('df-10d90ba0-ea67-4925-8619-0888450976ee')\"\n",
              "              title=\"Suggest charts.\"\n",
              "              style=\"display:none;\">\n",
              "\n",
              "<svg xmlns=\"http://www.w3.org/2000/svg\" height=\"24px\"viewBox=\"0 0 24 24\"\n",
              "     width=\"24px\">\n",
              "    <g>\n",
              "        <path d=\"M19 3H5c-1.1 0-2 .9-2 2v14c0 1.1.9 2 2 2h14c1.1 0 2-.9 2-2V5c0-1.1-.9-2-2-2zM9 17H7v-7h2v7zm4 0h-2V7h2v10zm4 0h-2v-4h2v4z\"/>\n",
              "    </g>\n",
              "</svg>\n",
              "      </button>\n",
              "    </div>\n",
              "\n",
              "<style>\n",
              "  .colab-df-quickchart {\n",
              "    background-color: #E8F0FE;\n",
              "    border: none;\n",
              "    border-radius: 50%;\n",
              "    cursor: pointer;\n",
              "    display: none;\n",
              "    fill: #1967D2;\n",
              "    height: 32px;\n",
              "    padding: 0 0 0 0;\n",
              "    width: 32px;\n",
              "  }\n",
              "\n",
              "  .colab-df-quickchart:hover {\n",
              "    background-color: #E2EBFA;\n",
              "    box-shadow: 0px 1px 2px rgba(60, 64, 67, 0.3), 0px 1px 3px 1px rgba(60, 64, 67, 0.15);\n",
              "    fill: #174EA6;\n",
              "  }\n",
              "\n",
              "  [theme=dark] .colab-df-quickchart {\n",
              "    background-color: #3B4455;\n",
              "    fill: #D2E3FC;\n",
              "  }\n",
              "\n",
              "  [theme=dark] .colab-df-quickchart:hover {\n",
              "    background-color: #434B5C;\n",
              "    box-shadow: 0px 1px 3px 1px rgba(0, 0, 0, 0.15);\n",
              "    filter: drop-shadow(0px 1px 2px rgba(0, 0, 0, 0.3));\n",
              "    fill: #FFFFFF;\n",
              "  }\n",
              "</style>\n",
              "\n",
              "    <script>\n",
              "      async function quickchart(key) {\n",
              "        const containerElement = document.querySelector('#' + key);\n",
              "        const charts = await google.colab.kernel.invokeFunction(\n",
              "            'suggestCharts', [key], {});\n",
              "      }\n",
              "    </script>\n",
              "\n",
              "      <script>\n",
              "\n",
              "function displayQuickchartButton(domScope) {\n",
              "  let quickchartButtonEl =\n",
              "    domScope.querySelector('#df-10d90ba0-ea67-4925-8619-0888450976ee button.colab-df-quickchart');\n",
              "  quickchartButtonEl.style.display =\n",
              "    google.colab.kernel.accessAllowed ? 'block' : 'none';\n",
              "}\n",
              "\n",
              "        displayQuickchartButton(document);\n",
              "      </script>\n",
              "      <style>\n",
              "    .colab-df-container {\n",
              "      display:flex;\n",
              "      flex-wrap:wrap;\n",
              "      gap: 12px;\n",
              "    }\n",
              "\n",
              "    .colab-df-convert {\n",
              "      background-color: #E8F0FE;\n",
              "      border: none;\n",
              "      border-radius: 50%;\n",
              "      cursor: pointer;\n",
              "      display: none;\n",
              "      fill: #1967D2;\n",
              "      height: 32px;\n",
              "      padding: 0 0 0 0;\n",
              "      width: 32px;\n",
              "    }\n",
              "\n",
              "    .colab-df-convert:hover {\n",
              "      background-color: #E2EBFA;\n",
              "      box-shadow: 0px 1px 2px rgba(60, 64, 67, 0.3), 0px 1px 3px 1px rgba(60, 64, 67, 0.15);\n",
              "      fill: #174EA6;\n",
              "    }\n",
              "\n",
              "    [theme=dark] .colab-df-convert {\n",
              "      background-color: #3B4455;\n",
              "      fill: #D2E3FC;\n",
              "    }\n",
              "\n",
              "    [theme=dark] .colab-df-convert:hover {\n",
              "      background-color: #434B5C;\n",
              "      box-shadow: 0px 1px 3px 1px rgba(0, 0, 0, 0.15);\n",
              "      filter: drop-shadow(0px 1px 2px rgba(0, 0, 0, 0.3));\n",
              "      fill: #FFFFFF;\n",
              "    }\n",
              "  </style>\n",
              "\n",
              "      <script>\n",
              "        const buttonEl =\n",
              "          document.querySelector('#df-f8911018-5af5-4cbd-8f59-3a72715b46cc button.colab-df-convert');\n",
              "        buttonEl.style.display =\n",
              "          google.colab.kernel.accessAllowed ? 'block' : 'none';\n",
              "\n",
              "        async function convertToInteractive(key) {\n",
              "          const element = document.querySelector('#df-f8911018-5af5-4cbd-8f59-3a72715b46cc');\n",
              "          const dataTable =\n",
              "            await google.colab.kernel.invokeFunction('convertToInteractive',\n",
              "                                                     [key], {});\n",
              "          if (!dataTable) return;\n",
              "\n",
              "          const docLinkHtml = 'Like what you see? Visit the ' +\n",
              "            '<a target=\"_blank\" href=https://colab.research.google.com/notebooks/data_table.ipynb>data table notebook</a>'\n",
              "            + ' to learn more about interactive tables.';\n",
              "          element.innerHTML = '';\n",
              "          dataTable['output_type'] = 'display_data';\n",
              "          await google.colab.output.renderOutput(dataTable, element);\n",
              "          const docLink = document.createElement('div');\n",
              "          docLink.innerHTML = docLinkHtml;\n",
              "          element.appendChild(docLink);\n",
              "        }\n",
              "      </script>\n",
              "    </div>\n",
              "  </div>\n"
            ]
          },
          "metadata": {},
          "execution_count": 60
        }
      ],
      "source": [
        "history_df=pd.DataFrame(history_dict)\n",
        "history_df.tail().round(3)"
      ]
    },
    {
      "cell_type": "code",
      "execution_count": 61,
      "id": "7hne-WYKa3Au",
      "metadata": {
        "id": "7hne-WYKa3Au"
      },
      "outputs": [],
      "source": [
        "losses = history.history['loss']\n",
        "accs = history.history['accuracy']\n",
        "val_losses = history.history['val_loss']\n",
        "val_accs = history.history['val_accuracy']\n",
        "epochs = len(losses)"
      ]
    },
    {
      "cell_type": "code",
      "execution_count": 62,
      "id": "cKhOUHxQa3Au",
      "metadata": {
        "colab": {
          "base_uri": "https://localhost:8080/",
          "height": 859
        },
        "id": "cKhOUHxQa3Au",
        "outputId": "d5d5779e-1942-4a0c-a244-ce9ee3f4582b"
      },
      "outputs": [
        {
          "output_type": "display_data",
          "data": {
            "text/plain": [
              "<Figure size 1600x1200 with 2 Axes>"
            ],
            "image/png": "[encoded data removed]"
          },
          "metadata": {}
        }
      ],
      "source": [
        "plt.subplots(figsize=(16,12))\n",
        "plt.tight_layout()\n",
        "display_training_curves(history.history['accuracy'], history.history['val_accuracy'], 'accuracy', 211)\n",
        "display_training_curves(history.history['loss'], history.history['val_loss'], 'loss', 212)"
      ]
    },
    {
      "cell_type": "markdown",
      "id": "ij3sDWgGa3Au",
      "metadata": {
        "id": "ij3sDWgGa3Au"
      },
      "source": [
        "## Confusion Matrix Post Model Performance Analysis"
      ]
    },
    {
      "cell_type": "code",
      "execution_count": 63,
      "id": "IaLsjXkQa3Au",
      "metadata": {
        "colab": {
          "base_uri": "https://localhost:8080/"
        },
        "id": "IaLsjXkQa3Au",
        "outputId": "7fcbcacf-96d8-4da8-d675-050d4b9979cf"
      },
      "outputs": [
        {
          "output_type": "stream",
          "name": "stdout",
          "text": [
            "6/6 [==============================] - 7s 169ms/step\n"
          ]
        }
      ],
      "source": [
        "preds2 = model.predict(test_ds)\n",
        "y_pred2 = np.argmax(preds2, axis=1)\n",
        "y2 = np.concatenate([y for x, y in test_ds], axis=0)"
      ]
    },
    {
      "cell_type": "code",
      "execution_count": 64,
      "id": "Vg92x2bla3Au",
      "metadata": {
        "id": "Vg92x2bla3Au"
      },
      "outputs": [],
      "source": [
        "CLASSES_LIST = ['Action','Comedy','Horror','Sci Fi']"
      ]
    },
    {
      "cell_type": "code",
      "execution_count": 65,
      "id": "D5Uk7pKca3Av",
      "metadata": {
        "colab": {
          "base_uri": "https://localhost:8080/",
          "height": 850
        },
        "id": "D5Uk7pKca3Av",
        "outputId": "989e48ee-09ef-4c94-897a-60685d9010ef"
      },
      "outputs": [
        {
          "output_type": "display_data",
          "data": {
            "text/plain": [
              "<Figure size 1000x1000 with 1 Axes>"
            ],
            "image/png": "[encoded data removed]"
          },
          "metadata": {}
        }
      ],
      "source": [
        "plot_confusion_matrix_labeled(y2,y_pred2, CLASSES_LIST=CLASSES_LIST)"
      ]
    },
    {
      "cell_type": "code",
      "execution_count": 66,
      "id": "NyqS9FJka3Av",
      "metadata": {
        "id": "NyqS9FJka3Av"
      },
      "outputs": [],
      "source": [
        "cm = sns.light_palette((260, 75, 60), input=\"husl\", as_cmap=True)"
      ]
    },
    {
      "cell_type": "code",
      "execution_count": 67,
      "id": "RTAGFvGga3Av",
      "metadata": {
        "colab": {
          "base_uri": "https://localhost:8080/",
          "height": 175
        },
        "id": "RTAGFvGga3Av",
        "outputId": "d35ce130-4588-4a28-d9ef-08fdee140ae3"
      },
      "outputs": [
        {
          "output_type": "execute_result",
          "data": {
            "text/plain": [
              "<pandas.io.formats.style.Styler at 0x7fbc3ef3e260>"
            ],
            "text/html": [
              "<style type=\"text/css\">\n",
              "#T_308b0_row0_col0 {\n",
              "  background-color: #7e92e5;\n",
              "  color: #f1f1f1;\n",
              "}\n",
              "#T_308b0_row0_col1 {\n",
              "  background-color: #e9ebf1;\n",
              "  color: #000000;\n",
              "}\n",
              "#T_308b0_row0_col2, #T_308b0_row0_col8, #T_308b0_row1_col10, #T_308b0_row2_col1, #T_308b0_row2_col3, #T_308b0_row2_col4, #T_308b0_row2_col9, #T_308b0_row2_col12, #T_308b0_row2_col13, #T_308b0_row2_col14, #T_308b0_row3_col0, #T_308b0_row3_col5, #T_308b0_row3_col6, #T_308b0_row3_col7, #T_308b0_row3_col10, #T_308b0_row3_col11 {\n",
              "  background-color: #f0f1f2;\n",
              "  color: #000000;\n",
              "}\n",
              "#T_308b0_row0_col3 {\n",
              "  background-color: #b0bbeb;\n",
              "  color: #000000;\n",
              "}\n",
              "#T_308b0_row0_col4, #T_308b0_row1_col5, #T_308b0_row1_col7, #T_308b0_row1_col8 {\n",
              "  background-color: #eeeff2;\n",
              "  color: #000000;\n",
              "}\n",
              "#T_308b0_row0_col5 {\n",
              "  background-color: #c3cbed;\n",
              "  color: #000000;\n",
              "}\n",
              "#T_308b0_row0_col6, #T_308b0_row0_col11, #T_308b0_row1_col0, #T_308b0_row1_col1, #T_308b0_row1_col3, #T_308b0_row1_col9, #T_308b0_row1_col12, #T_308b0_row1_col13, #T_308b0_row1_col14, #T_308b0_row2_col5, #T_308b0_row2_col7, #T_308b0_row2_col10, #T_308b0_row3_col2, #T_308b0_row3_col4, #T_308b0_row3_col8 {\n",
              "  background-color: #778ce4;\n",
              "  color: #f1f1f1;\n",
              "}\n",
              "#T_308b0_row0_col7 {\n",
              "  background-color: #cdd3ee;\n",
              "  color: #000000;\n",
              "}\n",
              "#T_308b0_row0_col9 {\n",
              "  background-color: #ced4ee;\n",
              "  color: #000000;\n",
              "}\n",
              "#T_308b0_row0_col10 {\n",
              "  background-color: #eaebf1;\n",
              "  color: #000000;\n",
              "}\n",
              "#T_308b0_row0_col12 {\n",
              "  background-color: #8597e5;\n",
              "  color: #f1f1f1;\n",
              "}\n",
              "#T_308b0_row0_col13 {\n",
              "  background-color: #e8e9f1;\n",
              "  color: #000000;\n",
              "}\n",
              "#T_308b0_row0_col14 {\n",
              "  background-color: #e1e4f0;\n",
              "  color: #000000;\n",
              "}\n",
              "#T_308b0_row1_col2 {\n",
              "  background-color: #ebecf2;\n",
              "  color: #000000;\n",
              "}\n",
              "#T_308b0_row1_col4 {\n",
              "  background-color: #bdc6ec;\n",
              "  color: #000000;\n",
              "}\n",
              "#T_308b0_row1_col6 {\n",
              "  background-color: #e7e9f1;\n",
              "  color: #000000;\n",
              "}\n",
              "#T_308b0_row1_col11 {\n",
              "  background-color: #e5e7f1;\n",
              "  color: #000000;\n",
              "}\n",
              "#T_308b0_row2_col0 {\n",
              "  background-color: #e6e8f1;\n",
              "  color: #000000;\n",
              "}\n",
              "#T_308b0_row2_col2 {\n",
              "  background-color: #bec7ec;\n",
              "  color: #000000;\n",
              "}\n",
              "#T_308b0_row2_col6 {\n",
              "  background-color: #dbdff0;\n",
              "  color: #000000;\n",
              "}\n",
              "#T_308b0_row2_col8 {\n",
              "  background-color: #9eace8;\n",
              "  color: #000000;\n",
              "}\n",
              "#T_308b0_row2_col11 {\n",
              "  background-color: #d7dcef;\n",
              "  color: #000000;\n",
              "}\n",
              "#T_308b0_row3_col1 {\n",
              "  background-color: #8698e5;\n",
              "  color: #f1f1f1;\n",
              "}\n",
              "#T_308b0_row3_col3 {\n",
              "  background-color: #d1d7ee;\n",
              "  color: #000000;\n",
              "}\n",
              "#T_308b0_row3_col9, #T_308b0_row3_col14 {\n",
              "  background-color: #e4e6f1;\n",
              "  color: #000000;\n",
              "}\n",
              "#T_308b0_row3_col12 {\n",
              "  background-color: #ebedf2;\n",
              "  color: #000000;\n",
              "}\n",
              "#T_308b0_row3_col13 {\n",
              "  background-color: #98a7e8;\n",
              "  color: #f1f1f1;\n",
              "}\n",
              "</style>\n",
              "<table id=\"T_308b0\" class=\"dataframe\">\n",
              "  <thead>\n",
              "    <tr>\n",
              "      <th class=\"blank level0\" >&nbsp;</th>\n",
              "      <th id=\"T_308b0_level0_col0\" class=\"col_heading level0 col0\" >0</th>\n",
              "      <th id=\"T_308b0_level0_col1\" class=\"col_heading level0 col1\" >1</th>\n",
              "      <th id=\"T_308b0_level0_col2\" class=\"col_heading level0 col2\" >2</th>\n",
              "      <th id=\"T_308b0_level0_col3\" class=\"col_heading level0 col3\" >3</th>\n",
              "      <th id=\"T_308b0_level0_col4\" class=\"col_heading level0 col4\" >4</th>\n",
              "      <th id=\"T_308b0_level0_col5\" class=\"col_heading level0 col5\" >5</th>\n",
              "      <th id=\"T_308b0_level0_col6\" class=\"col_heading level0 col6\" >6</th>\n",
              "      <th id=\"T_308b0_level0_col7\" class=\"col_heading level0 col7\" >7</th>\n",
              "      <th id=\"T_308b0_level0_col8\" class=\"col_heading level0 col8\" >8</th>\n",
              "      <th id=\"T_308b0_level0_col9\" class=\"col_heading level0 col9\" >9</th>\n",
              "      <th id=\"T_308b0_level0_col10\" class=\"col_heading level0 col10\" >10</th>\n",
              "      <th id=\"T_308b0_level0_col11\" class=\"col_heading level0 col11\" >11</th>\n",
              "      <th id=\"T_308b0_level0_col12\" class=\"col_heading level0 col12\" >12</th>\n",
              "      <th id=\"T_308b0_level0_col13\" class=\"col_heading level0 col13\" >13</th>\n",
              "      <th id=\"T_308b0_level0_col14\" class=\"col_heading level0 col14\" >14</th>\n",
              "    </tr>\n",
              "  </thead>\n",
              "  <tbody>\n",
              "    <tr>\n",
              "      <th id=\"T_308b0_level0_row0\" class=\"row_heading level0 row0\" >Action</th>\n",
              "      <td id=\"T_308b0_row0_col0\" class=\"data row0 col0\" >39.46%</td>\n",
              "      <td id=\"T_308b0_row0_col1\" class=\"data row0 col1\" >11.79%</td>\n",
              "      <td id=\"T_308b0_row0_col2\" class=\"data row0 col2\" >3.98%</td>\n",
              "      <td id=\"T_308b0_row0_col3\" class=\"data row0 col3\" >26.76%</td>\n",
              "      <td id=\"T_308b0_row0_col4\" class=\"data row0 col4\" >6.29%</td>\n",
              "      <td id=\"T_308b0_row0_col5\" class=\"data row0 col5\" >26.56%</td>\n",
              "      <td id=\"T_308b0_row0_col6\" class=\"data row0 col6\" >77.16%</td>\n",
              "      <td id=\"T_308b0_row0_col7\" class=\"data row0 col7\" >22.35%</td>\n",
              "      <td id=\"T_308b0_row0_col8\" class=\"data row0 col8\" >15.11%</td>\n",
              "      <td id=\"T_308b0_row0_col9\" class=\"data row0 col9\" >20.85%</td>\n",
              "      <td id=\"T_308b0_row0_col10\" class=\"data row0 col10\" >6.70%</td>\n",
              "      <td id=\"T_308b0_row0_col11\" class=\"data row0 col11\" >73.77%</td>\n",
              "      <td id=\"T_308b0_row0_col12\" class=\"data row0 col12\" >44.19%</td>\n",
              "      <td id=\"T_308b0_row0_col13\" class=\"data row0 col13\" >9.20%</td>\n",
              "      <td id=\"T_308b0_row0_col14\" class=\"data row0 col14\" >12.24%</td>\n",
              "    </tr>\n",
              "    <tr>\n",
              "      <th id=\"T_308b0_level0_row1\" class=\"row_heading level0 row1\" >Comedy</th>\n",
              "      <td id=\"T_308b0_row1_col0\" class=\"data row1 col0\" >41.70%</td>\n",
              "      <td id=\"T_308b0_row1_col1\" class=\"data row1 col1\" >41.03%</td>\n",
              "      <td id=\"T_308b0_row1_col2\" class=\"data row1 col2\" >6.50%</td>\n",
              "      <td id=\"T_308b0_row1_col3\" class=\"data row1 col3\" >36.97%</td>\n",
              "      <td id=\"T_308b0_row1_col4\" class=\"data row1 col4\" >28.33%</td>\n",
              "      <td id=\"T_308b0_row1_col5\" class=\"data row1 col5\" >5.50%</td>\n",
              "      <td id=\"T_308b0_row1_col6\" class=\"data row1 col6\" >7.10%</td>\n",
              "      <td id=\"T_308b0_row1_col7\" class=\"data row1 col7\" >3.61%</td>\n",
              "      <td id=\"T_308b0_row1_col8\" class=\"data row1 col8\" >15.59%</td>\n",
              "      <td id=\"T_308b0_row1_col9\" class=\"data row1 col9\" >66.34%</td>\n",
              "      <td id=\"T_308b0_row1_col10\" class=\"data row1 col10\" >1.55%</td>\n",
              "      <td id=\"T_308b0_row1_col11\" class=\"data row1 col11\" >8.27%</td>\n",
              "      <td id=\"T_308b0_row1_col12\" class=\"data row1 col12\" >49.74%</td>\n",
              "      <td id=\"T_308b0_row1_col13\" class=\"data row1 col13\" >48.08%</td>\n",
              "      <td id=\"T_308b0_row1_col14\" class=\"data row1 col14\" >73.26%</td>\n",
              "    </tr>\n",
              "    <tr>\n",
              "      <th id=\"T_308b0_level0_row2\" class=\"row_heading level0 row2\" >Horror</th>\n",
              "      <td id=\"T_308b0_row2_col0\" class=\"data row2 col0\" >10.86%</td>\n",
              "      <td id=\"T_308b0_row2_col1\" class=\"data row2 col1\" >9.96%</td>\n",
              "      <td id=\"T_308b0_row2_col2\" class=\"data row2 col2\" >27.78%</td>\n",
              "      <td id=\"T_308b0_row2_col3\" class=\"data row2 col3\" >15.38%</td>\n",
              "      <td id=\"T_308b0_row2_col4\" class=\"data row2 col4\" >5.24%</td>\n",
              "      <td id=\"T_308b0_row2_col5\" class=\"data row2 col5\" >63.37%</td>\n",
              "      <td id=\"T_308b0_row2_col6\" class=\"data row2 col6\" >14.50%</td>\n",
              "      <td id=\"T_308b0_row2_col7\" class=\"data row2 col7\" >71.85%</td>\n",
              "      <td id=\"T_308b0_row2_col8\" class=\"data row2 col8\" >30.85%</td>\n",
              "      <td id=\"T_308b0_row2_col9\" class=\"data row2 col9\" >3.11%</td>\n",
              "      <td id=\"T_308b0_row2_col10\" class=\"data row2 col10\" >90.19%</td>\n",
              "      <td id=\"T_308b0_row2_col11\" class=\"data row2 col11\" >16.38%</td>\n",
              "      <td id=\"T_308b0_row2_col12\" class=\"data row2 col12\" >2.04%</td>\n",
              "      <td id=\"T_308b0_row2_col13\" class=\"data row2 col13\" >6.22%</td>\n",
              "      <td id=\"T_308b0_row2_col14\" class=\"data row2 col14\" >3.62%</td>\n",
              "    </tr>\n",
              "    <tr>\n",
              "      <th id=\"T_308b0_level0_row3\" class=\"row_heading level0 row3\" >Sci Fi</th>\n",
              "      <td id=\"T_308b0_row3_col0\" class=\"data row3 col0\" >7.98%</td>\n",
              "      <td id=\"T_308b0_row3_col1\" class=\"data row3 col1\" >37.23%</td>\n",
              "      <td id=\"T_308b0_row3_col2\" class=\"data row3 col2\" >61.74%</td>\n",
              "      <td id=\"T_308b0_row3_col3\" class=\"data row3 col3\" >20.90%</td>\n",
              "      <td id=\"T_308b0_row3_col4\" class=\"data row3 col4\" >60.14%</td>\n",
              "      <td id=\"T_308b0_row3_col5\" class=\"data row3 col5\" >4.57%</td>\n",
              "      <td id=\"T_308b0_row3_col6\" class=\"data row3 col6\" >1.24%</td>\n",
              "      <td id=\"T_308b0_row3_col7\" class=\"data row3 col7\" >2.19%</td>\n",
              "      <td id=\"T_308b0_row3_col8\" class=\"data row3 col8\" >38.44%</td>\n",
              "      <td id=\"T_308b0_row3_col9\" class=\"data row3 col9\" >9.70%</td>\n",
              "      <td id=\"T_308b0_row3_col10\" class=\"data row3 col10\" >1.56%</td>\n",
              "      <td id=\"T_308b0_row3_col11\" class=\"data row3 col11\" >1.58%</td>\n",
              "      <td id=\"T_308b0_row3_col12\" class=\"data row3 col12\" >4.03%</td>\n",
              "      <td id=\"T_308b0_row3_col13\" class=\"data row3 col13\" >36.50%</td>\n",
              "      <td id=\"T_308b0_row3_col14\" class=\"data row3 col14\" >10.88%</td>\n",
              "    </tr>\n",
              "  </tbody>\n",
              "</table>\n"
            ]
          },
          "metadata": {},
          "execution_count": 67
        }
      ],
      "source": [
        "df2 = pd.DataFrame(preds2[0:15]\n",
        "                  ,columns = CLASSES_LIST).T\n",
        "df2.style.format(\"{:.2%}\").background_gradient(cmap=cm)"
      ]
    },
    {
      "cell_type": "markdown",
      "id": "PPWcUzgma3Av",
      "metadata": {
        "id": "PPWcUzgma3Av"
      },
      "source": [
        "## RNN Model Architecture"
      ]
    },
    {
      "cell_type": "code",
      "execution_count": 68,
      "id": "NQf85-wMa3Av",
      "metadata": {
        "colab": {
          "base_uri": "https://localhost:8080/"
        },
        "id": "NQf85-wMa3Av",
        "outputId": "e98bd69a-8e7d-423a-a8c0-b2d2fad20a34",
        "scrolled": false
      },
      "outputs": [
        {
          "output_type": "stream",
          "name": "stdout",
          "text": [
            "Model: \"sequential\"\n",
            "_________________________________________________________________\n",
            " Layer (type)                Output Shape              Param #   \n",
            "=================================================================\n",
            " text_vectorization (TextVec  (None, None)             0         \n",
            " torization)                                                     \n",
            "                                                                 \n",
            " embedding (Embedding)       (None, None, 64)          320000    \n",
            "                                                                 \n",
            " bidirectional (Bidirectiona  (None, None, 128)        66048     \n",
            " l)                                                              \n",
            "                                                                 \n",
            " bidirectional_1 (Bidirectio  (None, 64)               41216     \n",
            " nal)                                                            \n",
            "                                                                 \n",
            " dense (Dense)               (None, 64)                4160      \n",
            "                                                                 \n",
            " dense_1 (Dense)             (None, 4)                 260       \n",
            "                                                                 \n",
            "=================================================================\n",
            "Total params: 431,684\n",
            "Trainable params: 431,684\n",
            "Non-trainable params: 0\n",
            "_________________________________________________________________\n"
          ]
        }
      ],
      "source": [
        "model.summary()"
      ]
    }
  ],
  "metadata": {
    "colab": {
      "provenance": []
    },
    "kernelspec": {
      "display_name": "Python 3 (ipykernel)",
      "language": "python",
      "name": "python3"
    },
    "language_info": {
      "codemirror_mode": {
        "name": "ipython",
        "version": 3
      },
      "file_extension": ".py",
      "mimetype": "text/x-python",
      "name": "python",
      "nbconvert_exporter": "python",
      "pygments_lexer": "ipython3",
      "version": "3.9.12"
    }
  },
  "nbformat": 4,
  "nbformat_minor": 5
}