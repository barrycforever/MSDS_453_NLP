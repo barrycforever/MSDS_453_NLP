{
 "cells": [
  {
   "cell_type": "code",
   "execution_count": null,
   "id": "97337634",
   "metadata": {},
   "outputs": [],
   "source": [
    "import re\n",
    "\n",
    "# Use the initials assigned to you on Assignment 0 page on Canvas.\n",
    "StudentName = \"BHC\"\n",
    "\n",
    "# Check that StudentName is three characters or less\n",
    "if len(StudentName) > 3:\n",
    "    raise ValueError(\"StudentName should be initials only and 3 characters or less.\")\n",
    "\n",
    "# Replace with your movie title.\n",
    "MovieTitle = \"Avengers: Endgame\"\n",
    "\n",
    "# Uncomment only one line below to select the genre:\n",
    "#Genre = \"Action\"\n",
    "#Genre = \"Comedy\"\n",
    "#Genre = \"Horror\"\n",
    "#Genre = \"Sci-Fi\"\n",
    "\n",
    "\n",
    "MovieTitle = re.sub(\"\\s\", \"_\", MovieTitle)\n",
    "MovieTitle = re.sub(\":\", \"_\", MovieTitle)\n"
   ]
  },
  {
   "cell_type": "code",
   "execution_count": null,
   "id": "973fbc9c",
   "metadata": {},
   "outputs": [],
   "source": [
    "# Make sure the movie reivews are surrouneded by ends with three double-quotes, like this: \n",
    "#  \"\"\"Movie review movie review movie review.\"\"\"\n",
    "\n",
    "# If you get an error:\n",
    "#     SyntaxError: unterminated string literal\n",
    "# , that's because there might be more than three double-quotes at the end of the movie review."
   ]
  },
  {
   "cell_type": "code",
   "execution_count": null,
   "id": "30fb7657",
   "metadata": {},
   "outputs": [],
   "source": [
    "# Uncomment below for saving to Google Drive from Google Colab\n",
    "\n",
    "#from google.colab import drive\n",
    "\n",
    "#drive.mount('/content/gdrive/My Drive')\n",
    "##drive.mount('/content/gdrive/')"
   ]
  },
  {
   "cell_type": "code",
   "execution_count": null,
   "id": "86075c41",
   "metadata": {},
   "outputs": [],
   "source": [
    "# UTILITIES\n",
    "\n",
    "!pip install nltk"
   ]
  },
  {
   "cell_type": "code",
   "execution_count": null,
   "id": "fd3d99fb",
   "metadata": {},
   "outputs": [],
   "source": [
    "import nltk\n",
    "from nltk.tokenize import word_tokenize\n",
    "\n",
    "nltk.download('punkt')\n",
    "\n",
    "def check_string_length(s):\n",
    "    number_words= len(word_tokenize(s))\n",
    "    if number_words < 500:\n",
    "        return \"Length too short! \" + number_words + \" words\"\n",
    "    return \"Length okay. \" + str(number_words) + \" words\"\n",
    "\n",
    "def clean_up_white_space(s):\n",
    "    s = ' '.join(s.split())\n",
    "    return s\n"
   ]
  },
  {
   "cell_type": "code",
   "execution_count": null,
   "id": "174ca552",
   "metadata": {},
   "outputs": [],
   "source": [
    "\n",
    "FileName1 = StudentName + \"_Doc1_\" + MovieTitle\n",
    "MovieReview1 = \"\"\"To be filled in by the student\"\"\"\n",
    "\n",
    "MovieReview1 = clean_up_white_space(MovieReview1)\n",
    "print(check_string_length(MovieReview1))\n",
    "\n",
    "# Uncomment one line only\n",
    "#ReviewType1 = \"Positive\"\n",
    "#ReviewType1 = \"Negative\"\n"
   ]
  },
  {
   "cell_type": "code",
   "execution_count": null,
   "id": "2e163d32",
   "metadata": {},
   "outputs": [],
   "source": [
    "\n",
    "FileName2 = StudentName + \"_Doc2_\" + MovieTitle\n",
    "MovieReview2 = \"\"\"To be filled in by the student\"\"\"\n",
    "\n",
    "MovieReview2 = clean_up_white_space(MovieReview2)\n",
    "print(check_string_length(MovieReview2))\n",
    "\n",
    "# Uncomment one line only\n",
    "#ReviewType2 = \"Positive\"\n",
    "#ReviewType2 = \"Negative\"\n"
   ]
  },
  {
   "cell_type": "code",
   "execution_count": null,
   "id": "a4703bb1",
   "metadata": {},
   "outputs": [],
   "source": [
    "\n",
    "FileName3 = StudentName + \"_Doc3_\" + MovieTitle\n",
    "MovieReview3 = \"\"\"To be filled in by the student\"\"\"\n",
    "\n",
    "MovieReview3 = clean_up_white_space(MovieReview3)\n",
    "print(check_string_length(MovieReview3))\n",
    "\n",
    "# Uncomment one line only\n",
    "#ReviewType3 = \"Positive\"\n",
    "#ReviewType3 = \"Negative\"\n"
   ]
  },
  {
   "cell_type": "code",
   "execution_count": null,
   "id": "8ece57df",
   "metadata": {},
   "outputs": [],
   "source": [
    "\n",
    "FileName4 = StudentName + \"_Doc4_\" + MovieTitle\n",
    "MovieReview4 = \"\"\"To be filled in by the student\"\"\"\n",
    "\n",
    "MovieReview4 = clean_up_white_space(MovieReview4)\n",
    "print(check_string_length(MovieReview4))\n",
    "\n",
    "# Uncomment one line only\n",
    "#ReviewType4 = \"Positive\"\n",
    "#ReviewType4 = \"Negative\"\n"
   ]
  },
  {
   "cell_type": "code",
   "execution_count": null,
   "id": "66c61730",
   "metadata": {},
   "outputs": [],
   "source": [
    "\n",
    "FileName5 = StudentName + \"_Doc5_\" + MovieTitle\n",
    "MovieReview5 = \"\"\"To be filled in by the student\"\"\"\n",
    "\n",
    "MovieReview5 = clean_up_white_space(MovieReview5)\n",
    "print(check_string_length(MovieReview5))\n",
    "\n",
    "# Uncomment one line only\n",
    "#ReviewType5 = \"Positive\"\n",
    "#ReviewType5 = \"Negative\"\n"
   ]
  },
  {
   "cell_type": "code",
   "execution_count": null,
   "id": "2bd1efa1",
   "metadata": {},
   "outputs": [],
   "source": [
    "\n",
    "FileName6 = StudentName + \"_Doc6_\" + MovieTitle\n",
    "MovieReview6 = \"\"\"To be filled in by the student\"\"\"\n",
    "\n",
    "MovieReview6 = clean_up_white_space(MovieReview6)\n",
    "print(check_string_length(MovieReview6))\n",
    "\n",
    "# Uncomment one line only\n",
    "#ReviewType6 = \"Positive\"\n",
    "#ReviewType6 = \"Negative\"\n"
   ]
  },
  {
   "cell_type": "code",
   "execution_count": null,
   "id": "16869649",
   "metadata": {},
   "outputs": [],
   "source": [
    "\n",
    "FileName7 = StudentName + \"_Doc7_\" + MovieTitle\n",
    "MovieReview7 = \"\"\"To be filled in by the student\"\"\"\n",
    "\n",
    "MovieReview7 = clean_up_white_space(MovieReview7)\n",
    "print(check_string_length(MovieReview7))\n",
    "\n",
    "# Uncomment one line only\n",
    "#ReviewType7 = \"Positive\"\n",
    "#ReviewType7 = \"Negative\"\n"
   ]
  },
  {
   "cell_type": "code",
   "execution_count": null,
   "id": "c93826eb",
   "metadata": {},
   "outputs": [],
   "source": [
    "\n",
    "FileName8 = StudentName + \"_Doc8_\" + MovieTitle\n",
    "MovieReview8 = \"\"\"To be filled in by the student\"\"\"\n",
    "\n",
    "MovieReview8 = clean_up_white_space(MovieReview8)\n",
    "print(check_string_length(MovieReview8))\n",
    "\n",
    "# Uncomment one line only\n",
    "#ReviewType8 = \"Positive\"\n",
    "#ReviewType8 = \"Negative\"\n"
   ]
  },
  {
   "cell_type": "code",
   "execution_count": null,
   "id": "8d036559",
   "metadata": {},
   "outputs": [],
   "source": [
    "\n",
    "FileName9 = StudentName + \"_Doc9_\" + MovieTitle\n",
    "MovieReview9 = \"\"\"To be filled in by the student\"\"\"\n",
    "\n",
    "MovieReview9 = clean_up_white_space(MovieReview9)\n",
    "print(check_string_length(MovieReview9))\n",
    "\n",
    "# Uncomment one line only\n",
    "#ReviewType9 = \"Positive\"\n",
    "#ReviewType9 = \"Negative\"\n"
   ]
  },
  {
   "cell_type": "code",
   "execution_count": null,
   "id": "903bfefb",
   "metadata": {},
   "outputs": [],
   "source": [
    "\n",
    "FileName10 = StudentName + \"_Doc10_\" + MovieTitle\n",
    "MovieReview10 = \"\"\"To be filled in by the student\"\"\"\n",
    "\n",
    "MovieReview10 = clean_up_white_space(MovieReview10)\n",
    "print(check_string_length(MovieReview10))\n",
    "\n",
    "# Uncomment one line only\n",
    "#ReviewType10 = \"Positive\"\n",
    "#ReviewType10 = \"Negative\"\n"
   ]
  },
  {
   "cell_type": "code",
   "execution_count": null,
   "id": "9a771190",
   "metadata": {},
   "outputs": [],
   "source": [
    "\n",
    "import unicodedata\n",
    "\n",
    "# Function to flatten text to ASCII\n",
    "def flatten_to_ascii(text):\n",
    "    # Convert smart quotes and curly apostrophes\n",
    "    text = text.replace('“', '\"').replace('”', '\"').replace('‘', \"'\").replace('’', \"'\")\n",
    "    \n",
    "    # Flatten to closest ASCII character\n",
    "    return unicodedata.normalize('NFKD', text).encode('ascii', 'ignore').decode('utf-8')\n"
   ]
  },
  {
   "cell_type": "code",
   "execution_count": null,
   "id": "05e2cbf0",
   "metadata": {},
   "outputs": [],
   "source": [
    "import pandas as pd\n",
    "\n",
    "# Flatten the movie reviews to ASCII\n",
    "movie_reviews = [MovieReview1, MovieReview2, MovieReview3, MovieReview4, MovieReview5, MovieReview6, MovieReview7, MovieReview8, MovieReview9, MovieReview10]\n",
    "flattened_reviews = [flatten_to_ascii(review) for review in movie_reviews]\n",
    "\n",
    "# Verify that there are 5 positive and 5 negative reviews\n",
    "positive_count = sum(1 for rt in [ReviewType1, ReviewType2, ReviewType3, ReviewType4, ReviewType5, ReviewType6, ReviewType7, ReviewType8, ReviewType9, ReviewType10] if rt == \"Positive\")\n",
    "negative_count = sum(1 for rt in [ReviewType1, ReviewType2, ReviewType3, ReviewType4, ReviewType5, ReviewType6, ReviewType7, ReviewType8, ReviewType9, ReviewType10] if rt == \"Negative\")\n",
    "if positive_count != 5 or negative_count != 5:\n",
    "    raise ValueError(f\"Number of Positive Reviews: {positive_count}, Number of Negative Reviews: {negative_count}. Ensure you have 5 of each.\")\n",
    "\n",
    "# Construct the metadata dataframe\n",
    "meta_data = {\n",
    "    'FileName': [FileName1, FileName2, FileName3, FileName4, FileName5, FileName6, FileName7, FileName8, FileName9, FileName10],\n",
    "    'StudentName': [StudentName] * 10,\n",
    "    'Genre': [Genre] * 10,\n",
    "    'ReviewType': [ReviewType1, ReviewType2, ReviewType3, ReviewType4, ReviewType5, ReviewType6, ReviewType7, ReviewType8, ReviewType9, ReviewType10],\n",
    "    'MovieTitle': [MovieTitle] * 10\n",
    "}\n",
    "meta_df = pd.DataFrame(meta_data)\n",
    "\n",
    "# Construct the movie review dataframe\n",
    "review_data = {\n",
    "    'FileName': [FileName1, FileName2, FileName3, FileName4, FileName5, FileName6, FileName7, FileName8, FileName9, FileName10],\n",
    "    'MovieReview': flattened_reviews\n",
    "}\n",
    "review_df = pd.DataFrame(review_data)\n",
    "\n",
    "# Save the dataframes as ASCII CSV files\n",
    "meta_df.to_csv(StudentName+'_MetaData.csv', index=False, encoding='ascii')\n",
    "review_df.to_csv(StudentName+'_MovieReview.csv', index=False, encoding='ascii')\n"
   ]
  },
  {
   "cell_type": "code",
   "execution_count": null,
   "id": "4d11cb67",
   "metadata": {},
   "outputs": [],
   "source": [
    "# Please save and turn in your Python notebook along with the two CSV files (MetaData and MovieRreview).\n",
    "# Thank you!"
   ]
  },
  {
   "cell_type": "code",
   "execution_count": null,
   "id": "6534262d",
   "metadata": {},
   "outputs": [],
   "source": [
    "# Please submit two CSV files, NOT Microsoft Excel *.XLSX spreadsheets and not Apple Numbers spreadsheets \n",
    "# and not a ZIP file. "
   ]
  }
 ],
 "metadata": {
  "kernelspec": {
   "display_name": "Python 3 (ipykernel)",
   "language": "python",
   "name": "python3"
  },
  "language_info": {
   "codemirror_mode": {
    "name": "ipython",
    "version": 3
   },
   "file_extension": ".py",
   "mimetype": "text/x-python",
   "name": "python",
   "nbconvert_exporter": "python",
   "pygments_lexer": "ipython3",
   "version": "3.9.12"
  }
 },
 "nbformat": 4,
 "nbformat_minor": 5
}
