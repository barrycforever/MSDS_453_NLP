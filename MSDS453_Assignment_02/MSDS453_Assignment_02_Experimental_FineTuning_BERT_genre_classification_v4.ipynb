{
  "cells": [
    {
      "cell_type": "markdown",
      "id": "UuzRb2VzqYW7",
      "metadata": {
        "id": "UuzRb2VzqYW7"
      },
      "source": [
        "<img src=\"https://github.com/djp840/MSDS_453_Public/blob/main/images/NorthwesternHeader.png?raw=1\">"
      ]
    },
    {
      "cell_type": "markdown",
      "id": "d0q31pJWqYW8",
      "metadata": {
        "id": "d0q31pJWqYW8"
      },
      "source": [
        "## **MSDS453 - Research Assignment 02 - Classification and Clustering - Experimental Fine Tuning **"
      ]
    },
    {
      "cell_type": "markdown",
      "id": "dxT0m371qYW9",
      "metadata": {
        "id": "dxT0m371qYW9"
      },
      "source": [
        "Clustering methods compute a similarity (or closeness) measure, such as Euclidean distance, in order to decide whether two documents are ‘similar’ or not.  \n",
        "\n",
        "Use the entire class corpus and do sentiment analysis for the positive and negative reviews.\n",
        "\n",
        "Topic modeling is another way to group ‘similar’ documents into ‘clusters’."
      ]
    },
    {
      "cell_type": "markdown",
      "id": "JW9Ff5qJydRH",
      "metadata": {
        "id": "JW9Ff5qJydRH"
      },
      "source": [
        "# **1. Modules and Loading Data Set via Google Drive**"
      ]
    },
    {
      "cell_type": "code",
      "execution_count": null,
      "id": "LyHANwbHac0Z",
      "metadata": {
        "colab": {
          "base_uri": "https://localhost:8080/"
        },
        "id": "LyHANwbHac0Z",
        "outputId": "4a0c1b38-47b6-443b-b7d6-4d47c106a65a"
      },
      "outputs": [
        {
          "output_type": "stream",
          "name": "stdout",
          "text": [
            "Requirement already satisfied: transformers in /usr/local/lib/python3.10/dist-packages (4.38.2)\n",
            "Collecting datasets\n",
            "  Downloading datasets-2.18.0-py3-none-any.whl (510 kB)\n",
            "\u001b[2K     \u001b[90m━━━━━━━━━━━━━━━━━━━━━━━━━━━━━━━━━━━━━━━━\u001b[0m \u001b[32m510.5/510.5 kB\u001b[0m \u001b[31m5.2 MB/s\u001b[0m eta \u001b[36m0:00:00\u001b[0m\n",
            "\u001b[?25hRequirement already satisfied: torch in /usr/local/lib/python3.10/dist-packages (2.2.1+cu121)\n",
            "Collecting sklearn\n",
            "  Downloading sklearn-0.0.post12.tar.gz (2.6 kB)\n",
            "  \u001b[1;31merror\u001b[0m: \u001b[1msubprocess-exited-with-error\u001b[0m\n",
            "  \n",
            "  \u001b[31m×\u001b[0m \u001b[32mpython setup.py egg_info\u001b[0m did not run successfully.\n",
            "  \u001b[31m│\u001b[0m exit code: \u001b[1;36m1\u001b[0m\n",
            "  \u001b[31m╰─>\u001b[0m See above for output.\n",
            "  \n",
            "  \u001b[1;35mnote\u001b[0m: This error originates from a subprocess, and is likely not a problem with pip.\n",
            "  Preparing metadata (setup.py) ... \u001b[?25l\u001b[?25herror\n",
            "\u001b[1;31merror\u001b[0m: \u001b[1mmetadata-generation-failed\u001b[0m\n",
            "\n",
            "\u001b[31m×\u001b[0m Encountered error while generating package metadata.\n",
            "\u001b[31m╰─>\u001b[0m See above for output.\n",
            "\n",
            "\u001b[1;35mnote\u001b[0m: This is an issue with the package mentioned above, not pip.\n",
            "\u001b[1;36mhint\u001b[0m: See above for details.\n",
            "Collecting datasets\n",
            "  Using cached datasets-2.18.0-py3-none-any.whl (510 kB)\n",
            "Requirement already satisfied: filelock in /usr/local/lib/python3.10/dist-packages (from datasets) (3.13.4)\n",
            "Requirement already satisfied: numpy>=1.17 in /usr/local/lib/python3.10/dist-packages (from datasets) (1.25.2)\n",
            "Requirement already satisfied: pyarrow>=12.0.0 in /usr/local/lib/python3.10/dist-packages (from datasets) (14.0.2)\n",
            "Requirement already satisfied: pyarrow-hotfix in /usr/local/lib/python3.10/dist-packages (from datasets) (0.6)\n",
            "Collecting dill<0.3.9,>=0.3.0 (from datasets)\n",
            "  Downloading dill-0.3.8-py3-none-any.whl (116 kB)\n",
            "\u001b[2K     \u001b[90m━━━━━━━━━━━━━━━━━━━━━━━━━━━━━━━━━━━━━━━━\u001b[0m \u001b[32m116.3/116.3 kB\u001b[0m \u001b[31m2.2 MB/s\u001b[0m eta \u001b[36m0:00:00\u001b[0m\n",
            "\u001b[?25hRequirement already satisfied: pandas in /usr/local/lib/python3.10/dist-packages (from datasets) (2.0.3)\n",
            "Requirement already satisfied: requests>=2.19.0 in /usr/local/lib/python3.10/dist-packages (from datasets) (2.31.0)\n",
            "Requirement already satisfied: tqdm>=4.62.1 in /usr/local/lib/python3.10/dist-packages (from datasets) (4.66.2)\n",
            "Collecting xxhash (from datasets)\n",
            "  Downloading xxhash-3.4.1-cp310-cp310-manylinux_2_17_x86_64.manylinux2014_x86_64.whl (194 kB)\n",
            "\u001b[2K     \u001b[90m━━━━━━━━━━━━━━━━━━━━━━━━━━━━━━━━━━━━━━━━\u001b[0m \u001b[32m194.1/194.1 kB\u001b[0m \u001b[31m1.9 MB/s\u001b[0m eta \u001b[36m0:00:00\u001b[0m\n",
            "\u001b[?25hCollecting multiprocess (from datasets)\n",
            "  Downloading multiprocess-0.70.16-py310-none-any.whl (134 kB)\n",
            "\u001b[2K     \u001b[90m━━━━━━━━━━━━━━━━━━━━━━━━━━━━━━━━━━━━━━━━\u001b[0m \u001b[32m134.8/134.8 kB\u001b[0m \u001b[31m5.1 MB/s\u001b[0m eta \u001b[36m0:00:00\u001b[0m\n",
            "\u001b[?25hRequirement already satisfied: fsspec[http]<=2024.2.0,>=2023.1.0 in /usr/local/lib/python3.10/dist-packages (from datasets) (2023.6.0)\n",
            "Requirement already satisfied: aiohttp in /usr/local/lib/python3.10/dist-packages (from datasets) (3.9.3)\n",
            "Requirement already satisfied: huggingface-hub>=0.19.4 in /usr/local/lib/python3.10/dist-packages (from datasets) (0.20.3)\n",
            "Requirement already satisfied: packaging in /usr/local/lib/python3.10/dist-packages (from datasets) (24.0)\n",
            "Requirement already satisfied: pyyaml>=5.1 in /usr/local/lib/python3.10/dist-packages (from datasets) (6.0.1)\n",
            "Requirement already satisfied: aiosignal>=1.1.2 in /usr/local/lib/python3.10/dist-packages (from aiohttp->datasets) (1.3.1)\n",
            "Requirement already satisfied: attrs>=17.3.0 in /usr/local/lib/python3.10/dist-packages (from aiohttp->datasets) (23.2.0)\n",
            "Requirement already satisfied: frozenlist>=1.1.1 in /usr/local/lib/python3.10/dist-packages (from aiohttp->datasets) (1.4.1)\n",
            "Requirement already satisfied: multidict<7.0,>=4.5 in /usr/local/lib/python3.10/dist-packages (from aiohttp->datasets) (6.0.5)\n",
            "Requirement already satisfied: yarl<2.0,>=1.0 in /usr/local/lib/python3.10/dist-packages (from aiohttp->datasets) (1.9.4)\n",
            "Requirement already satisfied: async-timeout<5.0,>=4.0 in /usr/local/lib/python3.10/dist-packages (from aiohttp->datasets) (4.0.3)\n",
            "Requirement already satisfied: typing-extensions>=3.7.4.3 in /usr/local/lib/python3.10/dist-packages (from huggingface-hub>=0.19.4->datasets) (4.11.0)\n",
            "Requirement already satisfied: charset-normalizer<4,>=2 in /usr/local/lib/python3.10/dist-packages (from requests>=2.19.0->datasets) (3.3.2)\n",
            "Requirement already satisfied: idna<4,>=2.5 in /usr/local/lib/python3.10/dist-packages (from requests>=2.19.0->datasets) (3.6)\n",
            "Requirement already satisfied: urllib3<3,>=1.21.1 in /usr/local/lib/python3.10/dist-packages (from requests>=2.19.0->datasets) (2.0.7)\n",
            "Requirement already satisfied: certifi>=2017.4.17 in /usr/local/lib/python3.10/dist-packages (from requests>=2.19.0->datasets) (2024.2.2)\n",
            "Requirement already satisfied: python-dateutil>=2.8.2 in /usr/local/lib/python3.10/dist-packages (from pandas->datasets) (2.8.2)\n",
            "Requirement already satisfied: pytz>=2020.1 in /usr/local/lib/python3.10/dist-packages (from pandas->datasets) (2023.4)\n",
            "Requirement already satisfied: tzdata>=2022.1 in /usr/local/lib/python3.10/dist-packages (from pandas->datasets) (2024.1)\n",
            "Requirement already satisfied: six>=1.5 in /usr/local/lib/python3.10/dist-packages (from python-dateutil>=2.8.2->pandas->datasets) (1.16.0)\n",
            "Installing collected packages: xxhash, dill, multiprocess, datasets\n",
            "Successfully installed datasets-2.18.0 dill-0.3.8 multiprocess-0.70.16 xxhash-3.4.1\n",
            "Requirement already satisfied: transformers in /usr/local/lib/python3.10/dist-packages (4.38.2)\n",
            "Requirement already satisfied: torch in /usr/local/lib/python3.10/dist-packages (2.2.1+cu121)\n",
            "Requirement already satisfied: filelock in /usr/local/lib/python3.10/dist-packages (from transformers) (3.13.4)\n",
            "Requirement already satisfied: huggingface-hub<1.0,>=0.19.3 in /usr/local/lib/python3.10/dist-packages (from transformers) (0.20.3)\n",
            "Requirement already satisfied: numpy>=1.17 in /usr/local/lib/python3.10/dist-packages (from transformers) (1.25.2)\n",
            "Requirement already satisfied: packaging>=20.0 in /usr/local/lib/python3.10/dist-packages (from transformers) (24.0)\n",
            "Requirement already satisfied: pyyaml>=5.1 in /usr/local/lib/python3.10/dist-packages (from transformers) (6.0.1)\n",
            "Requirement already satisfied: regex!=2019.12.17 in /usr/local/lib/python3.10/dist-packages (from transformers) (2023.12.25)\n",
            "Requirement already satisfied: requests in /usr/local/lib/python3.10/dist-packages (from transformers) (2.31.0)\n",
            "Requirement already satisfied: tokenizers<0.19,>=0.14 in /usr/local/lib/python3.10/dist-packages (from transformers) (0.15.2)\n",
            "Requirement already satisfied: safetensors>=0.4.1 in /usr/local/lib/python3.10/dist-packages (from transformers) (0.4.2)\n",
            "Requirement already satisfied: tqdm>=4.27 in /usr/local/lib/python3.10/dist-packages (from transformers) (4.66.2)\n",
            "Requirement already satisfied: typing-extensions>=4.8.0 in /usr/local/lib/python3.10/dist-packages (from torch) (4.11.0)\n",
            "Requirement already satisfied: sympy in /usr/local/lib/python3.10/dist-packages (from torch) (1.12)\n",
            "Requirement already satisfied: networkx in /usr/local/lib/python3.10/dist-packages (from torch) (3.3)\n",
            "Requirement already satisfied: jinja2 in /usr/local/lib/python3.10/dist-packages (from torch) (3.1.3)\n",
            "Requirement already satisfied: fsspec in /usr/local/lib/python3.10/dist-packages (from torch) (2023.6.0)\n",
            "Collecting nvidia-cuda-nvrtc-cu12==12.1.105 (from torch)\n",
            "  Using cached nvidia_cuda_nvrtc_cu12-12.1.105-py3-none-manylinux1_x86_64.whl (23.7 MB)\n",
            "Collecting nvidia-cuda-runtime-cu12==12.1.105 (from torch)\n",
            "  Using cached nvidia_cuda_runtime_cu12-12.1.105-py3-none-manylinux1_x86_64.whl (823 kB)\n",
            "Collecting nvidia-cuda-cupti-cu12==12.1.105 (from torch)\n",
            "  Using cached nvidia_cuda_cupti_cu12-12.1.105-py3-none-manylinux1_x86_64.whl (14.1 MB)\n",
            "Collecting nvidia-cudnn-cu12==8.9.2.26 (from torch)\n",
            "  Using cached nvidia_cudnn_cu12-8.9.2.26-py3-none-manylinux1_x86_64.whl (731.7 MB)\n",
            "Collecting nvidia-cublas-cu12==12.1.3.1 (from torch)\n",
            "  Using cached nvidia_cublas_cu12-12.1.3.1-py3-none-manylinux1_x86_64.whl (410.6 MB)\n",
            "Collecting nvidia-cufft-cu12==11.0.2.54 (from torch)\n",
            "  Using cached nvidia_cufft_cu12-11.0.2.54-py3-none-manylinux1_x86_64.whl (121.6 MB)\n",
            "Collecting nvidia-curand-cu12==10.3.2.106 (from torch)\n",
            "  Using cached nvidia_curand_cu12-10.3.2.106-py3-none-manylinux1_x86_64.whl (56.5 MB)\n",
            "Collecting nvidia-cusolver-cu12==11.4.5.107 (from torch)\n",
            "  Using cached nvidia_cusolver_cu12-11.4.5.107-py3-none-manylinux1_x86_64.whl (124.2 MB)\n",
            "Collecting nvidia-cusparse-cu12==12.1.0.106 (from torch)\n",
            "  Using cached nvidia_cusparse_cu12-12.1.0.106-py3-none-manylinux1_x86_64.whl (196.0 MB)\n",
            "Collecting nvidia-nccl-cu12==2.19.3 (from torch)\n",
            "  Using cached nvidia_nccl_cu12-2.19.3-py3-none-manylinux1_x86_64.whl (166.0 MB)\n",
            "Collecting nvidia-nvtx-cu12==12.1.105 (from torch)\n",
            "  Using cached nvidia_nvtx_cu12-12.1.105-py3-none-manylinux1_x86_64.whl (99 kB)\n",
            "Requirement already satisfied: triton==2.2.0 in /usr/local/lib/python3.10/dist-packages (from torch) (2.2.0)\n",
            "Collecting nvidia-nvjitlink-cu12 (from nvidia-cusolver-cu12==11.4.5.107->torch)\n",
            "  Using cached nvidia_nvjitlink_cu12-12.4.127-py3-none-manylinux2014_x86_64.whl (21.1 MB)\n",
            "Requirement already satisfied: MarkupSafe>=2.0 in /usr/local/lib/python3.10/dist-packages (from jinja2->torch) (2.1.5)\n",
            "Requirement already satisfied: charset-normalizer<4,>=2 in /usr/local/lib/python3.10/dist-packages (from requests->transformers) (3.3.2)\n",
            "Requirement already satisfied: idna<4,>=2.5 in /usr/local/lib/python3.10/dist-packages (from requests->transformers) (3.6)\n",
            "Requirement already satisfied: urllib3<3,>=1.21.1 in /usr/local/lib/python3.10/dist-packages (from requests->transformers) (2.0.7)\n",
            "Requirement already satisfied: certifi>=2017.4.17 in /usr/local/lib/python3.10/dist-packages (from requests->transformers) (2024.2.2)\n",
            "Requirement already satisfied: mpmath>=0.19 in /usr/local/lib/python3.10/dist-packages (from sympy->torch) (1.3.0)\n",
            "Installing collected packages: nvidia-nvtx-cu12, nvidia-nvjitlink-cu12, nvidia-nccl-cu12, nvidia-curand-cu12, nvidia-cufft-cu12, nvidia-cuda-runtime-cu12, nvidia-cuda-nvrtc-cu12, nvidia-cuda-cupti-cu12, nvidia-cublas-cu12, nvidia-cusparse-cu12, nvidia-cudnn-cu12, nvidia-cusolver-cu12\n",
            "Successfully installed nvidia-cublas-cu12-12.1.3.1 nvidia-cuda-cupti-cu12-12.1.105 nvidia-cuda-nvrtc-cu12-12.1.105 nvidia-cuda-runtime-cu12-12.1.105 nvidia-cudnn-cu12-8.9.2.26 nvidia-cufft-cu12-11.0.2.54 nvidia-curand-cu12-10.3.2.106 nvidia-cusolver-cu12-11.4.5.107 nvidia-cusparse-cu12-12.1.0.106 nvidia-nccl-cu12-2.19.3 nvidia-nvjitlink-cu12-12.4.127 nvidia-nvtx-cu12-12.1.105\n"
          ]
        }
      ],
      "source": [
        "!pip install transformers datasets torch sklearn\n",
        "!pip install datasets\n",
        "!pip install transformers torch"
      ]
    },
    {
      "cell_type": "code",
      "execution_count": null,
      "id": "PbOwvslOad6m",
      "metadata": {
        "colab": {
          "base_uri": "https://localhost:8080/"
        },
        "id": "PbOwvslOad6m",
        "outputId": "6d655703-5d28-4839-a741-b398739f9d85"
      },
      "outputs": [
        {
          "output_type": "stream",
          "name": "stdout",
          "text": [
            "Collecting accelerate\n",
            "  Downloading accelerate-0.29.2-py3-none-any.whl (297 kB)\n",
            "\u001b[?25l     \u001b[90m━━━━━━━━━━━━━━━━━━━━━━━━━━━━━━━━━━━━━━━━\u001b[0m \u001b[32m0.0/297.4 kB\u001b[0m \u001b[31m?\u001b[0m eta \u001b[36m-:--:--\u001b[0m\r\u001b[2K     \u001b[91m━━━━━━━━━━━━━━━\u001b[0m\u001b[90m╺\u001b[0m\u001b[90m━━━━━━━━━━━━━━━━━━━━━━━━\u001b[0m \u001b[32m112.6/297.4 kB\u001b[0m \u001b[31m3.4 MB/s\u001b[0m eta \u001b[36m0:00:01\u001b[0m\r\u001b[2K     \u001b[90m━━━━━━━━━━━━━━━━━━━━━━━━━━━━━━━━━━━━━━━━\u001b[0m \u001b[32m297.4/297.4 kB\u001b[0m \u001b[31m5.0 MB/s\u001b[0m eta \u001b[36m0:00:00\u001b[0m\n",
            "\u001b[?25hRequirement already satisfied: numpy>=1.17 in /usr/local/lib/python3.10/dist-packages (from accelerate) (1.25.2)\n",
            "Requirement already satisfied: packaging>=20.0 in /usr/local/lib/python3.10/dist-packages (from accelerate) (24.0)\n",
            "Requirement already satisfied: psutil in /usr/local/lib/python3.10/dist-packages (from accelerate) (5.9.5)\n",
            "Requirement already satisfied: pyyaml in /usr/local/lib/python3.10/dist-packages (from accelerate) (6.0.1)\n",
            "Requirement already satisfied: torch>=1.10.0 in /usr/local/lib/python3.10/dist-packages (from accelerate) (2.2.1+cu121)\n",
            "Requirement already satisfied: huggingface-hub in /usr/local/lib/python3.10/dist-packages (from accelerate) (0.20.3)\n",
            "Requirement already satisfied: safetensors>=0.3.1 in /usr/local/lib/python3.10/dist-packages (from accelerate) (0.4.2)\n",
            "Requirement already satisfied: filelock in /usr/local/lib/python3.10/dist-packages (from torch>=1.10.0->accelerate) (3.13.4)\n",
            "Requirement already satisfied: typing-extensions>=4.8.0 in /usr/local/lib/python3.10/dist-packages (from torch>=1.10.0->accelerate) (4.11.0)\n",
            "Requirement already satisfied: sympy in /usr/local/lib/python3.10/dist-packages (from torch>=1.10.0->accelerate) (1.12)\n",
            "Requirement already satisfied: networkx in /usr/local/lib/python3.10/dist-packages (from torch>=1.10.0->accelerate) (3.3)\n",
            "Requirement already satisfied: jinja2 in /usr/local/lib/python3.10/dist-packages (from torch>=1.10.0->accelerate) (3.1.3)\n",
            "Requirement already satisfied: fsspec in /usr/local/lib/python3.10/dist-packages (from torch>=1.10.0->accelerate) (2023.6.0)\n",
            "Requirement already satisfied: nvidia-cuda-nvrtc-cu12==12.1.105 in /usr/local/lib/python3.10/dist-packages (from torch>=1.10.0->accelerate) (12.1.105)\n",
            "Requirement already satisfied: nvidia-cuda-runtime-cu12==12.1.105 in /usr/local/lib/python3.10/dist-packages (from torch>=1.10.0->accelerate) (12.1.105)\n",
            "Requirement already satisfied: nvidia-cuda-cupti-cu12==12.1.105 in /usr/local/lib/python3.10/dist-packages (from torch>=1.10.0->accelerate) (12.1.105)\n",
            "Requirement already satisfied: nvidia-cudnn-cu12==8.9.2.26 in /usr/local/lib/python3.10/dist-packages (from torch>=1.10.0->accelerate) (8.9.2.26)\n",
            "Requirement already satisfied: nvidia-cublas-cu12==12.1.3.1 in /usr/local/lib/python3.10/dist-packages (from torch>=1.10.0->accelerate) (12.1.3.1)\n",
            "Requirement already satisfied: nvidia-cufft-cu12==11.0.2.54 in /usr/local/lib/python3.10/dist-packages (from torch>=1.10.0->accelerate) (11.0.2.54)\n",
            "Requirement already satisfied: nvidia-curand-cu12==10.3.2.106 in /usr/local/lib/python3.10/dist-packages (from torch>=1.10.0->accelerate) (10.3.2.106)\n",
            "Requirement already satisfied: nvidia-cusolver-cu12==11.4.5.107 in /usr/local/lib/python3.10/dist-packages (from torch>=1.10.0->accelerate) (11.4.5.107)\n",
            "Requirement already satisfied: nvidia-cusparse-cu12==12.1.0.106 in /usr/local/lib/python3.10/dist-packages (from torch>=1.10.0->accelerate) (12.1.0.106)\n",
            "Requirement already satisfied: nvidia-nccl-cu12==2.19.3 in /usr/local/lib/python3.10/dist-packages (from torch>=1.10.0->accelerate) (2.19.3)\n",
            "Requirement already satisfied: nvidia-nvtx-cu12==12.1.105 in /usr/local/lib/python3.10/dist-packages (from torch>=1.10.0->accelerate) (12.1.105)\n",
            "Requirement already satisfied: triton==2.2.0 in /usr/local/lib/python3.10/dist-packages (from torch>=1.10.0->accelerate) (2.2.0)\n",
            "Requirement already satisfied: nvidia-nvjitlink-cu12 in /usr/local/lib/python3.10/dist-packages (from nvidia-cusolver-cu12==11.4.5.107->torch>=1.10.0->accelerate) (12.4.127)\n",
            "Requirement already satisfied: requests in /usr/local/lib/python3.10/dist-packages (from huggingface-hub->accelerate) (2.31.0)\n",
            "Requirement already satisfied: tqdm>=4.42.1 in /usr/local/lib/python3.10/dist-packages (from huggingface-hub->accelerate) (4.66.2)\n",
            "Requirement already satisfied: MarkupSafe>=2.0 in /usr/local/lib/python3.10/dist-packages (from jinja2->torch>=1.10.0->accelerate) (2.1.5)\n",
            "Requirement already satisfied: charset-normalizer<4,>=2 in /usr/local/lib/python3.10/dist-packages (from requests->huggingface-hub->accelerate) (3.3.2)\n",
            "Requirement already satisfied: idna<4,>=2.5 in /usr/local/lib/python3.10/dist-packages (from requests->huggingface-hub->accelerate) (3.6)\n",
            "Requirement already satisfied: urllib3<3,>=1.21.1 in /usr/local/lib/python3.10/dist-packages (from requests->huggingface-hub->accelerate) (2.0.7)\n",
            "Requirement already satisfied: certifi>=2017.4.17 in /usr/local/lib/python3.10/dist-packages (from requests->huggingface-hub->accelerate) (2024.2.2)\n",
            "Requirement already satisfied: mpmath>=0.19 in /usr/local/lib/python3.10/dist-packages (from sympy->torch>=1.10.0->accelerate) (1.3.0)\n",
            "Installing collected packages: accelerate\n",
            "Successfully installed accelerate-0.29.2\n"
          ]
        }
      ],
      "source": [
        "!pip install accelerate -U"
      ]
    },
    {
      "cell_type": "code",
      "execution_count": null,
      "id": "4TbBdxWmadsz",
      "metadata": {
        "colab": {
          "base_uri": "https://localhost:8080/"
        },
        "id": "4TbBdxWmadsz",
        "outputId": "7324e009-2227-4ffe-9282-2803d2a3728e"
      },
      "outputs": [
        {
          "output_type": "stream",
          "name": "stdout",
          "text": [
            "Requirement already satisfied: transformers[torch] in /usr/local/lib/python3.10/dist-packages (4.38.2)\n",
            "Collecting transformers[torch]\n",
            "  Downloading transformers-4.39.3-py3-none-any.whl (8.8 MB)\n",
            "\u001b[2K     \u001b[90m━━━━━━━━━━━━━━━━━━━━━━━━━━━━━━━━━━━━━━━━\u001b[0m \u001b[32m8.8/8.8 MB\u001b[0m \u001b[31m17.8 MB/s\u001b[0m eta \u001b[36m0:00:00\u001b[0m\n",
            "\u001b[?25hRequirement already satisfied: filelock in /usr/local/lib/python3.10/dist-packages (from transformers[torch]) (3.13.4)\n",
            "Requirement already satisfied: huggingface-hub<1.0,>=0.19.3 in /usr/local/lib/python3.10/dist-packages (from transformers[torch]) (0.20.3)\n",
            "Requirement already satisfied: numpy>=1.17 in /usr/local/lib/python3.10/dist-packages (from transformers[torch]) (1.25.2)\n",
            "Requirement already satisfied: packaging>=20.0 in /usr/local/lib/python3.10/dist-packages (from transformers[torch]) (24.0)\n",
            "Requirement already satisfied: pyyaml>=5.1 in /usr/local/lib/python3.10/dist-packages (from transformers[torch]) (6.0.1)\n",
            "Requirement already satisfied: regex!=2019.12.17 in /usr/local/lib/python3.10/dist-packages (from transformers[torch]) (2023.12.25)\n",
            "Requirement already satisfied: requests in /usr/local/lib/python3.10/dist-packages (from transformers[torch]) (2.31.0)\n",
            "Requirement already satisfied: tokenizers<0.19,>=0.14 in /usr/local/lib/python3.10/dist-packages (from transformers[torch]) (0.15.2)\n",
            "Requirement already satisfied: safetensors>=0.4.1 in /usr/local/lib/python3.10/dist-packages (from transformers[torch]) (0.4.2)\n",
            "Requirement already satisfied: tqdm>=4.27 in /usr/local/lib/python3.10/dist-packages (from transformers[torch]) (4.66.2)\n",
            "Requirement already satisfied: torch in /usr/local/lib/python3.10/dist-packages (from transformers[torch]) (2.2.1+cu121)\n",
            "Requirement already satisfied: accelerate>=0.21.0 in /usr/local/lib/python3.10/dist-packages (from transformers[torch]) (0.29.2)\n",
            "Requirement already satisfied: psutil in /usr/local/lib/python3.10/dist-packages (from accelerate>=0.21.0->transformers[torch]) (5.9.5)\n",
            "Requirement already satisfied: fsspec>=2023.5.0 in /usr/local/lib/python3.10/dist-packages (from huggingface-hub<1.0,>=0.19.3->transformers[torch]) (2023.6.0)\n",
            "Requirement already satisfied: typing-extensions>=3.7.4.3 in /usr/local/lib/python3.10/dist-packages (from huggingface-hub<1.0,>=0.19.3->transformers[torch]) (4.11.0)\n",
            "Requirement already satisfied: sympy in /usr/local/lib/python3.10/dist-packages (from torch->transformers[torch]) (1.12)\n",
            "Requirement already satisfied: networkx in /usr/local/lib/python3.10/dist-packages (from torch->transformers[torch]) (3.3)\n",
            "Requirement already satisfied: jinja2 in /usr/local/lib/python3.10/dist-packages (from torch->transformers[torch]) (3.1.3)\n",
            "Requirement already satisfied: nvidia-cuda-nvrtc-cu12==12.1.105 in /usr/local/lib/python3.10/dist-packages (from torch->transformers[torch]) (12.1.105)\n",
            "Requirement already satisfied: nvidia-cuda-runtime-cu12==12.1.105 in /usr/local/lib/python3.10/dist-packages (from torch->transformers[torch]) (12.1.105)\n",
            "Requirement already satisfied: nvidia-cuda-cupti-cu12==12.1.105 in /usr/local/lib/python3.10/dist-packages (from torch->transformers[torch]) (12.1.105)\n",
            "Requirement already satisfied: nvidia-cudnn-cu12==8.9.2.26 in /usr/local/lib/python3.10/dist-packages (from torch->transformers[torch]) (8.9.2.26)\n",
            "Requirement already satisfied: nvidia-cublas-cu12==12.1.3.1 in /usr/local/lib/python3.10/dist-packages (from torch->transformers[torch]) (12.1.3.1)\n",
            "Requirement already satisfied: nvidia-cufft-cu12==11.0.2.54 in /usr/local/lib/python3.10/dist-packages (from torch->transformers[torch]) (11.0.2.54)\n",
            "Requirement already satisfied: nvidia-curand-cu12==10.3.2.106 in /usr/local/lib/python3.10/dist-packages (from torch->transformers[torch]) (10.3.2.106)\n",
            "Requirement already satisfied: nvidia-cusolver-cu12==11.4.5.107 in /usr/local/lib/python3.10/dist-packages (from torch->transformers[torch]) (11.4.5.107)\n",
            "Requirement already satisfied: nvidia-cusparse-cu12==12.1.0.106 in /usr/local/lib/python3.10/dist-packages (from torch->transformers[torch]) (12.1.0.106)\n",
            "Requirement already satisfied: nvidia-nccl-cu12==2.19.3 in /usr/local/lib/python3.10/dist-packages (from torch->transformers[torch]) (2.19.3)\n",
            "Requirement already satisfied: nvidia-nvtx-cu12==12.1.105 in /usr/local/lib/python3.10/dist-packages (from torch->transformers[torch]) (12.1.105)\n",
            "Requirement already satisfied: triton==2.2.0 in /usr/local/lib/python3.10/dist-packages (from torch->transformers[torch]) (2.2.0)\n",
            "Requirement already satisfied: nvidia-nvjitlink-cu12 in /usr/local/lib/python3.10/dist-packages (from nvidia-cusolver-cu12==11.4.5.107->torch->transformers[torch]) (12.4.127)\n",
            "Requirement already satisfied: charset-normalizer<4,>=2 in /usr/local/lib/python3.10/dist-packages (from requests->transformers[torch]) (3.3.2)\n",
            "Requirement already satisfied: idna<4,>=2.5 in /usr/local/lib/python3.10/dist-packages (from requests->transformers[torch]) (3.6)\n",
            "Requirement already satisfied: urllib3<3,>=1.21.1 in /usr/local/lib/python3.10/dist-packages (from requests->transformers[torch]) (2.0.7)\n",
            "Requirement already satisfied: certifi>=2017.4.17 in /usr/local/lib/python3.10/dist-packages (from requests->transformers[torch]) (2024.2.2)\n",
            "Requirement already satisfied: MarkupSafe>=2.0 in /usr/local/lib/python3.10/dist-packages (from jinja2->torch->transformers[torch]) (2.1.5)\n",
            "Requirement already satisfied: mpmath>=0.19 in /usr/local/lib/python3.10/dist-packages (from sympy->torch->transformers[torch]) (1.3.0)\n",
            "Installing collected packages: transformers\n",
            "  Attempting uninstall: transformers\n",
            "    Found existing installation: transformers 4.38.2\n",
            "    Uninstalling transformers-4.38.2:\n",
            "      Successfully uninstalled transformers-4.38.2\n",
            "Successfully installed transformers-4.39.3\n"
          ]
        }
      ],
      "source": [
        "!pip install transformers[torch] -U"
      ]
    },
    {
      "cell_type": "code",
      "execution_count": null,
      "id": "PJz4M3zIqYW9",
      "metadata": {
        "id": "PJz4M3zIqYW9"
      },
      "outputs": [],
      "source": [
        "import pandas as pd\n",
        "import os\n",
        "import numpy as np\n",
        "import re\n",
        "import string\n",
        "import seaborn as sns\n",
        "import matplotlib.pyplot as plt\n",
        "import nltk\n",
        "import random\n",
        "from dataclasses import dataclass\n",
        "\n",
        "from nltk.corpus import stopwords\n",
        "from nltk.stem.wordnet import WordNetLemmatizer\n",
        "from nltk.stem import PorterStemmer\n",
        "\n",
        "import gensim\n",
        "from gensim import corpora, similarities\n",
        "from gensim.models import Word2Vec, LdaMulticore, TfidfModel, CoherenceModel\n",
        "from gensim.models.doc2vec import Doc2Vec, TaggedDocument\n",
        "from gensim.models import LsiModel,LdaModel\n",
        "\n",
        "from sklearn.feature_extraction.text import TfidfVectorizer\n",
        "from sklearn.feature_extraction.text import CountVectorizer\n",
        "from sklearn.metrics.pairwise import cosine_similarity\n",
        "from sklearn.manifold import TSNE, MDS\n",
        "from sklearn.cluster import KMeans\n",
        "from sklearn.svm import SVC\n",
        "from sklearn.linear_model import LogisticRegression\n",
        "from sklearn.ensemble import RandomForestClassifier\n",
        "from sklearn.metrics import accuracy_score\n",
        "from sklearn.model_selection import train_test_split, KFold\n",
        "from sklearn.naive_bayes import MultinomialNB\n",
        "\n",
        "import scipy.cluster.hierarchy\n",
        "\n",
        "from IPython.display import display, HTML\n",
        "\n",
        "from typing import List, Callable, Dict\n",
        "\n",
        "from transformers import AutoModelForSequenceClassification, AutoTokenizer, pipeline\n",
        "from sklearn.model_selection import train_test_split\n",
        "from sklearn.preprocessing import LabelEncoder\n",
        "from sklearn.metrics import accuracy_score"
      ]
    },
    {
      "cell_type": "markdown",
      "id": "uLSlMLMXqYW-",
      "metadata": {
        "id": "uLSlMLMXqYW-"
      },
      "source": [
        "### Mount Google Drive to Colab Environment"
      ]
    },
    {
      "cell_type": "markdown",
      "id": "vWq-3co_qYW-",
      "metadata": {
        "id": "vWq-3co_qYW-"
      },
      "source": [
        "<div class=\"alert alert-block alert-success\">\n",
        "    <b>Directories Required for Research Assignment</b>:<br>\n",
        "1. Data Directory - Source Class Corpus Data<br>\n",
        "2. Output Directory - Vocabulary<br>\n",
        "</div>"
      ]
    },
    {
      "cell_type": "markdown",
      "id": "ec0lAT4MqYW-",
      "metadata": {
        "id": "ec0lAT4MqYW-"
      },
      "source": [
        "#### Uncomment To Map Google Drive"
      ]
    },
    {
      "cell_type": "code",
      "execution_count": null,
      "id": "a0wZu-IlqYW-",
      "metadata": {
        "id": "a0wZu-IlqYW-"
      },
      "outputs": [],
      "source": [
        "#from google.colab import drive\n",
        "#drive.mount('/content/gdrive')"
      ]
    },
    {
      "cell_type": "markdown",
      "id": "UM615Twl5zRk",
      "metadata": {
        "id": "UM615Twl5zRk"
      },
      "source": [
        "&nbsp;"
      ]
    },
    {
      "cell_type": "markdown",
      "id": "JqLofP3cqYW_",
      "metadata": {
        "id": "JqLofP3cqYW_"
      },
      "source": [
        "# **2. NLTK Downloads, etc, Data Wrangling Utility Functions, and Loading the Corpus**"
      ]
    },
    {
      "cell_type": "code",
      "execution_count": null,
      "id": "TfyBD14MqYW_",
      "metadata": {
        "colab": {
          "base_uri": "https://localhost:8080/"
        },
        "id": "TfyBD14MqYW_",
        "outputId": "2a8f3fc1-e78c-4be2-975a-472ae8be440b"
      },
      "outputs": [
        {
          "output_type": "execute_result",
          "data": {
            "text/plain": [
              "True"
            ]
          },
          "metadata": {},
          "execution_count": 6
        }
      ],
      "source": [
        "# Only run this once, they will be downloaded.\n",
        "nltk.download('stopwords',quiet=True)\n",
        "nltk.download('wordnet',quiet=True)\n",
        "nltk.download('punkt',quiet=True)\n",
        "nltk.download('omw-1.4',quiet=True)"
      ]
    },
    {
      "cell_type": "markdown",
      "id": "_Nv8eQJRqYW_",
      "metadata": {
        "id": "_Nv8eQJRqYW_"
      },
      "source": [
        "<div class=\"alert alert-block alert-danger\">\n",
        "<b>Gensim</b> is a Python library for topic modelling, document indexing and similarity retrieval with large corpora. Target audience is the natural language processing (NLP) and information retrieval (IR) community <br><br>\n",
        "    <b>https://pypi.org/project/gensim/ </b>\n",
        "</div>"
      ]
    },
    {
      "cell_type": "code",
      "execution_count": null,
      "id": "036YU5T6qYXA",
      "metadata": {
        "colab": {
          "base_uri": "https://localhost:8080/"
        },
        "id": "036YU5T6qYXA",
        "outputId": "48a27bfc-6f1d-435f-b151-69cb0ef2b302"
      },
      "outputs": [
        {
          "output_type": "stream",
          "name": "stdout",
          "text": [
            "Genism Version:  4.3.2\n"
          ]
        }
      ],
      "source": [
        "print(\"Genism Version: \", gensim.__version__)"
      ]
    },
    {
      "cell_type": "markdown",
      "id": "iZukKJG1qYXA",
      "metadata": {
        "id": "iZukKJG1qYXA"
      },
      "source": [
        "<div class=\"alert alert-block alert-info\">\n",
        "    <b>Suppress warning messages</b></div>"
      ]
    },
    {
      "cell_type": "code",
      "execution_count": null,
      "id": "Uu_J_CuEqYXA",
      "metadata": {
        "id": "Uu_J_CuEqYXA"
      },
      "outputs": [],
      "source": [
        "def warn(*args, **kwargs):\n",
        "    pass\n",
        "import warnings\n",
        "warnings.warn = warn"
      ]
    },
    {
      "cell_type": "markdown",
      "id": "CxmRU_gRqYXA",
      "metadata": {
        "id": "CxmRU_gRqYXA"
      },
      "source": [
        "## Data Wrangling Utility Functions"
      ]
    },
    {
      "cell_type": "code",
      "execution_count": null,
      "id": "u6PB4uN0qYXA",
      "metadata": {
        "id": "u6PB4uN0qYXA"
      },
      "outputs": [],
      "source": [
        "# COMMENTED OUT FUNCTIONS HERE NOT REFERENCED BY OTHER PARTS OF NOTEBOOK\n",
        "\n",
        "def add_movie_descriptor(data: pd.DataFrame, corpus_df: pd.DataFrame):\n",
        "    \"\"\"\n",
        "    Adds \"Movie Description\" to the supplied dataframe, in the form {Genre}_{P|N}_{Movie Title}_{DocID}\n",
        "    \"\"\"\n",
        "    review = np.where(corpus_df['Review Type (pos or neg)'] == 'Positive', 'P', 'N')\n",
        "    data['Descriptor'] = corpus_df['Genre of Movie'] + '_' + corpus_df['Movie Title'] + '_' + review + '_' + corpus_df['Doc_ID'].astype(str)\n",
        "\n",
        "def get_corpus_df(path):\n",
        "    data = pd.read_csv(path, encoding=\"utf-8\")\n",
        "    add_movie_descriptor(data, data)\n",
        "    sorted_data = data.sort_values(['Descriptor'])\n",
        "    indexed_data = sorted_data.set_index(['Doc_ID'])\n",
        "    indexed_data['Doc_ID'] = indexed_data.index\n",
        "    return indexed_data\n",
        "\n",
        "@dataclass\n",
        "class Document:\n",
        "    doc_id: str\n",
        "    text: str\n",
        "\n",
        "# def normalize_document(document: Document) -> Document:\n",
        "#     text = document.text\n",
        "#     text = remove_punctuation(text)\n",
        "#     text = lower_case(text)\n",
        "#     text = remove_tags(text)\n",
        "#     text = remove_special_chars_and_digits(text)\n",
        "\n",
        "#     return Document(document.doc_id, text)\n",
        "\n",
        "# def normalize_documents(documents: List[Document]) -> List[Document]:\n",
        "#     \"\"\"\n",
        "#     Normalizes text for all given documents.\n",
        "#     Removes punctuation, converts to lower case, removes tags and special characters.\n",
        "#     \"\"\"\n",
        "#     return [normalize_document(x) for x in documents]\n",
        "\n",
        "@dataclass\n",
        "class TokenizedDocument:\n",
        "    doc_id: str\n",
        "    tokens: List[str]\n",
        "\n",
        "# def tokenize_document(document: Document) -> TokenizedDocument:\n",
        "#     tokens = nltk.word_tokenize(document.text)\n",
        "#     return TokenizedDocument(document.doc_id, tokens)\n",
        "\n",
        "# def tokenize_documents(documents: List[Document]) -> List[TokenizedDocument]:\n",
        "#     return [tokenize_document(x) for x in documents]\n",
        "\n",
        "# def lemmatize(documents: List[TokenizedDocument]) -> List[TokenizedDocument]:\n",
        "#     result = []\n",
        "#     lemmatizer = WordNetLemmatizer()\n",
        "#     for document in documents:\n",
        "#         output_tokens = [lemmatizer.lemmatize(w) for w in document.tokens]\n",
        "#         result.append(TokenizedDocument(document.doc_id, output_tokens))\n",
        "#\n",
        "#     return result\n",
        "\n",
        "# def stem(documents: List[TokenizedDocument]) -> List[TokenizedDocument]:\n",
        "#     result = []\n",
        "#     stemmer = PorterStemmer()\n",
        "#     for document in documents:\n",
        "#         output_tokens = [stemmer.stem(w) for w in document.tokens]\n",
        "#         result.append(TokenizedDocument(document.doc_id, output_tokens))\n",
        "#\n",
        "#     return result\n",
        "\n",
        "# def remove_stop_words(documents: List[TokenizedDocument]) -> List[TokenizedDocument]:\n",
        "#     result = []\n",
        "#\n",
        "#     stop_words = set(nltk.corpus.stopwords.words('english'))\n",
        "#     for document in documents:\n",
        "#         filtered_tokens = [w for w in document.tokens if not w in stop_words]\n",
        "#         result.append(TokenizedDocument(document.doc_id, filtered_tokens))\n",
        "#\n",
        "#     return result\n",
        "\n",
        "# def add_flags(data: pd.DataFrame, casino_royale_doc_ids: List[int], action_doc_ids: List[int]):\n",
        "#     data['is_casino_royale'] = data.index.isin(casino_royale_doc_ids)\n",
        "#     data['is_action'] = data.index.isin(action_doc_ids)\n",
        "\n",
        "# def get_all_tokens(documents: List[TokenizedDocument]) -> List[str]:\n",
        "#     tokens = {y for x in documents for y in x.tokens}\n",
        "#     return sorted(list(tokens))\n",
        "\n",
        "def clean_doc(doc):\n",
        "    #split document into individual words\n",
        "    tokens=doc.split()\n",
        "    re_punc = re.compile('[%s]' % re.escape(string.punctuation))\n",
        "    # remove punctuation from each word\n",
        "    tokens = [re_punc.sub('', w) for w in tokens]\n",
        "    # remove remaining tokens that are not alphabetic\n",
        "    tokens = [word for word in tokens if word.isalpha()]\n",
        "    # filter out short tokens\n",
        "    tokens = [word for word in tokens if len(word) > 4]\n",
        "    #lowercase all words\n",
        "    tokens = [word.lower() for word in tokens]\n",
        "    # filter out stop words\n",
        "    stop_words = set(stopwords.words('english'))\n",
        "    tokens = [w for w in tokens if not w in stop_words]\n",
        "    # word stemming\n",
        "    # ps=PorterStemmer()\n",
        "    # tokens=[ps.stem(word) for word in tokens]\n",
        "    return tokens\n",
        "\n",
        "# def final_processed_text_disabled(doc):\n",
        "#     #this is a function to join the processed text back\n",
        "#     ' '.join(doc)\n",
        "#     return doc\n",
        "\n",
        "def tfidf(corpus, titles, ngram_range = (1,1)):\n",
        "    #this is a function to created the tfidf matrix\n",
        "    Tfidf=TfidfVectorizer(ngram_range=(1,1))\n",
        "\n",
        "    #fit the vectorizer using final processed documents.  The vectorizer requires the\n",
        "    #stiched back together document.\n",
        "\n",
        "    TFIDF_matrix=Tfidf.fit_transform(corpus)\n",
        "\n",
        "    #creating datafram from TFIDF Matrix\n",
        "\n",
        "    # https://stackoverflow.com/questions/70215049/attributeerror-tfidfvectorizer-object-has-no-attribute-get-feature-names-out\n",
        "    #words = Tfidf.get_feature_names() # For sklearn <= 0.24.x\n",
        "    #matrix=pd.DataFrame(TFIDF_matrix.toarray(), columns=Tfidf.get_feature_names(), index=titles)\n",
        "\n",
        "    words = Tfidf.get_feature_names_out() # For sklearn >= 1.0.x\n",
        "    matrix=pd.DataFrame(TFIDF_matrix.toarray(), columns=Tfidf.get_feature_names_out(), index=titles)\n",
        "    return matrix #,words\n",
        "\n",
        "def One_Hot(variable):\n",
        "    #this is a function to one hot encode the classes\n",
        "    LE=LabelEncoder()\n",
        "    LE.fit(variable)\n",
        "    Label1=LE.transform(variable)\n",
        "    OHE=OneHotEncoder()\n",
        "    labels=OHE.fit_transform(Label1.reshape(-1,1)).toarray()\n",
        "    return labels"
      ]
    },
    {
      "cell_type": "markdown",
      "id": "Pyg_-mrV58Ll",
      "metadata": {
        "id": "Pyg_-mrV58Ll"
      },
      "source": [
        "&nbsp;"
      ]
    },
    {
      "cell_type": "markdown",
      "id": "bAq9oBCwqYXB",
      "metadata": {
        "id": "bAq9oBCwqYXB"
      },
      "source": [
        "# **3. Functions Latent Semantic Analysis, Latent Dirichlet Allocation, Word2Vec Matrix**\n",
        "1. Latent Semantic Analysis\n",
        "2. Latent Dirichlet Allocation\n",
        "3. Word2Vec Matrix creation"
      ]
    },
    {
      "cell_type": "code",
      "execution_count": null,
      "id": "AdhtywX0qYXB",
      "metadata": {
        "id": "AdhtywX0qYXB"
      },
      "outputs": [],
      "source": [
        "# def create_gensim_lsa_model(doc_clean,number_of_topics,words):\n",
        "\n",
        "#     # Creating the term dictionary of our courpus, where every unique term is assigned an index. dictionary = corpora.Dictionary(doc_clean)\n",
        "#     dictionary = corpora.Dictionary(doc_clean)\n",
        "#     # Converting list of documents (corpus) into Document Term Matrix using dictionary prepared above.\n",
        "#     doc_term_matrix = [dictionary.doc2bow(doc) for doc in doc_clean]\n",
        "#     # generate LSA model\n",
        "#     # train model\n",
        "#     lsamodel = LsiModel(doc_term_matrix\n",
        "#                         ,num_topics=number_of_topics\n",
        "#                         ,id2word = dictionary\n",
        "#                         ,power_iters=100)\n",
        "#     print(lsamodel.print_topics(num_topics=number_of_topics, num_words=words))\n",
        "#     index = similarities.MatrixSimilarity(lsamodel[doc_term_matrix])\n",
        "\n",
        "#     return lsamodel,dictionary,index\n",
        "\n",
        "# def lsa(tfidf_matrix, terms, n_components = 10):\n",
        "#     #this is a function to execute lsa.  inputs to the function include the tfidf matrix and\n",
        "#     #the desired number of components.\n",
        "\n",
        "#     LSA = TruncatedSVD(n_components=10)\n",
        "#     LSA.fit(tfidf_matrix)\n",
        "\n",
        "#     for i, comp in enumerate(LSA.components_):\n",
        "#         terms_comp = zip(terms, comp)\n",
        "#         sorted_terms = sorted(terms_comp, key= lambda x:x[1], reverse=True)[:7]\n",
        "#         print(\"Topic \"+str(i)+\": \")\n",
        "#         for t in sorted_terms:\n",
        "#             print(t[0])\n",
        "\n",
        "# def create_gensim_lda_model(doc_clean,number_of_topics,words):\n",
        "\n",
        "#     # Creating the term dictionary of our courpus, where every unique term is assigned an index. dictionary = corpora.Dictionary(doc_clean)\n",
        "#     dictionary = corpora.Dictionary(doc_clean)\n",
        "#     # Converting list of documents (corpus) into Document Term Matrix using dictionary prepared above.\n",
        "#     doc_term_matrix = [dictionary.doc2bow(doc) for doc in doc_clean]\n",
        "#     # generate LDA model\n",
        "#     ldamodel = LdaModel(doc_term_matrix\n",
        "#                         ,num_topics=number_of_topics\n",
        "#                         ,id2word = dictionary\n",
        "#                         ,alpha='auto'\n",
        "#                         ,eta='auto'\n",
        "#                         ,iterations=100\n",
        "#                         ,random_state=23\n",
        "#                         ,passes=20)\n",
        "#     # train model\n",
        "#     print(ldamodel.print_topics(num_topics=number_of_topics, num_words=words))\n",
        "#     index = similarities.MatrixSimilarity(ldamodel[doc_term_matrix])\n",
        "#     return ldamodel,dictionary,index,doc_term_matrix\n",
        "\n",
        "# def lda(tfidf_matrix, terms, topics = 3, num_words = 10):\n",
        "#     #this is a function to perform lda on the tfidf matrix.  function varibales include:\n",
        "#     #tfidf matrix, desired number of topic, and number of words per topic.\n",
        "\n",
        "#     topics = 3\n",
        "#     num_words = 10\n",
        "#     lda = LatentDirichletAllocation(n_components=topics).fit(tfidf_matrix)\n",
        "\n",
        "#     topic_dict = {}\n",
        "#     for topic_num, topic in enumerate(lda.components_):\n",
        "#         topic_dict[topic_num] = \" \".join([terms[i]for i in topic.argsort()[:-num_words - 1:-1]])\n",
        "\n",
        "#     print(topic_dict)\n",
        "\n",
        "# def word2vec(processed_text, size = 100):\n",
        "#     #This is a function to generate the word2vec matrix. Input parameters include the\n",
        "#     #tokenized text and matrix size\n",
        "\n",
        "#     #word to vec\n",
        "#     model_w2v = Word2Vec(processed_text, vector_size=100, window=5, min_count=1, workers=4)\n",
        "\n",
        "#     #join all processed DSI words into single list\n",
        "#     processed_text_w2v=[]\n",
        "#     for i in processed_text:\n",
        "#         for k in i:\n",
        "#             processed_text_w2v.append(k)\n",
        "\n",
        "#     #obtian all the unique words from DSI\n",
        "#     w2v_words=list(set(processed_text_w2v))\n",
        "\n",
        "#     #can also use the get_feature_names() from TFIDF to get the list of words\n",
        "#     #w2v_words=Tfidf.get_feature_names()\n",
        "\n",
        "#     #empty dictionary to store words with vectors\n",
        "#     w2v_vectors={}\n",
        "\n",
        "#     #for loop to obtain weights for each word\n",
        "#     for i in w2v_words:\n",
        "#         temp_vec=model_w2v.wv[i]\n",
        "#         w2v_vectors[i]=temp_vec\n",
        "\n",
        "#     #create a final dataframe to view word vectors\n",
        "#     w2v_df=pd.DataFrame(w2v_vectors).transpose()\n",
        "#     print(w2v_df)\n",
        "#     return w2v_df"
      ]
    },
    {
      "cell_type": "markdown",
      "id": "1wvYgxTZ8gRz",
      "metadata": {
        "id": "1wvYgxTZ8gRz"
      },
      "source": [
        "## This code below is Experimental#1 and Barry wants your feedback if this works or not (Disabled)"
      ]
    },
    {
      "cell_type": "code",
      "execution_count": null,
      "id": "NlaJtQzA7Fqn",
      "metadata": {
        "id": "NlaJtQzA7Fqn"
      },
      "outputs": [],
      "source": [
        "## Experimental#1 code here will show you the movie titles for the topics\n",
        "## Uncomment all the code in this cell and it will override the above functions\n",
        "## Also switch ot the modified Experiment#1 code lines elsewhere to add the \"titles\" parameter\n",
        "## or you can ignore the commented lines for Experiment#1 code and continue your assignment.\n",
        "\n",
        "# def create_gensim_lda_model(doc_clean,number_of_topics,words, titles):\n",
        "#\n",
        "#     dictionary = corpora.Dictionary(doc_clean)\n",
        "#     doc_term_matrix = [dictionary.doc2bow(doc) for doc in doc_clean]\n",
        "#     ldamodel = LdaModel(doc_term_matrix ,num_topics=number_of_topics,id2word = dictionary,alpha='auto',\n",
        "#                                           eta='auto',iterations=100,random_state=23,passes=20)\n",
        "#     print(ldamodel.print_topics(num_topics=number_of_topics, num_words=words))\n",
        "#     index = similarities.MatrixSimilarity(ldamodel[doc_term_matrix])\n",
        "#\n",
        "#     # THIS CODE BELOW IS EXPERIMENTAL#1 AND BARRY WANTS YOUR FEEDBACK IF THIS WORKS OR NOT\n",
        "#\n",
        "#     # Method 1: Shows top 5 titles related to a topic; adjust the number accordingly.\n",
        "#     for topic in ldamodel.print_topics(num_topics=number_of_topics, num_words=words):\n",
        "#         topic_number = topic[0]\n",
        "#         sims = index[ldamodel[doc_term_matrix[topic_number]]]\n",
        "#         most_similar_titles = [titles[i[0]] for i in sorted(enumerate(sims), key=lambda item: -item[1])[:5]]\n",
        "#         print('Most similar titles for topic #{}: {}'.format(topic_number, most_similar_titles))\n",
        "#\n",
        "#     # Method 2: Shows all titles sorted on most similar for each topic.\n",
        "#     # Note you get all titles for all topics!\n",
        "#\n",
        "#     for document in doc_clean:\n",
        "#         doc_bow = dictionary.doc2bow(document)\n",
        "#         sims = index[ldamodel[doc_bow]]\n",
        "#         most_similar_topic = sorted(enumerate(sims), key=lambda item: -item[1])[0][0]\n",
        "#         #VERBOSE DEBUGGING: print('Document belongs to topic #{}'.format(most_similar_topic))\n",
        "#\n",
        "#     topic_titles = {}\n",
        "#     for topic_number, topic in enumerate(ldamodel.print_topics(num_topics=number_of_topics, num_words=words)):\n",
        "#         sims = index[ldamodel[doc_term_matrix[topic_number]]]\n",
        "#         titles_for_topic = [titles[i[0]] for i in sorted(enumerate(sims), key=lambda item: -item[1])]\n",
        "#         topic_titles[topic_number] = titles_for_topic\n",
        "#         print('Titles for topic #{}: {}'.format(topic_number, titles_for_topic))\n",
        "#\n",
        "#     return ldamodel,dictionary,index,doc_term_matrix\n",
        "\n",
        "###########\n",
        "\n",
        "# def create_gensim_lsa_model(doc_clean, number_of_topics, words, titles):\n",
        "#\n",
        "#     dictionary = corpora.Dictionary(doc_clean)\n",
        "#     doc_term_matrix = [dictionary.doc2bow(doc) for doc in doc_clean]\n",
        "#\n",
        "#     # generate LSA model\n",
        "#     lsamodel = LsiModel(doc_term_matrix, num_topics=number_of_topics, id2word=dictionary, power_iters=100)\n",
        "#\n",
        "#     print(lsamodel.print_topics(num_topics=number_of_topics, num_words=words))\n",
        "#     index = similarities.MatrixSimilarity(lsamodel[doc_term_matrix])\n",
        "#\n",
        "#     # THIS CODE BELOW IS EXPERIMENTAL AND BARRY WANTS YOUR FEEDBACK IF THIS WORKS OR NOT\n",
        "#\n",
        "#     # Method 1: Shows top 5 titles related to a topic; adjust the number accordingly.\n",
        "#     for topic in lsamodel.print_topics(num_topics=number_of_topics, num_words=words):\n",
        "#         topic_number = topic[0]\n",
        "#         sims = index[lsamodel[doc_term_matrix[topic_number]]]\n",
        "#         most_similar_titles = [titles[i[0]] for i in sorted(enumerate(sims), key=lambda item: -item[1])[:5]]\n",
        "#         print('Most similar titles for topic #{}: {}'.format(topic_number, most_similar_titles))\n",
        "#\n",
        "#     # Method 2: Shows all titles sorted on most similar for each topic.\n",
        "#     # Note you get all titles for all topics!\n",
        "#\n",
        "#     for document in doc_clean:\n",
        "#         doc_bow = dictionary.doc2bow(document)\n",
        "#         sims = index[lsamodel[doc_bow]]\n",
        "#         most_similar_topic = sorted(enumerate(sims), key=lambda item: -item[1])[0][0]\n",
        "#         #VERBOSE DEBUGGING: print('Document belongs to topic #{}'.format(most_similar_topic))\n",
        "#\n",
        "#     topic_titles = {}\n",
        "#     for topic_number, topic in enumerate(lsamodel.print_topics(num_topics=number_of_topics, num_words=words)):\n",
        "#         sims = index[lsamodel[doc_term_matrix[topic_number]]]\n",
        "#         titles_for_topic = [titles[i[0]] for i in sorted(enumerate(sims), key=lambda item: -item[1])]\n",
        "#         topic_titles[topic_number] = titles_for_topic\n",
        "#         print('Titles for topic #{}: {}'.format(topic_number, titles_for_topic))\n",
        "#\n",
        "#     return lsamodel, dictionary, index\n",
        "#\n",
        "############\n",
        "##\n",
        "## When you call create_gensim_lda_model(...) later on, you have to add titles to the call. Eg:\n",
        "##\n",
        "## model2,dictionary2,index2,doctermmatrix2=create_gensim_lda_model(processed_text,number_of_topics,words,titles)\n",
        "##\n",
        "## Similarly for LSA..."
      ]
    },
    {
      "cell_type": "markdown",
      "id": "nWUJJtn9qYXB",
      "metadata": {
        "id": "nWUJJtn9qYXB"
      },
      "source": [
        "# **4. Modeling Functions: KMeans, SVM, Logistic, Naive Bayes, Randomforest, BERTopic**"
      ]
    },
    {
      "cell_type": "code",
      "execution_count": null,
      "id": "UF24JLcbqYXB",
      "metadata": {
        "id": "UF24JLcbqYXB"
      },
      "outputs": [],
      "source": [
        "# DISABLED\n",
        "\n",
        "# def k_means(titles, tfidf_matrix, k=3):\n",
        "\n",
        "#     #this is a function to generate the k-means output using the tfidf matrix.  Inputs\n",
        "#     #to the function include: titles of text, processed text, and desired k value.\n",
        "#     #Returns dataframe indicating cluster number per document\n",
        "\n",
        "#     km = KMeans(n_clusters=k, random_state =89)\n",
        "#     km.fit(tfidf_matrix)\n",
        "#     clusters = km.labels_.tolist()\n",
        "\n",
        "#     Dictionary={'Doc Name':titles, 'Cluster':clusters,  'Text': final_processed_text}\n",
        "#     frame=pd.DataFrame(Dictionary, columns=['Cluster', 'Doc Name','Text'])\n",
        "#     #dictionary to store clusters and respective titles\n",
        "#     cluster_title={}\n",
        "\n",
        "#     #note doc2vec clusters will not have individual words due to the vector representation\n",
        "#     #is based on the entire document not indvidual words. As a result, there won't be individual\n",
        "#     #word outputs from each cluster.\n",
        "#     for i in range(k):\n",
        "#         temp=frame[frame['Cluster']==i]\n",
        "#         temp_title_list=[]\n",
        "#         for title in temp['Doc Name']:\n",
        "#             temp_title_list.append(title)\n",
        "#         cluster_title[i]=temp_title_list\n",
        "\n",
        "#     # How to see the results of the k-means clustering\n",
        "#     #print (\"cluster_title\", cluster_title)\n",
        "#     #print (\"clusters\", clusters)\n",
        "#     #print (\"frame\", frame)\n",
        "#     return cluster_title,clusters,frame\n",
        "\n",
        "# def bert_pretrained(texts):\n",
        "#     # Initialize the classifier\n",
        "#     classifier = pipeline(\"sentiment-analysis\")\n",
        "\n",
        "#     # Perform sentiment analysis\n",
        "#     results = []\n",
        "#     for text in texts:\n",
        "#         # Since the classifier can only handle a certain amount of text,\n",
        "#         # you might need to truncate or split the text accordingly.\n",
        "#         result = classifier(text[:512])  # Adjust if necessary\n",
        "#         results.append(result)\n",
        "\n",
        "#     return results\n",
        "\n",
        "# def classifiers(x, y, model_type, cv = 3):\n",
        "\n",
        "#     #this function is to fit 3 different model scenarios.  Support vector machines, logistic regressions, naive bayes.\n",
        "#     #svm = Support vector machin\n",
        "#     #logistic = Logistic regression\n",
        "#     #naive_bayes = Naive Bayes Multinomial\n",
        "\n",
        "#     #can define cv value for cross validation.\n",
        "\n",
        "#     #function returns the train test split scores of each model.\n",
        "\n",
        "#     if model_type == 'svm':\n",
        "#         print(\"svm\")\n",
        "#         model = SVC()\n",
        "\n",
        "#     elif model_type == 'logistic':\n",
        "#         print(\"logistic\")\n",
        "#         model = LogisticRegression()\n",
        "\n",
        "#     elif model_type == 'naive_bayes':\n",
        "#         print(\"naive_bayes\")\n",
        "#         model = MultinomialNB()\n",
        "\n",
        "#     elif model_type == 'randomforest':\n",
        "#         print(\"randomforest\")\n",
        "#         model = RandomForestClassifier()\n",
        "\n",
        "#     X_train, X_test, y_train, y_test = train_test_split(x, y, test_size=0.10, random_state=23)\n",
        "#     model.fit(X_train, y_train)\n",
        "\n",
        "#     predictions = model.predict(X_test)\n",
        "#     accy = accuracy_score(y_test, predictions)\n",
        "#     return accy"
      ]
    },
    {
      "cell_type": "markdown",
      "id": "nf30-Mo7qYXC",
      "metadata": {
        "id": "nf30-Mo7qYXC"
      },
      "source": [
        "## Visualization Utility Functions (Disabled)"
      ]
    },
    {
      "cell_type": "code",
      "execution_count": null,
      "id": "6QgJDy5uqYXC",
      "metadata": {
        "id": "6QgJDy5uqYXC"
      },
      "outputs": [],
      "source": [
        "# def plot_lsa(number_of_topics, words):\n",
        "\n",
        "#     # BARRYC experimental#1\n",
        "#     #model,dictionary,index=create_gensim_lsa_model(processed_text,number_of_topics,words,titles)\n",
        "#     model,dictionary,index=create_gensim_lsa_model(processed_text,number_of_topics,words)\n",
        "\n",
        "#     for doc in processed_text:\n",
        "#         vec_bow = dictionary.doc2bow(doc)\n",
        "#         vec_lsi = model[vec_bow]  # convert the query to LSI space\n",
        "#         sims = index[vec_lsi] # perform a similarity query against the corpus\n",
        "\n",
        "#     fig, ax = plt.subplots(figsize=(30, 10))\n",
        "#     cax = ax.matshow(index, interpolation='nearest')\n",
        "#     ax.grid(True)\n",
        "#     plt.xticks(range(len(processed_text)), titles, rotation=90);\n",
        "#     plt.yticks(range(len(processed_text)), titles);\n",
        "#     fig.colorbar(cax)\n",
        "#     plt.show()\n",
        "#     return model\n",
        "\n",
        "# def plot_tfidf_matrix(cluster_title,clusters,TFIDF_matrix):\n",
        "#     # convert two components as we're plotting points in a two-dimensional plane\n",
        "#     # \"precomputed\" because we provide a distance matrix\n",
        "#     # we will also specify `random_state` so the plot is reproducible.\n",
        "\n",
        "#     mds = MDS(n_components=2, dissimilarity=\"precomputed\", random_state=1)\n",
        "#     dist = 1 - cosine_similarity(TFIDF_matrix)\n",
        "#     pos = mds.fit_transform(dist)  # shape (n_components, n_samples)\n",
        "#     xs, ys = pos[:, 0], pos[:, 1]\n",
        "\n",
        "\n",
        "#     #set up colors per clusters using a dict.  number of colors must correspond to K\n",
        "#     cluster_colors = {0: 'black', 1: 'grey', 2: 'blue', 3: 'rosybrown', 4: 'firebrick',\n",
        "#                       5:'red', 6:'darksalmon', 7:'sienna'}\n",
        "\n",
        "#     #set up cluster names using a dict.\n",
        "#     cluster_dict=cluster_title\n",
        "\n",
        "#     #create data frame that has the result of the MDS plus the cluster numbers and titles\n",
        "#     df = pd.DataFrame(dict(x=xs, y=ys, label=clusters, title=range(0,len(clusters))))\n",
        "\n",
        "#     #group by cluster\n",
        "#     groups = df.groupby('label')\n",
        "\n",
        "#     fig, ax = plt.subplots(figsize=(20,20)) # set size\n",
        "#     ax.margins(0.05) # Optional, just adds 5% padding to the autoscaling\n",
        "\n",
        "#     #iterate through groups to layer the plot\n",
        "#     #note that I use the cluster_name and cluster_color dicts with the 'name' lookup to return the appropriate color/label\n",
        "#     for name, group in groups:\n",
        "\n",
        "#         r = random.random()\n",
        "#         b = random.random()\n",
        "#         g = random.random()\n",
        "#         color = (r, g, b)\n",
        "\n",
        "#         ax.plot(group.x, group.y, marker='o', linestyle='', ms=12,\n",
        "#                 label=cluster_dict[name], color=color,\n",
        "#                 mec='none')\n",
        "#         ax.set_aspect('auto')\n",
        "#         ax.tick_params(\\\n",
        "#             axis= 'x',          # changes apply to the x-axis\n",
        "#             which='both',      # both major and minor ticks are affected\n",
        "#             bottom='off',      # ticks along the bottom edge are off\n",
        "#             top='off',         # ticks along the top edge are off\n",
        "#             labelbottom='on')\n",
        "#         ax.tick_params(\\\n",
        "#             axis= 'y',         # changes apply to the y-axis\n",
        "#             which='both',      # both major and minor ticks are affected\n",
        "#             left='off',      # ticks along the bottom edge are off\n",
        "#             top='off',         # ticks along the top edge are off\n",
        "#             labelleft='on')\n",
        "\n",
        "#     ax.legend(loc='center left', bbox_to_anchor=(1, 0.5), prop={'size': 30})      #show legend with only 1 point"
      ]
    },
    {
      "cell_type": "markdown",
      "id": "qLoWgXMjqYXC",
      "metadata": {
        "id": "qLoWgXMjqYXC"
      },
      "source": [
        "## Loading the Class Corpus"
      ]
    },
    {
      "cell_type": "code",
      "execution_count": null,
      "id": "FPUQwN95qYXC",
      "metadata": {
        "id": "FPUQwN95qYXC"
      },
      "outputs": [],
      "source": [
        "CORPUS_PATH=\\\n",
        "'https://raw.githubusercontent.com/barrycforever/MSDS_453_NLP/main/MSDS453_ClassCorpus/MSDS453_QA_20220906.csv'\n",
        "data = get_corpus_df(CORPUS_PATH)"
      ]
    },
    {
      "cell_type": "code",
      "execution_count": null,
      "id": "UO1K6_naqYXC",
      "metadata": {
        "id": "UO1K6_naqYXC"
      },
      "outputs": [],
      "source": [
        "#adding two columns to the dataframe to store the processed text and tokenized text\n",
        "data['processed_text'] = data['Text'].apply(lambda x: clean_doc(x))\n",
        "\n",
        "#creating final processed text variables for matrix creation\n",
        "final_processed_text = [' '.join(x) for x in data['processed_text'].tolist()]\n",
        "titles = data['DSI_Title'].tolist()\n",
        "processed_text = data['processed_text'].tolist()"
      ]
    },
    {
      "cell_type": "markdown",
      "id": "cw3dpVHLqYXD",
      "metadata": {
        "id": "cw3dpVHLqYXD"
      },
      "source": [
        "1. Dataframe = corpus_df\n",
        "2. List = documents (Document ID, Text)"
      ]
    },
    {
      "cell_type": "markdown",
      "id": "9nfGqD3-6BcA",
      "metadata": {
        "id": "9nfGqD3-6BcA"
      },
      "source": [
        "&nbsp;"
      ]
    },
    {
      "cell_type": "markdown",
      "id": "rWnxU70bqYXD",
      "metadata": {
        "id": "rWnxU70bqYXD"
      },
      "source": [
        "# **5. Exploratory Data Analysis**"
      ]
    },
    {
      "cell_type": "code",
      "execution_count": null,
      "id": "s4FllKzRqYXD",
      "metadata": {
        "id": "s4FllKzRqYXD"
      },
      "outputs": [],
      "source": [
        "CORPUS_PATH=\\\n",
        "'https://raw.githubusercontent.com/barrycforever/MSDS_453_NLP/main/MSDS453_ClassCorpus/MSDS453_QA_20220906.csv'\n",
        "corpus_df = get_corpus_df(CORPUS_PATH)\n",
        "documents = [Document(x, y) for x, y in zip(corpus_df.Doc_ID, corpus_df.Text)]"
      ]
    },
    {
      "cell_type": "code",
      "execution_count": null,
      "id": "J220HpSzqYXD",
      "metadata": {
        "id": "J220HpSzqYXD"
      },
      "outputs": [],
      "source": [
        "# corpus_df.shape"
      ]
    },
    {
      "cell_type": "code",
      "execution_count": null,
      "id": "_d5lT_sQqYXD",
      "metadata": {
        "id": "_d5lT_sQqYXD"
      },
      "outputs": [],
      "source": [
        "# corpus_df.head().T"
      ]
    },
    {
      "cell_type": "code",
      "execution_count": null,
      "id": "WCtohgceqYXD",
      "metadata": {
        "id": "WCtohgceqYXD"
      },
      "outputs": [],
      "source": [
        "# print(corpus_df.info());"
      ]
    },
    {
      "cell_type": "code",
      "execution_count": null,
      "id": "noFEdf0LqYXD",
      "metadata": {
        "id": "noFEdf0LqYXD"
      },
      "outputs": [],
      "source": [
        "# print(corpus_df['Movie Title'].unique())"
      ]
    },
    {
      "cell_type": "markdown",
      "id": "yITCViVg-W63",
      "metadata": {
        "id": "yITCViVg-W63"
      },
      "source": [
        "(Disabled)\n",
        "<s>Exploring different numbers of...\n",
        "\n",
        "\n",
        "> LSA: **2**, **6**, **20** concepts and **10** words<br>\n",
        "> LDA: **2**, **6**, **20** topics and **10** words<br>\n",
        "\n",
        "1.   *Model Complexity*\n",
        "2.   *Model Interpretability*\n",
        "3.   *Evaluation of Coherence*\n",
        "4.   *Avoid Overfitting*\n",
        "5.   *Practical Implications*\n",
        "6.   *Computational Implications*\n",
        "</s>"
      ]
    },
    {
      "cell_type": "markdown",
      "id": "wbjsgiHgqYXE",
      "metadata": {
        "id": "wbjsgiHgqYXE"
      },
      "source": [
        "## Latent Semantic Analysis - Research Number of Topics and Number of Words (Disabled)"
      ]
    },
    {
      "cell_type": "markdown",
      "id": "5XqfEbgtqYXE",
      "metadata": {
        "id": "5XqfEbgtqYXE"
      },
      "source": [
        "### Plotting 2 concepts and 10 words"
      ]
    },
    {
      "cell_type": "code",
      "execution_count": null,
      "id": "N_KWO-M0qYXE",
      "metadata": {
        "id": "N_KWO-M0qYXE"
      },
      "outputs": [],
      "source": [
        "#model_2concepts_10words=plot_lsa(2, 10)"
      ]
    },
    {
      "cell_type": "markdown",
      "id": "F15hXZBUqYXE",
      "metadata": {
        "id": "F15hXZBUqYXE"
      },
      "source": [
        "### Plotting 6 concepts and 10 words"
      ]
    },
    {
      "cell_type": "code",
      "execution_count": null,
      "id": "HRlsWKcdqYXE",
      "metadata": {
        "id": "HRlsWKcdqYXE"
      },
      "outputs": [],
      "source": [
        "#model_6concepts_10words=plot_lsa(6, 10)"
      ]
    },
    {
      "cell_type": "markdown",
      "id": "Lt2zX5n9qYXE",
      "metadata": {
        "id": "Lt2zX5n9qYXE"
      },
      "source": [
        "### Plotting 20 concepts and 10 words"
      ]
    },
    {
      "cell_type": "code",
      "execution_count": null,
      "id": "AUR8nyumqYXE",
      "metadata": {
        "id": "AUR8nyumqYXE"
      },
      "outputs": [],
      "source": [
        "#model_20concepts_10words=plot_lsa(20, 10)"
      ]
    },
    {
      "cell_type": "markdown",
      "id": "do7Ks4FyqYXE",
      "metadata": {
        "id": "do7Ks4FyqYXE"
      },
      "source": [
        "### Compare LSA Model Coherence (Disabled)"
      ]
    },
    {
      "cell_type": "code",
      "execution_count": null,
      "id": "rZeaJbTBqYXE",
      "metadata": {
        "id": "rZeaJbTBqYXE"
      },
      "outputs": [],
      "source": [
        "# topics = [6, 2, 10]\n",
        "# coherence_values = []\n",
        "# for t in topics:\n",
        "#     #BARRYC EXPERIMENTAL#1\n",
        "#     #lsamodel,dictionary,index = create_gensim_lsa_model(processed_text,t,10, titles)\n",
        "#     lsamodel,dictionary,index = create_gensim_lsa_model(processed_text,t,10)\n",
        "\n",
        "\n",
        "#     coherence_model_lsa = CoherenceModel(model=lsamodel, dictionary=dictionary, texts=processed_text, coherence='c_v')\n",
        "#     coherence_lsa = coherence_model_lsa.get_coherence()\n",
        "#     coherence_values.append(coherence_lsa)\n",
        "\n",
        "\n",
        "# coherence ={'6 concepts 10 words':coherence_values[0],\n",
        "#            '2 concepts 10 words': coherence_values[1],\n",
        "#            '20 concepts 10 words':coherence_values[2]}\n",
        "\n",
        "# print(coherence)"
      ]
    },
    {
      "cell_type": "markdown",
      "id": "LUyUz3H9qYXF",
      "metadata": {
        "id": "LUyUz3H9qYXF"
      },
      "source": [
        "## Latent Dirichlet Allocation - Research Number of Topics and Number of Words (Disabled)"
      ]
    },
    {
      "cell_type": "code",
      "execution_count": null,
      "id": "-qxz3mgPqYXF",
      "metadata": {
        "id": "-qxz3mgPqYXF"
      },
      "outputs": [],
      "source": [
        "# ######################################\n",
        "# #EXPERIMENT WITH THESE PARAMETERS\n",
        "# number_of_topics=4\n",
        "# words=20\n",
        "# #####################################"
      ]
    },
    {
      "cell_type": "code",
      "execution_count": null,
      "id": "Dvhur_FqqYXF",
      "metadata": {
        "id": "Dvhur_FqqYXF"
      },
      "outputs": [],
      "source": [
        "# # BARRYC EXPERIMENTAL#1\n",
        "# #model2,dictionary2,index2,doctermmatrix2=create_gensim_lda_model(processed_text,number_of_topics,words,titles)\n",
        "# model2,dictionary2,index2,doctermmatrix2=create_gensim_lda_model(processed_text,number_of_topics,words)\n",
        "\n",
        "# for doc in processed_text:\n",
        "#     vec_bow2 = dictionary2.doc2bow(doc)\n",
        "#     vec2 = model2[vec_bow2]  # convert the query to embedded space\n",
        "#     sims2 = index2[vec2]  # perform a similarity query against the corpus\n",
        "#     #print(list(enumerate(sims2)))\n",
        "\n",
        "# fig, ax = plt.subplots(figsize=(30, 10))\n",
        "# cax = ax.matshow(index2, interpolation='nearest')\n",
        "# ax.grid(True)\n",
        "# plt.xticks(range(len(processed_text)), titles, rotation=90);\n",
        "# plt.yticks(range(len(processed_text)), titles);\n",
        "# fig.colorbar(cax)\n",
        "# plt.show()"
      ]
    },
    {
      "cell_type": "markdown",
      "id": "hww9JgfdqYXF",
      "metadata": {
        "id": "hww9JgfdqYXF"
      },
      "source": [
        "### Compare LDA Model Coherence"
      ]
    },
    {
      "cell_type": "code",
      "execution_count": null,
      "id": "3j5TEgHhqYXF",
      "metadata": {
        "id": "3j5TEgHhqYXF"
      },
      "outputs": [],
      "source": [
        "# topics = [6, 2, 10]\n",
        "# coherence_values = []\n",
        "# for t in topics:\n",
        "#     #BARRYC EXPERIMENTAL#1\n",
        "#     #ldamodel,dictionary,index, matrix = create_gensim_lda_model(processed_text,t,10,titles)\n",
        "#     ldamodel,dictionary,index, matrix = create_gensim_lda_model(processed_text,t,10)\n",
        "\n",
        "\n",
        "#     coherence_model_lda = CoherenceModel(model=ldamodel, dictionary=dictionary, texts=processed_text, coherence='c_v')\n",
        "#     coherence_lda = coherence_model_lda.get_coherence()\n",
        "#     coherence_values.append(coherence_lda)\n",
        "\n",
        "\n",
        "# coherence ={'6 topic 10 words':coherence_values[0],\n",
        "#            '2 topic 10 words': coherence_values[1],\n",
        "#            '20 topic 10 words':coherence_values[2]}\n",
        "\n",
        "# print(coherence)"
      ]
    },
    {
      "cell_type": "markdown",
      "id": "NZ55yTbvrXBX",
      "metadata": {
        "id": "NZ55yTbvrXBX"
      },
      "source": [
        "# **BERTopic** (Disabled)\n",
        "\n",
        "This section of the code demonstrates the BERTopic library to extract topics and visualize the distribution and relationships between them.\n",
        "\n",
        "You've already done preprocessing earlier by cleaning the text by removing punctuation, filtering out stop words and short tokens, and converting text to lowercase. You could also try with the raw sentences too!\n",
        "\n",
        "Then there is topic modeling with BERTopic to identify and analyze underlying themes in the dataset."
      ]
    },
    {
      "cell_type": "markdown",
      "id": "ig1UKVJH6EdH",
      "metadata": {
        "id": "ig1UKVJH6EdH"
      },
      "source": [
        "&nbsp;"
      ]
    },
    {
      "cell_type": "code",
      "execution_count": null,
      "id": "0uYrF1_MrV22",
      "metadata": {
        "id": "0uYrF1_MrV22"
      },
      "outputs": [],
      "source": [
        "#!pip install bertopic"
      ]
    },
    {
      "cell_type": "code",
      "execution_count": null,
      "id": "GMiO-Rt-rgQs",
      "metadata": {
        "id": "GMiO-Rt-rgQs"
      },
      "outputs": [],
      "source": [
        "# import re,string\n",
        "# from nltk.corpus import stopwords\n",
        "# from nltk.stem import PorterStemmer\n",
        "\n",
        "# from sklearn.feature_extraction.text import TfidfVectorizer\n",
        "# from sklearn.preprocessing import LabelEncoder, OneHotEncoder\n",
        "# import matplotlib.pyplot as plt\n",
        "\n",
        "# import pandas as pd\n",
        "# import os\n",
        "# import numpy as np\n",
        "# from bertopic import BERTopic\n",
        "# import warnings\n",
        "# warnings.filterwarnings('ignore')"
      ]
    },
    {
      "cell_type": "code",
      "execution_count": null,
      "id": "KRVxODAkrj3F",
      "metadata": {
        "id": "KRVxODAkrj3F"
      },
      "outputs": [],
      "source": [
        "# ALREADY DONE EARLIER\n",
        "\n",
        "# import nltk\n",
        "# nltk.download('stopwords')\n",
        "\n",
        "#functions used to process text and create the required TFIDF and Doc2vec Matrices\n",
        "# def clean_doc(doc):\n",
        "#     ...\n",
        "\n",
        "# def final_processed_text(doc):\n",
        "#     #this is a function to join the processed text back\n",
        "#     ..."
      ]
    },
    {
      "cell_type": "code",
      "execution_count": null,
      "id": "yMvYxoYprw7V",
      "metadata": {
        "id": "yMvYxoYprw7V"
      },
      "outputs": [],
      "source": [
        "# ALREADY DONE EARLIER\n",
        "\n",
        "# #read in class corpus csv into python\n",
        "# data=pd.read_csv(r'MSDS453_QA_20220906.csv')\n",
        "\n",
        "# #adding two columns to the dataframe to store the processed text and tokenized text\n",
        "# data['processed_text'] = data['Text'].apply(lambda x: clean_doc(x))\n",
        "\n",
        "# #creating final processed text variables for matrix creation\n",
        "# final_processed_text = [' '.join(x) for x in data['processed_text'].tolist()]\n",
        "# titles = data['Movie Title'].tolist()\n",
        "# processed_text = data['processed_text'].tolist()"
      ]
    },
    {
      "cell_type": "code",
      "execution_count": null,
      "id": "xnsvRiOTroLn",
      "metadata": {
        "colab": {
          "base_uri": "https://localhost:8080/"
        },
        "id": "xnsvRiOTroLn",
        "outputId": "4320164c-3624-467b-98cc-77b7504e9fc1"
      },
      "outputs": [
        {
          "output_type": "execute_result",
          "data": {
            "text/plain": [
              "200"
            ]
          },
          "metadata": {},
          "execution_count": 32
        }
      ],
      "source": [
        "len(final_processed_text)"
      ]
    },
    {
      "cell_type": "code",
      "execution_count": null,
      "id": "PA3bgDcGtCAV",
      "metadata": {
        "colab": {
          "base_uri": "https://localhost:8080/"
        },
        "id": "PA3bgDcGtCAV",
        "outputId": "ef3ddef2-6065-4c07-a883-e06fab74e8a0"
      },
      "outputs": [
        {
          "output_type": "execute_result",
          "data": {
            "text/plain": [
              "'muttered entered first screening local cinema sunny friday afternoon summer stretch people beach something third movie increasinglyludicrous series talking mayonnaise gerard butler despite overwhelming going spend excuse people whoever movie manage least improve execrable racist followup known channing tatumjamie teamup house happy assorted tropes clichés genre featuring convoluted narrative packed inexplicable decisionmaking totally telegraphed betrayals meaningless technobabble jargon along loads grimaces steely glares never better banning gerard butler still toplevel secret service agent assigned protection detail president trumbull morgan freeman poison trusts implicitly considering assume position director secret service following impending retirement current honcho gentry lance reddick chapter folks consider piper perabo likes behind military buddy danny huston likes someone everyone seems think doubts especially since struggling physical psychological years matters however coordinated drone attack executed attempt assassinate president trumbull fishing survivors trumbull banning thing evidence pointing responsible attack evade people trying frame agent thompson pinkett smith leading enforcement pursuit banning world people trust including people swore never clock ticking adding possibility president kirby blake nelson ballad buster acting president severe action russia state deemed responsible recruiting banning assassination efforts first things first clear sense almost beginning internal logic narrative shown questionable downhill never doubt movie seems content audience along surprised comes action sequences ludicrous across board basic physics right something admirable willingness filmmakers unapologetically embrace every formulaic flourish could camera almost inspired movies clearly popular confusing theatergoing experience aside previous movies solid office second clearing million globally speaking franchise maybe biggest question presents banning terrible awesome really could argument either would prepared proven pretty saving president numerous occasions president tends danger banning around correlation causation still saying gerard doughy banning giving offbrand bruce willisall butler began transition dullest hollywood certainly nearing completion empty hitting marks remembering lines fares little better little morgan freeman cashing check ditto pinkett smith concern actually makes performances huston working harder blake nelson little surprising probably nolte shows midway movie lowkey thing marks likely financially successful continuation franchise somehow inexplicably continues'"
            ],
            "application/vnd.google.colaboratory.intrinsic+json": {
              "type": "string"
            }
          },
          "metadata": {},
          "execution_count": 33
        }
      ],
      "source": [
        "final_processed_text[1]"
      ]
    },
    {
      "cell_type": "code",
      "execution_count": null,
      "id": "XVvTg7rEtEeP",
      "metadata": {
        "id": "XVvTg7rEtEeP"
      },
      "outputs": [],
      "source": [
        "# from bertopic import BERTopic\n",
        "# topic_model = BERTopic(min_topic_size=2)"
      ]
    },
    {
      "cell_type": "code",
      "execution_count": null,
      "id": "ics6Ku5EtHIo",
      "metadata": {
        "id": "ics6Ku5EtHIo"
      },
      "outputs": [],
      "source": [
        "# topics, probs = topic_model.fit_transform(final_processed_text)"
      ]
    },
    {
      "cell_type": "code",
      "execution_count": null,
      "id": "QPQWdpoztXUC",
      "metadata": {
        "id": "QPQWdpoztXUC"
      },
      "outputs": [],
      "source": [
        "# topic_model.get_topic_info()"
      ]
    },
    {
      "cell_type": "code",
      "execution_count": null,
      "id": "-HBNg2xOtFQV",
      "metadata": {
        "id": "-HBNg2xOtFQV"
      },
      "outputs": [],
      "source": [
        "# topic_model.visualize_barchart()"
      ]
    },
    {
      "cell_type": "code",
      "execution_count": null,
      "id": "lmUch6RvtaoJ",
      "metadata": {
        "id": "lmUch6RvtaoJ"
      },
      "outputs": [],
      "source": [
        "# topic_model.visualize_heatmap()"
      ]
    },
    {
      "cell_type": "code",
      "execution_count": null,
      "id": "tXQxr_MfthNH",
      "metadata": {
        "id": "tXQxr_MfthNH"
      },
      "outputs": [],
      "source": [
        "# topic_model.get_document_info(final_processed_text)"
      ]
    },
    {
      "cell_type": "markdown",
      "id": "zYp_hsUp5k38",
      "metadata": {
        "id": "zYp_hsUp5k38"
      },
      "source": [
        "# **6. Cluster Model Research: KMeans, SVM, Logistic, Naive Bayes, Randomforest, BERT**\n"
      ]
    },
    {
      "cell_type": "markdown",
      "id": "rLIfsuFKqYXG",
      "metadata": {
        "id": "rLIfsuFKqYXG"
      },
      "source": [
        "## NLP Supervised and Unsupervised Learning Methods:\n",
        "1. K-Means Clustering (Unsupervised)\n",
        "2. Support Vector Machines (SVMs) (Supervised)\n",
        "3. (Multinomial) Naïve Bayes (MultinomialNB) (Supervised)\n",
        "4. Logistic Regression (Supervised)"
      ]
    },
    {
      "cell_type": "markdown",
      "id": "M2K0OQm9qYXG",
      "metadata": {
        "id": "M2K0OQm9qYXG"
      },
      "source": [
        "### Generate TF-IDF For Analysis"
      ]
    },
    {
      "cell_type": "code",
      "execution_count": null,
      "id": "IoeueV8IqYXG",
      "metadata": {
        "id": "IoeueV8IqYXG"
      },
      "outputs": [],
      "source": [
        "tfidf_matrix = tfidf(final_processed_text, titles, ngram_range = (1,1))"
      ]
    },
    {
      "cell_type": "markdown",
      "id": "FEvSp2ZEqYXG",
      "metadata": {
        "id": "FEvSp2ZEqYXG"
      },
      "source": [
        "### KMeans Clustering"
      ]
    },
    {
      "cell_type": "markdown",
      "id": "Ps22PLwKqYXG",
      "metadata": {
        "id": "Ps22PLwKqYXG"
      },
      "source": [
        "<div class=\"alert alert-block alert-success\">\n",
        "    <b>sklearn.cluster.KMeans</b>:<br>\n",
        "https://scikit-learn.org/stable/modules/generated/sklearn.cluster.KMeans.html<br><br>\n",
        "<b>KMeans Default Parameters</b>:<br>\n",
        "    class sklearn.cluster.KMeans(n_clusters=8, *, init='k-means++', n_init=10, max_iter=300, tol=0.0001, verbose=0, random_state=None, copy_x=True, algorithm='auto')\n",
        "    </div>"
      ]
    },
    {
      "cell_type": "code",
      "execution_count": null,
      "id": "ZS_fwvy_qYXH",
      "metadata": {
        "id": "ZS_fwvy_qYXH"
      },
      "outputs": [],
      "source": [
        "# cluster_title,clusters,k_means_df = k_means(titles, tfidf_matrix, k=20)"
      ]
    },
    {
      "cell_type": "markdown",
      "id": "H3mVYxxGqYXH",
      "metadata": {
        "id": "H3mVYxxGqYXH"
      },
      "source": [
        "### Access Each Cluster - Changing Dictionary KeyValue from 0 to k"
      ]
    },
    {
      "cell_type": "code",
      "execution_count": null,
      "id": "oT4JQs9fqYXH",
      "metadata": {
        "id": "oT4JQs9fqYXH"
      },
      "outputs": [],
      "source": [
        "# cluster_title[9]"
      ]
    },
    {
      "cell_type": "code",
      "execution_count": null,
      "id": "F67kfemeqYXH",
      "metadata": {
        "id": "F67kfemeqYXH"
      },
      "outputs": [],
      "source": [
        "# plot_tfidf_matrix(cluster_title,clusters,tfidf_matrix)"
      ]
    },
    {
      "cell_type": "markdown",
      "id": "TePYWQKmqYXH",
      "metadata": {
        "id": "TePYWQKmqYXH"
      },
      "source": [
        "### Generate Labels for Supervised Learning Models"
      ]
    },
    {
      "cell_type": "code",
      "execution_count": null,
      "id": "AbLtZsbuqYXH",
      "metadata": {
        "colab": {
          "base_uri": "https://localhost:8080/"
        },
        "id": "AbLtZsbuqYXH",
        "outputId": "4b51f956-1cff-4008-964e-f09f0a910422"
      },
      "outputs": [
        {
          "output_type": "stream",
          "name": "stdout",
          "text": [
            "Doc_ID\n",
            "40     0\n",
            "41     0\n",
            "42     0\n",
            "43     0\n",
            "44     0\n",
            "      ..\n",
            "190    1\n",
            "193    1\n",
            "194    1\n",
            "195    1\n",
            "199    1\n",
            "Name: Review Type (pos or neg), Length: 200, dtype: int64\n"
          ]
        }
      ],
      "source": [
        "labels = data['Review Type (pos or neg)'].apply(lambda x: 0 if x.lower().split(' ')[0] == 'negative' else 1)\n",
        "print(labels)"
      ]
    },
    {
      "cell_type": "markdown",
      "id": "gB0o70v7qYXH",
      "metadata": {
        "id": "gB0o70v7qYXH"
      },
      "source": [
        "### Support Vector Machines"
      ]
    },
    {
      "cell_type": "markdown",
      "id": "NJhIiJ3YqYXH",
      "metadata": {
        "id": "NJhIiJ3YqYXH"
      },
      "source": [
        "<div class=\"alert alert-block alert-success\">\n",
        "    <b>Support vector machines (SVMs)</b>:<br>\n",
        "https://scikit-learn.org/stable/modules/svm.html<br><br>\n",
        "    Set of supervised learning methods used for classification, regression and outliers detection\n",
        "    </div>"
      ]
    },
    {
      "cell_type": "code",
      "execution_count": null,
      "id": "vf5H6Ql0qYXH",
      "metadata": {
        "id": "vf5H6Ql0qYXH"
      },
      "outputs": [],
      "source": [
        "#classifiers(tfidf_matrix, labels, 'svm')"
      ]
    },
    {
      "cell_type": "markdown",
      "id": "CJiZlA1uqYXI",
      "metadata": {
        "id": "CJiZlA1uqYXI"
      },
      "source": [
        "### Logistic Regression Model"
      ]
    },
    {
      "cell_type": "markdown",
      "id": "y8itwmUcqYXI",
      "metadata": {
        "id": "y8itwmUcqYXI"
      },
      "source": [
        "<div class=\"alert alert-block alert-success\">\n",
        "    <b>sklearn.linear_model.LogisticRegression</b>:<br>\n",
        "https://scikit-learn.org/stable/modules/generated/sklearn.linear_model.LogisticRegression.html<br><br>\n",
        "<b>Logistic Regression Default Parameters</b>:<br>\n",
        "    class sklearn.linear_model.LogisticRegression(penalty='l2', *, dual=False, tol=0.0001, C=1.0, fit_intercept=True, intercept_scaling=1, class_weight=None, random_state=None, solver='lbfgs', max_iter=100, multi_class='auto', verbose=0, warm_start=False, n_jobs=None, l1_ratio=None)\n",
        "    </div>"
      ]
    },
    {
      "cell_type": "code",
      "execution_count": null,
      "id": "Ui8SBjF1qYXI",
      "metadata": {
        "id": "Ui8SBjF1qYXI"
      },
      "outputs": [],
      "source": [
        "#classifiers(tfidf_matrix, labels, 'logistic')"
      ]
    },
    {
      "cell_type": "markdown",
      "id": "CExnUMwYqYXI",
      "metadata": {
        "id": "CExnUMwYqYXI"
      },
      "source": [
        "### Naive Bayes"
      ]
    },
    {
      "cell_type": "markdown",
      "id": "dF-YWKkiqYXI",
      "metadata": {
        "id": "dF-YWKkiqYXI"
      },
      "source": [
        "<div class=\"alert alert-block alert-success\">\n",
        "    <b>Naive Bayes</b>:<br>\n",
        "https://scikit-learn.org/stable/modules/naive_bayes.html<br><br>\n",
        "    Naive Bayes methods are a set of supervised learning algorithms based on applying Bayes’ theorem with the “naive” assumption of conditional independence between every pair of features given the value of the class variable.\n",
        "    </div>"
      ]
    },
    {
      "cell_type": "code",
      "execution_count": null,
      "id": "fAJn7WceqYXJ",
      "metadata": {
        "id": "fAJn7WceqYXJ"
      },
      "outputs": [],
      "source": [
        "#classifiers(tfidf_matrix, labels, 'naive_bayes')"
      ]
    },
    {
      "cell_type": "markdown",
      "id": "NaqI2qc1qYXK",
      "metadata": {
        "id": "NaqI2qc1qYXK"
      },
      "source": [
        "### Random Forest"
      ]
    },
    {
      "cell_type": "markdown",
      "id": "8_N7teQ6qYXK",
      "metadata": {
        "id": "8_N7teQ6qYXK"
      },
      "source": [
        "<div class=\"alert alert-block alert-success\">\n",
        "    <b>sklearn.ensemble.RandomForestClassifier</b>:<br>\n",
        "https://scikit-learn.org/stable/modules/generated/sklearn.ensemble.RandomForestClassifier.html<br><br>\n",
        "<b>RandomForest Classifier Default Parameters</b>:<br>\n",
        "    class sklearn.ensemble.RandomForestClassifier(n_estimators=100, *, criterion='gini', max_depth=None, min_samples_split=2, min_samples_leaf=1, min_weight_fraction_leaf=0.0, max_features='auto', max_leaf_nodes=None, min_impurity_decrease=0.0, bootstrap=True, oob_score=False, n_jobs=None, random_state=None, verbose=0, warm_start=False, class_weight=None, ccp_alpha=0.0, max_samples=None)\n",
        "    </div>"
      ]
    },
    {
      "cell_type": "code",
      "execution_count": null,
      "id": "z8WVNrScqYXK",
      "metadata": {
        "id": "z8WVNrScqYXK"
      },
      "outputs": [],
      "source": [
        "#classifiers(tfidf_matrix, labels, 'randomforest')"
      ]
    },
    {
      "cell_type": "markdown",
      "id": "G2KREOkw5S7j",
      "metadata": {
        "id": "G2KREOkw5S7j"
      },
      "source": [
        "### BERT Pre-Trained Binary Classification (Sentiment-Analysis)\n",
        "\n",
        "We use the pre-trained DistilBERT model \"sentiment-analysis\" fine-tuned for sentiment analysis to categorize text sentiments into positive, negative, or neutral.\n",
        "\n",
        "https://wellsr.com/python/hugging-face-pipelines-for-python-natural-language-processing/"
      ]
    },
    {
      "cell_type": "code",
      "execution_count": null,
      "id": "9rt-K-_zabYt",
      "metadata": {
        "id": "9rt-K-_zabYt"
      },
      "outputs": [],
      "source": [
        "def bert_classifier_binary(texts, labels):\n",
        "    # Initialize the sentiment-analysis pipeline\n",
        "    classifier = pipeline(\"sentiment-analysis\")\n",
        "\n",
        "    # Split the dataset\n",
        "    X_train, X_test, y_train, y_test = train_test_split(texts, labels, test_size=0.10, random_state=42)\n",
        "\n",
        "    # Perform sentiment analysis\n",
        "    results = classifier(X_test, truncation=True)\n",
        "\n",
        "    # Map BERT's output to binary labels\n",
        "    predictions = [0 if result['label'] == 'NEGATIVE' else 1 for result in results]\n",
        "\n",
        "    # Calculate accuracy\n",
        "    accuracy = accuracy_score(y_test, predictions)\n",
        "    print(f\"Binary Classification Accuracy: {accuracy}\")\n",
        "    return accuracy"
      ]
    },
    {
      "cell_type": "code",
      "execution_count": null,
      "id": "3RlNarMYo9rS",
      "metadata": {
        "colab": {
          "base_uri": "https://localhost:8080/"
        },
        "id": "3RlNarMYo9rS",
        "outputId": "f729a084-7828-4d20-b0f7-1c447fb20b6e"
      },
      "outputs": [
        {
          "output_type": "execute_result",
          "data": {
            "text/plain": [
              "['boredom sets in long before the start of angel has fallen. i start my journey to the movie by changing out of my work clothes into something more comfortable. instead of something complex like a dress shirt with buttons and a collar along with khaki pants that require a belt, i wear a loose-fitting t-shirt and a light pair of cargo shorts. i want something simple and uncomplicated, like the plot to an action movie boiled down to \\x93guy is framed, guy wants revenge, guy kills guys for revenge.\\x94 it took only one person to pick out both of my outfits for the day, an accomplishment that seems remarkable compared to the three people who wrote the script to angel has fallen, completely different from the two people who wrote the story of said movie. a total of five people were needed to tell another convoluted story of gerard butler running from slightly-bearded men with guns for two hours. compared to the 15 minutes it took me to figure out the clothes appropriate for the day, it\\x92s hard to figure out which effort was more difficult to do, or more fun. 5 p.m. and the theater i\\x92m going to is across the street from my local mall. i\\x92ve got a couple hours to kill so i swing by my local newbury comics to see if the new friendly fires record was on shelves. they didn\\x92t have a copy available and i was disappointed. i couldn\\x92t see my specific reaction to said news but i think it would look similar to that of morgan freeman throughout angel has fallen. once again playing the president of the united states, freeman\\x92s reactions are a healthy mixture of boredom, annoyance, disinterest and exhaustion. more of the latter actually, considering that freeman is comatose and bed-ridden for most of the movie. i almost felt sorry for such a commanding presence and talented performer to be deemed less important to the film than an elongated chase scene with an 18-wheeler. then again he was probably given a significant chunk of the estimated $80 million budget to participate, whereas i paid $30 to fill my car with gas and then another $14 for the eventual movie ticket. couldn\\x92t i have stayed home and napped like morgan freeman? i walk through the mall and notice faces passing me by, all showing a wide range of emotions: joy over a funny conversation, frustration over missing out on a sale at american eagle, even anticipation over getting the chance to leave the mall and stop carrying so many damn shopping bags. it\\x92s fascinating to think we as humans are capable of so many feelings to express and it later made me wonder what direction ric roman waugh (snitch) gave to his actors that had them repress all possible emotions aside from\\x85.toughness? roboticism? constipation? then again, the people i passed at the mall weren\\x92t being forced to play out scenarios that are a miraculous combination of convoluted and mundane. sometimes those scenarios are so boring that angel has fallen would rather shake the camera and rapidly cut between characters than focus on anything. maybe it was out of shame, like the kind felt by the guy walking behind his girlfriend carrying four victoria secret bags. 6 p.m. and i felt like enjoying food at the local red robin (don\\x92t worry they\\x92re not a sponsor, i just like their burgers). helping that burger go down was an ice cold glass of angry orchard, a bright spot on a day that was rather uneventful, before and after the cider. it\\x92s nice when the tiniest element of a daily routine is surprising -enough to be memorable, like engaging in conversation about ea\\x92s crooked business strategy with a friendly bartender or nick nolte sporting a santa claus beard stumbling into the movie from the woods to blow up soldiers for butler\\x92s character. sure he looks confused and overtired running through the trees garbling lines, but hey so does butler. at least it\\x92s funny to see nolte hobble through explosions and rattle his vocal chords to say lines about being paranoid of the government putting machines on his damn lawn or whatever. hell if the cannon group kept charles bronson shooting gang members well into his 70s, why will no studio let nick nolte do the same? but i finally got to 7 p.m., the start of the movie. regardless of what i was about to endure or how little interest i showed in the movie, i was to do my due diligence as a film critic and give the movie a fair shake. the opening studio credits came up, i blinked\\x85.and then the movie was over. somehow the entire 121 minutes of film that played before me suddenly blinked out of existence in my memory and i felt absolutely nothing from the experience. but..i just recounted specificities from the movie in the paragraphs\\x85.how did this happen? is my mind collapsing in on itself?! what more do i have to say?! oh right, angel has fallen sucked.']"
            ]
          },
          "metadata": {},
          "execution_count": 50
        }
      ],
      "source": [
        "# How about the raw text?\n",
        "raw_text = [text.strip().lower() for text in data['Text']]\n",
        "\n",
        "raw_text[:1]"
      ]
    },
    {
      "cell_type": "code",
      "execution_count": null,
      "id": "zkkXQjI3kSMa",
      "metadata": {
        "colab": {
          "base_uri": "https://localhost:8080/"
        },
        "id": "zkkXQjI3kSMa",
        "outputId": "cc78e6c4-0aa4-4dcd-8c22-68b1a0972cae"
      },
      "outputs": [
        {
          "output_type": "execute_result",
          "data": {
            "text/plain": [
              "['boredom sets in long before the start of angel has fallen. i start my journey to the movie by changing out of my work clothes into something more comfortable. instead of something complex like a dress shirt with buttons and a collar along with khaki pants that require a belt, i wear a loose-fitting t-shirt and a light pair of cargo shorts. i want something simple and uncomplicated, like the plot to an action movie boiled down to \"guy is framed, guy wants revenge, guy kills guys for revenge.\" it took only one person to pick out both of my outfits for the day, an accomplishment that seems remarkable compared to the three people who wrote the script to angel has fallen, completely different from the two people who wrote the story of said movie. a total of five people were needed to tell another convoluted story of gerard butler running from slightly-bearded men with guns for two hours. compared to the 15 minutes it took me to figure out the clothes appropriate for the day, it\\'s hard to figure out which effort was more difficult to do, or more fun. 5 p.m. and the theater i\\'m going to is across the street from my local mall. i\\'ve got a couple hours to kill so i swing by my local newbury comics to see if the new friendly fires record was on shelves. they didn\\'t have a copy available and i was disappointed. i couldn\\'t see my specific reaction to said news but i think it would look similar to that of morgan freeman throughout angel has fallen. once again playing the president of the united states, freeman\\'s reactions are a healthy mixture of boredom, annoyance, disinterest and exhaustion. more of the latter actually, considering that freeman is comatose and bed-ridden for most of the movie. i almost felt sorry for such a commanding presence and talented performer to be deemed less important to the film than an elongated chase scene with an 18-wheeler. then again he was probably given a significant chunk of the estimated $80 million budget to participate, whereas i paid $30 to fill my car with gas and then another $14 for the eventual movie ticket. couldn\\'t i have stayed home and napped like morgan freeman? i walk through the mall and notice faces passing me by, all showing a wide range of emotions: joy over a funny conversation, frustration over missing out on a sale at american eagle, even anticipation over getting the chance to leave the mall and stop carrying so many damn shopping bags. it\\'s fascinating to think we as humans are capable of so many feelings to express and it later made me wonder what direction ric roman waugh (snitch) gave to his actors that had them repress all possible emotions aside from.toughness? roboticism? constipation? then again, the people i passed at the mall weren\\'t being forced to play out scenarios that are a miraculous combination of convoluted and mundane. sometimes those scenarios are so boring that angel has fallen would rather shake the camera and rapidly cut between characters than focus on anything. maybe it was out of shame, like the kind felt by the guy walking behind his girlfriend carrying four victoria secret bags. 6 p.m. and i felt like enjoying food at the local red robin (don\\'t worry they\\'re not a sponsor, i just like their burgers). helping that burger go down was an ice cold glass of angry orchard, a bright spot on a day that was rather uneventful, before and after the cider. it\\'s nice when the tiniest element of a daily routine is surprising -enough to be memorable, like engaging in conversation about ea\\'s crooked business strategy with a friendly bartender or nick nolte sporting a santa claus beard stumbling into the movie from the woods to blow up soldiers for butler\\'s character. sure he looks confused and overtired running through the trees garbling lines, but hey so does butler. at least it\\'s funny to see nolte hobble through explosions and rattle his vocal chords to say lines about being paranoid of the government putting machines on his damn lawn or whatever. hell if the cannon group kept charles bronson shooting gang members well into his 70s, why will no studio let nick nolte do the same? but i finally got to 7 p.m., the start of the movie. regardless of what i was about to endure or how little interest i showed in the movie, i was to do my due diligence as a film critic and give the movie a fair shake. the opening studio credits came up, i blinked.and then the movie was over. somehow the entire 121 minutes of film that played before me suddenly blinked out of existence in my memory and i felt absolutely nothing from the experience. but..i just recounted specificities from the movie in the paragraphs.how did this happen? is my mind collapsing in on itself?! what more do i have to say?! oh right, angel has fallen sucked.']"
            ]
          },
          "metadata": {},
          "execution_count": 51
        }
      ],
      "source": [
        "import re\n",
        "\n",
        "def clean_non_ascii(text):\n",
        "    # Replace common non-ASCII characters with their ASCII equivalents\n",
        "    text = text.replace('\\x93', '\"').replace('\\x94', '\"')  # Smart double quotes\n",
        "    text = text.replace('\\x91', \"'\").replace('\\x92', \"'\")  # Smart single quotes\n",
        "    text = text.replace('\\x96', '-').replace('\\x97', '-')  # Long dashes\n",
        "\n",
        "    # Remove any remaining non-ASCII characters\n",
        "    text = re.sub(r'[^\\x00-\\x7F]+', '', text)\n",
        "    return text\n",
        "\n",
        "raw_text_cleaned = [clean_non_ascii(text) for text in raw_text]\n",
        "raw_text_cleaned[:1]"
      ]
    },
    {
      "cell_type": "code",
      "execution_count": null,
      "id": "FpMDvJpnnnu7",
      "metadata": {
        "colab": {
          "base_uri": "https://localhost:8080/"
        },
        "id": "FpMDvJpnnnu7",
        "outputId": "796890ca-21e6-4167-9bfa-0c49be86e385"
      },
      "outputs": [
        {
          "output_type": "stream",
          "name": "stdout",
          "text": [
            "        Label                                     Processed_Text  \\\n",
            "Doc_ID                                                             \n",
            "40          0  boredom start angel fallen start journey movie...   \n",
            "41          0  muttered entered first screening local cinema ...   \n",
            "42          0  roman angel fallen secret service agent bannin...   \n",
            "43          0  certain mindless pleasure fallen movies watchi...   \n",
            "44          0  andor understand eminently disposable third ch...   \n",
            "...       ...                                                ...   \n",
            "190         1  diesel suddenly largely unknown actor whose si...   \n",
            "193         1  packed razzledazzle special effects fueled agg...   \n",
            "194         1  richard riddick diesel remain unconscious cryo...   \n",
            "195         1  whats passenger spaceship rogue asteroid comet...   \n",
            "199         1  sometimes movie value casablanca shocking soun...   \n",
            "\n",
            "                                                 Raw_Text  \n",
            "Doc_ID                                                     \n",
            "40      boredom sets in long before the start of angel...  \n",
            "41      who are all these people?\\n\\nthat was what i...  \n",
            "42      ric roman waughs angel has fallen sees u.s. s...  \n",
            "43      there is a certain mindless pleasure in the fa...  \n",
            "44      no, you dont need to have seen olympus has f...  \n",
            "...                                                   ...  \n",
            "190     it's vin diesel week! suddenly, this largely u...  \n",
            "193     packed with razzle-dazzle special effects and ...  \n",
            "194     richard b. riddick (vin diesel) cant seem to ...  \n",
            "195     what's it about?\\na passenger spaceship is hit...  \n",
            "199     sometimes, you have to take a movie at face va...  \n",
            "\n",
            "[200 rows x 3 columns]\n"
          ]
        }
      ],
      "source": [
        "# Compare raw text with final processed text:\n",
        "\n",
        "data['final_processed_text'] = final_processed_text\n",
        "\n",
        "data['raw_text'] = raw_text\n",
        "#data['raw_text'] = raw_text_cleaned\n",
        "\n",
        "comparison_df = pd.DataFrame({\n",
        "    'Label': labels,\n",
        "    'Processed_Text': data['final_processed_text'],\n",
        "    'Raw_Text': data['raw_text']\n",
        "})\n",
        "\n",
        "print(comparison_df)\n"
      ]
    },
    {
      "cell_type": "markdown",
      "id": "ycTdDElJjmGH",
      "metadata": {
        "id": "ycTdDElJjmGH"
      },
      "source": []
    },
    {
      "cell_type": "code",
      "execution_count": null,
      "id": "2l4Uff8pokbZ",
      "metadata": {
        "id": "2l4Uff8pokbZ"
      },
      "outputs": [],
      "source": [
        "#bert_classifier_binary(raw_text, labels)"
      ]
    },
    {
      "cell_type": "code",
      "execution_count": null,
      "id": "MRN9cUS5orjL",
      "metadata": {
        "id": "MRN9cUS5orjL"
      },
      "outputs": [],
      "source": [
        "#bert_classifier_binary(raw_text_cleaned, labels)"
      ]
    },
    {
      "cell_type": "code",
      "execution_count": null,
      "id": "mMr-VgHCT6Xn",
      "metadata": {
        "id": "mMr-VgHCT6Xn"
      },
      "outputs": [],
      "source": [
        "#bert_classifier_binary(final_processed_text, labels)"
      ]
    },
    {
      "cell_type": "markdown",
      "id": "zM6UV506jkJV",
      "metadata": {
        "id": "zM6UV506jkJV"
      },
      "source": [
        "### BERT Pre-Trained Multiple Classification (Genre)\n",
        "\n",
        "Our genre classification utilizes a BERT-based uncased model to distinguish text genres. This approach capitalizes on BERT's deep semantic understanding from uncased text, aiming for genre identification.\n",
        "\n",
        "https://huggingface.co/google-bert/bert-base-uncased"
      ]
    },
    {
      "cell_type": "code",
      "execution_count": null,
      "id": "Ih69XD3RoVeC",
      "metadata": {
        "id": "Ih69XD3RoVeC"
      },
      "outputs": [],
      "source": [
        "# Good for quick assessment of model accuracy within function\n",
        "def bert_classifier_multiple_simple(texts, labels):\n",
        "    # Encode labels\n",
        "    encoder = LabelEncoder()\n",
        "    encoded_labels = encoder.fit_transform(labels)\n",
        "\n",
        "    # Split the dataset\n",
        "    X_train, X_test, y_train, y_test = train_test_split(texts, encoded_labels, test_size=0.10, random_state=42)\n",
        "\n",
        "    # Load a tokenizer and model suited for your multi-class task\n",
        "    #tokenizer = AutoTokenizer.from_pretrained(\"bert-base-uncased\")\n",
        "    #tokenizer = AutoTokenizer.from_pretrained(\"bert-large-uncased\")\n",
        "    tokenizer = AutoTokenizer.from_pretrained(\"distilbert-base-uncased\")\n",
        "    #model = AutoModelForSequenceClassification.from_pretrained(\"bert-base-uncased\", num_labels=len(encoder.classes_))\n",
        "    #model = AutoModelForSequenceClassification.from_pretrained(\"bert-large-uncased\", num_labels=len(encoder.classes_))\n",
        "    model = AutoModelForSequenceClassification.from_pretrained(\"distilbert-base-uncased\", num_labels=len(encoder.classes_))\n",
        "\n",
        "    # Initialize the pipeline\n",
        "    classifier = pipeline(\"text-classification\", model=model, tokenizer=tokenizer)\n",
        "\n",
        "    # Perform classification\n",
        "    results = classifier(X_test, truncation=True)\n",
        "\n",
        "    # Decode predictions to original labels\n",
        "    predictions = [int(result['label'].split('_')[-1]) for result in results]\n",
        "    decoded_predictions = encoder.inverse_transform(predictions)\n",
        "\n",
        "    # Calculate accuracy\n",
        "    decoded_y_test = encoder.inverse_transform(y_test)\n",
        "    accuracy = accuracy_score(decoded_y_test, decoded_predictions)\n",
        "    print(f\"Multi-class Classification Accuracy: {accuracy}\")\n",
        "    return accuracy\n"
      ]
    },
    {
      "cell_type": "code",
      "execution_count": null,
      "id": "tNQRUh9otGwj",
      "metadata": {
        "colab": {
          "base_uri": "https://localhost:8080/",
          "height": 266,
          "referenced_widgets": [
            "37cecc4886c7412cafc64bcd49587c52",
            "054b674b36224ee59d4fee3840e30364",
            "1c87fa8e7d7143d0b7b6cafb14793331",
            "87eb56097a3e48dbb4be0c3fe9f64738",
            "3763a18fce304db4b39dade559ba9b66",
            "377f849825324dac8101491610d07469",
            "5bb926026e5145da8b41cafe1f82bcd9",
            "13e7e9ed09d842c6bfdd906196ec1938",
            "cd92ed7c8aba40abadc387eefbbc7e4a",
            "eee6288f5c1f45e1a87410494b6755cd",
            "243ac4a641f649bdb7dc26fed6f667a3",
            "14e7f0d42c0a4a77b6178f7ff6802deb",
            "629e10152afa41a2938c964594939aa8",
            "0ea8e2a89fdf4de9ad15c0cde69e5243",
            "e7094ddecbba4e4c8c60d49cc8fe22e9",
            "ecf2878a28174f0cac26c0e0bdacb077",
            "38eb7b1280b9425584c609cc15b24433",
            "85ed97dc259341a2a655e5be35110f13",
            "476cf02362ac4d469c7b8691c5997ae7",
            "b321141f61c74779a0e39ce5501eb194",
            "ed797f1b81364dc5944c6b3a0455b5eb",
            "0032c23473a942acb8ba7adba2377c73",
            "8f25479d1411420a9bacd216d8731287",
            "4fdc47f7919e478185a865daefcef71f",
            "0dbd4660fdc44385ae3cc3309463641e",
            "743fa7f9f4db4c56941a210674d37b18",
            "3b278cf6b8ff4ce5b1dd2f6d97db58b5",
            "9b01d1f83cc149cababa4eee6163944c",
            "d3109c2414624f93814fa33f00d3dea5",
            "c42f3b3e4fd64c489b81acf35a6d0603",
            "1968829f05584b0fb0db9975a5f1a6bf",
            "7e787f2a5ed444b2a1d365c0df3f96c5",
            "6c26e83fdfb74dc19b768bde78495539",
            "eba4e9f8b21c45f18529e8e566783bfb",
            "d0a0651461e64d40a4d96c94555f1e59",
            "1655aca23d604e6bb01882b27dcc49ea",
            "2752a2fb1a7e4b0aa8e501c52f4f171a",
            "1c77eb42ec7e4c1db8bb97ead4dbd23b",
            "8c26e1699a184cd5902f83d1612faf1a",
            "00c4ea8bb3d148c69093350cfd6055ff",
            "b2a023326b1b445cace819658e7b11e6",
            "cb46c88464134a7bbda0d4918bc4e201",
            "a0fbe41cbfa642af913159d0135a544b",
            "b46a29637937419e869277230722015a",
            "8207c021a16942708fc5efbf68e30b94",
            "90011df072494dc185dc2aa495e0c049",
            "937c1c4fe9b84832aa50f77beae25c0e",
            "85da64183a3e4bc88e51c0a4c89f53ff",
            "802d8da05ab749cba24361639602f774",
            "17525882b8244236937bf444e77a0fec",
            "08daa042c0ce4f3ba2150c2ed024fbd2",
            "84394d1032494f098963ae96f8be8280",
            "ee91b17a22474b48bb8c754672de7bbb",
            "07b96ee1c0024c809c9ee72d6c4a100e",
            "f02b1da52f4546219850d019dd69dcbe"
          ]
        },
        "id": "tNQRUh9otGwj",
        "outputId": "76f84d24-72ca-4ef3-818d-7c7c54fc5c3f"
      },
      "outputs": [
        {
          "output_type": "display_data",
          "data": {
            "text/plain": [
              "tokenizer_config.json:   0%|          | 0.00/28.0 [00:00<?, ?B/s]"
            ],
            "application/vnd.jupyter.widget-view+json": {
              "version_major": 2,
              "version_minor": 0,
              "model_id": "37cecc4886c7412cafc64bcd49587c52"
            }
          },
          "metadata": {}
        },
        {
          "output_type": "display_data",
          "data": {
            "text/plain": [
              "config.json:   0%|          | 0.00/483 [00:00<?, ?B/s]"
            ],
            "application/vnd.jupyter.widget-view+json": {
              "version_major": 2,
              "version_minor": 0,
              "model_id": "14e7f0d42c0a4a77b6178f7ff6802deb"
            }
          },
          "metadata": {}
        },
        {
          "output_type": "display_data",
          "data": {
            "text/plain": [
              "vocab.txt:   0%|          | 0.00/232k [00:00<?, ?B/s]"
            ],
            "application/vnd.jupyter.widget-view+json": {
              "version_major": 2,
              "version_minor": 0,
              "model_id": "8f25479d1411420a9bacd216d8731287"
            }
          },
          "metadata": {}
        },
        {
          "output_type": "display_data",
          "data": {
            "text/plain": [
              "tokenizer.json:   0%|          | 0.00/466k [00:00<?, ?B/s]"
            ],
            "application/vnd.jupyter.widget-view+json": {
              "version_major": 2,
              "version_minor": 0,
              "model_id": "eba4e9f8b21c45f18529e8e566783bfb"
            }
          },
          "metadata": {}
        },
        {
          "output_type": "display_data",
          "data": {
            "text/plain": [
              "model.safetensors:   0%|          | 0.00/268M [00:00<?, ?B/s]"
            ],
            "application/vnd.jupyter.widget-view+json": {
              "version_major": 2,
              "version_minor": 0,
              "model_id": "8207c021a16942708fc5efbf68e30b94"
            }
          },
          "metadata": {}
        },
        {
          "output_type": "stream",
          "name": "stderr",
          "text": [
            "Some weights of DistilBertForSequenceClassification were not initialized from the model checkpoint at distilbert-base-uncased and are newly initialized: ['classifier.bias', 'classifier.weight', 'pre_classifier.bias', 'pre_classifier.weight']\n",
            "You should probably TRAIN this model on a down-stream task to be able to use it for predictions and inference.\n"
          ]
        },
        {
          "output_type": "stream",
          "name": "stdout",
          "text": [
            "Multi-class Classification Accuracy: 0.1\n"
          ]
        },
        {
          "output_type": "execute_result",
          "data": {
            "text/plain": [
              "0.1"
            ]
          },
          "metadata": {},
          "execution_count": 57
        }
      ],
      "source": [
        "bert_classifier_multiple_simple(final_processed_text, data[\"Genre of Movie\"])"
      ]
    },
    {
      "cell_type": "code",
      "execution_count": null,
      "id": "O36QFy1ZkHLg",
      "metadata": {
        "colab": {
          "base_uri": "https://localhost:8080/"
        },
        "id": "O36QFy1ZkHLg",
        "outputId": "d1f068c4-b4dd-4e78-d937-956b7ec99f36"
      },
      "outputs": [
        {
          "output_type": "stream",
          "name": "stderr",
          "text": [
            "Some weights of DistilBertForSequenceClassification were not initialized from the model checkpoint at distilbert-base-uncased and are newly initialized: ['classifier.bias', 'classifier.weight', 'pre_classifier.bias', 'pre_classifier.weight']\n",
            "You should probably TRAIN this model on a down-stream task to be able to use it for predictions and inference.\n"
          ]
        },
        {
          "output_type": "stream",
          "name": "stdout",
          "text": [
            "Multi-class Classification Accuracy: 0.15\n"
          ]
        },
        {
          "output_type": "execute_result",
          "data": {
            "text/plain": [
              "0.15"
            ]
          },
          "metadata": {},
          "execution_count": 58
        }
      ],
      "source": [
        "bert_classifier_multiple_simple(raw_text, data[\"Genre of Movie\"])"
      ]
    },
    {
      "cell_type": "code",
      "execution_count": null,
      "id": "dFqcTTsytmHZ",
      "metadata": {
        "colab": {
          "base_uri": "https://localhost:8080/"
        },
        "id": "dFqcTTsytmHZ",
        "outputId": "373d8fb9-ed8e-4d63-e1d9-c790748edda8"
      },
      "outputs": [
        {
          "output_type": "stream",
          "name": "stderr",
          "text": [
            "Some weights of DistilBertForSequenceClassification were not initialized from the model checkpoint at distilbert-base-uncased and are newly initialized: ['classifier.bias', 'classifier.weight', 'pre_classifier.bias', 'pre_classifier.weight']\n",
            "You should probably TRAIN this model on a down-stream task to be able to use it for predictions and inference.\n"
          ]
        },
        {
          "output_type": "stream",
          "name": "stdout",
          "text": [
            "Multi-class Classification Accuracy: 0.35\n"
          ]
        },
        {
          "output_type": "execute_result",
          "data": {
            "text/plain": [
              "0.35"
            ]
          },
          "metadata": {},
          "execution_count": 59
        }
      ],
      "source": [
        "bert_classifier_multiple_simple(raw_text_cleaned, data[\"Genre of Movie\"])"
      ]
    },
    {
      "cell_type": "markdown",
      "id": "QApIoFki36gC",
      "metadata": {
        "id": "QApIoFki36gC"
      },
      "source": [
        "### Confusion Matrix\n",
        "\n",
        "This code snippet generates a confusion matrix to visually evaluate the performance of our classification model by comparing the actual versus predicted labels."
      ]
    },
    {
      "cell_type": "code",
      "execution_count": null,
      "id": "5NUC7Ilv3vDu",
      "metadata": {
        "colab": {
          "base_uri": "https://localhost:8080/",
          "height": 232,
          "referenced_widgets": [
            "d7227f6c616146df890e9367e58eb6de",
            "61038907451f4a21a36a73ea88cc3eca",
            "f86d8024374e4ad4bcbdd586df0c88cf",
            "9d8414f265964a98949a1614b790b5fd",
            "51daf97e5d7f4798b42962c89d78380b",
            "209ce6ae6e8a410082ba7f48f09ffd43",
            "9b93decac3c4416e9c264435fb69d1b1",
            "1305daccd9c54e758a4f8ded6d2e2a89",
            "fe41e87ef0ec49c5a0894074ad94e47b",
            "11729b5573b14dc1a271646574a697ac",
            "f009def80ca24da4b0ffd2e8ff5f276d",
            "6d7afcbf08864b2d8ad413ebb609d845",
            "b047b7781b504d21903179ed17dabc05",
            "efdc5a45553047a3b66355ae2a33c9fd",
            "ae21173539c948bcabe4fa346d856f44",
            "5f7e1284de10472aabe06ab10376c6fa",
            "ab165f2add9f42b997a5f0ec1177d380",
            "64d2357d4da34c218c08720c452355f3",
            "508da77515dc4d409ebc78f02e71d8ba",
            "f1df447fd16e4d3aaba39f96db89da25",
            "3cee46ce66264d36a31467f4b63fabfb",
            "685c8156b84a4282ad845a720a1660ad",
            "2e0f5d6400e54513801f7f28825930c0",
            "475a8a9e9aae4383be8a33178be5c621",
            "e0a74784293440b6887f00dd83d78fab",
            "f1208861e0cc48f684b7f53f61a59bd5",
            "9565c5eac429402e94592af7886b9209",
            "7424b75d9f104668b10235a8f58a1fef",
            "708d11f5ab734f7492ac3eaf11ee9d7e",
            "d46b83013214436d88f2ca0a33497265",
            "d5f711a778ab4b468a1b22eb8efa2868",
            "4187acfdf0c74a7c89ea501a9a92ca6c",
            "a169b8c9aafd4e11850a791a12017e7a",
            "8a07d37b23e748a3b68c7981547905b9",
            "e19bd1e3ec124730b7be45d2f678c6a8",
            "9b8a7b96d1e849e4a52e31a2e0c1ec3f",
            "9f282e6cf8da4f7f830f159f11394a6e",
            "cb60e81aaf264af9a70b834f25401dfd",
            "dbc06cfdb2d7484981a390f6b5f3718f",
            "d7341c94725142e1947374b13d061437",
            "24255b48f0114089912b5cc87ba2e391",
            "da2ef0359b54490e84c870a17b0209fe",
            "1850564c50ff41949d1a332de4a3f9fc",
            "ea1df53126c548499a27468b183810bf",
            "aa316a3cc241488bb187c8ea318f4da3",
            "6d9fbb22701f46dfaedfdd153e3af47c",
            "696faf030df54180b48fd41ef840b547",
            "e0da46ba0f5a45d2ac56eb5056651df3",
            "acb4c92651b6408398cc97c292ba23a9",
            "663c9237ae1349bc9aef03b9519b9b07",
            "8a3c669f675547688a4a6bed4016a086",
            "8fbfee58d927464dbfce79fde5b8d09c",
            "bc81e2ca55604456af797e9802b9c1db",
            "1287f9e8fbb943e2beea0c48c9a52714",
            "d998e989a97541b39c64f6358debae87"
          ]
        },
        "id": "5NUC7Ilv3vDu",
        "outputId": "29c3c785-b92a-4daa-c39f-279d256ba362"
      },
      "outputs": [
        {
          "output_type": "display_data",
          "data": {
            "text/plain": [
              "tokenizer_config.json:   0%|          | 0.00/48.0 [00:00<?, ?B/s]"
            ],
            "application/vnd.jupyter.widget-view+json": {
              "version_major": 2,
              "version_minor": 0,
              "model_id": "d7227f6c616146df890e9367e58eb6de"
            }
          },
          "metadata": {}
        },
        {
          "output_type": "display_data",
          "data": {
            "text/plain": [
              "config.json:   0%|          | 0.00/570 [00:00<?, ?B/s]"
            ],
            "application/vnd.jupyter.widget-view+json": {
              "version_major": 2,
              "version_minor": 0,
              "model_id": "6d7afcbf08864b2d8ad413ebb609d845"
            }
          },
          "metadata": {}
        },
        {
          "output_type": "display_data",
          "data": {
            "text/plain": [
              "vocab.txt:   0%|          | 0.00/232k [00:00<?, ?B/s]"
            ],
            "application/vnd.jupyter.widget-view+json": {
              "version_major": 2,
              "version_minor": 0,
              "model_id": "2e0f5d6400e54513801f7f28825930c0"
            }
          },
          "metadata": {}
        },
        {
          "output_type": "display_data",
          "data": {
            "text/plain": [
              "tokenizer.json:   0%|          | 0.00/466k [00:00<?, ?B/s]"
            ],
            "application/vnd.jupyter.widget-view+json": {
              "version_major": 2,
              "version_minor": 0,
              "model_id": "8a07d37b23e748a3b68c7981547905b9"
            }
          },
          "metadata": {}
        },
        {
          "output_type": "display_data",
          "data": {
            "text/plain": [
              "model.safetensors:   0%|          | 0.00/440M [00:00<?, ?B/s]"
            ],
            "application/vnd.jupyter.widget-view+json": {
              "version_major": 2,
              "version_minor": 0,
              "model_id": "aa316a3cc241488bb187c8ea318f4da3"
            }
          },
          "metadata": {}
        },
        {
          "output_type": "stream",
          "name": "stderr",
          "text": [
            "Some weights of BertForSequenceClassification were not initialized from the model checkpoint at bert-base-uncased and are newly initialized: ['classifier.bias', 'classifier.weight']\n",
            "You should probably TRAIN this model on a down-stream task to be able to use it for predictions and inference.\n"
          ]
        }
      ],
      "source": [
        "from sklearn.metrics import confusion_matrix, accuracy_score\n",
        "import matplotlib.pyplot as plt\n",
        "import seaborn as sns\n",
        "from sklearn.preprocessing import LabelEncoder\n",
        "from sklearn.model_selection import train_test_split\n",
        "from transformers import AutoTokenizer, AutoModelForSequenceClassification, pipeline\n",
        "\n",
        "# Better suited for scenarios where you need to do more detailed post-processing or evaluation of the model’s performance\n",
        "# Returning both sets of labels and the encoder allows you to compute additional metrics (like precision, recall, F1 score),\n",
        "# generate confusion matrices, and perform more detailed error analyses outside the function.\n",
        "# This version is preferable when you are finalizing your model or preparing to present detailed results and insights.\n",
        "def bert_classifier_multiple(texts, labels):\n",
        "    # Initialize and fit the label encoder\n",
        "    encoder = LabelEncoder()\n",
        "    encoded_labels = encoder.fit_transform(labels)\n",
        "\n",
        "    # Split the dataset\n",
        "    X_train, X_test, y_train, y_test = train_test_split(texts, encoded_labels, test_size=0.10, random_state=42)\n",
        "\n",
        "    # Load a tokenizer and model suited for the multi-class task\n",
        "    tokenizer = AutoTokenizer.from_pretrained(\"bert-base-uncased\")\n",
        "    #tokenizer = AutoTokenizer.from_pretrained(\"bert-large-uncased\")\n",
        "\n",
        "    model = AutoModelForSequenceClassification.from_pretrained(\"bert-base-uncased\", num_labels=len(encoder.classes_))\n",
        "    #model = AutoModelForSequenceClassification.from_pretrained(\"bert-large-uncased\", num_labels=len(encoder.classes_))\n",
        "\n",
        "    # Initialize the pipeline\n",
        "    classifier = pipeline(\"text-classification\", model=model, tokenizer=tokenizer)\n",
        "\n",
        "    # Perform classification\n",
        "    results = classifier(X_test, truncation=True)\n",
        "\n",
        "    # Process predictions\n",
        "    predictions = [int(result['label'].split('_')[-1]) for result in results]\n",
        "\n",
        "    # Decode predictions and true labels back to original labels\n",
        "    decoded_predictions = encoder.inverse_transform(predictions)\n",
        "    decoded_y_test = encoder.inverse_transform(y_test)\n",
        "\n",
        "    # Return the true labels, predicted labels, and the encoder (for plotting confusion matrix)\n",
        "    return decoded_y_test, decoded_predictions, encoder\n",
        "\n",
        "# Assuming `data[\"Genre of Movie\"]` is your labels array\n",
        "true_labels, predicted_labels, encoder = bert_classifier_multiple(final_processed_text, data[\"Genre of Movie\"])\n"
      ]
    },
    {
      "cell_type": "code",
      "execution_count": null,
      "id": "3vhOoR7r3yRR",
      "metadata": {
        "colab": {
          "base_uri": "https://localhost:8080/",
          "height": 1000
        },
        "id": "3vhOoR7r3yRR",
        "outputId": "4392d96a-e4ba-47d0-b1dd-0607b15f0ac2"
      },
      "outputs": [
        {
          "output_type": "display_data",
          "data": {
            "text/plain": [
              "<Figure size 1200x1200 with 2 Axes>"
            ],
            "image/png": "[encoded data removed]"
          },
          "metadata": {}
        }
      ],
      "source": [
        "def plot_confusion_matrix(true_labels, predicted_labels, classes):\n",
        "    cm = confusion_matrix(true_labels, predicted_labels, labels=classes)\n",
        "    plt.figure(figsize=(12, 12))\n",
        "    sns.heatmap(cm, annot=True, fmt='d', cmap='Blues', xticklabels=classes, yticklabels=classes)\n",
        "    plt.title('Confusion Matrix')\n",
        "    plt.ylabel('True Labels')\n",
        "    plt.xlabel('Predicted Labels')\n",
        "    plt.show()\n",
        "\n",
        "plot_confusion_matrix(true_labels, predicted_labels, encoder.classes_)\n"
      ]
    },
    {
      "cell_type": "code",
      "execution_count": null,
      "id": "clbq28Do49H-",
      "metadata": {
        "colab": {
          "base_uri": "https://localhost:8080/"
        },
        "id": "clbq28Do49H-",
        "outputId": "dfc27855-0882-485c-f15d-56783ae09f59"
      },
      "outputs": [
        {
          "output_type": "stream",
          "name": "stdout",
          "text": [
            "Confusion Matrix:\n",
            "        Action  Comedy  Horror  Sci-Fi\n",
            "Action       0       3       0       0\n",
            "Comedy       0       7       0       0\n",
            "Horror       0       2       0       0\n",
            "Sci-Fi       1       7       0       0\n"
          ]
        }
      ],
      "source": [
        "\n",
        "from sklearn.metrics import confusion_matrix\n",
        "import pandas as pd\n",
        "\n",
        "def print_confusion_matrix(true_labels, predicted_labels, classes):\n",
        "    # Generate the confusion matrix\n",
        "    cm = confusion_matrix(true_labels, predicted_labels, labels=classes)\n",
        "\n",
        "    # Create a DataFrame from the confusion matrix\n",
        "    cm_df = pd.DataFrame(cm, index=classes, columns=classes)\n",
        "\n",
        "    # Print the confusion matrix\n",
        "    print(\"Confusion Matrix:\")\n",
        "    print(cm_df)\n",
        "\n",
        "# Call the function with the true labels, predicted labels, and class names\n",
        "print_confusion_matrix(true_labels, predicted_labels, encoder.classes_)\n"
      ]
    },
    {
      "cell_type": "code",
      "execution_count": null,
      "id": "AV-iPHTGIcWs",
      "metadata": {
        "id": "AV-iPHTGIcWs"
      },
      "outputs": [],
      "source": [
        "# !pip install transformers datasets torch sklearn\n",
        "# !pip install datasets\n",
        "# !pip install transformers torch"
      ]
    },
    {
      "cell_type": "code",
      "execution_count": null,
      "id": "SD6QwFhOaEDm",
      "metadata": {
        "id": "SD6QwFhOaEDm"
      },
      "outputs": [],
      "source": [
        "#!pip install accelerate -U"
      ]
    },
    {
      "cell_type": "code",
      "execution_count": null,
      "id": "TZpbtCT6aDw8",
      "metadata": {
        "id": "TZpbtCT6aDw8"
      },
      "outputs": [],
      "source": [
        "#!pip install transformers[torch] -U"
      ]
    },
    {
      "cell_type": "code",
      "execution_count": null,
      "id": "7XOW_ETzIezG",
      "metadata": {
        "id": "7XOW_ETzIezG"
      },
      "outputs": [],
      "source": [
        "import pandas as pd\n",
        "from sklearn.model_selection import train_test_split\n",
        "from datasets import Dataset\n",
        "from transformers import AutoTokenizer\n",
        "\n",
        "# Take out every 5th row\n",
        "#data_subset= data.iloc[::5].copy()\n",
        "\n",
        "#####\n",
        "import numpy as np\n",
        "\n",
        "# Calculate the total number of pairs you want\n",
        "num_pairs = 80  # Adjust this to get the desired number of rows (e.g., 40 pairs for 80 rows)\n",
        "# Changed to 80 pairs for the full 160 rows of the 2024 Summer class corpus\n",
        "\n",
        "# Generate the indices for the first row of each pair\n",
        "first_indices = np.arange(1, num_pairs*5, 5) - 1  # Subtract 1 because DataFrame indexing is 0-based\n",
        "\n",
        "# Generate the indices for the second row of each pair by adding 1\n",
        "second_indices = first_indices + 1\n",
        "third_indices = first_indices + 2\n",
        "\n",
        "# Combine the two arrays of indices\n",
        "selected_indices = np.sort(np.concatenate((first_indices, second_indices, third_indices)))\n",
        "\n",
        "# Select the rows from the DataFrame\n",
        "data_subset = data.iloc[selected_indices].copy()\n",
        "#####\n",
        "\n",
        "data_subset=data\n",
        "\n",
        "texts = data_subset['final_processed_text'].tolist()  # Replace 'review' with the correct column name for texts\n",
        "labels = data_subset[\"Genre of Movie\"].tolist()  # Replace 'genre' with the correct column name for labels\n",
        "\n",
        "\n",
        "\n",
        "# Split the dataset into training and validation sets\n",
        "train_texts, val_texts, train_labels, val_labels = train_test_split(texts, labels, test_size=.2)\n",
        "\n",
        "# # Preprocess the data\n",
        "# tokenizer = AutoTokenizer.from_pretrained(\"bert-base-uncased\")\n",
        "\n",
        "# def tokenize_function(examples):\n",
        "#     return tokenizer(examples[\"text\"], padding=\"max_length\", truncation=True)\n",
        "\n",
        "# train_dataset = Dataset.from_dict({\"text\": train_texts, \"label\": train_labels})\n",
        "# val_dataset = Dataset.from_dict({\"text\": val_texts, \"label\": val_labels})\n",
        "\n",
        "# tokenized_train_dataset = train_dataset.map(tokenize_function, batched=True)\n",
        "# tokenized_val_dataset = val_dataset.map(tokenize_function, batched=True)\n"
      ]
    },
    {
      "cell_type": "code",
      "execution_count": null,
      "id": "wFGnxHtLxABf",
      "metadata": {
        "id": "wFGnxHtLxABf"
      },
      "outputs": [],
      "source": [
        "#data_subset"
      ]
    },
    {
      "cell_type": "code",
      "execution_count": null,
      "id": "GQMGZU-Hgv3T",
      "metadata": {
        "colab": {
          "base_uri": "https://localhost:8080/",
          "height": 81,
          "referenced_widgets": [
            "b2cf9f46f5ab443f8e1b1b7004977613",
            "e46dd72c6fe7499b8c4ce4b8c74cfa79",
            "f22c7f79cac9471a97db79386dc0cf24",
            "34b7c133c0a04107ab76a5af54296adc",
            "635c47bdaae84e4e9657350343a1ba0a",
            "3d1486d2bab046189ac9fabad98fdfe5",
            "cf7c935c1c2d43fd8a9ced8202fca397",
            "6bd17f24d2a74736ad3e8ff95571dd4a",
            "6b44385150314aadb291818e0796829a",
            "89907ac697a34d67a9a879127a14f08a",
            "94fd2d55db774408b493e74e24b162b0",
            "38a4a175a42e457a839581826b9b7e55",
            "5799b4e59f514a73bcc93e26193ec380",
            "d4650a6e8e274ae79c35043182afa335",
            "e30dbae7ffe3489f8d1185a0fbf57521",
            "f2bbec208e5a4eec99d920bbd2c7244d",
            "48d631fa754e4d00ab98d58efdc2c463",
            "bf3340cdbd184ab783718911215e4968",
            "c79ea01e638146a5bc4a72558b6e8e75",
            "cb19aca99a6e476ba70a9a974a594ac6",
            "19abe2e9c3b04ed08b022cfacccf673b",
            "8ae399ba60d948c9847f8682d7c1c1ec"
          ]
        },
        "id": "GQMGZU-Hgv3T",
        "outputId": "3e06676d-a1be-4497-e6fc-1dc6e3ab2d83"
      },
      "outputs": [
        {
          "output_type": "display_data",
          "data": {
            "text/plain": [
              "Map:   0%|          | 0/160 [00:00<?, ? examples/s]"
            ],
            "application/vnd.jupyter.widget-view+json": {
              "version_major": 2,
              "version_minor": 0,
              "model_id": "b2cf9f46f5ab443f8e1b1b7004977613"
            }
          },
          "metadata": {}
        },
        {
          "output_type": "display_data",
          "data": {
            "text/plain": [
              "Map:   0%|          | 0/40 [00:00<?, ? examples/s]"
            ],
            "application/vnd.jupyter.widget-view+json": {
              "version_major": 2,
              "version_minor": 0,
              "model_id": "38a4a175a42e457a839581826b9b7e55"
            }
          },
          "metadata": {}
        }
      ],
      "source": [
        "# Moved up from later cell\n",
        "from transformers import AutoModelForSequenceClassification, TrainingArguments, Trainer\n",
        "import numpy as np\n",
        "from sklearn.preprocessing import LabelEncoder\n",
        "\n",
        "# Convert labels to a numeric format\n",
        "encoder = LabelEncoder()\n",
        "train_labels_encoded = encoder.fit_transform(train_labels)\n",
        "val_labels_encoded = encoder.transform(val_labels)\n",
        "\n",
        "# If you use Bert...\n",
        "# COPIED FROM PRETRAINED CODE\n",
        "#tokenizer = AutoTokenizer.from_pretrained(\"bert-base-uncased\")\n",
        "#\n",
        "\n",
        "# If you use DistilBert...\n",
        "from transformers import DistilBertTokenizer, DistilBertForSequenceClassification, pipeline\n",
        "# Load the tokenizer and model explicitly if not already done\n",
        "tokenizer = DistilBertTokenizer.from_pretrained('distilbert-base-uncased')\n",
        "\n",
        "\n",
        "def tokenize_function(examples):\n",
        "    return tokenizer(examples[\"text\"], padding=\"max_length\", truncation=True, return_tensors=\"pt\")\n",
        "\n",
        "# Assuming train_labels_encoded and val_labels_encoded are correctly encoded as integers\n",
        "train_dataset = Dataset.from_dict({\"text\": train_texts, \"labels\": train_labels_encoded})\n",
        "val_dataset = Dataset.from_dict({\"text\": val_texts, \"labels\": val_labels_encoded})\n",
        "\n",
        "tokenized_train_dataset = train_dataset.map(tokenize_function, batched=True)\n",
        "tokenized_val_dataset = val_dataset.map(tokenize_function, batched=True)\n"
      ]
    },
    {
      "cell_type": "code",
      "execution_count": null,
      "id": "IWo_G1zZIhCq",
      "metadata": {
        "colab": {
          "base_uri": "https://localhost:8080/",
          "height": 309,
          "referenced_widgets": [
            "0788078984a64de0a6f1068facf45a98",
            "5f8dec35139d4b87ab58ace12a424d70",
            "e4e5d4e98bf54b0ab7b11cc34f090277",
            "2f6d86f430e2494ea18d540a94375e54",
            "39484511ed1a49eb943e2c350e6dc60a",
            "c2ae7355d4134ecdaae8f6a322fd3958",
            "bee6c737429f4eceb2eff636645da3db",
            "79a7e74bd884422dbbbaa39586ab0659",
            "536c25079c6c47928e1057716c69586f",
            "8842d849159949bda3d5fa0119e9792f",
            "7574854f8692404b81fa822eb8bdc01a",
            "d77fe2b9f3e743c49cbb66f27e39da91",
            "6dcb91758961489ea741e41316143d2b",
            "f9146bf56beb40d1affaa5d9f2ed701d",
            "899e899475ab4f9093746675df0363b8",
            "274bd40979564b8484d5a7d56bf12df3",
            "657e50ac2e564ce4b959eca81f124a9c",
            "27b35549185e492b8f8da7de3e502ff0",
            "3bff5606a01f49adbc1357191accdc9a",
            "b4d1047c0d9b47e09cbbbf5dd5675eec",
            "d49a12e2253f4f259a8fc798bf7be03d",
            "87e99851b3d54361a5eb51d071e62ca8"
          ]
        },
        "id": "IWo_G1zZIhCq",
        "outputId": "22fc1b1d-626c-4c49-dc9b-dd1255c6996f"
      },
      "outputs": [
        {
          "output_type": "display_data",
          "data": {
            "text/plain": [
              "Map:   0%|          | 0/160 [00:00<?, ? examples/s]"
            ],
            "application/vnd.jupyter.widget-view+json": {
              "version_major": 2,
              "version_minor": 0,
              "model_id": "0788078984a64de0a6f1068facf45a98"
            }
          },
          "metadata": {}
        },
        {
          "output_type": "display_data",
          "data": {
            "text/plain": [
              "Map:   0%|          | 0/40 [00:00<?, ? examples/s]"
            ],
            "application/vnd.jupyter.widget-view+json": {
              "version_major": 2,
              "version_minor": 0,
              "model_id": "d77fe2b9f3e743c49cbb66f27e39da91"
            }
          },
          "metadata": {}
        },
        {
          "output_type": "stream",
          "name": "stderr",
          "text": [
            "Some weights of DistilBertForSequenceClassification were not initialized from the model checkpoint at distilbert-base-uncased and are newly initialized: ['classifier.bias', 'classifier.weight', 'pre_classifier.bias', 'pre_classifier.weight']\n",
            "You should probably TRAIN this model on a down-stream task to be able to use it for predictions and inference.\n"
          ]
        },
        {
          "output_type": "display_data",
          "data": {
            "text/plain": [
              "<IPython.core.display.HTML object>"
            ],
            "text/html": [
              "\n",
              "    <div>\n",
              "      \n",
              "      <progress value='80' max='80' style='width:300px; height:20px; vertical-align: middle;'></progress>\n",
              "      [80/80 19:49, Epoch 2/2]\n",
              "    </div>\n",
              "    <table border=\"1\" class=\"dataframe\">\n",
              "  <thead>\n",
              " <tr style=\"text-align: left;\">\n",
              "      <th>Epoch</th>\n",
              "      <th>Training Loss</th>\n",
              "      <th>Validation Loss</th>\n",
              "    </tr>\n",
              "  </thead>\n",
              "  <tbody>\n",
              "    <tr>\n",
              "      <td>1</td>\n",
              "      <td>No log</td>\n",
              "      <td>1.404526</td>\n",
              "    </tr>\n",
              "    <tr>\n",
              "      <td>2</td>\n",
              "      <td>No log</td>\n",
              "      <td>1.398962</td>\n",
              "    </tr>\n",
              "  </tbody>\n",
              "</table><p>"
            ]
          },
          "metadata": {}
        },
        {
          "output_type": "execute_result",
          "data": {
            "text/plain": [
              "TrainOutput(global_step=80, training_loss=1.3912946701049804, metrics={'train_runtime': 1204.4831, 'train_samples_per_second': 0.266, 'train_steps_per_second': 0.066, 'total_flos': 42391079485440.0, 'train_loss': 1.3912946701049804, 'epoch': 2.0})"
            ]
          },
          "metadata": {},
          "execution_count": 69
        }
      ],
      "source": [
        "# Update datasets with encoded labels\n",
        "# Check if 'labels' column exists and update it\n",
        "if \"labels\" in tokenized_train_dataset.column_names:\n",
        "    tokenized_train_dataset = tokenized_train_dataset.map(lambda examples: {\"labels\": train_labels_encoded}, batched=True)\n",
        "else:\n",
        "    tokenized_train_dataset = tokenized_train_dataset.add_column(\"labels\", train_labels_encoded)\n",
        "\n",
        "if \"labels\" in tokenized_val_dataset.column_names:\n",
        "    tokenized_val_dataset = tokenized_val_dataset.map(lambda examples: {\"labels\": val_labels_encoded}, batched=True)\n",
        "else:\n",
        "    tokenized_val_dataset = tokenized_val_dataset.add_column(\"labels\", val_labels_encoded)\n",
        "\n",
        "# Define the model\n",
        "\n",
        "# If you use Bert\n",
        "#model = AutoModelForSequenceClassification.from_pretrained(\"bert-base-uncased\", num_labels=len(np.unique(labels)))\n",
        "\n",
        "# If you use Distilbert\n",
        "model = DistilBertForSequenceClassification.from_pretrained('distilbert-base-uncased', num_labels=len(encoder.classes_))\n",
        "\n",
        "# Specify training arguments\n",
        "# Try different hyperparameters!\n",
        "# This can take as long as 1.5 hours!!\n",
        "training_args = TrainingArguments(\n",
        "    output_dir=\"./results\",\n",
        "    num_train_epochs=2,\n",
        "    per_device_train_batch_size=4,\n",
        "    per_device_eval_batch_size=4,\n",
        "    warmup_steps=500,\n",
        "    weight_decay=0.01,\n",
        "    logging_dir=\"./logs\",\n",
        "    evaluation_strategy=\"epoch\",  # Evaluate at the end of each epoch\n",
        "\n",
        "    learning_rate=1e-5,  # Experiment with different values, e.g., 2e-5, 3e-5\n",
        ")\n",
        "\n",
        "# Initialize the Trainer\n",
        "trainer = Trainer(\n",
        "    model=model,\n",
        "    args=training_args,\n",
        "    train_dataset=tokenized_train_dataset,\n",
        "    eval_dataset=tokenized_val_dataset\n",
        ")\n",
        "\n",
        "# Start training\n",
        "trainer.train()\n"
      ]
    },
    {
      "cell_type": "code",
      "execution_count": null,
      "id": "TZEgIPS0Ii1U",
      "metadata": {
        "colab": {
          "base_uri": "https://localhost:8080/",
          "height": 74
        },
        "id": "TZEgIPS0Ii1U",
        "outputId": "3db374f6-39b6-46fe-d25b-1e5bce7ed984"
      },
      "outputs": [
        {
          "output_type": "display_data",
          "data": {
            "text/plain": [
              "<IPython.core.display.HTML object>"
            ],
            "text/html": [
              "\n",
              "    <div>\n",
              "      \n",
              "      <progress value='10' max='10' style='width:300px; height:20px; vertical-align: middle;'></progress>\n",
              "      [10/10 00:33]\n",
              "    </div>\n",
              "    "
            ]
          },
          "metadata": {}
        },
        {
          "output_type": "stream",
          "name": "stdout",
          "text": [
            "{'eval_loss': 1.3989622592926025, 'eval_runtime': 38.3335, 'eval_samples_per_second': 1.043, 'eval_steps_per_second': 0.261, 'epoch': 2.0}\n"
          ]
        }
      ],
      "source": [
        "# Evaluate the model\n",
        "results = trainer.evaluate()\n",
        "\n",
        "print(results)\n"
      ]
    },
    {
      "cell_type": "markdown",
      "source": [
        "**Setup for Saving or Loading the Model with Google Drive**"
      ],
      "metadata": {
        "id": "kLQh46JkF9qA"
      },
      "id": "kLQh46JkF9qA"
    },
    {
      "cell_type": "code",
      "execution_count": null,
      "id": "SLAtDQBUrqpr",
      "metadata": {
        "id": "SLAtDQBUrqpr"
      },
      "outputs": [],
      "source": [
        "# from google.colab import drive\n",
        "# drive.mount('/content/gdrive')"
      ]
    },
    {
      "cell_type": "code",
      "execution_count": null,
      "id": "Qwuu5NmuuTRV",
      "metadata": {
        "id": "Qwuu5NmuuTRV"
      },
      "outputs": [],
      "source": [
        "# !ls -l /content/gdrive"
      ]
    },
    {
      "cell_type": "code",
      "execution_count": null,
      "id": "EV1Fi0f8sOFK",
      "metadata": {
        "id": "EV1Fi0f8sOFK"
      },
      "outputs": [],
      "source": [
        "# !mkdir -p /content/gdrive/MyDrive/finetuned_distilbert"
      ]
    },
    {
      "cell_type": "markdown",
      "source": [
        "You can save the model here if you want"
      ],
      "metadata": {
        "id": "Cp_i4tUVGSS2"
      },
      "id": "Cp_i4tUVGSS2"
    },
    {
      "cell_type": "code",
      "execution_count": null,
      "id": "VdmWvRjzmDFl",
      "metadata": {
        "id": "VdmWvRjzmDFl"
      },
      "outputs": [],
      "source": [
        "# # Save the model and the tokenizer\n",
        "# model.save_pretrained(\"/content/gdrive/MyDrive/finetuned_distilbert/my_fine_tuned_model\")\n",
        "# tokenizer.save_pretrained(\"/content/gdrive/MyDrive/finetuned_distilbert/my_fine_tuned_model\")\n"
      ]
    },
    {
      "cell_type": "markdown",
      "source": [
        "You can recover the model here if you want"
      ],
      "metadata": {
        "id": "FvQP_KCYGV6u"
      },
      "id": "FvQP_KCYGV6u"
    },
    {
      "cell_type": "code",
      "execution_count": null,
      "id": "HzR6SdKUmEuL",
      "metadata": {
        "id": "HzR6SdKUmEuL"
      },
      "outputs": [],
      "source": [
        "# from transformers import AutoModelForSequenceClassification, AutoTokenizer\n",
        "\n",
        "# # Load the model and tokenizer\n",
        "# model = AutoModelForSequenceClassification.from_pretrained(\"/content/gdrive/MyDrive/finetuned_distilbert//my_fine_tuned_model\")\n",
        "# tokenizer = AutoTokenizer.from_pretrained(\"/content/gdrive/MyDrive/finetuned_distilbert//my_fine_tuned_model\")\n"
      ]
    },
    {
      "cell_type": "code",
      "execution_count": null,
      "id": "om4H-7hQvEs2",
      "metadata": {
        "id": "om4H-7hQvEs2"
      },
      "outputs": [],
      "source": []
    },
    {
      "cell_type": "code",
      "execution_count": null,
      "id": "Th0eU_byvFaN",
      "metadata": {
        "id": "Th0eU_byvFaN"
      },
      "outputs": [],
      "source": [
        "# Test\n",
        "from sklearn.metrics import accuracy_score, f1_score, confusion_matrix\n",
        "import seaborn as sns\n",
        "import matplotlib.pyplot as plt\n",
        "import numpy as np\n"
      ]
    },
    {
      "cell_type": "code",
      "execution_count": null,
      "id": "ZwwBsf2qvLla",
      "metadata": {
        "colab": {
          "base_uri": "https://localhost:8080/",
          "height": 17
        },
        "id": "ZwwBsf2qvLla",
        "outputId": "05994285-aeca-4ac9-8c45-bd03079af5aa"
      },
      "outputs": [
        {
          "output_type": "display_data",
          "data": {
            "text/plain": [
              "<IPython.core.display.HTML object>"
            ],
            "text/html": []
          },
          "metadata": {}
        }
      ],
      "source": [
        "# Predict\n",
        "predictions2 = trainer.predict(tokenized_val_dataset)\n",
        "\n",
        "# Extract the predicted class labels\n",
        "predicted_labels = np.argmax(predictions2.predictions, axis=-1)\n"
      ]
    },
    {
      "cell_type": "code",
      "execution_count": null,
      "id": "4k4i-1PTvMg7",
      "metadata": {
        "colab": {
          "base_uri": "https://localhost:8080/"
        },
        "id": "4k4i-1PTvMg7",
        "outputId": "8b3ae393-4543-4080-fe88-ebbbade2b1bf"
      },
      "outputs": [
        {
          "output_type": "stream",
          "name": "stdout",
          "text": [
            "Accuracy: 0.175\n",
            "F1 Score: 0.10769230769230768\n"
          ]
        }
      ],
      "source": [
        "# Calculate accuracy\n",
        "accuracy = accuracy_score(val_labels_encoded, predicted_labels)\n",
        "print(f\"Accuracy: {accuracy}\")\n",
        "\n",
        "# Calculate F1 score\n",
        "f1 = f1_score(val_labels_encoded, predicted_labels, average='weighted')  # Use 'micro', 'macro', or 'weighted' for multi-class\n",
        "print(f\"F1 Score: {f1}\")\n"
      ]
    },
    {
      "cell_type": "code",
      "execution_count": null,
      "id": "otHlFEaDvN-t",
      "metadata": {
        "colab": {
          "base_uri": "https://localhost:8080/",
          "height": 641
        },
        "id": "otHlFEaDvN-t",
        "outputId": "1bd461d8-cbb1-4f10-883d-fafacdd36372"
      },
      "outputs": [
        {
          "output_type": "display_data",
          "data": {
            "text/plain": [
              "<Figure size 1000x700 with 2 Axes>"
            ],
            "image/png": "[encoded data removed]"
          },
          "metadata": {}
        }
      ],
      "source": [
        "# Define true labels for the validation dataset if you haven't already\n",
        "true_labels = val_labels_encoded  # Ensure this matches your actual validation labels\n",
        "\n",
        "# Adjust the function to also plot the matrix\n",
        "def plot_confusion_matrix(true_labels, predicted_labels, classes):\n",
        "    cm = confusion_matrix(true_labels, predicted_labels, labels=range(len(classes)))\n",
        "    cm_df = pd.DataFrame(cm, index=classes, columns=classes)\n",
        "    plt.figure(figsize=(10,7))\n",
        "    sns.heatmap(cm_df, annot=True, fmt='g', cmap='Blues')\n",
        "    plt.title('Confusion Matrix')\n",
        "    plt.ylabel('Actual')\n",
        "    plt.xlabel('Predicted')\n",
        "    plt.show()\n",
        "\n",
        "plot_confusion_matrix(true_labels, predicted_labels, encoder.classes_)\n"
      ]
    },
    {
      "cell_type": "code",
      "execution_count": null,
      "id": "9JToG46tuApn",
      "metadata": {
        "id": "9JToG46tuApn"
      },
      "outputs": [],
      "source": []
    },
    {
      "cell_type": "markdown",
      "source": [
        "**Compare results with an older class corpus from 7/2/2023!!**"
      ],
      "metadata": {
        "id": "2OXYjiffGorR"
      },
      "id": "2OXYjiffGorR"
    },
    {
      "cell_type": "code",
      "execution_count": null,
      "id": "QtqiU6CZo7Ig",
      "metadata": {
        "id": "QtqiU6CZo7Ig"
      },
      "outputs": [],
      "source": [
        "CORPUS2=\\\n",
        "'https://raw.githubusercontent.com/barrycforever/MSDS_453_Public/28257a277195efd68d63f1f024d52af8de32be29/MSDS453_ClassCorpus/MSDS453_ClassCorpus_Final_Sec56_v3_20230702.csv'\n"
      ]
    },
    {
      "cell_type": "code",
      "execution_count": null,
      "id": "zZ1npdpDo6_G",
      "metadata": {
        "id": "zZ1npdpDo6_G"
      },
      "outputs": [],
      "source": [
        "data2 = pd.read_csv(CORPUS2, encoding=\"utf-8\")"
      ]
    },
    {
      "cell_type": "code",
      "execution_count": null,
      "id": "RFQL9aN2o61M",
      "metadata": {
        "id": "RFQL9aN2o61M"
      },
      "outputs": [],
      "source": [
        "from datasets import Dataset\n",
        "\n",
        "# Tokenize and encode labels for data2\n",
        "tokenized_data2 = tokenizer(data2['Text'].tolist(), padding=True, truncation=True, max_length=512, return_tensors=\"pt\")\n",
        "encoded_labels_data2 = encoder.transform(data2[\"Genre of Movie\"].tolist())\n",
        "\n",
        "# Convert to Hugging Face Dataset\n",
        "data2_dataset = Dataset.from_dict({\"input_ids\": tokenized_data2['input_ids'],\n",
        "                                   \"attention_mask\": tokenized_data2['attention_mask'],\n",
        "                                   \"labels\": encoded_labels_data2})\n"
      ]
    },
    {
      "cell_type": "code",
      "execution_count": null,
      "id": "hFSvohyCo6iO",
      "metadata": {
        "colab": {
          "base_uri": "https://localhost:8080/",
          "height": 74
        },
        "id": "hFSvohyCo6iO",
        "outputId": "cac44465-ec2c-4eb9-d3e1-27a908a2a31e"
      },
      "outputs": [
        {
          "output_type": "display_data",
          "data": {
            "text/plain": [
              "<IPython.core.display.HTML object>"
            ],
            "text/html": [
              "\n",
              "    <div>\n",
              "      \n",
              "      <progress value='48' max='48' style='width:300px; height:20px; vertical-align: middle;'></progress>\n",
              "      [48/48 03:01]\n",
              "    </div>\n",
              "    "
            ]
          },
          "metadata": {}
        },
        {
          "output_type": "stream",
          "name": "stdout",
          "text": [
            "{'eval_loss': 1.3858606815338135, 'eval_runtime': 185.0844, 'eval_samples_per_second': 1.027, 'eval_steps_per_second': 0.259, 'epoch': 2.0}\n"
          ]
        }
      ],
      "source": [
        "# Evaluate on data2\n",
        "results = trainer.evaluate(data2_dataset)\n",
        "print(results)\n"
      ]
    },
    {
      "cell_type": "code",
      "execution_count": null,
      "id": "ZN_3qzsMuS5_",
      "metadata": {
        "colab": {
          "base_uri": "https://localhost:8080/",
          "height": 277
        },
        "id": "ZN_3qzsMuS5_",
        "outputId": "3c0cec79-ba96-4161-a948-7b0076e74a96"
      },
      "outputs": [
        {
          "output_type": "display_data",
          "data": {
            "text/plain": [
              "<IPython.core.display.HTML object>"
            ],
            "text/html": []
          },
          "metadata": {}
        },
        {
          "output_type": "stream",
          "name": "stdout",
          "text": [
            "              precision    recall  f1-score   support\n",
            "\n",
            "      Action       0.25      0.72      0.37        50\n",
            "      Comedy       0.22      0.20      0.21        50\n",
            "      Horror       0.00      0.00      0.00        50\n",
            "      Sci-Fi       0.00      0.00      0.00        40\n",
            "\n",
            "    accuracy                           0.24       190\n",
            "   macro avg       0.12      0.23      0.14       190\n",
            "weighted avg       0.12      0.24      0.15       190\n",
            "\n",
            "[[36 14  0  0]\n",
            " [40 10  0  0]\n",
            " [46  4  0  0]\n",
            " [23 17  0  0]]\n"
          ]
        }
      ],
      "source": [
        "import numpy as np\n",
        "from sklearn.metrics import confusion_matrix, classification_report\n",
        "\n",
        "# Predict\n",
        "predictions = trainer.predict(data2_dataset)\n",
        "val_pred_labels = np.argmax(predictions.predictions, axis=-1)\n",
        "\n",
        "# True labels are in 'labels' of data2_dataset\n",
        "val_true_labels = data2_dataset['labels']\n",
        "\n",
        "# F1 Score, Confusion Matrix, and Classification Report\n",
        "print(classification_report(val_true_labels, val_pred_labels, target_names=encoder.classes_))\n",
        "\n",
        "# Confusion Matrix\n",
        "conf_matrix = confusion_matrix(val_true_labels, val_pred_labels)\n",
        "print(conf_matrix)\n"
      ]
    },
    {
      "cell_type": "code",
      "execution_count": null,
      "id": "bPhG_CHCulRv",
      "metadata": {
        "id": "bPhG_CHCulRv"
      },
      "outputs": [],
      "source": []
    },
    {
      "cell_type": "code",
      "execution_count": null,
      "id": "RDaBdY9DwQ0L",
      "metadata": {
        "id": "RDaBdY9DwQ0L"
      },
      "outputs": [],
      "source": [
        "from transformers import pipeline\n",
        "\n",
        "# Initialize the pipeline for text classification\n",
        "model_pipeline = pipeline(\"text-classification\", model=model, tokenizer=tokenizer, return_all_scores=True)\n",
        "\n",
        "# Get predictions\n",
        "predictions = model_pipeline(val_texts, truncation=True)\n"
      ]
    },
    {
      "cell_type": "code",
      "execution_count": null,
      "id": "lntLSg3xwSg5",
      "metadata": {
        "id": "lntLSg3xwSg5"
      },
      "outputs": [],
      "source": [
        "import numpy as np\n",
        "\n",
        "# Extract the label with the highest score from each prediction\n",
        "val_predicted_labels = [max(pred, key=lambda x: x['score'])['label'] for pred in predictions]\n",
        "\n",
        "# Convert labels from format 'LABEL_X' to actual names if needed\n",
        "# This conversion must match how 'encoder' was originally set up\n",
        "val_predicted_labels = [encoder.classes_[int(label.split('_')[1])] for label in val_predicted_labels]\n"
      ]
    },
    {
      "cell_type": "code",
      "execution_count": null,
      "id": "-57eGD_ZwUIU",
      "metadata": {
        "id": "-57eGD_ZwUIU",
        "colab": {
          "base_uri": "https://localhost:8080/"
        },
        "outputId": "4acdf697-ca67-48d4-b902-e75a35ba1c15"
      },
      "outputs": [
        {
          "output_type": "stream",
          "name": "stdout",
          "text": [
            "Accuracy: 0.175\n",
            "F1 Score: 0.10769230769230768\n"
          ]
        }
      ],
      "source": [
        "from sklearn.metrics import accuracy_score, f1_score\n",
        "\n",
        "accuracy = accuracy_score(val_labels, val_predicted_labels)\n",
        "f1 = f1_score(val_labels, val_predicted_labels, average='weighted')  # Use 'micro', 'macro', or 'weighted' for multi-class problems\n",
        "\n",
        "print(f\"Accuracy: {accuracy}\")\n",
        "print(f\"F1 Score: {f1}\")\n"
      ]
    },
    {
      "cell_type": "code",
      "source": [
        "# This is the validation version of the confusion matrix.\n",
        "# In the future, I will merge both versions of the print_confusion_matrix()\n",
        "\n",
        "def print_confusion_matrix__val(true_labels, predicted_labels, classes):\n",
        "    # Generate the confusion matrix\n",
        "    cm = confusion_matrix(true_labels, predicted_labels, labels=classes)\n",
        "\n",
        "    # Create a DataFrame from the confusion matrix\n",
        "    cm_df = pd.DataFrame(cm, index=[encoder.classes_[i] for i in classes], columns=[encoder.classes_[i] for i in classes])\n",
        "\n",
        "    # Print the confusion matrix\n",
        "    print(\"Confusion Matrix:\")\n",
        "    print(cm_df)"
      ],
      "metadata": {
        "id": "PJkxiwzywYcS"
      },
      "id": "PJkxiwzywYcS",
      "execution_count": null,
      "outputs": []
    },
    {
      "cell_type": "code",
      "source": [
        "predictions = model_pipeline(data2['Text'].tolist(), truncation=True)  # Ensure this list covers all data points\n",
        "val_predicted_labels = [max(pred, key=lambda x: x['score'])['label'] for pred in predictions]\n",
        "val_predicted_labels = [encoder.classes_[int(label.split('_')[1])] for label in val_predicted_labels]  # Correct this line if needed\n"
      ],
      "metadata": {
        "id": "K0udyxclFsbe"
      },
      "id": "K0udyxclFsbe",
      "execution_count": null,
      "outputs": []
    },
    {
      "cell_type": "code",
      "source": [
        "# Assuming `val_predicted_labels` are currently string labels as per the encoder's classes\n",
        "if isinstance(val_predicted_labels[0], str):\n",
        "    # Convert string labels to their corresponding numeric indices\n",
        "    val_predicted_labels = [encoder.classes_.tolist().index(label) for label in val_predicted_labels]\n"
      ],
      "metadata": {
        "id": "GnjJWgQcFlKX"
      },
      "id": "GnjJWgQcFlKX",
      "execution_count": null,
      "outputs": []
    },
    {
      "cell_type": "code",
      "source": [
        "from sklearn.metrics import confusion_matrix, classification_report, accuracy_score, f1_score\n",
        "\n",
        "# Ensure labels for comparison are in the same format\n",
        "# Assuming `val_true_labels` are numeric and you've already transformed `val_predicted_labels` correctly\n",
        "\n",
        "# Generate and print the classification report for a detailed performance analysis\n",
        "print(classification_report(val_true_labels, val_predicted_labels, target_names=encoder.classes_))\n"
      ],
      "metadata": {
        "colab": {
          "base_uri": "https://localhost:8080/"
        },
        "id": "y4qT5Y8MFC5X",
        "outputId": "416ad1ae-23a2-4381-852d-8f6b2fb4c675"
      },
      "id": "y4qT5Y8MFC5X",
      "execution_count": null,
      "outputs": [
        {
          "output_type": "stream",
          "name": "stdout",
          "text": [
            "              precision    recall  f1-score   support\n",
            "\n",
            "      Action       0.25      0.72      0.37        50\n",
            "      Comedy       0.22      0.20      0.21        50\n",
            "      Horror       0.00      0.00      0.00        50\n",
            "      Sci-Fi       0.00      0.00      0.00        40\n",
            "\n",
            "    accuracy                           0.24       190\n",
            "   macro avg       0.12      0.23      0.14       190\n",
            "weighted avg       0.12      0.24      0.15       190\n",
            "\n"
          ]
        }
      ]
    },
    {
      "cell_type": "code",
      "source": [
        "# Generate the confusion matrix\n",
        "conf_matrix = confusion_matrix(val_true_labels, val_predicted_labels)\n",
        "print(\"Confusion Matrix:\")\n",
        "print(conf_matrix)"
      ],
      "metadata": {
        "colab": {
          "base_uri": "https://localhost:8080/"
        },
        "id": "pFeECv4rHeLF",
        "outputId": "79cfdc49-ee3b-4aa5-c5ab-cfd45ad65ff9"
      },
      "id": "pFeECv4rHeLF",
      "execution_count": null,
      "outputs": [
        {
          "output_type": "stream",
          "name": "stdout",
          "text": [
            "Confusion Matrix:\n",
            "[[36 14  0  0]\n",
            " [40 10  0  0]\n",
            " [46  4  0  0]\n",
            " [23 17  0  0]]\n"
          ]
        }
      ]
    },
    {
      "cell_type": "code",
      "source": [
        "# Create a more visual representation of the confusion matrix\n",
        "import matplotlib.pyplot as plt\n",
        "import seaborn as sns\n",
        "\n",
        "fig, ax = plt.subplots(figsize=(8, 8))\n",
        "sns.heatmap(conf_matrix, annot=True, fmt='d', cmap='Blues', xticklabels=encoder.classes_, yticklabels=encoder.classes_)\n",
        "plt.ylabel('Actual')\n",
        "plt.xlabel('Predicted')\n",
        "plt.title('Confusion Matrix')\n",
        "plt.show()\n"
      ],
      "metadata": {
        "colab": {
          "base_uri": "https://localhost:8080/",
          "height": 718
        },
        "id": "NmIdJ3d-Hddb",
        "outputId": "930bb1ec-4e73-45a6-ec01-9a26c87d9201"
      },
      "id": "NmIdJ3d-Hddb",
      "execution_count": null,
      "outputs": [
        {
          "output_type": "display_data",
          "data": {
            "text/plain": [
              "<Figure size 800x800 with 2 Axes>"
            ],
            "image/png": "[encoded data removed]"
          },
          "metadata": {}
        }
      ]
    },
    {
      "cell_type": "code",
      "execution_count": null,
      "id": "I-7n74KMyHio",
      "metadata": {
        "id": "I-7n74KMyHio"
      },
      "outputs": [],
      "source": [
        "#data['Genre of Movie'].value_counts()"
      ]
    },
    {
      "cell_type": "code",
      "execution_count": null,
      "id": "vOB16Mm4zmAe",
      "metadata": {
        "id": "vOB16Mm4zmAe"
      },
      "outputs": [],
      "source": [
        "#print(encoder.classes_)"
      ]
    }
  ],
  "metadata": {
    "colab": {
      "collapsed_sections": [
        "1wvYgxTZ8gRz",
        "nf30-Mo7qYXC",
        "wbjsgiHgqYXE",
        "do7Ks4FyqYXE",
        "LUyUz3H9qYXF",
        "NZ55yTbvrXBX"
      ],
      "provenance": []
    },
    "kernelspec": {
      "display_name": "Python 3 (ipykernel)",
      "language": "python",
      "name": "python3"
    },
    "language_info": {
      "codemirror_mode": {
        "name": "ipython",
        "version": 3
      },
      "file_extension": ".py",
      "mimetype": "text/x-python",
      "name": "python",
      "nbconvert_exporter": "python",
      "pygments_lexer": "ipython3",
      "version": "3.9.12"
    },
    "widgets": {
      "application/vnd.jupyter.widget-state+json": {
        "37cecc4886c7412cafc64bcd49587c52": {
          "model_module": "@jupyter-widgets/controls",
          "model_name": "HBoxModel",
          "model_module_version": "1.5.0",
          "state": {
            "_dom_classes": [],
            "_model_module": "@jupyter-widgets/controls",
            "_model_module_version": "1.5.0",
            "_model_name": "HBoxModel",
            "_view_count": null,
            "_view_module": "@jupyter-widgets/controls",
            "_view_module_version": "1.5.0",
            "_view_name": "HBoxView",
            "box_style": "",
            "children": [
              "IPY_MODEL_054b674b36224ee59d4fee3840e30364",
              "IPY_MODEL_1c87fa8e7d7143d0b7b6cafb14793331",
              "IPY_MODEL_87eb56097a3e48dbb4be0c3fe9f64738"
            ],
            "layout": "IPY_MODEL_3763a18fce304db4b39dade559ba9b66"
          }
        },
        "054b674b36224ee59d4fee3840e30364": {
          "model_module": "@jupyter-widgets/controls",
          "model_name": "HTMLModel",
          "model_module_version": "1.5.0",
          "state": {
            "_dom_classes": [],
            "_model_module": "@jupyter-widgets/controls",
            "_model_module_version": "1.5.0",
            "_model_name": "HTMLModel",
            "_view_count": null,
            "_view_module": "@jupyter-widgets/controls",
            "_view_module_version": "1.5.0",
            "_view_name": "HTMLView",
            "description": "",
            "description_tooltip": null,
            "layout": "IPY_MODEL_377f849825324dac8101491610d07469",
            "placeholder": "​",
            "style": "IPY_MODEL_5bb926026e5145da8b41cafe1f82bcd9",
            "value": "tokenizer_config.json: 100%"
          }
        },
        "1c87fa8e7d7143d0b7b6cafb14793331": {
          "model_module": "@jupyter-widgets/controls",
          "model_name": "FloatProgressModel",
          "model_module_version": "1.5.0",
          "state": {
            "_dom_classes": [],
            "_model_module": "@jupyter-widgets/controls",
            "_model_module_version": "1.5.0",
            "_model_name": "FloatProgressModel",
            "_view_count": null,
            "_view_module": "@jupyter-widgets/controls",
            "_view_module_version": "1.5.0",
            "_view_name": "ProgressView",
            "bar_style": "success",
            "description": "",
            "description_tooltip": null,
            "layout": "IPY_MODEL_13e7e9ed09d842c6bfdd906196ec1938",
            "max": 28,
            "min": 0,
            "orientation": "horizontal",
            "style": "IPY_MODEL_cd92ed7c8aba40abadc387eefbbc7e4a",
            "value": 28
          }
        },
        "87eb56097a3e48dbb4be0c3fe9f64738": {
          "model_module": "@jupyter-widgets/controls",
          "model_name": "HTMLModel",
          "model_module_version": "1.5.0",
          "state": {
            "_dom_classes": [],
            "_model_module": "@jupyter-widgets/controls",
            "_model_module_version": "1.5.0",
            "_model_name": "HTMLModel",
            "_view_count": null,
            "_view_module": "@jupyter-widgets/controls",
            "_view_module_version": "1.5.0",
            "_view_name": "HTMLView",
            "description": "",
            "description_tooltip": null,
            "layout": "IPY_MODEL_eee6288f5c1f45e1a87410494b6755cd",
            "placeholder": "​",
            "style": "IPY_MODEL_243ac4a641f649bdb7dc26fed6f667a3",
            "value": " 28.0/28.0 [00:00&lt;00:00, 729B/s]"
          }
        },
        "3763a18fce304db4b39dade559ba9b66": {
          "model_module": "@jupyter-widgets/base",
          "model_name": "LayoutModel",
          "model_module_version": "1.2.0",
          "state": {
            "_model_module": "@jupyter-widgets/base",
            "_model_module_version": "1.2.0",
            "_model_name": "LayoutModel",
            "_view_count": null,
            "_view_module": "@jupyter-widgets/base",
            "_view_module_version": "1.2.0",
            "_view_name": "LayoutView",
            "align_content": null,
            "align_items": null,
            "align_self": null,
            "border": null,
            "bottom": null,
            "display": null,
            "flex": null,
            "flex_flow": null,
            "grid_area": null,
            "grid_auto_columns": null,
            "grid_auto_flow": null,
            "grid_auto_rows": null,
            "grid_column": null,
            "grid_gap": null,
            "grid_row": null,
            "grid_template_areas": null,
            "grid_template_columns": null,
            "grid_template_rows": null,
            "height": null,
            "justify_content": null,
            "justify_items": null,
            "left": null,
            "margin": null,
            "max_height": null,
            "max_width": null,
            "min_height": null,
            "min_width": null,
            "object_fit": null,
            "object_position": null,
            "order": null,
            "overflow": null,
            "overflow_x": null,
            "overflow_y": null,
            "padding": null,
            "right": null,
            "top": null,
            "visibility": null,
            "width": null
          }
        },
        "377f849825324dac8101491610d07469": {
          "model_module": "@jupyter-widgets/base",
          "model_name": "LayoutModel",
          "model_module_version": "1.2.0",
          "state": {
            "_model_module": "@jupyter-widgets/base",
            "_model_module_version": "1.2.0",
            "_model_name": "LayoutModel",
            "_view_count": null,
            "_view_module": "@jupyter-widgets/base",
            "_view_module_version": "1.2.0",
            "_view_name": "LayoutView",
            "align_content": null,
            "align_items": null,
            "align_self": null,
            "border": null,
            "bottom": null,
            "display": null,
            "flex": null,
            "flex_flow": null,
            "grid_area": null,
            "grid_auto_columns": null,
            "grid_auto_flow": null,
            "grid_auto_rows": null,
            "grid_column": null,
            "grid_gap": null,
            "grid_row": null,
            "grid_template_areas": null,
            "grid_template_columns": null,
            "grid_template_rows": null,
            "height": null,
            "justify_content": null,
            "justify_items": null,
            "left": null,
            "margin": null,
            "max_height": null,
            "max_width": null,
            "min_height": null,
            "min_width": null,
            "object_fit": null,
            "object_position": null,
            "order": null,
            "overflow": null,
            "overflow_x": null,
            "overflow_y": null,
            "padding": null,
            "right": null,
            "top": null,
            "visibility": null,
            "width": null
          }
        },
        "5bb926026e5145da8b41cafe1f82bcd9": {
          "model_module": "@jupyter-widgets/controls",
          "model_name": "DescriptionStyleModel",
          "model_module_version": "1.5.0",
          "state": {
            "_model_module": "@jupyter-widgets/controls",
            "_model_module_version": "1.5.0",
            "_model_name": "DescriptionStyleModel",
            "_view_count": null,
            "_view_module": "@jupyter-widgets/base",
            "_view_module_version": "1.2.0",
            "_view_name": "StyleView",
            "description_width": ""
          }
        },
        "13e7e9ed09d842c6bfdd906196ec1938": {
          "model_module": "@jupyter-widgets/base",
          "model_name": "LayoutModel",
          "model_module_version": "1.2.0",
          "state": {
            "_model_module": "@jupyter-widgets/base",
            "_model_module_version": "1.2.0",
            "_model_name": "LayoutModel",
            "_view_count": null,
            "_view_module": "@jupyter-widgets/base",
            "_view_module_version": "1.2.0",
            "_view_name": "LayoutView",
            "align_content": null,
            "align_items": null,
            "align_self": null,
            "border": null,
            "bottom": null,
            "display": null,
            "flex": null,
            "flex_flow": null,
            "grid_area": null,
            "grid_auto_columns": null,
            "grid_auto_flow": null,
            "grid_auto_rows": null,
            "grid_column": null,
            "grid_gap": null,
            "grid_row": null,
            "grid_template_areas": null,
            "grid_template_columns": null,
            "grid_template_rows": null,
            "height": null,
            "justify_content": null,
            "justify_items": null,
            "left": null,
            "margin": null,
            "max_height": null,
            "max_width": null,
            "min_height": null,
            "min_width": null,
            "object_fit": null,
            "object_position": null,
            "order": null,
            "overflow": null,
            "overflow_x": null,
            "overflow_y": null,
            "padding": null,
            "right": null,
            "top": null,
            "visibility": null,
            "width": null
          }
        },
        "cd92ed7c8aba40abadc387eefbbc7e4a": {
          "model_module": "@jupyter-widgets/controls",
          "model_name": "ProgressStyleModel",
          "model_module_version": "1.5.0",
          "state": {
            "_model_module": "@jupyter-widgets/controls",
            "_model_module_version": "1.5.0",
            "_model_name": "ProgressStyleModel",
            "_view_count": null,
            "_view_module": "@jupyter-widgets/base",
            "_view_module_version": "1.2.0",
            "_view_name": "StyleView",
            "bar_color": null,
            "description_width": ""
          }
        },
        "eee6288f5c1f45e1a87410494b6755cd": {
          "model_module": "@jupyter-widgets/base",
          "model_name": "LayoutModel",
          "model_module_version": "1.2.0",
          "state": {
            "_model_module": "@jupyter-widgets/base",
            "_model_module_version": "1.2.0",
            "_model_name": "LayoutModel",
            "_view_count": null,
            "_view_module": "@jupyter-widgets/base",
            "_view_module_version": "1.2.0",
            "_view_name": "LayoutView",
            "align_content": null,
            "align_items": null,
            "align_self": null,
            "border": null,
            "bottom": null,
            "display": null,
            "flex": null,
            "flex_flow": null,
            "grid_area": null,
            "grid_auto_columns": null,
            "grid_auto_flow": null,
            "grid_auto_rows": null,
            "grid_column": null,
            "grid_gap": null,
            "grid_row": null,
            "grid_template_areas": null,
            "grid_template_columns": null,
            "grid_template_rows": null,
            "height": null,
            "justify_content": null,
            "justify_items": null,
            "left": null,
            "margin": null,
            "max_height": null,
            "max_width": null,
            "min_height": null,
            "min_width": null,
            "object_fit": null,
            "object_position": null,
            "order": null,
            "overflow": null,
            "overflow_x": null,
            "overflow_y": null,
            "padding": null,
            "right": null,
            "top": null,
            "visibility": null,
            "width": null
          }
        },
        "243ac4a641f649bdb7dc26fed6f667a3": {
          "model_module": "@jupyter-widgets/controls",
          "model_name": "DescriptionStyleModel",
          "model_module_version": "1.5.0",
          "state": {
            "_model_module": "@jupyter-widgets/controls",
            "_model_module_version": "1.5.0",
            "_model_name": "DescriptionStyleModel",
            "_view_count": null,
            "_view_module": "@jupyter-widgets/base",
            "_view_module_version": "1.2.0",
            "_view_name": "StyleView",
            "description_width": ""
          }
        },
        "14e7f0d42c0a4a77b6178f7ff6802deb": {
          "model_module": "@jupyter-widgets/controls",
          "model_name": "HBoxModel",
          "model_module_version": "1.5.0",
          "state": {
            "_dom_classes": [],
            "_model_module": "@jupyter-widgets/controls",
            "_model_module_version": "1.5.0",
            "_model_name": "HBoxModel",
            "_view_count": null,
            "_view_module": "@jupyter-widgets/controls",
            "_view_module_version": "1.5.0",
            "_view_name": "HBoxView",
            "box_style": "",
            "children": [
              "IPY_MODEL_629e10152afa41a2938c964594939aa8",
              "IPY_MODEL_0ea8e2a89fdf4de9ad15c0cde69e5243",
              "IPY_MODEL_e7094ddecbba4e4c8c60d49cc8fe22e9"
            ],
            "layout": "IPY_MODEL_ecf2878a28174f0cac26c0e0bdacb077"
          }
        },
        "629e10152afa41a2938c964594939aa8": {
          "model_module": "@jupyter-widgets/controls",
          "model_name": "HTMLModel",
          "model_module_version": "1.5.0",
          "state": {
            "_dom_classes": [],
            "_model_module": "@jupyter-widgets/controls",
            "_model_module_version": "1.5.0",
            "_model_name": "HTMLModel",
            "_view_count": null,
            "_view_module": "@jupyter-widgets/controls",
            "_view_module_version": "1.5.0",
            "_view_name": "HTMLView",
            "description": "",
            "description_tooltip": null,
            "layout": "IPY_MODEL_38eb7b1280b9425584c609cc15b24433",
            "placeholder": "​",
            "style": "IPY_MODEL_85ed97dc259341a2a655e5be35110f13",
            "value": "config.json: 100%"
          }
        },
        "0ea8e2a89fdf4de9ad15c0cde69e5243": {
          "model_module": "@jupyter-widgets/controls",
          "model_name": "FloatProgressModel",
          "model_module_version": "1.5.0",
          "state": {
            "_dom_classes": [],
            "_model_module": "@jupyter-widgets/controls",
            "_model_module_version": "1.5.0",
            "_model_name": "FloatProgressModel",
            "_view_count": null,
            "_view_module": "@jupyter-widgets/controls",
            "_view_module_version": "1.5.0",
            "_view_name": "ProgressView",
            "bar_style": "success",
            "description": "",
            "description_tooltip": null,
            "layout": "IPY_MODEL_476cf02362ac4d469c7b8691c5997ae7",
            "max": 483,
            "min": 0,
            "orientation": "horizontal",
            "style": "IPY_MODEL_b321141f61c74779a0e39ce5501eb194",
            "value": 483
          }
        },
        "e7094ddecbba4e4c8c60d49cc8fe22e9": {
          "model_module": "@jupyter-widgets/controls",
          "model_name": "HTMLModel",
          "model_module_version": "1.5.0",
          "state": {
            "_dom_classes": [],
            "_model_module": "@jupyter-widgets/controls",
            "_model_module_version": "1.5.0",
            "_model_name": "HTMLModel",
            "_view_count": null,
            "_view_module": "@jupyter-widgets/controls",
            "_view_module_version": "1.5.0",
            "_view_name": "HTMLView",
            "description": "",
            "description_tooltip": null,
            "layout": "IPY_MODEL_ed797f1b81364dc5944c6b3a0455b5eb",
            "placeholder": "​",
            "style": "IPY_MODEL_0032c23473a942acb8ba7adba2377c73",
            "value": " 483/483 [00:00&lt;00:00, 3.93kB/s]"
          }
        },
        "ecf2878a28174f0cac26c0e0bdacb077": {
          "model_module": "@jupyter-widgets/base",
          "model_name": "LayoutModel",
          "model_module_version": "1.2.0",
          "state": {
            "_model_module": "@jupyter-widgets/base",
            "_model_module_version": "1.2.0",
            "_model_name": "LayoutModel",
            "_view_count": null,
            "_view_module": "@jupyter-widgets/base",
            "_view_module_version": "1.2.0",
            "_view_name": "LayoutView",
            "align_content": null,
            "align_items": null,
            "align_self": null,
            "border": null,
            "bottom": null,
            "display": null,
            "flex": null,
            "flex_flow": null,
            "grid_area": null,
            "grid_auto_columns": null,
            "grid_auto_flow": null,
            "grid_auto_rows": null,
            "grid_column": null,
            "grid_gap": null,
            "grid_row": null,
            "grid_template_areas": null,
            "grid_template_columns": null,
            "grid_template_rows": null,
            "height": null,
            "justify_content": null,
            "justify_items": null,
            "left": null,
            "margin": null,
            "max_height": null,
            "max_width": null,
            "min_height": null,
            "min_width": null,
            "object_fit": null,
            "object_position": null,
            "order": null,
            "overflow": null,
            "overflow_x": null,
            "overflow_y": null,
            "padding": null,
            "right": null,
            "top": null,
            "visibility": null,
            "width": null
          }
        },
        "38eb7b1280b9425584c609cc15b24433": {
          "model_module": "@jupyter-widgets/base",
          "model_name": "LayoutModel",
          "model_module_version": "1.2.0",
          "state": {
            "_model_module": "@jupyter-widgets/base",
            "_model_module_version": "1.2.0",
            "_model_name": "LayoutModel",
            "_view_count": null,
            "_view_module": "@jupyter-widgets/base",
            "_view_module_version": "1.2.0",
            "_view_name": "LayoutView",
            "align_content": null,
            "align_items": null,
            "align_self": null,
            "border": null,
            "bottom": null,
            "display": null,
            "flex": null,
            "flex_flow": null,
            "grid_area": null,
            "grid_auto_columns": null,
            "grid_auto_flow": null,
            "grid_auto_rows": null,
            "grid_column": null,
            "grid_gap": null,
            "grid_row": null,
            "grid_template_areas": null,
            "grid_template_columns": null,
            "grid_template_rows": null,
            "height": null,
            "justify_content": null,
            "justify_items": null,
            "left": null,
            "margin": null,
            "max_height": null,
            "max_width": null,
            "min_height": null,
            "min_width": null,
            "object_fit": null,
            "object_position": null,
            "order": null,
            "overflow": null,
            "overflow_x": null,
            "overflow_y": null,
            "padding": null,
            "right": null,
            "top": null,
            "visibility": null,
            "width": null
          }
        },
        "85ed97dc259341a2a655e5be35110f13": {
          "model_module": "@jupyter-widgets/controls",
          "model_name": "DescriptionStyleModel",
          "model_module_version": "1.5.0",
          "state": {
            "_model_module": "@jupyter-widgets/controls",
            "_model_module_version": "1.5.0",
            "_model_name": "DescriptionStyleModel",
            "_view_count": null,
            "_view_module": "@jupyter-widgets/base",
            "_view_module_version": "1.2.0",
            "_view_name": "StyleView",
            "description_width": ""
          }
        },
        "476cf02362ac4d469c7b8691c5997ae7": {
          "model_module": "@jupyter-widgets/base",
          "model_name": "LayoutModel",
          "model_module_version": "1.2.0",
          "state": {
            "_model_module": "@jupyter-widgets/base",
            "_model_module_version": "1.2.0",
            "_model_name": "LayoutModel",
            "_view_count": null,
            "_view_module": "@jupyter-widgets/base",
            "_view_module_version": "1.2.0",
            "_view_name": "LayoutView",
            "align_content": null,
            "align_items": null,
            "align_self": null,
            "border": null,
            "bottom": null,
            "display": null,
            "flex": null,
            "flex_flow": null,
            "grid_area": null,
            "grid_auto_columns": null,
            "grid_auto_flow": null,
            "grid_auto_rows": null,
            "grid_column": null,
            "grid_gap": null,
            "grid_row": null,
            "grid_template_areas": null,
            "grid_template_columns": null,
            "grid_template_rows": null,
            "height": null,
            "justify_content": null,
            "justify_items": null,
            "left": null,
            "margin": null,
            "max_height": null,
            "max_width": null,
            "min_height": null,
            "min_width": null,
            "object_fit": null,
            "object_position": null,
            "order": null,
            "overflow": null,
            "overflow_x": null,
            "overflow_y": null,
            "padding": null,
            "right": null,
            "top": null,
            "visibility": null,
            "width": null
          }
        },
        "b321141f61c74779a0e39ce5501eb194": {
          "model_module": "@jupyter-widgets/controls",
          "model_name": "ProgressStyleModel",
          "model_module_version": "1.5.0",
          "state": {
            "_model_module": "@jupyter-widgets/controls",
            "_model_module_version": "1.5.0",
            "_model_name": "ProgressStyleModel",
            "_view_count": null,
            "_view_module": "@jupyter-widgets/base",
            "_view_module_version": "1.2.0",
            "_view_name": "StyleView",
            "bar_color": null,
            "description_width": ""
          }
        },
        "ed797f1b81364dc5944c6b3a0455b5eb": {
          "model_module": "@jupyter-widgets/base",
          "model_name": "LayoutModel",
          "model_module_version": "1.2.0",
          "state": {
            "_model_module": "@jupyter-widgets/base",
            "_model_module_version": "1.2.0",
            "_model_name": "LayoutModel",
            "_view_count": null,
            "_view_module": "@jupyter-widgets/base",
            "_view_module_version": "1.2.0",
            "_view_name": "LayoutView",
            "align_content": null,
            "align_items": null,
            "align_self": null,
            "border": null,
            "bottom": null,
            "display": null,
            "flex": null,
            "flex_flow": null,
            "grid_area": null,
            "grid_auto_columns": null,
            "grid_auto_flow": null,
            "grid_auto_rows": null,
            "grid_column": null,
            "grid_gap": null,
            "grid_row": null,
            "grid_template_areas": null,
            "grid_template_columns": null,
            "grid_template_rows": null,
            "height": null,
            "justify_content": null,
            "justify_items": null,
            "left": null,
            "margin": null,
            "max_height": null,
            "max_width": null,
            "min_height": null,
            "min_width": null,
            "object_fit": null,
            "object_position": null,
            "order": null,
            "overflow": null,
            "overflow_x": null,
            "overflow_y": null,
            "padding": null,
            "right": null,
            "top": null,
            "visibility": null,
            "width": null
          }
        },
        "0032c23473a942acb8ba7adba2377c73": {
          "model_module": "@jupyter-widgets/controls",
          "model_name": "DescriptionStyleModel",
          "model_module_version": "1.5.0",
          "state": {
            "_model_module": "@jupyter-widgets/controls",
            "_model_module_version": "1.5.0",
            "_model_name": "DescriptionStyleModel",
            "_view_count": null,
            "_view_module": "@jupyter-widgets/base",
            "_view_module_version": "1.2.0",
            "_view_name": "StyleView",
            "description_width": ""
          }
        },
        "8f25479d1411420a9bacd216d8731287": {
          "model_module": "@jupyter-widgets/controls",
          "model_name": "HBoxModel",
          "model_module_version": "1.5.0",
          "state": {
            "_dom_classes": [],
            "_model_module": "@jupyter-widgets/controls",
            "_model_module_version": "1.5.0",
            "_model_name": "HBoxModel",
            "_view_count": null,
            "_view_module": "@jupyter-widgets/controls",
            "_view_module_version": "1.5.0",
            "_view_name": "HBoxView",
            "box_style": "",
            "children": [
              "IPY_MODEL_4fdc47f7919e478185a865daefcef71f",
              "IPY_MODEL_0dbd4660fdc44385ae3cc3309463641e",
              "IPY_MODEL_743fa7f9f4db4c56941a210674d37b18"
            ],
            "layout": "IPY_MODEL_3b278cf6b8ff4ce5b1dd2f6d97db58b5"
          }
        },
        "4fdc47f7919e478185a865daefcef71f": {
          "model_module": "@jupyter-widgets/controls",
          "model_name": "HTMLModel",
          "model_module_version": "1.5.0",
          "state": {
            "_dom_classes": [],
            "_model_module": "@jupyter-widgets/controls",
            "_model_module_version": "1.5.0",
            "_model_name": "HTMLModel",
            "_view_count": null,
            "_view_module": "@jupyter-widgets/controls",
            "_view_module_version": "1.5.0",
            "_view_name": "HTMLView",
            "description": "",
            "description_tooltip": null,
            "layout": "IPY_MODEL_9b01d1f83cc149cababa4eee6163944c",
            "placeholder": "​",
            "style": "IPY_MODEL_d3109c2414624f93814fa33f00d3dea5",
            "value": "vocab.txt: 100%"
          }
        },
        "0dbd4660fdc44385ae3cc3309463641e": {
          "model_module": "@jupyter-widgets/controls",
          "model_name": "FloatProgressModel",
          "model_module_version": "1.5.0",
          "state": {
            "_dom_classes": [],
            "_model_module": "@jupyter-widgets/controls",
            "_model_module_version": "1.5.0",
            "_model_name": "FloatProgressModel",
            "_view_count": null,
            "_view_module": "@jupyter-widgets/controls",
            "_view_module_version": "1.5.0",
            "_view_name": "ProgressView",
            "bar_style": "success",
            "description": "",
            "description_tooltip": null,
            "layout": "IPY_MODEL_c42f3b3e4fd64c489b81acf35a6d0603",
            "max": 231508,
            "min": 0,
            "orientation": "horizontal",
            "style": "IPY_MODEL_1968829f05584b0fb0db9975a5f1a6bf",
            "value": 231508
          }
        },
        "743fa7f9f4db4c56941a210674d37b18": {
          "model_module": "@jupyter-widgets/controls",
          "model_name": "HTMLModel",
          "model_module_version": "1.5.0",
          "state": {
            "_dom_classes": [],
            "_model_module": "@jupyter-widgets/controls",
            "_model_module_version": "1.5.0",
            "_model_name": "HTMLModel",
            "_view_count": null,
            "_view_module": "@jupyter-widgets/controls",
            "_view_module_version": "1.5.0",
            "_view_name": "HTMLView",
            "description": "",
            "description_tooltip": null,
            "layout": "IPY_MODEL_7e787f2a5ed444b2a1d365c0df3f96c5",
            "placeholder": "​",
            "style": "IPY_MODEL_6c26e83fdfb74dc19b768bde78495539",
            "value": " 232k/232k [00:00&lt;00:00, 582kB/s]"
          }
        },
        "3b278cf6b8ff4ce5b1dd2f6d97db58b5": {
          "model_module": "@jupyter-widgets/base",
          "model_name": "LayoutModel",
          "model_module_version": "1.2.0",
          "state": {
            "_model_module": "@jupyter-widgets/base",
            "_model_module_version": "1.2.0",
            "_model_name": "LayoutModel",
            "_view_count": null,
            "_view_module": "@jupyter-widgets/base",
            "_view_module_version": "1.2.0",
            "_view_name": "LayoutView",
            "align_content": null,
            "align_items": null,
            "align_self": null,
            "border": null,
            "bottom": null,
            "display": null,
            "flex": null,
            "flex_flow": null,
            "grid_area": null,
            "grid_auto_columns": null,
            "grid_auto_flow": null,
            "grid_auto_rows": null,
            "grid_column": null,
            "grid_gap": null,
            "grid_row": null,
            "grid_template_areas": null,
            "grid_template_columns": null,
            "grid_template_rows": null,
            "height": null,
            "justify_content": null,
            "justify_items": null,
            "left": null,
            "margin": null,
            "max_height": null,
            "max_width": null,
            "min_height": null,
            "min_width": null,
            "object_fit": null,
            "object_position": null,
            "order": null,
            "overflow": null,
            "overflow_x": null,
            "overflow_y": null,
            "padding": null,
            "right": null,
            "top": null,
            "visibility": null,
            "width": null
          }
        },
        "9b01d1f83cc149cababa4eee6163944c": {
          "model_module": "@jupyter-widgets/base",
          "model_name": "LayoutModel",
          "model_module_version": "1.2.0",
          "state": {
            "_model_module": "@jupyter-widgets/base",
            "_model_module_version": "1.2.0",
            "_model_name": "LayoutModel",
            "_view_count": null,
            "_view_module": "@jupyter-widgets/base",
            "_view_module_version": "1.2.0",
            "_view_name": "LayoutView",
            "align_content": null,
            "align_items": null,
            "align_self": null,
            "border": null,
            "bottom": null,
            "display": null,
            "flex": null,
            "flex_flow": null,
            "grid_area": null,
            "grid_auto_columns": null,
            "grid_auto_flow": null,
            "grid_auto_rows": null,
            "grid_column": null,
            "grid_gap": null,
            "grid_row": null,
            "grid_template_areas": null,
            "grid_template_columns": null,
            "grid_template_rows": null,
            "height": null,
            "justify_content": null,
            "justify_items": null,
            "left": null,
            "margin": null,
            "max_height": null,
            "max_width": null,
            "min_height": null,
            "min_width": null,
            "object_fit": null,
            "object_position": null,
            "order": null,
            "overflow": null,
            "overflow_x": null,
            "overflow_y": null,
            "padding": null,
            "right": null,
            "top": null,
            "visibility": null,
            "width": null
          }
        },
        "d3109c2414624f93814fa33f00d3dea5": {
          "model_module": "@jupyter-widgets/controls",
          "model_name": "DescriptionStyleModel",
          "model_module_version": "1.5.0",
          "state": {
            "_model_module": "@jupyter-widgets/controls",
            "_model_module_version": "1.5.0",
            "_model_name": "DescriptionStyleModel",
            "_view_count": null,
            "_view_module": "@jupyter-widgets/base",
            "_view_module_version": "1.2.0",
            "_view_name": "StyleView",
            "description_width": ""
          }
        },
        "c42f3b3e4fd64c489b81acf35a6d0603": {
          "model_module": "@jupyter-widgets/base",
          "model_name": "LayoutModel",
          "model_module_version": "1.2.0",
          "state": {
            "_model_module": "@jupyter-widgets/base",
            "_model_module_version": "1.2.0",
            "_model_name": "LayoutModel",
            "_view_count": null,
            "_view_module": "@jupyter-widgets/base",
            "_view_module_version": "1.2.0",
            "_view_name": "LayoutView",
            "align_content": null,
            "align_items": null,
            "align_self": null,
            "border": null,
            "bottom": null,
            "display": null,
            "flex": null,
            "flex_flow": null,
            "grid_area": null,
            "grid_auto_columns": null,
            "grid_auto_flow": null,
            "grid_auto_rows": null,
            "grid_column": null,
            "grid_gap": null,
            "grid_row": null,
            "grid_template_areas": null,
            "grid_template_columns": null,
            "grid_template_rows": null,
            "height": null,
            "justify_content": null,
            "justify_items": null,
            "left": null,
            "margin": null,
            "max_height": null,
            "max_width": null,
            "min_height": null,
            "min_width": null,
            "object_fit": null,
            "object_position": null,
            "order": null,
            "overflow": null,
            "overflow_x": null,
            "overflow_y": null,
            "padding": null,
            "right": null,
            "top": null,
            "visibility": null,
            "width": null
          }
        },
        "1968829f05584b0fb0db9975a5f1a6bf": {
          "model_module": "@jupyter-widgets/controls",
          "model_name": "ProgressStyleModel",
          "model_module_version": "1.5.0",
          "state": {
            "_model_module": "@jupyter-widgets/controls",
            "_model_module_version": "1.5.0",
            "_model_name": "ProgressStyleModel",
            "_view_count": null,
            "_view_module": "@jupyter-widgets/base",
            "_view_module_version": "1.2.0",
            "_view_name": "StyleView",
            "bar_color": null,
            "description_width": ""
          }
        },
        "7e787f2a5ed444b2a1d365c0df3f96c5": {
          "model_module": "@jupyter-widgets/base",
          "model_name": "LayoutModel",
          "model_module_version": "1.2.0",
          "state": {
            "_model_module": "@jupyter-widgets/base",
            "_model_module_version": "1.2.0",
            "_model_name": "LayoutModel",
            "_view_count": null,
            "_view_module": "@jupyter-widgets/base",
            "_view_module_version": "1.2.0",
            "_view_name": "LayoutView",
            "align_content": null,
            "align_items": null,
            "align_self": null,
            "border": null,
            "bottom": null,
            "display": null,
            "flex": null,
            "flex_flow": null,
            "grid_area": null,
            "grid_auto_columns": null,
            "grid_auto_flow": null,
            "grid_auto_rows": null,
            "grid_column": null,
            "grid_gap": null,
            "grid_row": null,
            "grid_template_areas": null,
            "grid_template_columns": null,
            "grid_template_rows": null,
            "height": null,
            "justify_content": null,
            "justify_items": null,
            "left": null,
            "margin": null,
            "max_height": null,
            "max_width": null,
            "min_height": null,
            "min_width": null,
            "object_fit": null,
            "object_position": null,
            "order": null,
            "overflow": null,
            "overflow_x": null,
            "overflow_y": null,
            "padding": null,
            "right": null,
            "top": null,
            "visibility": null,
            "width": null
          }
        },
        "6c26e83fdfb74dc19b768bde78495539": {
          "model_module": "@jupyter-widgets/controls",
          "model_name": "DescriptionStyleModel",
          "model_module_version": "1.5.0",
          "state": {
            "_model_module": "@jupyter-widgets/controls",
            "_model_module_version": "1.5.0",
            "_model_name": "DescriptionStyleModel",
            "_view_count": null,
            "_view_module": "@jupyter-widgets/base",
            "_view_module_version": "1.2.0",
            "_view_name": "StyleView",
            "description_width": ""
          }
        },
        "eba4e9f8b21c45f18529e8e566783bfb": {
          "model_module": "@jupyter-widgets/controls",
          "model_name": "HBoxModel",
          "model_module_version": "1.5.0",
          "state": {
            "_dom_classes": [],
            "_model_module": "@jupyter-widgets/controls",
            "_model_module_version": "1.5.0",
            "_model_name": "HBoxModel",
            "_view_count": null,
            "_view_module": "@jupyter-widgets/controls",
            "_view_module_version": "1.5.0",
            "_view_name": "HBoxView",
            "box_style": "",
            "children": [
              "IPY_MODEL_d0a0651461e64d40a4d96c94555f1e59",
              "IPY_MODEL_1655aca23d604e6bb01882b27dcc49ea",
              "IPY_MODEL_2752a2fb1a7e4b0aa8e501c52f4f171a"
            ],
            "layout": "IPY_MODEL_1c77eb42ec7e4c1db8bb97ead4dbd23b"
          }
        },
        "d0a0651461e64d40a4d96c94555f1e59": {
          "model_module": "@jupyter-widgets/controls",
          "model_name": "HTMLModel",
          "model_module_version": "1.5.0",
          "state": {
            "_dom_classes": [],
            "_model_module": "@jupyter-widgets/controls",
            "_model_module_version": "1.5.0",
            "_model_name": "HTMLModel",
            "_view_count": null,
            "_view_module": "@jupyter-widgets/controls",
            "_view_module_version": "1.5.0",
            "_view_name": "HTMLView",
            "description": "",
            "description_tooltip": null,
            "layout": "IPY_MODEL_8c26e1699a184cd5902f83d1612faf1a",
            "placeholder": "​",
            "style": "IPY_MODEL_00c4ea8bb3d148c69093350cfd6055ff",
            "value": "tokenizer.json: 100%"
          }
        },
        "1655aca23d604e6bb01882b27dcc49ea": {
          "model_module": "@jupyter-widgets/controls",
          "model_name": "FloatProgressModel",
          "model_module_version": "1.5.0",
          "state": {
            "_dom_classes": [],
            "_model_module": "@jupyter-widgets/controls",
            "_model_module_version": "1.5.0",
            "_model_name": "FloatProgressModel",
            "_view_count": null,
            "_view_module": "@jupyter-widgets/controls",
            "_view_module_version": "1.5.0",
            "_view_name": "ProgressView",
            "bar_style": "success",
            "description": "",
            "description_tooltip": null,
            "layout": "IPY_MODEL_b2a023326b1b445cace819658e7b11e6",
            "max": 466062,
            "min": 0,
            "orientation": "horizontal",
            "style": "IPY_MODEL_cb46c88464134a7bbda0d4918bc4e201",
            "value": 466062
          }
        },
        "2752a2fb1a7e4b0aa8e501c52f4f171a": {
          "model_module": "@jupyter-widgets/controls",
          "model_name": "HTMLModel",
          "model_module_version": "1.5.0",
          "state": {
            "_dom_classes": [],
            "_model_module": "@jupyter-widgets/controls",
            "_model_module_version": "1.5.0",
            "_model_name": "HTMLModel",
            "_view_count": null,
            "_view_module": "@jupyter-widgets/controls",
            "_view_module_version": "1.5.0",
            "_view_name": "HTMLView",
            "description": "",
            "description_tooltip": null,
            "layout": "IPY_MODEL_a0fbe41cbfa642af913159d0135a544b",
            "placeholder": "​",
            "style": "IPY_MODEL_b46a29637937419e869277230722015a",
            "value": " 466k/466k [00:00&lt;00:00, 781kB/s]"
          }
        },
        "1c77eb42ec7e4c1db8bb97ead4dbd23b": {
          "model_module": "@jupyter-widgets/base",
          "model_name": "LayoutModel",
          "model_module_version": "1.2.0",
          "state": {
            "_model_module": "@jupyter-widgets/base",
            "_model_module_version": "1.2.0",
            "_model_name": "LayoutModel",
            "_view_count": null,
            "_view_module": "@jupyter-widgets/base",
            "_view_module_version": "1.2.0",
            "_view_name": "LayoutView",
            "align_content": null,
            "align_items": null,
            "align_self": null,
            "border": null,
            "bottom": null,
            "display": null,
            "flex": null,
            "flex_flow": null,
            "grid_area": null,
            "grid_auto_columns": null,
            "grid_auto_flow": null,
            "grid_auto_rows": null,
            "grid_column": null,
            "grid_gap": null,
            "grid_row": null,
            "grid_template_areas": null,
            "grid_template_columns": null,
            "grid_template_rows": null,
            "height": null,
            "justify_content": null,
            "justify_items": null,
            "left": null,
            "margin": null,
            "max_height": null,
            "max_width": null,
            "min_height": null,
            "min_width": null,
            "object_fit": null,
            "object_position": null,
            "order": null,
            "overflow": null,
            "overflow_x": null,
            "overflow_y": null,
            "padding": null,
            "right": null,
            "top": null,
            "visibility": null,
            "width": null
          }
        },
        "8c26e1699a184cd5902f83d1612faf1a": {
          "model_module": "@jupyter-widgets/base",
          "model_name": "LayoutModel",
          "model_module_version": "1.2.0",
          "state": {
            "_model_module": "@jupyter-widgets/base",
            "_model_module_version": "1.2.0",
            "_model_name": "LayoutModel",
            "_view_count": null,
            "_view_module": "@jupyter-widgets/base",
            "_view_module_version": "1.2.0",
            "_view_name": "LayoutView",
            "align_content": null,
            "align_items": null,
            "align_self": null,
            "border": null,
            "bottom": null,
            "display": null,
            "flex": null,
            "flex_flow": null,
            "grid_area": null,
            "grid_auto_columns": null,
            "grid_auto_flow": null,
            "grid_auto_rows": null,
            "grid_column": null,
            "grid_gap": null,
            "grid_row": null,
            "grid_template_areas": null,
            "grid_template_columns": null,
            "grid_template_rows": null,
            "height": null,
            "justify_content": null,
            "justify_items": null,
            "left": null,
            "margin": null,
            "max_height": null,
            "max_width": null,
            "min_height": null,
            "min_width": null,
            "object_fit": null,
            "object_position": null,
            "order": null,
            "overflow": null,
            "overflow_x": null,
            "overflow_y": null,
            "padding": null,
            "right": null,
            "top": null,
            "visibility": null,
            "width": null
          }
        },
        "00c4ea8bb3d148c69093350cfd6055ff": {
          "model_module": "@jupyter-widgets/controls",
          "model_name": "DescriptionStyleModel",
          "model_module_version": "1.5.0",
          "state": {
            "_model_module": "@jupyter-widgets/controls",
            "_model_module_version": "1.5.0",
            "_model_name": "DescriptionStyleModel",
            "_view_count": null,
            "_view_module": "@jupyter-widgets/base",
            "_view_module_version": "1.2.0",
            "_view_name": "StyleView",
            "description_width": ""
          }
        },
        "b2a023326b1b445cace819658e7b11e6": {
          "model_module": "@jupyter-widgets/base",
          "model_name": "LayoutModel",
          "model_module_version": "1.2.0",
          "state": {
            "_model_module": "@jupyter-widgets/base",
            "_model_module_version": "1.2.0",
            "_model_name": "LayoutModel",
            "_view_count": null,
            "_view_module": "@jupyter-widgets/base",
            "_view_module_version": "1.2.0",
            "_view_name": "LayoutView",
            "align_content": null,
            "align_items": null,
            "align_self": null,
            "border": null,
            "bottom": null,
            "display": null,
            "flex": null,
            "flex_flow": null,
            "grid_area": null,
            "grid_auto_columns": null,
            "grid_auto_flow": null,
            "grid_auto_rows": null,
            "grid_column": null,
            "grid_gap": null,
            "grid_row": null,
            "grid_template_areas": null,
            "grid_template_columns": null,
            "grid_template_rows": null,
            "height": null,
            "justify_content": null,
            "justify_items": null,
            "left": null,
            "margin": null,
            "max_height": null,
            "max_width": null,
            "min_height": null,
            "min_width": null,
            "object_fit": null,
            "object_position": null,
            "order": null,
            "overflow": null,
            "overflow_x": null,
            "overflow_y": null,
            "padding": null,
            "right": null,
            "top": null,
            "visibility": null,
            "width": null
          }
        },
        "cb46c88464134a7bbda0d4918bc4e201": {
          "model_module": "@jupyter-widgets/controls",
          "model_name": "ProgressStyleModel",
          "model_module_version": "1.5.0",
          "state": {
            "_model_module": "@jupyter-widgets/controls",
            "_model_module_version": "1.5.0",
            "_model_name": "ProgressStyleModel",
            "_view_count": null,
            "_view_module": "@jupyter-widgets/base",
            "_view_module_version": "1.2.0",
            "_view_name": "StyleView",
            "bar_color": null,
            "description_width": ""
          }
        },
        "a0fbe41cbfa642af913159d0135a544b": {
          "model_module": "@jupyter-widgets/base",
          "model_name": "LayoutModel",
          "model_module_version": "1.2.0",
          "state": {
            "_model_module": "@jupyter-widgets/base",
            "_model_module_version": "1.2.0",
            "_model_name": "LayoutModel",
            "_view_count": null,
            "_view_module": "@jupyter-widgets/base",
            "_view_module_version": "1.2.0",
            "_view_name": "LayoutView",
            "align_content": null,
            "align_items": null,
            "align_self": null,
            "border": null,
            "bottom": null,
            "display": null,
            "flex": null,
            "flex_flow": null,
            "grid_area": null,
            "grid_auto_columns": null,
            "grid_auto_flow": null,
            "grid_auto_rows": null,
            "grid_column": null,
            "grid_gap": null,
            "grid_row": null,
            "grid_template_areas": null,
            "grid_template_columns": null,
            "grid_template_rows": null,
            "height": null,
            "justify_content": null,
            "justify_items": null,
            "left": null,
            "margin": null,
            "max_height": null,
            "max_width": null,
            "min_height": null,
            "min_width": null,
            "object_fit": null,
            "object_position": null,
            "order": null,
            "overflow": null,
            "overflow_x": null,
            "overflow_y": null,
            "padding": null,
            "right": null,
            "top": null,
            "visibility": null,
            "width": null
          }
        },
        "b46a29637937419e869277230722015a": {
          "model_module": "@jupyter-widgets/controls",
          "model_name": "DescriptionStyleModel",
          "model_module_version": "1.5.0",
          "state": {
            "_model_module": "@jupyter-widgets/controls",
            "_model_module_version": "1.5.0",
            "_model_name": "DescriptionStyleModel",
            "_view_count": null,
            "_view_module": "@jupyter-widgets/base",
            "_view_module_version": "1.2.0",
            "_view_name": "StyleView",
            "description_width": ""
          }
        },
        "8207c021a16942708fc5efbf68e30b94": {
          "model_module": "@jupyter-widgets/controls",
          "model_name": "HBoxModel",
          "model_module_version": "1.5.0",
          "state": {
            "_dom_classes": [],
            "_model_module": "@jupyter-widgets/controls",
            "_model_module_version": "1.5.0",
            "_model_name": "HBoxModel",
            "_view_count": null,
            "_view_module": "@jupyter-widgets/controls",
            "_view_module_version": "1.5.0",
            "_view_name": "HBoxView",
            "box_style": "",
            "children": [
              "IPY_MODEL_90011df072494dc185dc2aa495e0c049",
              "IPY_MODEL_937c1c4fe9b84832aa50f77beae25c0e",
              "IPY_MODEL_85da64183a3e4bc88e51c0a4c89f53ff"
            ],
            "layout": "IPY_MODEL_802d8da05ab749cba24361639602f774"
          }
        },
        "90011df072494dc185dc2aa495e0c049": {
          "model_module": "@jupyter-widgets/controls",
          "model_name": "HTMLModel",
          "model_module_version": "1.5.0",
          "state": {
            "_dom_classes": [],
            "_model_module": "@jupyter-widgets/controls",
            "_model_module_version": "1.5.0",
            "_model_name": "HTMLModel",
            "_view_count": null,
            "_view_module": "@jupyter-widgets/controls",
            "_view_module_version": "1.5.0",
            "_view_name": "HTMLView",
            "description": "",
            "description_tooltip": null,
            "layout": "IPY_MODEL_17525882b8244236937bf444e77a0fec",
            "placeholder": "​",
            "style": "IPY_MODEL_08daa042c0ce4f3ba2150c2ed024fbd2",
            "value": "model.safetensors: 100%"
          }
        },
        "937c1c4fe9b84832aa50f77beae25c0e": {
          "model_module": "@jupyter-widgets/controls",
          "model_name": "FloatProgressModel",
          "model_module_version": "1.5.0",
          "state": {
            "_dom_classes": [],
            "_model_module": "@jupyter-widgets/controls",
            "_model_module_version": "1.5.0",
            "_model_name": "FloatProgressModel",
            "_view_count": null,
            "_view_module": "@jupyter-widgets/controls",
            "_view_module_version": "1.5.0",
            "_view_name": "ProgressView",
            "bar_style": "success",
            "description": "",
            "description_tooltip": null,
            "layout": "IPY_MODEL_84394d1032494f098963ae96f8be8280",
            "max": 267954768,
            "min": 0,
            "orientation": "horizontal",
            "style": "IPY_MODEL_ee91b17a22474b48bb8c754672de7bbb",
            "value": 267954768
          }
        },
        "85da64183a3e4bc88e51c0a4c89f53ff": {
          "model_module": "@jupyter-widgets/controls",
          "model_name": "HTMLModel",
          "model_module_version": "1.5.0",
          "state": {
            "_dom_classes": [],
            "_model_module": "@jupyter-widgets/controls",
            "_model_module_version": "1.5.0",
            "_model_name": "HTMLModel",
            "_view_count": null,
            "_view_module": "@jupyter-widgets/controls",
            "_view_module_version": "1.5.0",
            "_view_name": "HTMLView",
            "description": "",
            "description_tooltip": null,
            "layout": "IPY_MODEL_07b96ee1c0024c809c9ee72d6c4a100e",
            "placeholder": "​",
            "style": "IPY_MODEL_f02b1da52f4546219850d019dd69dcbe",
            "value": " 268M/268M [00:02&lt;00:00, 141MB/s]"
          }
        },
        "802d8da05ab749cba24361639602f774": {
          "model_module": "@jupyter-widgets/base",
          "model_name": "LayoutModel",
          "model_module_version": "1.2.0",
          "state": {
            "_model_module": "@jupyter-widgets/base",
            "_model_module_version": "1.2.0",
            "_model_name": "LayoutModel",
            "_view_count": null,
            "_view_module": "@jupyter-widgets/base",
            "_view_module_version": "1.2.0",
            "_view_name": "LayoutView",
            "align_content": null,
            "align_items": null,
            "align_self": null,
            "border": null,
            "bottom": null,
            "display": null,
            "flex": null,
            "flex_flow": null,
            "grid_area": null,
            "grid_auto_columns": null,
            "grid_auto_flow": null,
            "grid_auto_rows": null,
            "grid_column": null,
            "grid_gap": null,
            "grid_row": null,
            "grid_template_areas": null,
            "grid_template_columns": null,
            "grid_template_rows": null,
            "height": null,
            "justify_content": null,
            "justify_items": null,
            "left": null,
            "margin": null,
            "max_height": null,
            "max_width": null,
            "min_height": null,
            "min_width": null,
            "object_fit": null,
            "object_position": null,
            "order": null,
            "overflow": null,
            "overflow_x": null,
            "overflow_y": null,
            "padding": null,
            "right": null,
            "top": null,
            "visibility": null,
            "width": null
          }
        },
        "17525882b8244236937bf444e77a0fec": {
          "model_module": "@jupyter-widgets/base",
          "model_name": "LayoutModel",
          "model_module_version": "1.2.0",
          "state": {
            "_model_module": "@jupyter-widgets/base",
            "_model_module_version": "1.2.0",
            "_model_name": "LayoutModel",
            "_view_count": null,
            "_view_module": "@jupyter-widgets/base",
            "_view_module_version": "1.2.0",
            "_view_name": "LayoutView",
            "align_content": null,
            "align_items": null,
            "align_self": null,
            "border": null,
            "bottom": null,
            "display": null,
            "flex": null,
            "flex_flow": null,
            "grid_area": null,
            "grid_auto_columns": null,
            "grid_auto_flow": null,
            "grid_auto_rows": null,
            "grid_column": null,
            "grid_gap": null,
            "grid_row": null,
            "grid_template_areas": null,
            "grid_template_columns": null,
            "grid_template_rows": null,
            "height": null,
            "justify_content": null,
            "justify_items": null,
            "left": null,
            "margin": null,
            "max_height": null,
            "max_width": null,
            "min_height": null,
            "min_width": null,
            "object_fit": null,
            "object_position": null,
            "order": null,
            "overflow": null,
            "overflow_x": null,
            "overflow_y": null,
            "padding": null,
            "right": null,
            "top": null,
            "visibility": null,
            "width": null
          }
        },
        "08daa042c0ce4f3ba2150c2ed024fbd2": {
          "model_module": "@jupyter-widgets/controls",
          "model_name": "DescriptionStyleModel",
          "model_module_version": "1.5.0",
          "state": {
            "_model_module": "@jupyter-widgets/controls",
            "_model_module_version": "1.5.0",
            "_model_name": "DescriptionStyleModel",
            "_view_count": null,
            "_view_module": "@jupyter-widgets/base",
            "_view_module_version": "1.2.0",
            "_view_name": "StyleView",
            "description_width": ""
          }
        },
        "84394d1032494f098963ae96f8be8280": {
          "model_module": "@jupyter-widgets/base",
          "model_name": "LayoutModel",
          "model_module_version": "1.2.0",
          "state": {
            "_model_module": "@jupyter-widgets/base",
            "_model_module_version": "1.2.0",
            "_model_name": "LayoutModel",
            "_view_count": null,
            "_view_module": "@jupyter-widgets/base",
            "_view_module_version": "1.2.0",
            "_view_name": "LayoutView",
            "align_content": null,
            "align_items": null,
            "align_self": null,
            "border": null,
            "bottom": null,
            "display": null,
            "flex": null,
            "flex_flow": null,
            "grid_area": null,
            "grid_auto_columns": null,
            "grid_auto_flow": null,
            "grid_auto_rows": null,
            "grid_column": null,
            "grid_gap": null,
            "grid_row": null,
            "grid_template_areas": null,
            "grid_template_columns": null,
            "grid_template_rows": null,
            "height": null,
            "justify_content": null,
            "justify_items": null,
            "left": null,
            "margin": null,
            "max_height": null,
            "max_width": null,
            "min_height": null,
            "min_width": null,
            "object_fit": null,
            "object_position": null,
            "order": null,
            "overflow": null,
            "overflow_x": null,
            "overflow_y": null,
            "padding": null,
            "right": null,
            "top": null,
            "visibility": null,
            "width": null
          }
        },
        "ee91b17a22474b48bb8c754672de7bbb": {
          "model_module": "@jupyter-widgets/controls",
          "model_name": "ProgressStyleModel",
          "model_module_version": "1.5.0",
          "state": {
            "_model_module": "@jupyter-widgets/controls",
            "_model_module_version": "1.5.0",
            "_model_name": "ProgressStyleModel",
            "_view_count": null,
            "_view_module": "@jupyter-widgets/base",
            "_view_module_version": "1.2.0",
            "_view_name": "StyleView",
            "bar_color": null,
            "description_width": ""
          }
        },
        "07b96ee1c0024c809c9ee72d6c4a100e": {
          "model_module": "@jupyter-widgets/base",
          "model_name": "LayoutModel",
          "model_module_version": "1.2.0",
          "state": {
            "_model_module": "@jupyter-widgets/base",
            "_model_module_version": "1.2.0",
            "_model_name": "LayoutModel",
            "_view_count": null,
            "_view_module": "@jupyter-widgets/base",
            "_view_module_version": "1.2.0",
            "_view_name": "LayoutView",
            "align_content": null,
            "align_items": null,
            "align_self": null,
            "border": null,
            "bottom": null,
            "display": null,
            "flex": null,
            "flex_flow": null,
            "grid_area": null,
            "grid_auto_columns": null,
            "grid_auto_flow": null,
            "grid_auto_rows": null,
            "grid_column": null,
            "grid_gap": null,
            "grid_row": null,
            "grid_template_areas": null,
            "grid_template_columns": null,
            "grid_template_rows": null,
            "height": null,
            "justify_content": null,
            "justify_items": null,
            "left": null,
            "margin": null,
            "max_height": null,
            "max_width": null,
            "min_height": null,
            "min_width": null,
            "object_fit": null,
            "object_position": null,
            "order": null,
            "overflow": null,
            "overflow_x": null,
            "overflow_y": null,
            "padding": null,
            "right": null,
            "top": null,
            "visibility": null,
            "width": null
          }
        },
        "f02b1da52f4546219850d019dd69dcbe": {
          "model_module": "@jupyter-widgets/controls",
          "model_name": "DescriptionStyleModel",
          "model_module_version": "1.5.0",
          "state": {
            "_model_module": "@jupyter-widgets/controls",
            "_model_module_version": "1.5.0",
            "_model_name": "DescriptionStyleModel",
            "_view_count": null,
            "_view_module": "@jupyter-widgets/base",
            "_view_module_version": "1.2.0",
            "_view_name": "StyleView",
            "description_width": ""
          }
        },
        "d7227f6c616146df890e9367e58eb6de": {
          "model_module": "@jupyter-widgets/controls",
          "model_name": "HBoxModel",
          "model_module_version": "1.5.0",
          "state": {
            "_dom_classes": [],
            "_model_module": "@jupyter-widgets/controls",
            "_model_module_version": "1.5.0",
            "_model_name": "HBoxModel",
            "_view_count": null,
            "_view_module": "@jupyter-widgets/controls",
            "_view_module_version": "1.5.0",
            "_view_name": "HBoxView",
            "box_style": "",
            "children": [
              "IPY_MODEL_61038907451f4a21a36a73ea88cc3eca",
              "IPY_MODEL_f86d8024374e4ad4bcbdd586df0c88cf",
              "IPY_MODEL_9d8414f265964a98949a1614b790b5fd"
            ],
            "layout": "IPY_MODEL_51daf97e5d7f4798b42962c89d78380b"
          }
        },
        "61038907451f4a21a36a73ea88cc3eca": {
          "model_module": "@jupyter-widgets/controls",
          "model_name": "HTMLModel",
          "model_module_version": "1.5.0",
          "state": {
            "_dom_classes": [],
            "_model_module": "@jupyter-widgets/controls",
            "_model_module_version": "1.5.0",
            "_model_name": "HTMLModel",
            "_view_count": null,
            "_view_module": "@jupyter-widgets/controls",
            "_view_module_version": "1.5.0",
            "_view_name": "HTMLView",
            "description": "",
            "description_tooltip": null,
            "layout": "IPY_MODEL_209ce6ae6e8a410082ba7f48f09ffd43",
            "placeholder": "​",
            "style": "IPY_MODEL_9b93decac3c4416e9c264435fb69d1b1",
            "value": "tokenizer_config.json: 100%"
          }
        },
        "f86d8024374e4ad4bcbdd586df0c88cf": {
          "model_module": "@jupyter-widgets/controls",
          "model_name": "FloatProgressModel",
          "model_module_version": "1.5.0",
          "state": {
            "_dom_classes": [],
            "_model_module": "@jupyter-widgets/controls",
            "_model_module_version": "1.5.0",
            "_model_name": "FloatProgressModel",
            "_view_count": null,
            "_view_module": "@jupyter-widgets/controls",
            "_view_module_version": "1.5.0",
            "_view_name": "ProgressView",
            "bar_style": "success",
            "description": "",
            "description_tooltip": null,
            "layout": "IPY_MODEL_1305daccd9c54e758a4f8ded6d2e2a89",
            "max": 48,
            "min": 0,
            "orientation": "horizontal",
            "style": "IPY_MODEL_fe41e87ef0ec49c5a0894074ad94e47b",
            "value": 48
          }
        },
        "9d8414f265964a98949a1614b790b5fd": {
          "model_module": "@jupyter-widgets/controls",
          "model_name": "HTMLModel",
          "model_module_version": "1.5.0",
          "state": {
            "_dom_classes": [],
            "_model_module": "@jupyter-widgets/controls",
            "_model_module_version": "1.5.0",
            "_model_name": "HTMLModel",
            "_view_count": null,
            "_view_module": "@jupyter-widgets/controls",
            "_view_module_version": "1.5.0",
            "_view_name": "HTMLView",
            "description": "",
            "description_tooltip": null,
            "layout": "IPY_MODEL_11729b5573b14dc1a271646574a697ac",
            "placeholder": "​",
            "style": "IPY_MODEL_f009def80ca24da4b0ffd2e8ff5f276d",
            "value": " 48.0/48.0 [00:00&lt;00:00, 3.11kB/s]"
          }
        },
        "51daf97e5d7f4798b42962c89d78380b": {
          "model_module": "@jupyter-widgets/base",
          "model_name": "LayoutModel",
          "model_module_version": "1.2.0",
          "state": {
            "_model_module": "@jupyter-widgets/base",
            "_model_module_version": "1.2.0",
            "_model_name": "LayoutModel",
            "_view_count": null,
            "_view_module": "@jupyter-widgets/base",
            "_view_module_version": "1.2.0",
            "_view_name": "LayoutView",
            "align_content": null,
            "align_items": null,
            "align_self": null,
            "border": null,
            "bottom": null,
            "display": null,
            "flex": null,
            "flex_flow": null,
            "grid_area": null,
            "grid_auto_columns": null,
            "grid_auto_flow": null,
            "grid_auto_rows": null,
            "grid_column": null,
            "grid_gap": null,
            "grid_row": null,
            "grid_template_areas": null,
            "grid_template_columns": null,
            "grid_template_rows": null,
            "height": null,
            "justify_content": null,
            "justify_items": null,
            "left": null,
            "margin": null,
            "max_height": null,
            "max_width": null,
            "min_height": null,
            "min_width": null,
            "object_fit": null,
            "object_position": null,
            "order": null,
            "overflow": null,
            "overflow_x": null,
            "overflow_y": null,
            "padding": null,
            "right": null,
            "top": null,
            "visibility": null,
            "width": null
          }
        },
        "209ce6ae6e8a410082ba7f48f09ffd43": {
          "model_module": "@jupyter-widgets/base",
          "model_name": "LayoutModel",
          "model_module_version": "1.2.0",
          "state": {
            "_model_module": "@jupyter-widgets/base",
            "_model_module_version": "1.2.0",
            "_model_name": "LayoutModel",
            "_view_count": null,
            "_view_module": "@jupyter-widgets/base",
            "_view_module_version": "1.2.0",
            "_view_name": "LayoutView",
            "align_content": null,
            "align_items": null,
            "align_self": null,
            "border": null,
            "bottom": null,
            "display": null,
            "flex": null,
            "flex_flow": null,
            "grid_area": null,
            "grid_auto_columns": null,
            "grid_auto_flow": null,
            "grid_auto_rows": null,
            "grid_column": null,
            "grid_gap": null,
            "grid_row": null,
            "grid_template_areas": null,
            "grid_template_columns": null,
            "grid_template_rows": null,
            "height": null,
            "justify_content": null,
            "justify_items": null,
            "left": null,
            "margin": null,
            "max_height": null,
            "max_width": null,
            "min_height": null,
            "min_width": null,
            "object_fit": null,
            "object_position": null,
            "order": null,
            "overflow": null,
            "overflow_x": null,
            "overflow_y": null,
            "padding": null,
            "right": null,
            "top": null,
            "visibility": null,
            "width": null
          }
        },
        "9b93decac3c4416e9c264435fb69d1b1": {
          "model_module": "@jupyter-widgets/controls",
          "model_name": "DescriptionStyleModel",
          "model_module_version": "1.5.0",
          "state": {
            "_model_module": "@jupyter-widgets/controls",
            "_model_module_version": "1.5.0",
            "_model_name": "DescriptionStyleModel",
            "_view_count": null,
            "_view_module": "@jupyter-widgets/base",
            "_view_module_version": "1.2.0",
            "_view_name": "StyleView",
            "description_width": ""
          }
        },
        "1305daccd9c54e758a4f8ded6d2e2a89": {
          "model_module": "@jupyter-widgets/base",
          "model_name": "LayoutModel",
          "model_module_version": "1.2.0",
          "state": {
            "_model_module": "@jupyter-widgets/base",
            "_model_module_version": "1.2.0",
            "_model_name": "LayoutModel",
            "_view_count": null,
            "_view_module": "@jupyter-widgets/base",
            "_view_module_version": "1.2.0",
            "_view_name": "LayoutView",
            "align_content": null,
            "align_items": null,
            "align_self": null,
            "border": null,
            "bottom": null,
            "display": null,
            "flex": null,
            "flex_flow": null,
            "grid_area": null,
            "grid_auto_columns": null,
            "grid_auto_flow": null,
            "grid_auto_rows": null,
            "grid_column": null,
            "grid_gap": null,
            "grid_row": null,
            "grid_template_areas": null,
            "grid_template_columns": null,
            "grid_template_rows": null,
            "height": null,
            "justify_content": null,
            "justify_items": null,
            "left": null,
            "margin": null,
            "max_height": null,
            "max_width": null,
            "min_height": null,
            "min_width": null,
            "object_fit": null,
            "object_position": null,
            "order": null,
            "overflow": null,
            "overflow_x": null,
            "overflow_y": null,
            "padding": null,
            "right": null,
            "top": null,
            "visibility": null,
            "width": null
          }
        },
        "fe41e87ef0ec49c5a0894074ad94e47b": {
          "model_module": "@jupyter-widgets/controls",
          "model_name": "ProgressStyleModel",
          "model_module_version": "1.5.0",
          "state": {
            "_model_module": "@jupyter-widgets/controls",
            "_model_module_version": "1.5.0",
            "_model_name": "ProgressStyleModel",
            "_view_count": null,
            "_view_module": "@jupyter-widgets/base",
            "_view_module_version": "1.2.0",
            "_view_name": "StyleView",
            "bar_color": null,
            "description_width": ""
          }
        },
        "11729b5573b14dc1a271646574a697ac": {
          "model_module": "@jupyter-widgets/base",
          "model_name": "LayoutModel",
          "model_module_version": "1.2.0",
          "state": {
            "_model_module": "@jupyter-widgets/base",
            "_model_module_version": "1.2.0",
            "_model_name": "LayoutModel",
            "_view_count": null,
            "_view_module": "@jupyter-widgets/base",
            "_view_module_version": "1.2.0",
            "_view_name": "LayoutView",
            "align_content": null,
            "align_items": null,
            "align_self": null,
            "border": null,
            "bottom": null,
            "display": null,
            "flex": null,
            "flex_flow": null,
            "grid_area": null,
            "grid_auto_columns": null,
            "grid_auto_flow": null,
            "grid_auto_rows": null,
            "grid_column": null,
            "grid_gap": null,
            "grid_row": null,
            "grid_template_areas": null,
            "grid_template_columns": null,
            "grid_template_rows": null,
            "height": null,
            "justify_content": null,
            "justify_items": null,
            "left": null,
            "margin": null,
            "max_height": null,
            "max_width": null,
            "min_height": null,
            "min_width": null,
            "object_fit": null,
            "object_position": null,
            "order": null,
            "overflow": null,
            "overflow_x": null,
            "overflow_y": null,
            "padding": null,
            "right": null,
            "top": null,
            "visibility": null,
            "width": null
          }
        },
        "f009def80ca24da4b0ffd2e8ff5f276d": {
          "model_module": "@jupyter-widgets/controls",
          "model_name": "DescriptionStyleModel",
          "model_module_version": "1.5.0",
          "state": {
            "_model_module": "@jupyter-widgets/controls",
            "_model_module_version": "1.5.0",
            "_model_name": "DescriptionStyleModel",
            "_view_count": null,
            "_view_module": "@jupyter-widgets/base",
            "_view_module_version": "1.2.0",
            "_view_name": "StyleView",
            "description_width": ""
          }
        },
        "6d7afcbf08864b2d8ad413ebb609d845": {
          "model_module": "@jupyter-widgets/controls",
          "model_name": "HBoxModel",
          "model_module_version": "1.5.0",
          "state": {
            "_dom_classes": [],
            "_model_module": "@jupyter-widgets/controls",
            "_model_module_version": "1.5.0",
            "_model_name": "HBoxModel",
            "_view_count": null,
            "_view_module": "@jupyter-widgets/controls",
            "_view_module_version": "1.5.0",
            "_view_name": "HBoxView",
            "box_style": "",
            "children": [
              "IPY_MODEL_b047b7781b504d21903179ed17dabc05",
              "IPY_MODEL_efdc5a45553047a3b66355ae2a33c9fd",
              "IPY_MODEL_ae21173539c948bcabe4fa346d856f44"
            ],
            "layout": "IPY_MODEL_5f7e1284de10472aabe06ab10376c6fa"
          }
        },
        "b047b7781b504d21903179ed17dabc05": {
          "model_module": "@jupyter-widgets/controls",
          "model_name": "HTMLModel",
          "model_module_version": "1.5.0",
          "state": {
            "_dom_classes": [],
            "_model_module": "@jupyter-widgets/controls",
            "_model_module_version": "1.5.0",
            "_model_name": "HTMLModel",
            "_view_count": null,
            "_view_module": "@jupyter-widgets/controls",
            "_view_module_version": "1.5.0",
            "_view_name": "HTMLView",
            "description": "",
            "description_tooltip": null,
            "layout": "IPY_MODEL_ab165f2add9f42b997a5f0ec1177d380",
            "placeholder": "​",
            "style": "IPY_MODEL_64d2357d4da34c218c08720c452355f3",
            "value": "config.json: 100%"
          }
        },
        "efdc5a45553047a3b66355ae2a33c9fd": {
          "model_module": "@jupyter-widgets/controls",
          "model_name": "FloatProgressModel",
          "model_module_version": "1.5.0",
          "state": {
            "_dom_classes": [],
            "_model_module": "@jupyter-widgets/controls",
            "_model_module_version": "1.5.0",
            "_model_name": "FloatProgressModel",
            "_view_count": null,
            "_view_module": "@jupyter-widgets/controls",
            "_view_module_version": "1.5.0",
            "_view_name": "ProgressView",
            "bar_style": "success",
            "description": "",
            "description_tooltip": null,
            "layout": "IPY_MODEL_508da77515dc4d409ebc78f02e71d8ba",
            "max": 570,
            "min": 0,
            "orientation": "horizontal",
            "style": "IPY_MODEL_f1df447fd16e4d3aaba39f96db89da25",
            "value": 570
          }
        },
        "ae21173539c948bcabe4fa346d856f44": {
          "model_module": "@jupyter-widgets/controls",
          "model_name": "HTMLModel",
          "model_module_version": "1.5.0",
          "state": {
            "_dom_classes": [],
            "_model_module": "@jupyter-widgets/controls",
            "_model_module_version": "1.5.0",
            "_model_name": "HTMLModel",
            "_view_count": null,
            "_view_module": "@jupyter-widgets/controls",
            "_view_module_version": "1.5.0",
            "_view_name": "HTMLView",
            "description": "",
            "description_tooltip": null,
            "layout": "IPY_MODEL_3cee46ce66264d36a31467f4b63fabfb",
            "placeholder": "​",
            "style": "IPY_MODEL_685c8156b84a4282ad845a720a1660ad",
            "value": " 570/570 [00:00&lt;00:00, 27.2kB/s]"
          }
        },
        "5f7e1284de10472aabe06ab10376c6fa": {
          "model_module": "@jupyter-widgets/base",
          "model_name": "LayoutModel",
          "model_module_version": "1.2.0",
          "state": {
            "_model_module": "@jupyter-widgets/base",
            "_model_module_version": "1.2.0",
            "_model_name": "LayoutModel",
            "_view_count": null,
            "_view_module": "@jupyter-widgets/base",
            "_view_module_version": "1.2.0",
            "_view_name": "LayoutView",
            "align_content": null,
            "align_items": null,
            "align_self": null,
            "border": null,
            "bottom": null,
            "display": null,
            "flex": null,
            "flex_flow": null,
            "grid_area": null,
            "grid_auto_columns": null,
            "grid_auto_flow": null,
            "grid_auto_rows": null,
            "grid_column": null,
            "grid_gap": null,
            "grid_row": null,
            "grid_template_areas": null,
            "grid_template_columns": null,
            "grid_template_rows": null,
            "height": null,
            "justify_content": null,
            "justify_items": null,
            "left": null,
            "margin": null,
            "max_height": null,
            "max_width": null,
            "min_height": null,
            "min_width": null,
            "object_fit": null,
            "object_position": null,
            "order": null,
            "overflow": null,
            "overflow_x": null,
            "overflow_y": null,
            "padding": null,
            "right": null,
            "top": null,
            "visibility": null,
            "width": null
          }
        },
        "ab165f2add9f42b997a5f0ec1177d380": {
          "model_module": "@jupyter-widgets/base",
          "model_name": "LayoutModel",
          "model_module_version": "1.2.0",
          "state": {
            "_model_module": "@jupyter-widgets/base",
            "_model_module_version": "1.2.0",
            "_model_name": "LayoutModel",
            "_view_count": null,
            "_view_module": "@jupyter-widgets/base",
            "_view_module_version": "1.2.0",
            "_view_name": "LayoutView",
            "align_content": null,
            "align_items": null,
            "align_self": null,
            "border": null,
            "bottom": null,
            "display": null,
            "flex": null,
            "flex_flow": null,
            "grid_area": null,
            "grid_auto_columns": null,
            "grid_auto_flow": null,
            "grid_auto_rows": null,
            "grid_column": null,
            "grid_gap": null,
            "grid_row": null,
            "grid_template_areas": null,
            "grid_template_columns": null,
            "grid_template_rows": null,
            "height": null,
            "justify_content": null,
            "justify_items": null,
            "left": null,
            "margin": null,
            "max_height": null,
            "max_width": null,
            "min_height": null,
            "min_width": null,
            "object_fit": null,
            "object_position": null,
            "order": null,
            "overflow": null,
            "overflow_x": null,
            "overflow_y": null,
            "padding": null,
            "right": null,
            "top": null,
            "visibility": null,
            "width": null
          }
        },
        "64d2357d4da34c218c08720c452355f3": {
          "model_module": "@jupyter-widgets/controls",
          "model_name": "DescriptionStyleModel",
          "model_module_version": "1.5.0",
          "state": {
            "_model_module": "@jupyter-widgets/controls",
            "_model_module_version": "1.5.0",
            "_model_name": "DescriptionStyleModel",
            "_view_count": null,
            "_view_module": "@jupyter-widgets/base",
            "_view_module_version": "1.2.0",
            "_view_name": "StyleView",
            "description_width": ""
          }
        },
        "508da77515dc4d409ebc78f02e71d8ba": {
          "model_module": "@jupyter-widgets/base",
          "model_name": "LayoutModel",
          "model_module_version": "1.2.0",
          "state": {
            "_model_module": "@jupyter-widgets/base",
            "_model_module_version": "1.2.0",
            "_model_name": "LayoutModel",
            "_view_count": null,
            "_view_module": "@jupyter-widgets/base",
            "_view_module_version": "1.2.0",
            "_view_name": "LayoutView",
            "align_content": null,
            "align_items": null,
            "align_self": null,
            "border": null,
            "bottom": null,
            "display": null,
            "flex": null,
            "flex_flow": null,
            "grid_area": null,
            "grid_auto_columns": null,
            "grid_auto_flow": null,
            "grid_auto_rows": null,
            "grid_column": null,
            "grid_gap": null,
            "grid_row": null,
            "grid_template_areas": null,
            "grid_template_columns": null,
            "grid_template_rows": null,
            "height": null,
            "justify_content": null,
            "justify_items": null,
            "left": null,
            "margin": null,
            "max_height": null,
            "max_width": null,
            "min_height": null,
            "min_width": null,
            "object_fit": null,
            "object_position": null,
            "order": null,
            "overflow": null,
            "overflow_x": null,
            "overflow_y": null,
            "padding": null,
            "right": null,
            "top": null,
            "visibility": null,
            "width": null
          }
        },
        "f1df447fd16e4d3aaba39f96db89da25": {
          "model_module": "@jupyter-widgets/controls",
          "model_name": "ProgressStyleModel",
          "model_module_version": "1.5.0",
          "state": {
            "_model_module": "@jupyter-widgets/controls",
            "_model_module_version": "1.5.0",
            "_model_name": "ProgressStyleModel",
            "_view_count": null,
            "_view_module": "@jupyter-widgets/base",
            "_view_module_version": "1.2.0",
            "_view_name": "StyleView",
            "bar_color": null,
            "description_width": ""
          }
        },
        "3cee46ce66264d36a31467f4b63fabfb": {
          "model_module": "@jupyter-widgets/base",
          "model_name": "LayoutModel",
          "model_module_version": "1.2.0",
          "state": {
            "_model_module": "@jupyter-widgets/base",
            "_model_module_version": "1.2.0",
            "_model_name": "LayoutModel",
            "_view_count": null,
            "_view_module": "@jupyter-widgets/base",
            "_view_module_version": "1.2.0",
            "_view_name": "LayoutView",
            "align_content": null,
            "align_items": null,
            "align_self": null,
            "border": null,
            "bottom": null,
            "display": null,
            "flex": null,
            "flex_flow": null,
            "grid_area": null,
            "grid_auto_columns": null,
            "grid_auto_flow": null,
            "grid_auto_rows": null,
            "grid_column": null,
            "grid_gap": null,
            "grid_row": null,
            "grid_template_areas": null,
            "grid_template_columns": null,
            "grid_template_rows": null,
            "height": null,
            "justify_content": null,
            "justify_items": null,
            "left": null,
            "margin": null,
            "max_height": null,
            "max_width": null,
            "min_height": null,
            "min_width": null,
            "object_fit": null,
            "object_position": null,
            "order": null,
            "overflow": null,
            "overflow_x": null,
            "overflow_y": null,
            "padding": null,
            "right": null,
            "top": null,
            "visibility": null,
            "width": null
          }
        },
        "685c8156b84a4282ad845a720a1660ad": {
          "model_module": "@jupyter-widgets/controls",
          "model_name": "DescriptionStyleModel",
          "model_module_version": "1.5.0",
          "state": {
            "_model_module": "@jupyter-widgets/controls",
            "_model_module_version": "1.5.0",
            "_model_name": "DescriptionStyleModel",
            "_view_count": null,
            "_view_module": "@jupyter-widgets/base",
            "_view_module_version": "1.2.0",
            "_view_name": "StyleView",
            "description_width": ""
          }
        },
        "2e0f5d6400e54513801f7f28825930c0": {
          "model_module": "@jupyter-widgets/controls",
          "model_name": "HBoxModel",
          "model_module_version": "1.5.0",
          "state": {
            "_dom_classes": [],
            "_model_module": "@jupyter-widgets/controls",
            "_model_module_version": "1.5.0",
            "_model_name": "HBoxModel",
            "_view_count": null,
            "_view_module": "@jupyter-widgets/controls",
            "_view_module_version": "1.5.0",
            "_view_name": "HBoxView",
            "box_style": "",
            "children": [
              "IPY_MODEL_475a8a9e9aae4383be8a33178be5c621",
              "IPY_MODEL_e0a74784293440b6887f00dd83d78fab",
              "IPY_MODEL_f1208861e0cc48f684b7f53f61a59bd5"
            ],
            "layout": "IPY_MODEL_9565c5eac429402e94592af7886b9209"
          }
        },
        "475a8a9e9aae4383be8a33178be5c621": {
          "model_module": "@jupyter-widgets/controls",
          "model_name": "HTMLModel",
          "model_module_version": "1.5.0",
          "state": {
            "_dom_classes": [],
            "_model_module": "@jupyter-widgets/controls",
            "_model_module_version": "1.5.0",
            "_model_name": "HTMLModel",
            "_view_count": null,
            "_view_module": "@jupyter-widgets/controls",
            "_view_module_version": "1.5.0",
            "_view_name": "HTMLView",
            "description": "",
            "description_tooltip": null,
            "layout": "IPY_MODEL_7424b75d9f104668b10235a8f58a1fef",
            "placeholder": "​",
            "style": "IPY_MODEL_708d11f5ab734f7492ac3eaf11ee9d7e",
            "value": "vocab.txt: 100%"
          }
        },
        "e0a74784293440b6887f00dd83d78fab": {
          "model_module": "@jupyter-widgets/controls",
          "model_name": "FloatProgressModel",
          "model_module_version": "1.5.0",
          "state": {
            "_dom_classes": [],
            "_model_module": "@jupyter-widgets/controls",
            "_model_module_version": "1.5.0",
            "_model_name": "FloatProgressModel",
            "_view_count": null,
            "_view_module": "@jupyter-widgets/controls",
            "_view_module_version": "1.5.0",
            "_view_name": "ProgressView",
            "bar_style": "success",
            "description": "",
            "description_tooltip": null,
            "layout": "IPY_MODEL_d46b83013214436d88f2ca0a33497265",
            "max": 231508,
            "min": 0,
            "orientation": "horizontal",
            "style": "IPY_MODEL_d5f711a778ab4b468a1b22eb8efa2868",
            "value": 231508
          }
        },
        "f1208861e0cc48f684b7f53f61a59bd5": {
          "model_module": "@jupyter-widgets/controls",
          "model_name": "HTMLModel",
          "model_module_version": "1.5.0",
          "state": {
            "_dom_classes": [],
            "_model_module": "@jupyter-widgets/controls",
            "_model_module_version": "1.5.0",
            "_model_name": "HTMLModel",
            "_view_count": null,
            "_view_module": "@jupyter-widgets/controls",
            "_view_module_version": "1.5.0",
            "_view_name": "HTMLView",
            "description": "",
            "description_tooltip": null,
            "layout": "IPY_MODEL_4187acfdf0c74a7c89ea501a9a92ca6c",
            "placeholder": "​",
            "style": "IPY_MODEL_a169b8c9aafd4e11850a791a12017e7a",
            "value": " 232k/232k [00:00&lt;00:00, 584kB/s]"
          }
        },
        "9565c5eac429402e94592af7886b9209": {
          "model_module": "@jupyter-widgets/base",
          "model_name": "LayoutModel",
          "model_module_version": "1.2.0",
          "state": {
            "_model_module": "@jupyter-widgets/base",
            "_model_module_version": "1.2.0",
            "_model_name": "LayoutModel",
            "_view_count": null,
            "_view_module": "@jupyter-widgets/base",
            "_view_module_version": "1.2.0",
            "_view_name": "LayoutView",
            "align_content": null,
            "align_items": null,
            "align_self": null,
            "border": null,
            "bottom": null,
            "display": null,
            "flex": null,
            "flex_flow": null,
            "grid_area": null,
            "grid_auto_columns": null,
            "grid_auto_flow": null,
            "grid_auto_rows": null,
            "grid_column": null,
            "grid_gap": null,
            "grid_row": null,
            "grid_template_areas": null,
            "grid_template_columns": null,
            "grid_template_rows": null,
            "height": null,
            "justify_content": null,
            "justify_items": null,
            "left": null,
            "margin": null,
            "max_height": null,
            "max_width": null,
            "min_height": null,
            "min_width": null,
            "object_fit": null,
            "object_position": null,
            "order": null,
            "overflow": null,
            "overflow_x": null,
            "overflow_y": null,
            "padding": null,
            "right": null,
            "top": null,
            "visibility": null,
            "width": null
          }
        },
        "7424b75d9f104668b10235a8f58a1fef": {
          "model_module": "@jupyter-widgets/base",
          "model_name": "LayoutModel",
          "model_module_version": "1.2.0",
          "state": {
            "_model_module": "@jupyter-widgets/base",
            "_model_module_version": "1.2.0",
            "_model_name": "LayoutModel",
            "_view_count": null,
            "_view_module": "@jupyter-widgets/base",
            "_view_module_version": "1.2.0",
            "_view_name": "LayoutView",
            "align_content": null,
            "align_items": null,
            "align_self": null,
            "border": null,
            "bottom": null,
            "display": null,
            "flex": null,
            "flex_flow": null,
            "grid_area": null,
            "grid_auto_columns": null,
            "grid_auto_flow": null,
            "grid_auto_rows": null,
            "grid_column": null,
            "grid_gap": null,
            "grid_row": null,
            "grid_template_areas": null,
            "grid_template_columns": null,
            "grid_template_rows": null,
            "height": null,
            "justify_content": null,
            "justify_items": null,
            "left": null,
            "margin": null,
            "max_height": null,
            "max_width": null,
            "min_height": null,
            "min_width": null,
            "object_fit": null,
            "object_position": null,
            "order": null,
            "overflow": null,
            "overflow_x": null,
            "overflow_y": null,
            "padding": null,
            "right": null,
            "top": null,
            "visibility": null,
            "width": null
          }
        },
        "708d11f5ab734f7492ac3eaf11ee9d7e": {
          "model_module": "@jupyter-widgets/controls",
          "model_name": "DescriptionStyleModel",
          "model_module_version": "1.5.0",
          "state": {
            "_model_module": "@jupyter-widgets/controls",
            "_model_module_version": "1.5.0",
            "_model_name": "DescriptionStyleModel",
            "_view_count": null,
            "_view_module": "@jupyter-widgets/base",
            "_view_module_version": "1.2.0",
            "_view_name": "StyleView",
            "description_width": ""
          }
        },
        "d46b83013214436d88f2ca0a33497265": {
          "model_module": "@jupyter-widgets/base",
          "model_name": "LayoutModel",
          "model_module_version": "1.2.0",
          "state": {
            "_model_module": "@jupyter-widgets/base",
            "_model_module_version": "1.2.0",
            "_model_name": "LayoutModel",
            "_view_count": null,
            "_view_module": "@jupyter-widgets/base",
            "_view_module_version": "1.2.0",
            "_view_name": "LayoutView",
            "align_content": null,
            "align_items": null,
            "align_self": null,
            "border": null,
            "bottom": null,
            "display": null,
            "flex": null,
            "flex_flow": null,
            "grid_area": null,
            "grid_auto_columns": null,
            "grid_auto_flow": null,
            "grid_auto_rows": null,
            "grid_column": null,
            "grid_gap": null,
            "grid_row": null,
            "grid_template_areas": null,
            "grid_template_columns": null,
            "grid_template_rows": null,
            "height": null,
            "justify_content": null,
            "justify_items": null,
            "left": null,
            "margin": null,
            "max_height": null,
            "max_width": null,
            "min_height": null,
            "min_width": null,
            "object_fit": null,
            "object_position": null,
            "order": null,
            "overflow": null,
            "overflow_x": null,
            "overflow_y": null,
            "padding": null,
            "right": null,
            "top": null,
            "visibility": null,
            "width": null
          }
        },
        "d5f711a778ab4b468a1b22eb8efa2868": {
          "model_module": "@jupyter-widgets/controls",
          "model_name": "ProgressStyleModel",
          "model_module_version": "1.5.0",
          "state": {
            "_model_module": "@jupyter-widgets/controls",
            "_model_module_version": "1.5.0",
            "_model_name": "ProgressStyleModel",
            "_view_count": null,
            "_view_module": "@jupyter-widgets/base",
            "_view_module_version": "1.2.0",
            "_view_name": "StyleView",
            "bar_color": null,
            "description_width": ""
          }
        },
        "4187acfdf0c74a7c89ea501a9a92ca6c": {
          "model_module": "@jupyter-widgets/base",
          "model_name": "LayoutModel",
          "model_module_version": "1.2.0",
          "state": {
            "_model_module": "@jupyter-widgets/base",
            "_model_module_version": "1.2.0",
            "_model_name": "LayoutModel",
            "_view_count": null,
            "_view_module": "@jupyter-widgets/base",
            "_view_module_version": "1.2.0",
            "_view_name": "LayoutView",
            "align_content": null,
            "align_items": null,
            "align_self": null,
            "border": null,
            "bottom": null,
            "display": null,
            "flex": null,
            "flex_flow": null,
            "grid_area": null,
            "grid_auto_columns": null,
            "grid_auto_flow": null,
            "grid_auto_rows": null,
            "grid_column": null,
            "grid_gap": null,
            "grid_row": null,
            "grid_template_areas": null,
            "grid_template_columns": null,
            "grid_template_rows": null,
            "height": null,
            "justify_content": null,
            "justify_items": null,
            "left": null,
            "margin": null,
            "max_height": null,
            "max_width": null,
            "min_height": null,
            "min_width": null,
            "object_fit": null,
            "object_position": null,
            "order": null,
            "overflow": null,
            "overflow_x": null,
            "overflow_y": null,
            "padding": null,
            "right": null,
            "top": null,
            "visibility": null,
            "width": null
          }
        },
        "a169b8c9aafd4e11850a791a12017e7a": {
          "model_module": "@jupyter-widgets/controls",
          "model_name": "DescriptionStyleModel",
          "model_module_version": "1.5.0",
          "state": {
            "_model_module": "@jupyter-widgets/controls",
            "_model_module_version": "1.5.0",
            "_model_name": "DescriptionStyleModel",
            "_view_count": null,
            "_view_module": "@jupyter-widgets/base",
            "_view_module_version": "1.2.0",
            "_view_name": "StyleView",
            "description_width": ""
          }
        },
        "8a07d37b23e748a3b68c7981547905b9": {
          "model_module": "@jupyter-widgets/controls",
          "model_name": "HBoxModel",
          "model_module_version": "1.5.0",
          "state": {
            "_dom_classes": [],
            "_model_module": "@jupyter-widgets/controls",
            "_model_module_version": "1.5.0",
            "_model_name": "HBoxModel",
            "_view_count": null,
            "_view_module": "@jupyter-widgets/controls",
            "_view_module_version": "1.5.0",
            "_view_name": "HBoxView",
            "box_style": "",
            "children": [
              "IPY_MODEL_e19bd1e3ec124730b7be45d2f678c6a8",
              "IPY_MODEL_9b8a7b96d1e849e4a52e31a2e0c1ec3f",
              "IPY_MODEL_9f282e6cf8da4f7f830f159f11394a6e"
            ],
            "layout": "IPY_MODEL_cb60e81aaf264af9a70b834f25401dfd"
          }
        },
        "e19bd1e3ec124730b7be45d2f678c6a8": {
          "model_module": "@jupyter-widgets/controls",
          "model_name": "HTMLModel",
          "model_module_version": "1.5.0",
          "state": {
            "_dom_classes": [],
            "_model_module": "@jupyter-widgets/controls",
            "_model_module_version": "1.5.0",
            "_model_name": "HTMLModel",
            "_view_count": null,
            "_view_module": "@jupyter-widgets/controls",
            "_view_module_version": "1.5.0",
            "_view_name": "HTMLView",
            "description": "",
            "description_tooltip": null,
            "layout": "IPY_MODEL_dbc06cfdb2d7484981a390f6b5f3718f",
            "placeholder": "​",
            "style": "IPY_MODEL_d7341c94725142e1947374b13d061437",
            "value": "tokenizer.json: 100%"
          }
        },
        "9b8a7b96d1e849e4a52e31a2e0c1ec3f": {
          "model_module": "@jupyter-widgets/controls",
          "model_name": "FloatProgressModel",
          "model_module_version": "1.5.0",
          "state": {
            "_dom_classes": [],
            "_model_module": "@jupyter-widgets/controls",
            "_model_module_version": "1.5.0",
            "_model_name": "FloatProgressModel",
            "_view_count": null,
            "_view_module": "@jupyter-widgets/controls",
            "_view_module_version": "1.5.0",
            "_view_name": "ProgressView",
            "bar_style": "success",
            "description": "",
            "description_tooltip": null,
            "layout": "IPY_MODEL_24255b48f0114089912b5cc87ba2e391",
            "max": 466062,
            "min": 0,
            "orientation": "horizontal",
            "style": "IPY_MODEL_da2ef0359b54490e84c870a17b0209fe",
            "value": 466062
          }
        },
        "9f282e6cf8da4f7f830f159f11394a6e": {
          "model_module": "@jupyter-widgets/controls",
          "model_name": "HTMLModel",
          "model_module_version": "1.5.0",
          "state": {
            "_dom_classes": [],
            "_model_module": "@jupyter-widgets/controls",
            "_model_module_version": "1.5.0",
            "_model_name": "HTMLModel",
            "_view_count": null,
            "_view_module": "@jupyter-widgets/controls",
            "_view_module_version": "1.5.0",
            "_view_name": "HTMLView",
            "description": "",
            "description_tooltip": null,
            "layout": "IPY_MODEL_1850564c50ff41949d1a332de4a3f9fc",
            "placeholder": "​",
            "style": "IPY_MODEL_ea1df53126c548499a27468b183810bf",
            "value": " 466k/466k [00:00&lt;00:00, 784kB/s]"
          }
        },
        "cb60e81aaf264af9a70b834f25401dfd": {
          "model_module": "@jupyter-widgets/base",
          "model_name": "LayoutModel",
          "model_module_version": "1.2.0",
          "state": {
            "_model_module": "@jupyter-widgets/base",
            "_model_module_version": "1.2.0",
            "_model_name": "LayoutModel",
            "_view_count": null,
            "_view_module": "@jupyter-widgets/base",
            "_view_module_version": "1.2.0",
            "_view_name": "LayoutView",
            "align_content": null,
            "align_items": null,
            "align_self": null,
            "border": null,
            "bottom": null,
            "display": null,
            "flex": null,
            "flex_flow": null,
            "grid_area": null,
            "grid_auto_columns": null,
            "grid_auto_flow": null,
            "grid_auto_rows": null,
            "grid_column": null,
            "grid_gap": null,
            "grid_row": null,
            "grid_template_areas": null,
            "grid_template_columns": null,
            "grid_template_rows": null,
            "height": null,
            "justify_content": null,
            "justify_items": null,
            "left": null,
            "margin": null,
            "max_height": null,
            "max_width": null,
            "min_height": null,
            "min_width": null,
            "object_fit": null,
            "object_position": null,
            "order": null,
            "overflow": null,
            "overflow_x": null,
            "overflow_y": null,
            "padding": null,
            "right": null,
            "top": null,
            "visibility": null,
            "width": null
          }
        },
        "dbc06cfdb2d7484981a390f6b5f3718f": {
          "model_module": "@jupyter-widgets/base",
          "model_name": "LayoutModel",
          "model_module_version": "1.2.0",
          "state": {
            "_model_module": "@jupyter-widgets/base",
            "_model_module_version": "1.2.0",
            "_model_name": "LayoutModel",
            "_view_count": null,
            "_view_module": "@jupyter-widgets/base",
            "_view_module_version": "1.2.0",
            "_view_name": "LayoutView",
            "align_content": null,
            "align_items": null,
            "align_self": null,
            "border": null,
            "bottom": null,
            "display": null,
            "flex": null,
            "flex_flow": null,
            "grid_area": null,
            "grid_auto_columns": null,
            "grid_auto_flow": null,
            "grid_auto_rows": null,
            "grid_column": null,
            "grid_gap": null,
            "grid_row": null,
            "grid_template_areas": null,
            "grid_template_columns": null,
            "grid_template_rows": null,
            "height": null,
            "justify_content": null,
            "justify_items": null,
            "left": null,
            "margin": null,
            "max_height": null,
            "max_width": null,
            "min_height": null,
            "min_width": null,
            "object_fit": null,
            "object_position": null,
            "order": null,
            "overflow": null,
            "overflow_x": null,
            "overflow_y": null,
            "padding": null,
            "right": null,
            "top": null,
            "visibility": null,
            "width": null
          }
        },
        "d7341c94725142e1947374b13d061437": {
          "model_module": "@jupyter-widgets/controls",
          "model_name": "DescriptionStyleModel",
          "model_module_version": "1.5.0",
          "state": {
            "_model_module": "@jupyter-widgets/controls",
            "_model_module_version": "1.5.0",
            "_model_name": "DescriptionStyleModel",
            "_view_count": null,
            "_view_module": "@jupyter-widgets/base",
            "_view_module_version": "1.2.0",
            "_view_name": "StyleView",
            "description_width": ""
          }
        },
        "24255b48f0114089912b5cc87ba2e391": {
          "model_module": "@jupyter-widgets/base",
          "model_name": "LayoutModel",
          "model_module_version": "1.2.0",
          "state": {
            "_model_module": "@jupyter-widgets/base",
            "_model_module_version": "1.2.0",
            "_model_name": "LayoutModel",
            "_view_count": null,
            "_view_module": "@jupyter-widgets/base",
            "_view_module_version": "1.2.0",
            "_view_name": "LayoutView",
            "align_content": null,
            "align_items": null,
            "align_self": null,
            "border": null,
            "bottom": null,
            "display": null,
            "flex": null,
            "flex_flow": null,
            "grid_area": null,
            "grid_auto_columns": null,
            "grid_auto_flow": null,
            "grid_auto_rows": null,
            "grid_column": null,
            "grid_gap": null,
            "grid_row": null,
            "grid_template_areas": null,
            "grid_template_columns": null,
            "grid_template_rows": null,
            "height": null,
            "justify_content": null,
            "justify_items": null,
            "left": null,
            "margin": null,
            "max_height": null,
            "max_width": null,
            "min_height": null,
            "min_width": null,
            "object_fit": null,
            "object_position": null,
            "order": null,
            "overflow": null,
            "overflow_x": null,
            "overflow_y": null,
            "padding": null,
            "right": null,
            "top": null,
            "visibility": null,
            "width": null
          }
        },
        "da2ef0359b54490e84c870a17b0209fe": {
          "model_module": "@jupyter-widgets/controls",
          "model_name": "ProgressStyleModel",
          "model_module_version": "1.5.0",
          "state": {
            "_model_module": "@jupyter-widgets/controls",
            "_model_module_version": "1.5.0",
            "_model_name": "ProgressStyleModel",
            "_view_count": null,
            "_view_module": "@jupyter-widgets/base",
            "_view_module_version": "1.2.0",
            "_view_name": "StyleView",
            "bar_color": null,
            "description_width": ""
          }
        },
        "1850564c50ff41949d1a332de4a3f9fc": {
          "model_module": "@jupyter-widgets/base",
          "model_name": "LayoutModel",
          "model_module_version": "1.2.0",
          "state": {
            "_model_module": "@jupyter-widgets/base",
            "_model_module_version": "1.2.0",
            "_model_name": "LayoutModel",
            "_view_count": null,
            "_view_module": "@jupyter-widgets/base",
            "_view_module_version": "1.2.0",
            "_view_name": "LayoutView",
            "align_content": null,
            "align_items": null,
            "align_self": null,
            "border": null,
            "bottom": null,
            "display": null,
            "flex": null,
            "flex_flow": null,
            "grid_area": null,
            "grid_auto_columns": null,
            "grid_auto_flow": null,
            "grid_auto_rows": null,
            "grid_column": null,
            "grid_gap": null,
            "grid_row": null,
            "grid_template_areas": null,
            "grid_template_columns": null,
            "grid_template_rows": null,
            "height": null,
            "justify_content": null,
            "justify_items": null,
            "left": null,
            "margin": null,
            "max_height": null,
            "max_width": null,
            "min_height": null,
            "min_width": null,
            "object_fit": null,
            "object_position": null,
            "order": null,
            "overflow": null,
            "overflow_x": null,
            "overflow_y": null,
            "padding": null,
            "right": null,
            "top": null,
            "visibility": null,
            "width": null
          }
        },
        "ea1df53126c548499a27468b183810bf": {
          "model_module": "@jupyter-widgets/controls",
          "model_name": "DescriptionStyleModel",
          "model_module_version": "1.5.0",
          "state": {
            "_model_module": "@jupyter-widgets/controls",
            "_model_module_version": "1.5.0",
            "_model_name": "DescriptionStyleModel",
            "_view_count": null,
            "_view_module": "@jupyter-widgets/base",
            "_view_module_version": "1.2.0",
            "_view_name": "StyleView",
            "description_width": ""
          }
        },
        "aa316a3cc241488bb187c8ea318f4da3": {
          "model_module": "@jupyter-widgets/controls",
          "model_name": "HBoxModel",
          "model_module_version": "1.5.0",
          "state": {
            "_dom_classes": [],
            "_model_module": "@jupyter-widgets/controls",
            "_model_module_version": "1.5.0",
            "_model_name": "HBoxModel",
            "_view_count": null,
            "_view_module": "@jupyter-widgets/controls",
            "_view_module_version": "1.5.0",
            "_view_name": "HBoxView",
            "box_style": "",
            "children": [
              "IPY_MODEL_6d9fbb22701f46dfaedfdd153e3af47c",
              "IPY_MODEL_696faf030df54180b48fd41ef840b547",
              "IPY_MODEL_e0da46ba0f5a45d2ac56eb5056651df3"
            ],
            "layout": "IPY_MODEL_acb4c92651b6408398cc97c292ba23a9"
          }
        },
        "6d9fbb22701f46dfaedfdd153e3af47c": {
          "model_module": "@jupyter-widgets/controls",
          "model_name": "HTMLModel",
          "model_module_version": "1.5.0",
          "state": {
            "_dom_classes": [],
            "_model_module": "@jupyter-widgets/controls",
            "_model_module_version": "1.5.0",
            "_model_name": "HTMLModel",
            "_view_count": null,
            "_view_module": "@jupyter-widgets/controls",
            "_view_module_version": "1.5.0",
            "_view_name": "HTMLView",
            "description": "",
            "description_tooltip": null,
            "layout": "IPY_MODEL_663c9237ae1349bc9aef03b9519b9b07",
            "placeholder": "​",
            "style": "IPY_MODEL_8a3c669f675547688a4a6bed4016a086",
            "value": "model.safetensors: 100%"
          }
        },
        "696faf030df54180b48fd41ef840b547": {
          "model_module": "@jupyter-widgets/controls",
          "model_name": "FloatProgressModel",
          "model_module_version": "1.5.0",
          "state": {
            "_dom_classes": [],
            "_model_module": "@jupyter-widgets/controls",
            "_model_module_version": "1.5.0",
            "_model_name": "FloatProgressModel",
            "_view_count": null,
            "_view_module": "@jupyter-widgets/controls",
            "_view_module_version": "1.5.0",
            "_view_name": "ProgressView",
            "bar_style": "success",
            "description": "",
            "description_tooltip": null,
            "layout": "IPY_MODEL_8fbfee58d927464dbfce79fde5b8d09c",
            "max": 440449768,
            "min": 0,
            "orientation": "horizontal",
            "style": "IPY_MODEL_bc81e2ca55604456af797e9802b9c1db",
            "value": 440449768
          }
        },
        "e0da46ba0f5a45d2ac56eb5056651df3": {
          "model_module": "@jupyter-widgets/controls",
          "model_name": "HTMLModel",
          "model_module_version": "1.5.0",
          "state": {
            "_dom_classes": [],
            "_model_module": "@jupyter-widgets/controls",
            "_model_module_version": "1.5.0",
            "_model_name": "HTMLModel",
            "_view_count": null,
            "_view_module": "@jupyter-widgets/controls",
            "_view_module_version": "1.5.0",
            "_view_name": "HTMLView",
            "description": "",
            "description_tooltip": null,
            "layout": "IPY_MODEL_1287f9e8fbb943e2beea0c48c9a52714",
            "placeholder": "​",
            "style": "IPY_MODEL_d998e989a97541b39c64f6358debae87",
            "value": " 440M/440M [00:02&lt;00:00, 171MB/s]"
          }
        },
        "acb4c92651b6408398cc97c292ba23a9": {
          "model_module": "@jupyter-widgets/base",
          "model_name": "LayoutModel",
          "model_module_version": "1.2.0",
          "state": {
            "_model_module": "@jupyter-widgets/base",
            "_model_module_version": "1.2.0",
            "_model_name": "LayoutModel",
            "_view_count": null,
            "_view_module": "@jupyter-widgets/base",
            "_view_module_version": "1.2.0",
            "_view_name": "LayoutView",
            "align_content": null,
            "align_items": null,
            "align_self": null,
            "border": null,
            "bottom": null,
            "display": null,
            "flex": null,
            "flex_flow": null,
            "grid_area": null,
            "grid_auto_columns": null,
            "grid_auto_flow": null,
            "grid_auto_rows": null,
            "grid_column": null,
            "grid_gap": null,
            "grid_row": null,
            "grid_template_areas": null,
            "grid_template_columns": null,
            "grid_template_rows": null,
            "height": null,
            "justify_content": null,
            "justify_items": null,
            "left": null,
            "margin": null,
            "max_height": null,
            "max_width": null,
            "min_height": null,
            "min_width": null,
            "object_fit": null,
            "object_position": null,
            "order": null,
            "overflow": null,
            "overflow_x": null,
            "overflow_y": null,
            "padding": null,
            "right": null,
            "top": null,
            "visibility": null,
            "width": null
          }
        },
        "663c9237ae1349bc9aef03b9519b9b07": {
          "model_module": "@jupyter-widgets/base",
          "model_name": "LayoutModel",
          "model_module_version": "1.2.0",
          "state": {
            "_model_module": "@jupyter-widgets/base",
            "_model_module_version": "1.2.0",
            "_model_name": "LayoutModel",
            "_view_count": null,
            "_view_module": "@jupyter-widgets/base",
            "_view_module_version": "1.2.0",
            "_view_name": "LayoutView",
            "align_content": null,
            "align_items": null,
            "align_self": null,
            "border": null,
            "bottom": null,
            "display": null,
            "flex": null,
            "flex_flow": null,
            "grid_area": null,
            "grid_auto_columns": null,
            "grid_auto_flow": null,
            "grid_auto_rows": null,
            "grid_column": null,
            "grid_gap": null,
            "grid_row": null,
            "grid_template_areas": null,
            "grid_template_columns": null,
            "grid_template_rows": null,
            "height": null,
            "justify_content": null,
            "justify_items": null,
            "left": null,
            "margin": null,
            "max_height": null,
            "max_width": null,
            "min_height": null,
            "min_width": null,
            "object_fit": null,
            "object_position": null,
            "order": null,
            "overflow": null,
            "overflow_x": null,
            "overflow_y": null,
            "padding": null,
            "right": null,
            "top": null,
            "visibility": null,
            "width": null
          }
        },
        "8a3c669f675547688a4a6bed4016a086": {
          "model_module": "@jupyter-widgets/controls",
          "model_name": "DescriptionStyleModel",
          "model_module_version": "1.5.0",
          "state": {
            "_model_module": "@jupyter-widgets/controls",
            "_model_module_version": "1.5.0",
            "_model_name": "DescriptionStyleModel",
            "_view_count": null,
            "_view_module": "@jupyter-widgets/base",
            "_view_module_version": "1.2.0",
            "_view_name": "StyleView",
            "description_width": ""
          }
        },
        "8fbfee58d927464dbfce79fde5b8d09c": {
          "model_module": "@jupyter-widgets/base",
          "model_name": "LayoutModel",
          "model_module_version": "1.2.0",
          "state": {
            "_model_module": "@jupyter-widgets/base",
            "_model_module_version": "1.2.0",
            "_model_name": "LayoutModel",
            "_view_count": null,
            "_view_module": "@jupyter-widgets/base",
            "_view_module_version": "1.2.0",
            "_view_name": "LayoutView",
            "align_content": null,
            "align_items": null,
            "align_self": null,
            "border": null,
            "bottom": null,
            "display": null,
            "flex": null,
            "flex_flow": null,
            "grid_area": null,
            "grid_auto_columns": null,
            "grid_auto_flow": null,
            "grid_auto_rows": null,
            "grid_column": null,
            "grid_gap": null,
            "grid_row": null,
            "grid_template_areas": null,
            "grid_template_columns": null,
            "grid_template_rows": null,
            "height": null,
            "justify_content": null,
            "justify_items": null,
            "left": null,
            "margin": null,
            "max_height": null,
            "max_width": null,
            "min_height": null,
            "min_width": null,
            "object_fit": null,
            "object_position": null,
            "order": null,
            "overflow": null,
            "overflow_x": null,
            "overflow_y": null,
            "padding": null,
            "right": null,
            "top": null,
            "visibility": null,
            "width": null
          }
        },
        "bc81e2ca55604456af797e9802b9c1db": {
          "model_module": "@jupyter-widgets/controls",
          "model_name": "ProgressStyleModel",
          "model_module_version": "1.5.0",
          "state": {
            "_model_module": "@jupyter-widgets/controls",
            "_model_module_version": "1.5.0",
            "_model_name": "ProgressStyleModel",
            "_view_count": null,
            "_view_module": "@jupyter-widgets/base",
            "_view_module_version": "1.2.0",
            "_view_name": "StyleView",
            "bar_color": null,
            "description_width": ""
          }
        },
        "1287f9e8fbb943e2beea0c48c9a52714": {
          "model_module": "@jupyter-widgets/base",
          "model_name": "LayoutModel",
          "model_module_version": "1.2.0",
          "state": {
            "_model_module": "@jupyter-widgets/base",
            "_model_module_version": "1.2.0",
            "_model_name": "LayoutModel",
            "_view_count": null,
            "_view_module": "@jupyter-widgets/base",
            "_view_module_version": "1.2.0",
            "_view_name": "LayoutView",
            "align_content": null,
            "align_items": null,
            "align_self": null,
            "border": null,
            "bottom": null,
            "display": null,
            "flex": null,
            "flex_flow": null,
            "grid_area": null,
            "grid_auto_columns": null,
            "grid_auto_flow": null,
            "grid_auto_rows": null,
            "grid_column": null,
            "grid_gap": null,
            "grid_row": null,
            "grid_template_areas": null,
            "grid_template_columns": null,
            "grid_template_rows": null,
            "height": null,
            "justify_content": null,
            "justify_items": null,
            "left": null,
            "margin": null,
            "max_height": null,
            "max_width": null,
            "min_height": null,
            "min_width": null,
            "object_fit": null,
            "object_position": null,
            "order": null,
            "overflow": null,
            "overflow_x": null,
            "overflow_y": null,
            "padding": null,
            "right": null,
            "top": null,
            "visibility": null,
            "width": null
          }
        },
        "d998e989a97541b39c64f6358debae87": {
          "model_module": "@jupyter-widgets/controls",
          "model_name": "DescriptionStyleModel",
          "model_module_version": "1.5.0",
          "state": {
            "_model_module": "@jupyter-widgets/controls",
            "_model_module_version": "1.5.0",
            "_model_name": "DescriptionStyleModel",
            "_view_count": null,
            "_view_module": "@jupyter-widgets/base",
            "_view_module_version": "1.2.0",
            "_view_name": "StyleView",
            "description_width": ""
          }
        },
        "b2cf9f46f5ab443f8e1b1b7004977613": {
          "model_module": "@jupyter-widgets/controls",
          "model_name": "HBoxModel",
          "model_module_version": "1.5.0",
          "state": {
            "_dom_classes": [],
            "_model_module": "@jupyter-widgets/controls",
            "_model_module_version": "1.5.0",
            "_model_name": "HBoxModel",
            "_view_count": null,
            "_view_module": "@jupyter-widgets/controls",
            "_view_module_version": "1.5.0",
            "_view_name": "HBoxView",
            "box_style": "",
            "children": [
              "IPY_MODEL_e46dd72c6fe7499b8c4ce4b8c74cfa79",
              "IPY_MODEL_f22c7f79cac9471a97db79386dc0cf24",
              "IPY_MODEL_34b7c133c0a04107ab76a5af54296adc"
            ],
            "layout": "IPY_MODEL_635c47bdaae84e4e9657350343a1ba0a"
          }
        },
        "e46dd72c6fe7499b8c4ce4b8c74cfa79": {
          "model_module": "@jupyter-widgets/controls",
          "model_name": "HTMLModel",
          "model_module_version": "1.5.0",
          "state": {
            "_dom_classes": [],
            "_model_module": "@jupyter-widgets/controls",
            "_model_module_version": "1.5.0",
            "_model_name": "HTMLModel",
            "_view_count": null,
            "_view_module": "@jupyter-widgets/controls",
            "_view_module_version": "1.5.0",
            "_view_name": "HTMLView",
            "description": "",
            "description_tooltip": null,
            "layout": "IPY_MODEL_3d1486d2bab046189ac9fabad98fdfe5",
            "placeholder": "​",
            "style": "IPY_MODEL_cf7c935c1c2d43fd8a9ced8202fca397",
            "value": "Map: 100%"
          }
        },
        "f22c7f79cac9471a97db79386dc0cf24": {
          "model_module": "@jupyter-widgets/controls",
          "model_name": "FloatProgressModel",
          "model_module_version": "1.5.0",
          "state": {
            "_dom_classes": [],
            "_model_module": "@jupyter-widgets/controls",
            "_model_module_version": "1.5.0",
            "_model_name": "FloatProgressModel",
            "_view_count": null,
            "_view_module": "@jupyter-widgets/controls",
            "_view_module_version": "1.5.0",
            "_view_name": "ProgressView",
            "bar_style": "success",
            "description": "",
            "description_tooltip": null,
            "layout": "IPY_MODEL_6bd17f24d2a74736ad3e8ff95571dd4a",
            "max": 160,
            "min": 0,
            "orientation": "horizontal",
            "style": "IPY_MODEL_6b44385150314aadb291818e0796829a",
            "value": 160
          }
        },
        "34b7c133c0a04107ab76a5af54296adc": {
          "model_module": "@jupyter-widgets/controls",
          "model_name": "HTMLModel",
          "model_module_version": "1.5.0",
          "state": {
            "_dom_classes": [],
            "_model_module": "@jupyter-widgets/controls",
            "_model_module_version": "1.5.0",
            "_model_name": "HTMLModel",
            "_view_count": null,
            "_view_module": "@jupyter-widgets/controls",
            "_view_module_version": "1.5.0",
            "_view_name": "HTMLView",
            "description": "",
            "description_tooltip": null,
            "layout": "IPY_MODEL_89907ac697a34d67a9a879127a14f08a",
            "placeholder": "​",
            "style": "IPY_MODEL_94fd2d55db774408b493e74e24b162b0",
            "value": " 160/160 [00:01&lt;00:00, 85.83 examples/s]"
          }
        },
        "635c47bdaae84e4e9657350343a1ba0a": {
          "model_module": "@jupyter-widgets/base",
          "model_name": "LayoutModel",
          "model_module_version": "1.2.0",
          "state": {
            "_model_module": "@jupyter-widgets/base",
            "_model_module_version": "1.2.0",
            "_model_name": "LayoutModel",
            "_view_count": null,
            "_view_module": "@jupyter-widgets/base",
            "_view_module_version": "1.2.0",
            "_view_name": "LayoutView",
            "align_content": null,
            "align_items": null,
            "align_self": null,
            "border": null,
            "bottom": null,
            "display": null,
            "flex": null,
            "flex_flow": null,
            "grid_area": null,
            "grid_auto_columns": null,
            "grid_auto_flow": null,
            "grid_auto_rows": null,
            "grid_column": null,
            "grid_gap": null,
            "grid_row": null,
            "grid_template_areas": null,
            "grid_template_columns": null,
            "grid_template_rows": null,
            "height": null,
            "justify_content": null,
            "justify_items": null,
            "left": null,
            "margin": null,
            "max_height": null,
            "max_width": null,
            "min_height": null,
            "min_width": null,
            "object_fit": null,
            "object_position": null,
            "order": null,
            "overflow": null,
            "overflow_x": null,
            "overflow_y": null,
            "padding": null,
            "right": null,
            "top": null,
            "visibility": null,
            "width": null
          }
        },
        "3d1486d2bab046189ac9fabad98fdfe5": {
          "model_module": "@jupyter-widgets/base",
          "model_name": "LayoutModel",
          "model_module_version": "1.2.0",
          "state": {
            "_model_module": "@jupyter-widgets/base",
            "_model_module_version": "1.2.0",
            "_model_name": "LayoutModel",
            "_view_count": null,
            "_view_module": "@jupyter-widgets/base",
            "_view_module_version": "1.2.0",
            "_view_name": "LayoutView",
            "align_content": null,
            "align_items": null,
            "align_self": null,
            "border": null,
            "bottom": null,
            "display": null,
            "flex": null,
            "flex_flow": null,
            "grid_area": null,
            "grid_auto_columns": null,
            "grid_auto_flow": null,
            "grid_auto_rows": null,
            "grid_column": null,
            "grid_gap": null,
            "grid_row": null,
            "grid_template_areas": null,
            "grid_template_columns": null,
            "grid_template_rows": null,
            "height": null,
            "justify_content": null,
            "justify_items": null,
            "left": null,
            "margin": null,
            "max_height": null,
            "max_width": null,
            "min_height": null,
            "min_width": null,
            "object_fit": null,
            "object_position": null,
            "order": null,
            "overflow": null,
            "overflow_x": null,
            "overflow_y": null,
            "padding": null,
            "right": null,
            "top": null,
            "visibility": null,
            "width": null
          }
        },
        "cf7c935c1c2d43fd8a9ced8202fca397": {
          "model_module": "@jupyter-widgets/controls",
          "model_name": "DescriptionStyleModel",
          "model_module_version": "1.5.0",
          "state": {
            "_model_module": "@jupyter-widgets/controls",
            "_model_module_version": "1.5.0",
            "_model_name": "DescriptionStyleModel",
            "_view_count": null,
            "_view_module": "@jupyter-widgets/base",
            "_view_module_version": "1.2.0",
            "_view_name": "StyleView",
            "description_width": ""
          }
        },
        "6bd17f24d2a74736ad3e8ff95571dd4a": {
          "model_module": "@jupyter-widgets/base",
          "model_name": "LayoutModel",
          "model_module_version": "1.2.0",
          "state": {
            "_model_module": "@jupyter-widgets/base",
            "_model_module_version": "1.2.0",
            "_model_name": "LayoutModel",
            "_view_count": null,
            "_view_module": "@jupyter-widgets/base",
            "_view_module_version": "1.2.0",
            "_view_name": "LayoutView",
            "align_content": null,
            "align_items": null,
            "align_self": null,
            "border": null,
            "bottom": null,
            "display": null,
            "flex": null,
            "flex_flow": null,
            "grid_area": null,
            "grid_auto_columns": null,
            "grid_auto_flow": null,
            "grid_auto_rows": null,
            "grid_column": null,
            "grid_gap": null,
            "grid_row": null,
            "grid_template_areas": null,
            "grid_template_columns": null,
            "grid_template_rows": null,
            "height": null,
            "justify_content": null,
            "justify_items": null,
            "left": null,
            "margin": null,
            "max_height": null,
            "max_width": null,
            "min_height": null,
            "min_width": null,
            "object_fit": null,
            "object_position": null,
            "order": null,
            "overflow": null,
            "overflow_x": null,
            "overflow_y": null,
            "padding": null,
            "right": null,
            "top": null,
            "visibility": null,
            "width": null
          }
        },
        "6b44385150314aadb291818e0796829a": {
          "model_module": "@jupyter-widgets/controls",
          "model_name": "ProgressStyleModel",
          "model_module_version": "1.5.0",
          "state": {
            "_model_module": "@jupyter-widgets/controls",
            "_model_module_version": "1.5.0",
            "_model_name": "ProgressStyleModel",
            "_view_count": null,
            "_view_module": "@jupyter-widgets/base",
            "_view_module_version": "1.2.0",
            "_view_name": "StyleView",
            "bar_color": null,
            "description_width": ""
          }
        },
        "89907ac697a34d67a9a879127a14f08a": {
          "model_module": "@jupyter-widgets/base",
          "model_name": "LayoutModel",
          "model_module_version": "1.2.0",
          "state": {
            "_model_module": "@jupyter-widgets/base",
            "_model_module_version": "1.2.0",
            "_model_name": "LayoutModel",
            "_view_count": null,
            "_view_module": "@jupyter-widgets/base",
            "_view_module_version": "1.2.0",
            "_view_name": "LayoutView",
            "align_content": null,
            "align_items": null,
            "align_self": null,
            "border": null,
            "bottom": null,
            "display": null,
            "flex": null,
            "flex_flow": null,
            "grid_area": null,
            "grid_auto_columns": null,
            "grid_auto_flow": null,
            "grid_auto_rows": null,
            "grid_column": null,
            "grid_gap": null,
            "grid_row": null,
            "grid_template_areas": null,
            "grid_template_columns": null,
            "grid_template_rows": null,
            "height": null,
            "justify_content": null,
            "justify_items": null,
            "left": null,
            "margin": null,
            "max_height": null,
            "max_width": null,
            "min_height": null,
            "min_width": null,
            "object_fit": null,
            "object_position": null,
            "order": null,
            "overflow": null,
            "overflow_x": null,
            "overflow_y": null,
            "padding": null,
            "right": null,
            "top": null,
            "visibility": null,
            "width": null
          }
        },
        "94fd2d55db774408b493e74e24b162b0": {
          "model_module": "@jupyter-widgets/controls",
          "model_name": "DescriptionStyleModel",
          "model_module_version": "1.5.0",
          "state": {
            "_model_module": "@jupyter-widgets/controls",
            "_model_module_version": "1.5.0",
            "_model_name": "DescriptionStyleModel",
            "_view_count": null,
            "_view_module": "@jupyter-widgets/base",
            "_view_module_version": "1.2.0",
            "_view_name": "StyleView",
            "description_width": ""
          }
        },
        "38a4a175a42e457a839581826b9b7e55": {
          "model_module": "@jupyter-widgets/controls",
          "model_name": "HBoxModel",
          "model_module_version": "1.5.0",
          "state": {
            "_dom_classes": [],
            "_model_module": "@jupyter-widgets/controls",
            "_model_module_version": "1.5.0",
            "_model_name": "HBoxModel",
            "_view_count": null,
            "_view_module": "@jupyter-widgets/controls",
            "_view_module_version": "1.5.0",
            "_view_name": "HBoxView",
            "box_style": "",
            "children": [
              "IPY_MODEL_5799b4e59f514a73bcc93e26193ec380",
              "IPY_MODEL_d4650a6e8e274ae79c35043182afa335",
              "IPY_MODEL_e30dbae7ffe3489f8d1185a0fbf57521"
            ],
            "layout": "IPY_MODEL_f2bbec208e5a4eec99d920bbd2c7244d"
          }
        },
        "5799b4e59f514a73bcc93e26193ec380": {
          "model_module": "@jupyter-widgets/controls",
          "model_name": "HTMLModel",
          "model_module_version": "1.5.0",
          "state": {
            "_dom_classes": [],
            "_model_module": "@jupyter-widgets/controls",
            "_model_module_version": "1.5.0",
            "_model_name": "HTMLModel",
            "_view_count": null,
            "_view_module": "@jupyter-widgets/controls",
            "_view_module_version": "1.5.0",
            "_view_name": "HTMLView",
            "description": "",
            "description_tooltip": null,
            "layout": "IPY_MODEL_48d631fa754e4d00ab98d58efdc2c463",
            "placeholder": "​",
            "style": "IPY_MODEL_bf3340cdbd184ab783718911215e4968",
            "value": "Map: 100%"
          }
        },
        "d4650a6e8e274ae79c35043182afa335": {
          "model_module": "@jupyter-widgets/controls",
          "model_name": "FloatProgressModel",
          "model_module_version": "1.5.0",
          "state": {
            "_dom_classes": [],
            "_model_module": "@jupyter-widgets/controls",
            "_model_module_version": "1.5.0",
            "_model_name": "FloatProgressModel",
            "_view_count": null,
            "_view_module": "@jupyter-widgets/controls",
            "_view_module_version": "1.5.0",
            "_view_name": "ProgressView",
            "bar_style": "success",
            "description": "",
            "description_tooltip": null,
            "layout": "IPY_MODEL_c79ea01e638146a5bc4a72558b6e8e75",
            "max": 40,
            "min": 0,
            "orientation": "horizontal",
            "style": "IPY_MODEL_cb19aca99a6e476ba70a9a974a594ac6",
            "value": 40
          }
        },
        "e30dbae7ffe3489f8d1185a0fbf57521": {
          "model_module": "@jupyter-widgets/controls",
          "model_name": "HTMLModel",
          "model_module_version": "1.5.0",
          "state": {
            "_dom_classes": [],
            "_model_module": "@jupyter-widgets/controls",
            "_model_module_version": "1.5.0",
            "_model_name": "HTMLModel",
            "_view_count": null,
            "_view_module": "@jupyter-widgets/controls",
            "_view_module_version": "1.5.0",
            "_view_name": "HTMLView",
            "description": "",
            "description_tooltip": null,
            "layout": "IPY_MODEL_19abe2e9c3b04ed08b022cfacccf673b",
            "placeholder": "​",
            "style": "IPY_MODEL_8ae399ba60d948c9847f8682d7c1c1ec",
            "value": " 40/40 [00:00&lt;00:00, 80.06 examples/s]"
          }
        },
        "f2bbec208e5a4eec99d920bbd2c7244d": {
          "model_module": "@jupyter-widgets/base",
          "model_name": "LayoutModel",
          "model_module_version": "1.2.0",
          "state": {
            "_model_module": "@jupyter-widgets/base",
            "_model_module_version": "1.2.0",
            "_model_name": "LayoutModel",
            "_view_count": null,
            "_view_module": "@jupyter-widgets/base",
            "_view_module_version": "1.2.0",
            "_view_name": "LayoutView",
            "align_content": null,
            "align_items": null,
            "align_self": null,
            "border": null,
            "bottom": null,
            "display": null,
            "flex": null,
            "flex_flow": null,
            "grid_area": null,
            "grid_auto_columns": null,
            "grid_auto_flow": null,
            "grid_auto_rows": null,
            "grid_column": null,
            "grid_gap": null,
            "grid_row": null,
            "grid_template_areas": null,
            "grid_template_columns": null,
            "grid_template_rows": null,
            "height": null,
            "justify_content": null,
            "justify_items": null,
            "left": null,
            "margin": null,
            "max_height": null,
            "max_width": null,
            "min_height": null,
            "min_width": null,
            "object_fit": null,
            "object_position": null,
            "order": null,
            "overflow": null,
            "overflow_x": null,
            "overflow_y": null,
            "padding": null,
            "right": null,
            "top": null,
            "visibility": null,
            "width": null
          }
        },
        "48d631fa754e4d00ab98d58efdc2c463": {
          "model_module": "@jupyter-widgets/base",
          "model_name": "LayoutModel",
          "model_module_version": "1.2.0",
          "state": {
            "_model_module": "@jupyter-widgets/base",
            "_model_module_version": "1.2.0",
            "_model_name": "LayoutModel",
            "_view_count": null,
            "_view_module": "@jupyter-widgets/base",
            "_view_module_version": "1.2.0",
            "_view_name": "LayoutView",
            "align_content": null,
            "align_items": null,
            "align_self": null,
            "border": null,
            "bottom": null,
            "display": null,
            "flex": null,
            "flex_flow": null,
            "grid_area": null,
            "grid_auto_columns": null,
            "grid_auto_flow": null,
            "grid_auto_rows": null,
            "grid_column": null,
            "grid_gap": null,
            "grid_row": null,
            "grid_template_areas": null,
            "grid_template_columns": null,
            "grid_template_rows": null,
            "height": null,
            "justify_content": null,
            "justify_items": null,
            "left": null,
            "margin": null,
            "max_height": null,
            "max_width": null,
            "min_height": null,
            "min_width": null,
            "object_fit": null,
            "object_position": null,
            "order": null,
            "overflow": null,
            "overflow_x": null,
            "overflow_y": null,
            "padding": null,
            "right": null,
            "top": null,
            "visibility": null,
            "width": null
          }
        },
        "bf3340cdbd184ab783718911215e4968": {
          "model_module": "@jupyter-widgets/controls",
          "model_name": "DescriptionStyleModel",
          "model_module_version": "1.5.0",
          "state": {
            "_model_module": "@jupyter-widgets/controls",
            "_model_module_version": "1.5.0",
            "_model_name": "DescriptionStyleModel",
            "_view_count": null,
            "_view_module": "@jupyter-widgets/base",
            "_view_module_version": "1.2.0",
            "_view_name": "StyleView",
            "description_width": ""
          }
        },
        "c79ea01e638146a5bc4a72558b6e8e75": {
          "model_module": "@jupyter-widgets/base",
          "model_name": "LayoutModel",
          "model_module_version": "1.2.0",
          "state": {
            "_model_module": "@jupyter-widgets/base",
            "_model_module_version": "1.2.0",
            "_model_name": "LayoutModel",
            "_view_count": null,
            "_view_module": "@jupyter-widgets/base",
            "_view_module_version": "1.2.0",
            "_view_name": "LayoutView",
            "align_content": null,
            "align_items": null,
            "align_self": null,
            "border": null,
            "bottom": null,
            "display": null,
            "flex": null,
            "flex_flow": null,
            "grid_area": null,
            "grid_auto_columns": null,
            "grid_auto_flow": null,
            "grid_auto_rows": null,
            "grid_column": null,
            "grid_gap": null,
            "grid_row": null,
            "grid_template_areas": null,
            "grid_template_columns": null,
            "grid_template_rows": null,
            "height": null,
            "justify_content": null,
            "justify_items": null,
            "left": null,
            "margin": null,
            "max_height": null,
            "max_width": null,
            "min_height": null,
            "min_width": null,
            "object_fit": null,
            "object_position": null,
            "order": null,
            "overflow": null,
            "overflow_x": null,
            "overflow_y": null,
            "padding": null,
            "right": null,
            "top": null,
            "visibility": null,
            "width": null
          }
        },
        "cb19aca99a6e476ba70a9a974a594ac6": {
          "model_module": "@jupyter-widgets/controls",
          "model_name": "ProgressStyleModel",
          "model_module_version": "1.5.0",
          "state": {
            "_model_module": "@jupyter-widgets/controls",
            "_model_module_version": "1.5.0",
            "_model_name": "ProgressStyleModel",
            "_view_count": null,
            "_view_module": "@jupyter-widgets/base",
            "_view_module_version": "1.2.0",
            "_view_name": "StyleView",
            "bar_color": null,
            "description_width": ""
          }
        },
        "19abe2e9c3b04ed08b022cfacccf673b": {
          "model_module": "@jupyter-widgets/base",
          "model_name": "LayoutModel",
          "model_module_version": "1.2.0",
          "state": {
            "_model_module": "@jupyter-widgets/base",
            "_model_module_version": "1.2.0",
            "_model_name": "LayoutModel",
            "_view_count": null,
            "_view_module": "@jupyter-widgets/base",
            "_view_module_version": "1.2.0",
            "_view_name": "LayoutView",
            "align_content": null,
            "align_items": null,
            "align_self": null,
            "border": null,
            "bottom": null,
            "display": null,
            "flex": null,
            "flex_flow": null,
            "grid_area": null,
            "grid_auto_columns": null,
            "grid_auto_flow": null,
            "grid_auto_rows": null,
            "grid_column": null,
            "grid_gap": null,
            "grid_row": null,
            "grid_template_areas": null,
            "grid_template_columns": null,
            "grid_template_rows": null,
            "height": null,
            "justify_content": null,
            "justify_items": null,
            "left": null,
            "margin": null,
            "max_height": null,
            "max_width": null,
            "min_height": null,
            "min_width": null,
            "object_fit": null,
            "object_position": null,
            "order": null,
            "overflow": null,
            "overflow_x": null,
            "overflow_y": null,
            "padding": null,
            "right": null,
            "top": null,
            "visibility": null,
            "width": null
          }
        },
        "8ae399ba60d948c9847f8682d7c1c1ec": {
          "model_module": "@jupyter-widgets/controls",
          "model_name": "DescriptionStyleModel",
          "model_module_version": "1.5.0",
          "state": {
            "_model_module": "@jupyter-widgets/controls",
            "_model_module_version": "1.5.0",
            "_model_name": "DescriptionStyleModel",
            "_view_count": null,
            "_view_module": "@jupyter-widgets/base",
            "_view_module_version": "1.2.0",
            "_view_name": "StyleView",
            "description_width": ""
          }
        },
        "0788078984a64de0a6f1068facf45a98": {
          "model_module": "@jupyter-widgets/controls",
          "model_name": "HBoxModel",
          "model_module_version": "1.5.0",
          "state": {
            "_dom_classes": [],
            "_model_module": "@jupyter-widgets/controls",
            "_model_module_version": "1.5.0",
            "_model_name": "HBoxModel",
            "_view_count": null,
            "_view_module": "@jupyter-widgets/controls",
            "_view_module_version": "1.5.0",
            "_view_name": "HBoxView",
            "box_style": "",
            "children": [
              "IPY_MODEL_5f8dec35139d4b87ab58ace12a424d70",
              "IPY_MODEL_e4e5d4e98bf54b0ab7b11cc34f090277",
              "IPY_MODEL_2f6d86f430e2494ea18d540a94375e54"
            ],
            "layout": "IPY_MODEL_39484511ed1a49eb943e2c350e6dc60a"
          }
        },
        "5f8dec35139d4b87ab58ace12a424d70": {
          "model_module": "@jupyter-widgets/controls",
          "model_name": "HTMLModel",
          "model_module_version": "1.5.0",
          "state": {
            "_dom_classes": [],
            "_model_module": "@jupyter-widgets/controls",
            "_model_module_version": "1.5.0",
            "_model_name": "HTMLModel",
            "_view_count": null,
            "_view_module": "@jupyter-widgets/controls",
            "_view_module_version": "1.5.0",
            "_view_name": "HTMLView",
            "description": "",
            "description_tooltip": null,
            "layout": "IPY_MODEL_c2ae7355d4134ecdaae8f6a322fd3958",
            "placeholder": "​",
            "style": "IPY_MODEL_bee6c737429f4eceb2eff636645da3db",
            "value": "Map: 100%"
          }
        },
        "e4e5d4e98bf54b0ab7b11cc34f090277": {
          "model_module": "@jupyter-widgets/controls",
          "model_name": "FloatProgressModel",
          "model_module_version": "1.5.0",
          "state": {
            "_dom_classes": [],
            "_model_module": "@jupyter-widgets/controls",
            "_model_module_version": "1.5.0",
            "_model_name": "FloatProgressModel",
            "_view_count": null,
            "_view_module": "@jupyter-widgets/controls",
            "_view_module_version": "1.5.0",
            "_view_name": "ProgressView",
            "bar_style": "success",
            "description": "",
            "description_tooltip": null,
            "layout": "IPY_MODEL_79a7e74bd884422dbbbaa39586ab0659",
            "max": 160,
            "min": 0,
            "orientation": "horizontal",
            "style": "IPY_MODEL_536c25079c6c47928e1057716c69586f",
            "value": 160
          }
        },
        "2f6d86f430e2494ea18d540a94375e54": {
          "model_module": "@jupyter-widgets/controls",
          "model_name": "HTMLModel",
          "model_module_version": "1.5.0",
          "state": {
            "_dom_classes": [],
            "_model_module": "@jupyter-widgets/controls",
            "_model_module_version": "1.5.0",
            "_model_name": "HTMLModel",
            "_view_count": null,
            "_view_module": "@jupyter-widgets/controls",
            "_view_module_version": "1.5.0",
            "_view_name": "HTMLView",
            "description": "",
            "description_tooltip": null,
            "layout": "IPY_MODEL_8842d849159949bda3d5fa0119e9792f",
            "placeholder": "​",
            "style": "IPY_MODEL_7574854f8692404b81fa822eb8bdc01a",
            "value": " 160/160 [00:00&lt;00:00, 3826.46 examples/s]"
          }
        },
        "39484511ed1a49eb943e2c350e6dc60a": {
          "model_module": "@jupyter-widgets/base",
          "model_name": "LayoutModel",
          "model_module_version": "1.2.0",
          "state": {
            "_model_module": "@jupyter-widgets/base",
            "_model_module_version": "1.2.0",
            "_model_name": "LayoutModel",
            "_view_count": null,
            "_view_module": "@jupyter-widgets/base",
            "_view_module_version": "1.2.0",
            "_view_name": "LayoutView",
            "align_content": null,
            "align_items": null,
            "align_self": null,
            "border": null,
            "bottom": null,
            "display": null,
            "flex": null,
            "flex_flow": null,
            "grid_area": null,
            "grid_auto_columns": null,
            "grid_auto_flow": null,
            "grid_auto_rows": null,
            "grid_column": null,
            "grid_gap": null,
            "grid_row": null,
            "grid_template_areas": null,
            "grid_template_columns": null,
            "grid_template_rows": null,
            "height": null,
            "justify_content": null,
            "justify_items": null,
            "left": null,
            "margin": null,
            "max_height": null,
            "max_width": null,
            "min_height": null,
            "min_width": null,
            "object_fit": null,
            "object_position": null,
            "order": null,
            "overflow": null,
            "overflow_x": null,
            "overflow_y": null,
            "padding": null,
            "right": null,
            "top": null,
            "visibility": null,
            "width": null
          }
        },
        "c2ae7355d4134ecdaae8f6a322fd3958": {
          "model_module": "@jupyter-widgets/base",
          "model_name": "LayoutModel",
          "model_module_version": "1.2.0",
          "state": {
            "_model_module": "@jupyter-widgets/base",
            "_model_module_version": "1.2.0",
            "_model_name": "LayoutModel",
            "_view_count": null,
            "_view_module": "@jupyter-widgets/base",
            "_view_module_version": "1.2.0",
            "_view_name": "LayoutView",
            "align_content": null,
            "align_items": null,
            "align_self": null,
            "border": null,
            "bottom": null,
            "display": null,
            "flex": null,
            "flex_flow": null,
            "grid_area": null,
            "grid_auto_columns": null,
            "grid_auto_flow": null,
            "grid_auto_rows": null,
            "grid_column": null,
            "grid_gap": null,
            "grid_row": null,
            "grid_template_areas": null,
            "grid_template_columns": null,
            "grid_template_rows": null,
            "height": null,
            "justify_content": null,
            "justify_items": null,
            "left": null,
            "margin": null,
            "max_height": null,
            "max_width": null,
            "min_height": null,
            "min_width": null,
            "object_fit": null,
            "object_position": null,
            "order": null,
            "overflow": null,
            "overflow_x": null,
            "overflow_y": null,
            "padding": null,
            "right": null,
            "top": null,
            "visibility": null,
            "width": null
          }
        },
        "bee6c737429f4eceb2eff636645da3db": {
          "model_module": "@jupyter-widgets/controls",
          "model_name": "DescriptionStyleModel",
          "model_module_version": "1.5.0",
          "state": {
            "_model_module": "@jupyter-widgets/controls",
            "_model_module_version": "1.5.0",
            "_model_name": "DescriptionStyleModel",
            "_view_count": null,
            "_view_module": "@jupyter-widgets/base",
            "_view_module_version": "1.2.0",
            "_view_name": "StyleView",
            "description_width": ""
          }
        },
        "79a7e74bd884422dbbbaa39586ab0659": {
          "model_module": "@jupyter-widgets/base",
          "model_name": "LayoutModel",
          "model_module_version": "1.2.0",
          "state": {
            "_model_module": "@jupyter-widgets/base",
            "_model_module_version": "1.2.0",
            "_model_name": "LayoutModel",
            "_view_count": null,
            "_view_module": "@jupyter-widgets/base",
            "_view_module_version": "1.2.0",
            "_view_name": "LayoutView",
            "align_content": null,
            "align_items": null,
            "align_self": null,
            "border": null,
            "bottom": null,
            "display": null,
            "flex": null,
            "flex_flow": null,
            "grid_area": null,
            "grid_auto_columns": null,
            "grid_auto_flow": null,
            "grid_auto_rows": null,
            "grid_column": null,
            "grid_gap": null,
            "grid_row": null,
            "grid_template_areas": null,
            "grid_template_columns": null,
            "grid_template_rows": null,
            "height": null,
            "justify_content": null,
            "justify_items": null,
            "left": null,
            "margin": null,
            "max_height": null,
            "max_width": null,
            "min_height": null,
            "min_width": null,
            "object_fit": null,
            "object_position": null,
            "order": null,
            "overflow": null,
            "overflow_x": null,
            "overflow_y": null,
            "padding": null,
            "right": null,
            "top": null,
            "visibility": null,
            "width": null
          }
        },
        "536c25079c6c47928e1057716c69586f": {
          "model_module": "@jupyter-widgets/controls",
          "model_name": "ProgressStyleModel",
          "model_module_version": "1.5.0",
          "state": {
            "_model_module": "@jupyter-widgets/controls",
            "_model_module_version": "1.5.0",
            "_model_name": "ProgressStyleModel",
            "_view_count": null,
            "_view_module": "@jupyter-widgets/base",
            "_view_module_version": "1.2.0",
            "_view_name": "StyleView",
            "bar_color": null,
            "description_width": ""
          }
        },
        "8842d849159949bda3d5fa0119e9792f": {
          "model_module": "@jupyter-widgets/base",
          "model_name": "LayoutModel",
          "model_module_version": "1.2.0",
          "state": {
            "_model_module": "@jupyter-widgets/base",
            "_model_module_version": "1.2.0",
            "_model_name": "LayoutModel",
            "_view_count": null,
            "_view_module": "@jupyter-widgets/base",
            "_view_module_version": "1.2.0",
            "_view_name": "LayoutView",
            "align_content": null,
            "align_items": null,
            "align_self": null,
            "border": null,
            "bottom": null,
            "display": null,
            "flex": null,
            "flex_flow": null,
            "grid_area": null,
            "grid_auto_columns": null,
            "grid_auto_flow": null,
            "grid_auto_rows": null,
            "grid_column": null,
            "grid_gap": null,
            "grid_row": null,
            "grid_template_areas": null,
            "grid_template_columns": null,
            "grid_template_rows": null,
            "height": null,
            "justify_content": null,
            "justify_items": null,
            "left": null,
            "margin": null,
            "max_height": null,
            "max_width": null,
            "min_height": null,
            "min_width": null,
            "object_fit": null,
            "object_position": null,
            "order": null,
            "overflow": null,
            "overflow_x": null,
            "overflow_y": null,
            "padding": null,
            "right": null,
            "top": null,
            "visibility": null,
            "width": null
          }
        },
        "7574854f8692404b81fa822eb8bdc01a": {
          "model_module": "@jupyter-widgets/controls",
          "model_name": "DescriptionStyleModel",
          "model_module_version": "1.5.0",
          "state": {
            "_model_module": "@jupyter-widgets/controls",
            "_model_module_version": "1.5.0",
            "_model_name": "DescriptionStyleModel",
            "_view_count": null,
            "_view_module": "@jupyter-widgets/base",
            "_view_module_version": "1.2.0",
            "_view_name": "StyleView",
            "description_width": ""
          }
        },
        "d77fe2b9f3e743c49cbb66f27e39da91": {
          "model_module": "@jupyter-widgets/controls",
          "model_name": "HBoxModel",
          "model_module_version": "1.5.0",
          "state": {
            "_dom_classes": [],
            "_model_module": "@jupyter-widgets/controls",
            "_model_module_version": "1.5.0",
            "_model_name": "HBoxModel",
            "_view_count": null,
            "_view_module": "@jupyter-widgets/controls",
            "_view_module_version": "1.5.0",
            "_view_name": "HBoxView",
            "box_style": "",
            "children": [
              "IPY_MODEL_6dcb91758961489ea741e41316143d2b",
              "IPY_MODEL_f9146bf56beb40d1affaa5d9f2ed701d",
              "IPY_MODEL_899e899475ab4f9093746675df0363b8"
            ],
            "layout": "IPY_MODEL_274bd40979564b8484d5a7d56bf12df3"
          }
        },
        "6dcb91758961489ea741e41316143d2b": {
          "model_module": "@jupyter-widgets/controls",
          "model_name": "HTMLModel",
          "model_module_version": "1.5.0",
          "state": {
            "_dom_classes": [],
            "_model_module": "@jupyter-widgets/controls",
            "_model_module_version": "1.5.0",
            "_model_name": "HTMLModel",
            "_view_count": null,
            "_view_module": "@jupyter-widgets/controls",
            "_view_module_version": "1.5.0",
            "_view_name": "HTMLView",
            "description": "",
            "description_tooltip": null,
            "layout": "IPY_MODEL_657e50ac2e564ce4b959eca81f124a9c",
            "placeholder": "​",
            "style": "IPY_MODEL_27b35549185e492b8f8da7de3e502ff0",
            "value": "Map: 100%"
          }
        },
        "f9146bf56beb40d1affaa5d9f2ed701d": {
          "model_module": "@jupyter-widgets/controls",
          "model_name": "FloatProgressModel",
          "model_module_version": "1.5.0",
          "state": {
            "_dom_classes": [],
            "_model_module": "@jupyter-widgets/controls",
            "_model_module_version": "1.5.0",
            "_model_name": "FloatProgressModel",
            "_view_count": null,
            "_view_module": "@jupyter-widgets/controls",
            "_view_module_version": "1.5.0",
            "_view_name": "ProgressView",
            "bar_style": "success",
            "description": "",
            "description_tooltip": null,
            "layout": "IPY_MODEL_3bff5606a01f49adbc1357191accdc9a",
            "max": 40,
            "min": 0,
            "orientation": "horizontal",
            "style": "IPY_MODEL_b4d1047c0d9b47e09cbbbf5dd5675eec",
            "value": 40
          }
        },
        "899e899475ab4f9093746675df0363b8": {
          "model_module": "@jupyter-widgets/controls",
          "model_name": "HTMLModel",
          "model_module_version": "1.5.0",
          "state": {
            "_dom_classes": [],
            "_model_module": "@jupyter-widgets/controls",
            "_model_module_version": "1.5.0",
            "_model_name": "HTMLModel",
            "_view_count": null,
            "_view_module": "@jupyter-widgets/controls",
            "_view_module_version": "1.5.0",
            "_view_name": "HTMLView",
            "description": "",
            "description_tooltip": null,
            "layout": "IPY_MODEL_d49a12e2253f4f259a8fc798bf7be03d",
            "placeholder": "​",
            "style": "IPY_MODEL_87e99851b3d54361a5eb51d071e62ca8",
            "value": " 40/40 [00:00&lt;00:00, 1314.80 examples/s]"
          }
        },
        "274bd40979564b8484d5a7d56bf12df3": {
          "model_module": "@jupyter-widgets/base",
          "model_name": "LayoutModel",
          "model_module_version": "1.2.0",
          "state": {
            "_model_module": "@jupyter-widgets/base",
            "_model_module_version": "1.2.0",
            "_model_name": "LayoutModel",
            "_view_count": null,
            "_view_module": "@jupyter-widgets/base",
            "_view_module_version": "1.2.0",
            "_view_name": "LayoutView",
            "align_content": null,
            "align_items": null,
            "align_self": null,
            "border": null,
            "bottom": null,
            "display": null,
            "flex": null,
            "flex_flow": null,
            "grid_area": null,
            "grid_auto_columns": null,
            "grid_auto_flow": null,
            "grid_auto_rows": null,
            "grid_column": null,
            "grid_gap": null,
            "grid_row": null,
            "grid_template_areas": null,
            "grid_template_columns": null,
            "grid_template_rows": null,
            "height": null,
            "justify_content": null,
            "justify_items": null,
            "left": null,
            "margin": null,
            "max_height": null,
            "max_width": null,
            "min_height": null,
            "min_width": null,
            "object_fit": null,
            "object_position": null,
            "order": null,
            "overflow": null,
            "overflow_x": null,
            "overflow_y": null,
            "padding": null,
            "right": null,
            "top": null,
            "visibility": null,
            "width": null
          }
        },
        "657e50ac2e564ce4b959eca81f124a9c": {
          "model_module": "@jupyter-widgets/base",
          "model_name": "LayoutModel",
          "model_module_version": "1.2.0",
          "state": {
            "_model_module": "@jupyter-widgets/base",
            "_model_module_version": "1.2.0",
            "_model_name": "LayoutModel",
            "_view_count": null,
            "_view_module": "@jupyter-widgets/base",
            "_view_module_version": "1.2.0",
            "_view_name": "LayoutView",
            "align_content": null,
            "align_items": null,
            "align_self": null,
            "border": null,
            "bottom": null,
            "display": null,
            "flex": null,
            "flex_flow": null,
            "grid_area": null,
            "grid_auto_columns": null,
            "grid_auto_flow": null,
            "grid_auto_rows": null,
            "grid_column": null,
            "grid_gap": null,
            "grid_row": null,
            "grid_template_areas": null,
            "grid_template_columns": null,
            "grid_template_rows": null,
            "height": null,
            "justify_content": null,
            "justify_items": null,
            "left": null,
            "margin": null,
            "max_height": null,
            "max_width": null,
            "min_height": null,
            "min_width": null,
            "object_fit": null,
            "object_position": null,
            "order": null,
            "overflow": null,
            "overflow_x": null,
            "overflow_y": null,
            "padding": null,
            "right": null,
            "top": null,
            "visibility": null,
            "width": null
          }
        },
        "27b35549185e492b8f8da7de3e502ff0": {
          "model_module": "@jupyter-widgets/controls",
          "model_name": "DescriptionStyleModel",
          "model_module_version": "1.5.0",
          "state": {
            "_model_module": "@jupyter-widgets/controls",
            "_model_module_version": "1.5.0",
            "_model_name": "DescriptionStyleModel",
            "_view_count": null,
            "_view_module": "@jupyter-widgets/base",
            "_view_module_version": "1.2.0",
            "_view_name": "StyleView",
            "description_width": ""
          }
        },
        "3bff5606a01f49adbc1357191accdc9a": {
          "model_module": "@jupyter-widgets/base",
          "model_name": "LayoutModel",
          "model_module_version": "1.2.0",
          "state": {
            "_model_module": "@jupyter-widgets/base",
            "_model_module_version": "1.2.0",
            "_model_name": "LayoutModel",
            "_view_count": null,
            "_view_module": "@jupyter-widgets/base",
            "_view_module_version": "1.2.0",
            "_view_name": "LayoutView",
            "align_content": null,
            "align_items": null,
            "align_self": null,
            "border": null,
            "bottom": null,
            "display": null,
            "flex": null,
            "flex_flow": null,
            "grid_area": null,
            "grid_auto_columns": null,
            "grid_auto_flow": null,
            "grid_auto_rows": null,
            "grid_column": null,
            "grid_gap": null,
            "grid_row": null,
            "grid_template_areas": null,
            "grid_template_columns": null,
            "grid_template_rows": null,
            "height": null,
            "justify_content": null,
            "justify_items": null,
            "left": null,
            "margin": null,
            "max_height": null,
            "max_width": null,
            "min_height": null,
            "min_width": null,
            "object_fit": null,
            "object_position": null,
            "order": null,
            "overflow": null,
            "overflow_x": null,
            "overflow_y": null,
            "padding": null,
            "right": null,
            "top": null,
            "visibility": null,
            "width": null
          }
        },
        "b4d1047c0d9b47e09cbbbf5dd5675eec": {
          "model_module": "@jupyter-widgets/controls",
          "model_name": "ProgressStyleModel",
          "model_module_version": "1.5.0",
          "state": {
            "_model_module": "@jupyter-widgets/controls",
            "_model_module_version": "1.5.0",
            "_model_name": "ProgressStyleModel",
            "_view_count": null,
            "_view_module": "@jupyter-widgets/base",
            "_view_module_version": "1.2.0",
            "_view_name": "StyleView",
            "bar_color": null,
            "description_width": ""
          }
        },
        "d49a12e2253f4f259a8fc798bf7be03d": {
          "model_module": "@jupyter-widgets/base",
          "model_name": "LayoutModel",
          "model_module_version": "1.2.0",
          "state": {
            "_model_module": "@jupyter-widgets/base",
            "_model_module_version": "1.2.0",
            "_model_name": "LayoutModel",
            "_view_count": null,
            "_view_module": "@jupyter-widgets/base",
            "_view_module_version": "1.2.0",
            "_view_name": "LayoutView",
            "align_content": null,
            "align_items": null,
            "align_self": null,
            "border": null,
            "bottom": null,
            "display": null,
            "flex": null,
            "flex_flow": null,
            "grid_area": null,
            "grid_auto_columns": null,
            "grid_auto_flow": null,
            "grid_auto_rows": null,
            "grid_column": null,
            "grid_gap": null,
            "grid_row": null,
            "grid_template_areas": null,
            "grid_template_columns": null,
            "grid_template_rows": null,
            "height": null,
            "justify_content": null,
            "justify_items": null,
            "left": null,
            "margin": null,
            "max_height": null,
            "max_width": null,
            "min_height": null,
            "min_width": null,
            "object_fit": null,
            "object_position": null,
            "order": null,
            "overflow": null,
            "overflow_x": null,
            "overflow_y": null,
            "padding": null,
            "right": null,
            "top": null,
            "visibility": null,
            "width": null
          }
        },
        "87e99851b3d54361a5eb51d071e62ca8": {
          "model_module": "@jupyter-widgets/controls",
          "model_name": "DescriptionStyleModel",
          "model_module_version": "1.5.0",
          "state": {
            "_model_module": "@jupyter-widgets/controls",
            "_model_module_version": "1.5.0",
            "_model_name": "DescriptionStyleModel",
            "_view_count": null,
            "_view_module": "@jupyter-widgets/base",
            "_view_module_version": "1.2.0",
            "_view_name": "StyleView",
            "description_width": ""
          }
        }
      }
    }
  },
  "nbformat": 4,
  "nbformat_minor": 5
}